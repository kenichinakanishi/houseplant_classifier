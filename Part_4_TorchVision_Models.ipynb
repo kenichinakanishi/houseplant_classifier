{
  "nbformat": 4,
  "nbformat_minor": 0,
  "metadata": {
    "colab": {
      "name": "Part 4 - TorchVision Models",
      "provenance": [],
      "toc_visible": true,
      "machine_shape": "hm",
      "mount_file_id": "1cM3-W3Ra-GlHAQkX9b18ye0FSJIVsV5f",
      "authorship_tag": "ABX9TyN0LAvMCunBqJiUmfcy0jdB",
      "include_colab_link": true
    },
    "kernelspec": {
      "name": "python3",
      "display_name": "Python 3"
    },
    "accelerator": "GPU",
    "widgets": {
      "application/vnd.jupyter.widget-state+json": {
        "cee7e6e01ddd46eaae237cf1ddedec94": {
          "model_module": "@jupyter-widgets/controls",
          "model_name": "HBoxModel",
          "state": {
            "_view_name": "HBoxView",
            "_dom_classes": [],
            "_model_name": "HBoxModel",
            "_view_module": "@jupyter-widgets/controls",
            "_model_module_version": "1.5.0",
            "_view_count": null,
            "_view_module_version": "1.5.0",
            "box_style": "",
            "layout": "IPY_MODEL_d07a82a10ed24688b88ef112e65aa4e9",
            "_model_module": "@jupyter-widgets/controls",
            "children": [
              "IPY_MODEL_55aca69bbbdc4e28b4b50b02cd1cebef",
              "IPY_MODEL_68e55d46cfdc4d3ba1470914ed3aac08"
            ]
          }
        },
        "d07a82a10ed24688b88ef112e65aa4e9": {
          "model_module": "@jupyter-widgets/base",
          "model_name": "LayoutModel",
          "state": {
            "_view_name": "LayoutView",
            "grid_template_rows": null,
            "right": null,
            "justify_content": null,
            "_view_module": "@jupyter-widgets/base",
            "overflow": null,
            "_model_module_version": "1.2.0",
            "_view_count": null,
            "flex_flow": null,
            "width": null,
            "min_width": null,
            "border": null,
            "align_items": null,
            "bottom": null,
            "_model_module": "@jupyter-widgets/base",
            "top": null,
            "grid_column": null,
            "overflow_y": null,
            "overflow_x": null,
            "grid_auto_flow": null,
            "grid_area": null,
            "grid_template_columns": null,
            "flex": null,
            "_model_name": "LayoutModel",
            "justify_items": null,
            "grid_row": null,
            "max_height": null,
            "align_content": null,
            "visibility": null,
            "align_self": null,
            "height": null,
            "min_height": null,
            "padding": null,
            "grid_auto_rows": null,
            "grid_gap": null,
            "max_width": null,
            "order": null,
            "_view_module_version": "1.2.0",
            "grid_template_areas": null,
            "object_position": null,
            "object_fit": null,
            "grid_auto_columns": null,
            "margin": null,
            "display": null,
            "left": null
          }
        },
        "55aca69bbbdc4e28b4b50b02cd1cebef": {
          "model_module": "@jupyter-widgets/controls",
          "model_name": "FloatProgressModel",
          "state": {
            "_view_name": "ProgressView",
            "style": "IPY_MODEL_ac4a6742bdc14dcba5b407915e2f1cdc",
            "_dom_classes": [],
            "description": "100%",
            "_model_name": "FloatProgressModel",
            "bar_style": "success",
            "max": 46827520,
            "_view_module": "@jupyter-widgets/controls",
            "_model_module_version": "1.5.0",
            "value": 46827520,
            "_view_count": null,
            "_view_module_version": "1.5.0",
            "orientation": "horizontal",
            "min": 0,
            "description_tooltip": null,
            "_model_module": "@jupyter-widgets/controls",
            "layout": "IPY_MODEL_769f2a8be9e948478a2e35f24a433f31"
          }
        },
        "68e55d46cfdc4d3ba1470914ed3aac08": {
          "model_module": "@jupyter-widgets/controls",
          "model_name": "HTMLModel",
          "state": {
            "_view_name": "HTMLView",
            "style": "IPY_MODEL_4b6584906be048b8a7492c8577894d3c",
            "_dom_classes": [],
            "description": "",
            "_model_name": "HTMLModel",
            "placeholder": "​",
            "_view_module": "@jupyter-widgets/controls",
            "_model_module_version": "1.5.0",
            "value": " 44.7M/44.7M [00:24&lt;00:00, 1.92MB/s]",
            "_view_count": null,
            "_view_module_version": "1.5.0",
            "description_tooltip": null,
            "_model_module": "@jupyter-widgets/controls",
            "layout": "IPY_MODEL_e8657ddcb4d041d7976dc9e5c948a3f7"
          }
        },
        "ac4a6742bdc14dcba5b407915e2f1cdc": {
          "model_module": "@jupyter-widgets/controls",
          "model_name": "ProgressStyleModel",
          "state": {
            "_view_name": "StyleView",
            "_model_name": "ProgressStyleModel",
            "description_width": "initial",
            "_view_module": "@jupyter-widgets/base",
            "_model_module_version": "1.5.0",
            "_view_count": null,
            "_view_module_version": "1.2.0",
            "bar_color": null,
            "_model_module": "@jupyter-widgets/controls"
          }
        },
        "769f2a8be9e948478a2e35f24a433f31": {
          "model_module": "@jupyter-widgets/base",
          "model_name": "LayoutModel",
          "state": {
            "_view_name": "LayoutView",
            "grid_template_rows": null,
            "right": null,
            "justify_content": null,
            "_view_module": "@jupyter-widgets/base",
            "overflow": null,
            "_model_module_version": "1.2.0",
            "_view_count": null,
            "flex_flow": null,
            "width": null,
            "min_width": null,
            "border": null,
            "align_items": null,
            "bottom": null,
            "_model_module": "@jupyter-widgets/base",
            "top": null,
            "grid_column": null,
            "overflow_y": null,
            "overflow_x": null,
            "grid_auto_flow": null,
            "grid_area": null,
            "grid_template_columns": null,
            "flex": null,
            "_model_name": "LayoutModel",
            "justify_items": null,
            "grid_row": null,
            "max_height": null,
            "align_content": null,
            "visibility": null,
            "align_self": null,
            "height": null,
            "min_height": null,
            "padding": null,
            "grid_auto_rows": null,
            "grid_gap": null,
            "max_width": null,
            "order": null,
            "_view_module_version": "1.2.0",
            "grid_template_areas": null,
            "object_position": null,
            "object_fit": null,
            "grid_auto_columns": null,
            "margin": null,
            "display": null,
            "left": null
          }
        },
        "4b6584906be048b8a7492c8577894d3c": {
          "model_module": "@jupyter-widgets/controls",
          "model_name": "DescriptionStyleModel",
          "state": {
            "_view_name": "StyleView",
            "_model_name": "DescriptionStyleModel",
            "description_width": "",
            "_view_module": "@jupyter-widgets/base",
            "_model_module_version": "1.5.0",
            "_view_count": null,
            "_view_module_version": "1.2.0",
            "_model_module": "@jupyter-widgets/controls"
          }
        },
        "e8657ddcb4d041d7976dc9e5c948a3f7": {
          "model_module": "@jupyter-widgets/base",
          "model_name": "LayoutModel",
          "state": {
            "_view_name": "LayoutView",
            "grid_template_rows": null,
            "right": null,
            "justify_content": null,
            "_view_module": "@jupyter-widgets/base",
            "overflow": null,
            "_model_module_version": "1.2.0",
            "_view_count": null,
            "flex_flow": null,
            "width": null,
            "min_width": null,
            "border": null,
            "align_items": null,
            "bottom": null,
            "_model_module": "@jupyter-widgets/base",
            "top": null,
            "grid_column": null,
            "overflow_y": null,
            "overflow_x": null,
            "grid_auto_flow": null,
            "grid_area": null,
            "grid_template_columns": null,
            "flex": null,
            "_model_name": "LayoutModel",
            "justify_items": null,
            "grid_row": null,
            "max_height": null,
            "align_content": null,
            "visibility": null,
            "align_self": null,
            "height": null,
            "min_height": null,
            "padding": null,
            "grid_auto_rows": null,
            "grid_gap": null,
            "max_width": null,
            "order": null,
            "_view_module_version": "1.2.0",
            "grid_template_areas": null,
            "object_position": null,
            "object_fit": null,
            "grid_auto_columns": null,
            "margin": null,
            "display": null,
            "left": null
          }
        },
        "f905c1296d5843c2a727cfc0db1cd6ae": {
          "model_module": "@jupyter-widgets/controls",
          "model_name": "HBoxModel",
          "state": {
            "_view_name": "HBoxView",
            "_dom_classes": [],
            "_model_name": "HBoxModel",
            "_view_module": "@jupyter-widgets/controls",
            "_model_module_version": "1.5.0",
            "_view_count": null,
            "_view_module_version": "1.5.0",
            "box_style": "",
            "layout": "IPY_MODEL_ba8b18a2a1bf4c3e9ba39469fa47f647",
            "_model_module": "@jupyter-widgets/controls",
            "children": [
              "IPY_MODEL_1018ef7278f84a47b67485e25fe81901",
              "IPY_MODEL_a66cd6e2e4784709b330b64da5d95be7"
            ]
          }
        },
        "ba8b18a2a1bf4c3e9ba39469fa47f647": {
          "model_module": "@jupyter-widgets/base",
          "model_name": "LayoutModel",
          "state": {
            "_view_name": "LayoutView",
            "grid_template_rows": null,
            "right": null,
            "justify_content": null,
            "_view_module": "@jupyter-widgets/base",
            "overflow": null,
            "_model_module_version": "1.2.0",
            "_view_count": null,
            "flex_flow": null,
            "width": null,
            "min_width": null,
            "border": null,
            "align_items": null,
            "bottom": null,
            "_model_module": "@jupyter-widgets/base",
            "top": null,
            "grid_column": null,
            "overflow_y": null,
            "overflow_x": null,
            "grid_auto_flow": null,
            "grid_area": null,
            "grid_template_columns": null,
            "flex": null,
            "_model_name": "LayoutModel",
            "justify_items": null,
            "grid_row": null,
            "max_height": null,
            "align_content": null,
            "visibility": null,
            "align_self": null,
            "height": null,
            "min_height": null,
            "padding": null,
            "grid_auto_rows": null,
            "grid_gap": null,
            "max_width": null,
            "order": null,
            "_view_module_version": "1.2.0",
            "grid_template_areas": null,
            "object_position": null,
            "object_fit": null,
            "grid_auto_columns": null,
            "margin": null,
            "display": null,
            "left": null
          }
        },
        "1018ef7278f84a47b67485e25fe81901": {
          "model_module": "@jupyter-widgets/controls",
          "model_name": "FloatProgressModel",
          "state": {
            "_view_name": "ProgressView",
            "style": "IPY_MODEL_caf9d5fd2a644916a8def17ed58499ad",
            "_dom_classes": [],
            "description": "100%",
            "_model_name": "FloatProgressModel",
            "bar_style": "success",
            "max": 87306240,
            "_view_module": "@jupyter-widgets/controls",
            "_model_module_version": "1.5.0",
            "value": 87306240,
            "_view_count": null,
            "_view_module_version": "1.5.0",
            "orientation": "horizontal",
            "min": 0,
            "description_tooltip": null,
            "_model_module": "@jupyter-widgets/controls",
            "layout": "IPY_MODEL_768093a9a5534a18b4e056397a80ad2f"
          }
        },
        "a66cd6e2e4784709b330b64da5d95be7": {
          "model_module": "@jupyter-widgets/controls",
          "model_name": "HTMLModel",
          "state": {
            "_view_name": "HTMLView",
            "style": "IPY_MODEL_ab40aaf7acbd44e4a1b0a7ff4bb33485",
            "_dom_classes": [],
            "description": "",
            "_model_name": "HTMLModel",
            "placeholder": "​",
            "_view_module": "@jupyter-widgets/controls",
            "_model_module_version": "1.5.0",
            "value": " 83.3M/83.3M [00:05&lt;00:00, 15.6MB/s]",
            "_view_count": null,
            "_view_module_version": "1.5.0",
            "description_tooltip": null,
            "_model_module": "@jupyter-widgets/controls",
            "layout": "IPY_MODEL_4030ea99c5904f3aae0b0a9fb882bb0a"
          }
        },
        "caf9d5fd2a644916a8def17ed58499ad": {
          "model_module": "@jupyter-widgets/controls",
          "model_name": "ProgressStyleModel",
          "state": {
            "_view_name": "StyleView",
            "_model_name": "ProgressStyleModel",
            "description_width": "initial",
            "_view_module": "@jupyter-widgets/base",
            "_model_module_version": "1.5.0",
            "_view_count": null,
            "_view_module_version": "1.2.0",
            "bar_color": null,
            "_model_module": "@jupyter-widgets/controls"
          }
        },
        "768093a9a5534a18b4e056397a80ad2f": {
          "model_module": "@jupyter-widgets/base",
          "model_name": "LayoutModel",
          "state": {
            "_view_name": "LayoutView",
            "grid_template_rows": null,
            "right": null,
            "justify_content": null,
            "_view_module": "@jupyter-widgets/base",
            "overflow": null,
            "_model_module_version": "1.2.0",
            "_view_count": null,
            "flex_flow": null,
            "width": null,
            "min_width": null,
            "border": null,
            "align_items": null,
            "bottom": null,
            "_model_module": "@jupyter-widgets/base",
            "top": null,
            "grid_column": null,
            "overflow_y": null,
            "overflow_x": null,
            "grid_auto_flow": null,
            "grid_area": null,
            "grid_template_columns": null,
            "flex": null,
            "_model_name": "LayoutModel",
            "justify_items": null,
            "grid_row": null,
            "max_height": null,
            "align_content": null,
            "visibility": null,
            "align_self": null,
            "height": null,
            "min_height": null,
            "padding": null,
            "grid_auto_rows": null,
            "grid_gap": null,
            "max_width": null,
            "order": null,
            "_view_module_version": "1.2.0",
            "grid_template_areas": null,
            "object_position": null,
            "object_fit": null,
            "grid_auto_columns": null,
            "margin": null,
            "display": null,
            "left": null
          }
        },
        "ab40aaf7acbd44e4a1b0a7ff4bb33485": {
          "model_module": "@jupyter-widgets/controls",
          "model_name": "DescriptionStyleModel",
          "state": {
            "_view_name": "StyleView",
            "_model_name": "DescriptionStyleModel",
            "description_width": "",
            "_view_module": "@jupyter-widgets/base",
            "_model_module_version": "1.5.0",
            "_view_count": null,
            "_view_module_version": "1.2.0",
            "_model_module": "@jupyter-widgets/controls"
          }
        },
        "4030ea99c5904f3aae0b0a9fb882bb0a": {
          "model_module": "@jupyter-widgets/base",
          "model_name": "LayoutModel",
          "state": {
            "_view_name": "LayoutView",
            "grid_template_rows": null,
            "right": null,
            "justify_content": null,
            "_view_module": "@jupyter-widgets/base",
            "overflow": null,
            "_model_module_version": "1.2.0",
            "_view_count": null,
            "flex_flow": null,
            "width": null,
            "min_width": null,
            "border": null,
            "align_items": null,
            "bottom": null,
            "_model_module": "@jupyter-widgets/base",
            "top": null,
            "grid_column": null,
            "overflow_y": null,
            "overflow_x": null,
            "grid_auto_flow": null,
            "grid_area": null,
            "grid_template_columns": null,
            "flex": null,
            "_model_name": "LayoutModel",
            "justify_items": null,
            "grid_row": null,
            "max_height": null,
            "align_content": null,
            "visibility": null,
            "align_self": null,
            "height": null,
            "min_height": null,
            "padding": null,
            "grid_auto_rows": null,
            "grid_gap": null,
            "max_width": null,
            "order": null,
            "_view_module_version": "1.2.0",
            "grid_template_areas": null,
            "object_position": null,
            "object_fit": null,
            "grid_auto_columns": null,
            "margin": null,
            "display": null,
            "left": null
          }
        },
        "03cbd3e6a80e4148a587a7bf31fc38a3": {
          "model_module": "@jupyter-widgets/controls",
          "model_name": "HBoxModel",
          "state": {
            "_view_name": "HBoxView",
            "_dom_classes": [],
            "_model_name": "HBoxModel",
            "_view_module": "@jupyter-widgets/controls",
            "_model_module_version": "1.5.0",
            "_view_count": null,
            "_view_module_version": "1.5.0",
            "box_style": "",
            "layout": "IPY_MODEL_cf82659d21fa454b8718ee5767bb7f06",
            "_model_module": "@jupyter-widgets/controls",
            "children": [
              "IPY_MODEL_f62309a4a1074c65a9f07cf9e7634e61",
              "IPY_MODEL_83b56480e5024503beaece173711484e"
            ]
          }
        },
        "cf82659d21fa454b8718ee5767bb7f06": {
          "model_module": "@jupyter-widgets/base",
          "model_name": "LayoutModel",
          "state": {
            "_view_name": "LayoutView",
            "grid_template_rows": null,
            "right": null,
            "justify_content": null,
            "_view_module": "@jupyter-widgets/base",
            "overflow": null,
            "_model_module_version": "1.2.0",
            "_view_count": null,
            "flex_flow": null,
            "width": null,
            "min_width": null,
            "border": null,
            "align_items": null,
            "bottom": null,
            "_model_module": "@jupyter-widgets/base",
            "top": null,
            "grid_column": null,
            "overflow_y": null,
            "overflow_x": null,
            "grid_auto_flow": null,
            "grid_area": null,
            "grid_template_columns": null,
            "flex": null,
            "_model_name": "LayoutModel",
            "justify_items": null,
            "grid_row": null,
            "max_height": null,
            "align_content": null,
            "visibility": null,
            "align_self": null,
            "height": null,
            "min_height": null,
            "padding": null,
            "grid_auto_rows": null,
            "grid_gap": null,
            "max_width": null,
            "order": null,
            "_view_module_version": "1.2.0",
            "grid_template_areas": null,
            "object_position": null,
            "object_fit": null,
            "grid_auto_columns": null,
            "margin": null,
            "display": null,
            "left": null
          }
        },
        "f62309a4a1074c65a9f07cf9e7634e61": {
          "model_module": "@jupyter-widgets/controls",
          "model_name": "FloatProgressModel",
          "state": {
            "_view_name": "ProgressView",
            "style": "IPY_MODEL_b55ebc1ba6454ec4b3793917dc9858ff",
            "_dom_classes": [],
            "description": "100%",
            "_model_name": "FloatProgressModel",
            "bar_style": "success",
            "max": 241530880,
            "_view_module": "@jupyter-widgets/controls",
            "_model_module_version": "1.5.0",
            "value": 241530880,
            "_view_count": null,
            "_view_module_version": "1.5.0",
            "orientation": "horizontal",
            "min": 0,
            "description_tooltip": null,
            "_model_module": "@jupyter-widgets/controls",
            "layout": "IPY_MODEL_ef9cffefef7e44d3a17b57980bbd6dac"
          }
        },
        "83b56480e5024503beaece173711484e": {
          "model_module": "@jupyter-widgets/controls",
          "model_name": "HTMLModel",
          "state": {
            "_view_name": "HTMLView",
            "style": "IPY_MODEL_89bc50f07b0241b7ad4831c34e41c682",
            "_dom_classes": [],
            "description": "",
            "_model_name": "HTMLModel",
            "placeholder": "​",
            "_view_module": "@jupyter-widgets/controls",
            "_model_module_version": "1.5.0",
            "value": " 230M/230M [00:01&lt;00:00, 137MB/s]",
            "_view_count": null,
            "_view_module_version": "1.5.0",
            "description_tooltip": null,
            "_model_module": "@jupyter-widgets/controls",
            "layout": "IPY_MODEL_3d589543802b4dd4ac348155b2318fe0"
          }
        },
        "b55ebc1ba6454ec4b3793917dc9858ff": {
          "model_module": "@jupyter-widgets/controls",
          "model_name": "ProgressStyleModel",
          "state": {
            "_view_name": "StyleView",
            "_model_name": "ProgressStyleModel",
            "description_width": "initial",
            "_view_module": "@jupyter-widgets/base",
            "_model_module_version": "1.5.0",
            "_view_count": null,
            "_view_module_version": "1.2.0",
            "bar_color": null,
            "_model_module": "@jupyter-widgets/controls"
          }
        },
        "ef9cffefef7e44d3a17b57980bbd6dac": {
          "model_module": "@jupyter-widgets/base",
          "model_name": "LayoutModel",
          "state": {
            "_view_name": "LayoutView",
            "grid_template_rows": null,
            "right": null,
            "justify_content": null,
            "_view_module": "@jupyter-widgets/base",
            "overflow": null,
            "_model_module_version": "1.2.0",
            "_view_count": null,
            "flex_flow": null,
            "width": null,
            "min_width": null,
            "border": null,
            "align_items": null,
            "bottom": null,
            "_model_module": "@jupyter-widgets/base",
            "top": null,
            "grid_column": null,
            "overflow_y": null,
            "overflow_x": null,
            "grid_auto_flow": null,
            "grid_area": null,
            "grid_template_columns": null,
            "flex": null,
            "_model_name": "LayoutModel",
            "justify_items": null,
            "grid_row": null,
            "max_height": null,
            "align_content": null,
            "visibility": null,
            "align_self": null,
            "height": null,
            "min_height": null,
            "padding": null,
            "grid_auto_rows": null,
            "grid_gap": null,
            "max_width": null,
            "order": null,
            "_view_module_version": "1.2.0",
            "grid_template_areas": null,
            "object_position": null,
            "object_fit": null,
            "grid_auto_columns": null,
            "margin": null,
            "display": null,
            "left": null
          }
        },
        "89bc50f07b0241b7ad4831c34e41c682": {
          "model_module": "@jupyter-widgets/controls",
          "model_name": "DescriptionStyleModel",
          "state": {
            "_view_name": "StyleView",
            "_model_name": "DescriptionStyleModel",
            "description_width": "",
            "_view_module": "@jupyter-widgets/base",
            "_model_module_version": "1.5.0",
            "_view_count": null,
            "_view_module_version": "1.2.0",
            "_model_module": "@jupyter-widgets/controls"
          }
        },
        "3d589543802b4dd4ac348155b2318fe0": {
          "model_module": "@jupyter-widgets/base",
          "model_name": "LayoutModel",
          "state": {
            "_view_name": "LayoutView",
            "grid_template_rows": null,
            "right": null,
            "justify_content": null,
            "_view_module": "@jupyter-widgets/base",
            "overflow": null,
            "_model_module_version": "1.2.0",
            "_view_count": null,
            "flex_flow": null,
            "width": null,
            "min_width": null,
            "border": null,
            "align_items": null,
            "bottom": null,
            "_model_module": "@jupyter-widgets/base",
            "top": null,
            "grid_column": null,
            "overflow_y": null,
            "overflow_x": null,
            "grid_auto_flow": null,
            "grid_area": null,
            "grid_template_columns": null,
            "flex": null,
            "_model_name": "LayoutModel",
            "justify_items": null,
            "grid_row": null,
            "max_height": null,
            "align_content": null,
            "visibility": null,
            "align_self": null,
            "height": null,
            "min_height": null,
            "padding": null,
            "grid_auto_rows": null,
            "grid_gap": null,
            "max_width": null,
            "order": null,
            "_view_module_version": "1.2.0",
            "grid_template_areas": null,
            "object_position": null,
            "object_fit": null,
            "grid_auto_columns": null,
            "margin": null,
            "display": null,
            "left": null
          }
        }
      }
    }
  },
  "cells": [
    {
      "cell_type": "markdown",
      "metadata": {
        "id": "view-in-github",
        "colab_type": "text"
      },
      "source": [
        "<a href=\"https://colab.research.google.com/github/kenichinakanishi/houseplant_classifier/blob/master/Part_4_TorchVision_Models.ipynb\" target=\"_parent\"><img src=\"https://colab.research.google.com/assets/colab-badge.svg\" alt=\"Open In Colab\"/></a>"
      ]
    },
    {
      "cell_type": "markdown",
      "metadata": {
        "id": "V3qZVyWrAmwO"
      },
      "source": [
        "# Imports"
      ]
    },
    {
      "cell_type": "code",
      "metadata": {
        "id": "Dn8UTbPgmYp6",
        "colab": {
          "base_uri": "https://localhost:8080/"
        },
        "outputId": "be4bc184-f3ac-4298-b651-6fc681260856"
      },
      "source": [
        "# Check GPU on Colabs\n",
        "# NVIDIA-SMI 455.32.00 Driver Version: 418.67 CUDA Version: 10.1 Tesla V100-SXM2\n",
        "! nvidia-smi "
      ],
      "execution_count": 2,
      "outputs": [
        {
          "output_type": "stream",
          "text": [
            "Mon Nov 30 23:51:35 2020       \n",
            "+-----------------------------------------------------------------------------+\n",
            "| NVIDIA-SMI 455.38       Driver Version: 418.67       CUDA Version: 10.1     |\n",
            "|-------------------------------+----------------------+----------------------+\n",
            "| GPU  Name        Persistence-M| Bus-Id        Disp.A | Volatile Uncorr. ECC |\n",
            "| Fan  Temp  Perf  Pwr:Usage/Cap|         Memory-Usage | GPU-Util  Compute M. |\n",
            "|                               |                      |               MIG M. |\n",
            "|===============================+======================+======================|\n",
            "|   0  Tesla V100-SXM2...  Off  | 00000000:00:04.0 Off |                    0 |\n",
            "| N/A   34C    P0    24W / 300W |      0MiB / 16130MiB |      0%      Default |\n",
            "|                               |                      |                 ERR! |\n",
            "+-------------------------------+----------------------+----------------------+\n",
            "                                                                               \n",
            "+-----------------------------------------------------------------------------+\n",
            "| Processes:                                                                  |\n",
            "|  GPU   GI   CI        PID   Type   Process name                  GPU Memory |\n",
            "|        ID   ID                                                   Usage      |\n",
            "|=============================================================================|\n",
            "|  No running processes found                                                 |\n",
            "+-----------------------------------------------------------------------------+\n"
          ],
          "name": "stdout"
        }
      ]
    },
    {
      "cell_type": "code",
      "metadata": {
        "id": "Fkt6m5UAoafd",
        "colab": {
          "base_uri": "https://localhost:8080/"
        },
        "outputId": "7cffd512-91c1-46d2-9091-3c90d2ac52dd"
      },
      "source": [
        "# Run once per session\n",
        "!pip install fastai==2.1.2 -q\n",
        "!pip install fastcore==1.3.1 -q\n",
        "!pip install torch==1.7.0 -q\n",
        "from fastai.basics import *\n",
        "from fastai.vision.all import *\n",
        "from fastai.callback.all import *\n",
        "from fastai.callback.cutmix import *\n",
        "from fastai.distributed import *\n",
        "from fastprogress import fastprogress\n",
        "from torchvision.models import *\n",
        "from fastcore.script import *\n",
        "fastprogress.MAX_COLS = 80"
      ],
      "execution_count": 3,
      "outputs": [
        {
          "output_type": "stream",
          "text": [
            "\u001b[K     |████████████████████████████████| 194kB 14.5MB/s \n",
            "\u001b[K     |████████████████████████████████| 61kB 8.0MB/s \n",
            "\u001b[K     |████████████████████████████████| 51kB 5.4MB/s \n",
            "\u001b[?25h"
          ],
          "name": "stdout"
        }
      ]
    },
    {
      "cell_type": "code",
      "metadata": {
        "id": "yBT0lMmQV6MG"
      },
      "source": [
        "# Import source of efficientnet models and weights\n",
        "!pip install geffnet -q\n",
        "import geffnet\n",
        "\n",
        "! pip install pytorchcv torch>=0.4.0 -q\n",
        "from pytorchcv.model_provider import get_model as ptcv_get_model"
      ],
      "execution_count": 4,
      "outputs": []
    },
    {
      "cell_type": "code",
      "metadata": {
        "id": "ZXrTipw8mXN-",
        "colab": {
          "base_uri": "https://localhost:8080/"
        },
        "outputId": "c0feac02-a425-4694-9f70-f84729f032a2"
      },
      "source": [
        "torch.cuda.is_available()"
      ],
      "execution_count": 5,
      "outputs": [
        {
          "output_type": "execute_result",
          "data": {
            "text/plain": [
              "True"
            ]
          },
          "metadata": {
            "tags": []
          },
          "execution_count": 5
        }
      ]
    },
    {
      "cell_type": "code",
      "metadata": {
        "id": "Tm8JPQO-q6Mh",
        "colab": {
          "base_uri": "https://localhost:8080/"
        },
        "outputId": "a46df0ca-b04f-46ac-ae21-149201b0591b"
      },
      "source": [
        "# memory footprint support libraries/code\n",
        "!ln -sf /opt/bin/nvidia-smi /usr/bin/nvidia-smi\n",
        "!pip install gputil -q\n",
        "!pip install psutil -q\n",
        "!pip install humanize -q\n",
        "import psutil\n",
        "import humanize\n",
        "import os\n",
        "import GPUtil as GPU\n",
        "GPUs = GPU.getGPUs()\n",
        "# XXX: only one GPU on Colab and isn’t guaranteed\n",
        "gpu = GPUs[0]\n",
        "def printm():\n",
        " process = psutil.Process(os.getpid())\n",
        " print(\"Gen RAM Free: \" + humanize.naturalsize( psutil.virtual_memory().available ), \" | Proc size: \" + humanize.naturalsize( process.memory_info().rss))\n",
        " print(\"GPU RAM Free: {0:.0f}MB | Used: {1:.0f}MB | Util {2:3.0f}% | Total {3:.0f}MB\".format(gpu.memoryFree, gpu.memoryUsed, gpu.memoryUtil*100, gpu.memoryTotal))"
      ],
      "execution_count": 6,
      "outputs": [
        {
          "output_type": "stream",
          "text": [
            "  Building wheel for gputil (setup.py) ... \u001b[?25l\u001b[?25hdone\n"
          ],
          "name": "stdout"
        }
      ]
    },
    {
      "cell_type": "code",
      "metadata": {
        "id": "94WwyVlMm79h",
        "colab": {
          "base_uri": "https://localhost:8080/"
        },
        "outputId": "1abda5c5-7c82-40d5-ae1b-6cfdf0e6f4f6"
      },
      "source": [
        "printm()"
      ],
      "execution_count": 7,
      "outputs": [
        {
          "output_type": "stream",
          "text": [
            "Gen RAM Free: 26.3 GB  | Proc size: 307.7 MB\n",
            "GPU RAM Free: 16120MB | Used: 10MB | Util   0% | Total 16130MB\n"
          ],
          "name": "stdout"
        }
      ]
    },
    {
      "cell_type": "markdown",
      "metadata": {
        "id": "2IZ50gVCzM8S"
      },
      "source": [
        "# Download and Unzip the File"
      ]
    },
    {
      "cell_type": "markdown",
      "metadata": {
        "id": "t1vslpDaoVgV"
      },
      "source": [
        "The use of images directly from a google drive is very slow.\n",
        "This is because even though the drive appears to be direcly attached to our colab instance, in actuality we are dynamically downloading and accessing each image one by one - leading to extremely long training times. \n",
        "\n",
        "At this point, I've gone to the directory the image files were downloaded to, zipped them up and placed that master zip file into my google drive for importing and processing. "
      ]
    },
    {
      "cell_type": "code",
      "metadata": {
        "id": "BC9ft3Alg6hC",
        "colab": {
          "base_uri": "https://localhost:8080/"
        },
        "outputId": "c981ec6d-f1ea-41b1-a0a1-788054b15efe"
      },
      "source": [
        "# If your zip file is on your google drive - download it into the current kernel\n",
        "!cp '/content/drive/My Drive/Houseplant Classifier/plant_images_database_manualcleanedlosses10.zip' 'plant_images_database_manualcleanedlosses10.zip'\n",
        "# This code snippet unzips a zip file to a specified destination\n",
        "!unzip -q \"/content/plant_images_database_manualcleanedlosses10.zip\" -d \"/content\";"
      ],
      "execution_count": 8,
      "outputs": [
        {
          "output_type": "stream",
          "text": [
            "plant_images_database_manualcleanedlosses10/Citrus ×aurantium/:  mismatching \"local\" filename (plant_images_database_manualcleanedlosses10/Citrus ├Чaurantium/),\n",
            "         continuing with \"central\" filename version\n",
            "plant_images_database_manualcleanedlosses10/Citrus ×aurantium/00000000.jpg:  mismatching \"local\" filename (plant_images_database_manualcleanedlosses10/Citrus ├Чaurantium/00000000.jpg),\n",
            "         continuing with \"central\" filename version\n",
            "plant_images_database_manualcleanedlosses10/Citrus ×aurantium/00000001.jpg:  mismatching \"local\" filename (plant_images_database_manualcleanedlosses10/Citrus ├Чaurantium/00000001.jpg),\n",
            "         continuing with \"central\" filename version\n",
            "plant_images_database_manualcleanedlosses10/Citrus ×aurantium/00000002.jpg:  mismatching \"local\" filename (plant_images_database_manualcleanedlosses10/Citrus ├Чaurantium/00000002.jpg),\n",
            "         continuing with \"central\" filename version\n",
            "plant_images_database_manualcleanedlosses10/Citrus ×aurantium/00000003.jpg:  mismatching \"local\" filename (plant_images_database_manualcleanedlosses10/Citrus ├Чaurantium/00000003.jpg),\n",
            "         continuing with \"central\" filename version\n",
            "plant_images_database_manualcleanedlosses10/Citrus ×aurantium/00000004.jpg:  mismatching \"local\" filename (plant_images_database_manualcleanedlosses10/Citrus ├Чaurantium/00000004.jpg),\n",
            "         continuing with \"central\" filename version\n",
            "plant_images_database_manualcleanedlosses10/Citrus ×aurantium/00000005.jpg:  mismatching \"local\" filename (plant_images_database_manualcleanedlosses10/Citrus ├Чaurantium/00000005.jpg),\n",
            "         continuing with \"central\" filename version\n",
            "plant_images_database_manualcleanedlosses10/Citrus ×aurantium/00000006.jpg:  mismatching \"local\" filename (plant_images_database_manualcleanedlosses10/Citrus ├Чaurantium/00000006.jpg),\n",
            "         continuing with \"central\" filename version\n",
            "plant_images_database_manualcleanedlosses10/Citrus ×aurantium/00000007.jpg:  mismatching \"local\" filename (plant_images_database_manualcleanedlosses10/Citrus ├Чaurantium/00000007.jpg),\n",
            "         continuing with \"central\" filename version\n",
            "plant_images_database_manualcleanedlosses10/Citrus ×aurantium/00000008.jpg:  mismatching \"local\" filename (plant_images_database_manualcleanedlosses10/Citrus ├Чaurantium/00000008.jpg),\n",
            "         continuing with \"central\" filename version\n",
            "plant_images_database_manualcleanedlosses10/Citrus ×aurantium/00000009.jpg:  mismatching \"local\" filename (plant_images_database_manualcleanedlosses10/Citrus ├Чaurantium/00000009.jpg),\n",
            "         continuing with \"central\" filename version\n",
            "plant_images_database_manualcleanedlosses10/Citrus ×aurantium/00000010.jpg:  mismatching \"local\" filename (plant_images_database_manualcleanedlosses10/Citrus ├Чaurantium/00000010.jpg),\n",
            "         continuing with \"central\" filename version\n",
            "plant_images_database_manualcleanedlosses10/Citrus ×aurantium/00000011.jpg:  mismatching \"local\" filename (plant_images_database_manualcleanedlosses10/Citrus ├Чaurantium/00000011.jpg),\n",
            "         continuing with \"central\" filename version\n",
            "plant_images_database_manualcleanedlosses10/Citrus ×aurantium/00000012.jpg:  mismatching \"local\" filename (plant_images_database_manualcleanedlosses10/Citrus ├Чaurantium/00000012.jpg),\n",
            "         continuing with \"central\" filename version\n",
            "plant_images_database_manualcleanedlosses10/Citrus ×aurantium/00000013.jpg:  mismatching \"local\" filename (plant_images_database_manualcleanedlosses10/Citrus ├Чaurantium/00000013.jpg),\n",
            "         continuing with \"central\" filename version\n",
            "plant_images_database_manualcleanedlosses10/Citrus ×aurantium/00000015.jpg:  mismatching \"local\" filename (plant_images_database_manualcleanedlosses10/Citrus ├Чaurantium/00000015.jpg),\n",
            "         continuing with \"central\" filename version\n",
            "plant_images_database_manualcleanedlosses10/Citrus ×aurantium/00000016.jpg:  mismatching \"local\" filename (plant_images_database_manualcleanedlosses10/Citrus ├Чaurantium/00000016.jpg),\n",
            "         continuing with \"central\" filename version\n",
            "plant_images_database_manualcleanedlosses10/Citrus ×aurantium/00000017.jpg:  mismatching \"local\" filename (plant_images_database_manualcleanedlosses10/Citrus ├Чaurantium/00000017.jpg),\n",
            "         continuing with \"central\" filename version\n",
            "plant_images_database_manualcleanedlosses10/Citrus ×aurantium/00000018.jpg:  mismatching \"local\" filename (plant_images_database_manualcleanedlosses10/Citrus ├Чaurantium/00000018.jpg),\n",
            "         continuing with \"central\" filename version\n",
            "plant_images_database_manualcleanedlosses10/Citrus ×aurantium/00000019.jpg:  mismatching \"local\" filename (plant_images_database_manualcleanedlosses10/Citrus ├Чaurantium/00000019.jpg),\n",
            "         continuing with \"central\" filename version\n",
            "plant_images_database_manualcleanedlosses10/Citrus ×aurantium/00000020.jpg:  mismatching \"local\" filename (plant_images_database_manualcleanedlosses10/Citrus ├Чaurantium/00000020.jpg),\n",
            "         continuing with \"central\" filename version\n",
            "plant_images_database_manualcleanedlosses10/Citrus ×aurantium/00000021.jpg:  mismatching \"local\" filename (plant_images_database_manualcleanedlosses10/Citrus ├Чaurantium/00000021.jpg),\n",
            "         continuing with \"central\" filename version\n",
            "plant_images_database_manualcleanedlosses10/Citrus ×aurantium/00000022.jpg:  mismatching \"local\" filename (plant_images_database_manualcleanedlosses10/Citrus ├Чaurantium/00000022.jpg),\n",
            "         continuing with \"central\" filename version\n",
            "plant_images_database_manualcleanedlosses10/Citrus ×aurantium/00000024.jpg:  mismatching \"local\" filename (plant_images_database_manualcleanedlosses10/Citrus ├Чaurantium/00000024.jpg),\n",
            "         continuing with \"central\" filename version\n",
            "plant_images_database_manualcleanedlosses10/Citrus ×aurantium/00000025.jpg:  mismatching \"local\" filename (plant_images_database_manualcleanedlosses10/Citrus ├Чaurantium/00000025.jpg),\n",
            "         continuing with \"central\" filename version\n",
            "plant_images_database_manualcleanedlosses10/Citrus ×aurantium/00000026.jpg:  mismatching \"local\" filename (plant_images_database_manualcleanedlosses10/Citrus ├Чaurantium/00000026.jpg),\n",
            "         continuing with \"central\" filename version\n",
            "plant_images_database_manualcleanedlosses10/Citrus ×aurantium/00000027.jpg:  mismatching \"local\" filename (plant_images_database_manualcleanedlosses10/Citrus ├Чaurantium/00000027.jpg),\n",
            "         continuing with \"central\" filename version\n",
            "plant_images_database_manualcleanedlosses10/Citrus ×aurantium/00000028.jpg:  mismatching \"local\" filename (plant_images_database_manualcleanedlosses10/Citrus ├Чaurantium/00000028.jpg),\n",
            "         continuing with \"central\" filename version\n",
            "plant_images_database_manualcleanedlosses10/Citrus ×aurantium/00000029.jpg:  mismatching \"local\" filename (plant_images_database_manualcleanedlosses10/Citrus ├Чaurantium/00000029.jpg),\n",
            "         continuing with \"central\" filename version\n",
            "plant_images_database_manualcleanedlosses10/Citrus ×aurantium/00000030.jpg:  mismatching \"local\" filename (plant_images_database_manualcleanedlosses10/Citrus ├Чaurantium/00000030.jpg),\n",
            "         continuing with \"central\" filename version\n",
            "plant_images_database_manualcleanedlosses10/Citrus ×aurantium/00000031.jpg:  mismatching \"local\" filename (plant_images_database_manualcleanedlosses10/Citrus ├Чaurantium/00000031.jpg),\n",
            "         continuing with \"central\" filename version\n",
            "plant_images_database_manualcleanedlosses10/Citrus ×aurantium/00000032.jpg:  mismatching \"local\" filename (plant_images_database_manualcleanedlosses10/Citrus ├Чaurantium/00000032.jpg),\n",
            "         continuing with \"central\" filename version\n",
            "plant_images_database_manualcleanedlosses10/Citrus ×aurantium/00000035.jpg:  mismatching \"local\" filename (plant_images_database_manualcleanedlosses10/Citrus ├Чaurantium/00000035.jpg),\n",
            "         continuing with \"central\" filename version\n",
            "plant_images_database_manualcleanedlosses10/Citrus ×aurantium/00000036.jpg:  mismatching \"local\" filename (plant_images_database_manualcleanedlosses10/Citrus ├Чaurantium/00000036.jpg),\n",
            "         continuing with \"central\" filename version\n",
            "plant_images_database_manualcleanedlosses10/Citrus ×aurantium/00000037.jpg:  mismatching \"local\" filename (plant_images_database_manualcleanedlosses10/Citrus ├Чaurantium/00000037.jpg),\n",
            "         continuing with \"central\" filename version\n",
            "plant_images_database_manualcleanedlosses10/Citrus ×aurantium/00000038.jpg:  mismatching \"local\" filename (plant_images_database_manualcleanedlosses10/Citrus ├Чaurantium/00000038.jpg),\n",
            "         continuing with \"central\" filename version\n",
            "plant_images_database_manualcleanedlosses10/Citrus ×aurantium/00000039.jpg:  mismatching \"local\" filename (plant_images_database_manualcleanedlosses10/Citrus ├Чaurantium/00000039.jpg),\n",
            "         continuing with \"central\" filename version\n",
            "plant_images_database_manualcleanedlosses10/Citrus ×aurantium/00000040.jpg:  mismatching \"local\" filename (plant_images_database_manualcleanedlosses10/Citrus ├Чaurantium/00000040.jpg),\n",
            "         continuing with \"central\" filename version\n",
            "plant_images_database_manualcleanedlosses10/Citrus ×aurantium/00000041.jpg:  mismatching \"local\" filename (plant_images_database_manualcleanedlosses10/Citrus ├Чaurantium/00000041.jpg),\n",
            "         continuing with \"central\" filename version\n",
            "plant_images_database_manualcleanedlosses10/Citrus ×aurantium/00000043.jpg:  mismatching \"local\" filename (plant_images_database_manualcleanedlosses10/Citrus ├Чaurantium/00000043.jpg),\n",
            "         continuing with \"central\" filename version\n",
            "plant_images_database_manualcleanedlosses10/Citrus ×aurantium/00000044.jpg:  mismatching \"local\" filename (plant_images_database_manualcleanedlosses10/Citrus ├Чaurantium/00000044.jpg),\n",
            "         continuing with \"central\" filename version\n",
            "plant_images_database_manualcleanedlosses10/Citrus ×aurantium/00000045.jpg:  mismatching \"local\" filename (plant_images_database_manualcleanedlosses10/Citrus ├Чaurantium/00000045.jpg),\n",
            "         continuing with \"central\" filename version\n",
            "plant_images_database_manualcleanedlosses10/Citrus ×aurantium/00000046.jpg:  mismatching \"local\" filename (plant_images_database_manualcleanedlosses10/Citrus ├Чaurantium/00000046.jpg),\n",
            "         continuing with \"central\" filename version\n",
            "plant_images_database_manualcleanedlosses10/Citrus ×aurantium/00000047.jpg:  mismatching \"local\" filename (plant_images_database_manualcleanedlosses10/Citrus ├Чaurantium/00000047.jpg),\n",
            "         continuing with \"central\" filename version\n",
            "plant_images_database_manualcleanedlosses10/Citrus ×aurantium/00000048.jpg:  mismatching \"local\" filename (plant_images_database_manualcleanedlosses10/Citrus ├Чaurantium/00000048.jpg),\n",
            "         continuing with \"central\" filename version\n",
            "plant_images_database_manualcleanedlosses10/Citrus ×aurantium/00000049.jpg:  mismatching \"local\" filename (plant_images_database_manualcleanedlosses10/Citrus ├Чaurantium/00000049.jpg),\n",
            "         continuing with \"central\" filename version\n",
            "plant_images_database_manualcleanedlosses10/Citrus ×aurantium/00000050.jpg:  mismatching \"local\" filename (plant_images_database_manualcleanedlosses10/Citrus ├Чaurantium/00000050.jpg),\n",
            "         continuing with \"central\" filename version\n",
            "plant_images_database_manualcleanedlosses10/Citrus ×aurantium/00000051.jpg:  mismatching \"local\" filename (plant_images_database_manualcleanedlosses10/Citrus ├Чaurantium/00000051.jpg),\n",
            "         continuing with \"central\" filename version\n",
            "plant_images_database_manualcleanedlosses10/Citrus ×aurantium/00000052.jpg:  mismatching \"local\" filename (plant_images_database_manualcleanedlosses10/Citrus ├Чaurantium/00000052.jpg),\n",
            "         continuing with \"central\" filename version\n",
            "plant_images_database_manualcleanedlosses10/Citrus ×aurantium/00000053.jpg:  mismatching \"local\" filename (plant_images_database_manualcleanedlosses10/Citrus ├Чaurantium/00000053.jpg),\n",
            "         continuing with \"central\" filename version\n",
            "plant_images_database_manualcleanedlosses10/Citrus ×aurantium/00000054.jpg:  mismatching \"local\" filename (plant_images_database_manualcleanedlosses10/Citrus ├Чaurantium/00000054.jpg),\n",
            "         continuing with \"central\" filename version\n",
            "plant_images_database_manualcleanedlosses10/Citrus ×aurantium/00000110.jpg:  mismatching \"local\" filename (plant_images_database_manualcleanedlosses10/Citrus ├Чaurantium/00000110.jpg),\n",
            "         continuing with \"central\" filename version\n",
            "plant_images_database_manualcleanedlosses10/Citrus ×aurantium/00000111.jpg:  mismatching \"local\" filename (plant_images_database_manualcleanedlosses10/Citrus ├Чaurantium/00000111.jpg),\n",
            "         continuing with \"central\" filename version\n",
            "plant_images_database_manualcleanedlosses10/Citrus ×aurantium/00000112.jpg:  mismatching \"local\" filename (plant_images_database_manualcleanedlosses10/Citrus ├Чaurantium/00000112.jpg),\n",
            "         continuing with \"central\" filename version\n",
            "plant_images_database_manualcleanedlosses10/Citrus ×aurantium/00000113.jpg:  mismatching \"local\" filename (plant_images_database_manualcleanedlosses10/Citrus ├Чaurantium/00000113.jpg),\n",
            "         continuing with \"central\" filename version\n",
            "plant_images_database_manualcleanedlosses10/Citrus ×aurantium/00000114.jpg:  mismatching \"local\" filename (plant_images_database_manualcleanedlosses10/Citrus ├Чaurantium/00000114.jpg),\n",
            "         continuing with \"central\" filename version\n",
            "plant_images_database_manualcleanedlosses10/Citrus ×aurantium/00000116.jpg:  mismatching \"local\" filename (plant_images_database_manualcleanedlosses10/Citrus ├Чaurantium/00000116.jpg),\n",
            "         continuing with \"central\" filename version\n",
            "plant_images_database_manualcleanedlosses10/Citrus ×aurantium/00000117.jpg:  mismatching \"local\" filename (plant_images_database_manualcleanedlosses10/Citrus ├Чaurantium/00000117.jpg),\n",
            "         continuing with \"central\" filename version\n",
            "plant_images_database_manualcleanedlosses10/Citrus ×aurantium/00000118.jpg:  mismatching \"local\" filename (plant_images_database_manualcleanedlosses10/Citrus ├Чaurantium/00000118.jpg),\n",
            "         continuing with \"central\" filename version\n",
            "plant_images_database_manualcleanedlosses10/Citrus ×aurantium/00000121.jpg:  mismatching \"local\" filename (plant_images_database_manualcleanedlosses10/Citrus ├Чaurantium/00000121.jpg),\n",
            "         continuing with \"central\" filename version\n",
            "plant_images_database_manualcleanedlosses10/Citrus ×aurantium/00000122.jpg:  mismatching \"local\" filename (plant_images_database_manualcleanedlosses10/Citrus ├Чaurantium/00000122.jpg),\n",
            "         continuing with \"central\" filename version\n",
            "plant_images_database_manualcleanedlosses10/Citrus ×aurantium/00000123.jpg:  mismatching \"local\" filename (plant_images_database_manualcleanedlosses10/Citrus ├Чaurantium/00000123.jpg),\n",
            "         continuing with \"central\" filename version\n",
            "plant_images_database_manualcleanedlosses10/Citrus ×aurantium/00000124.jpg:  mismatching \"local\" filename (plant_images_database_manualcleanedlosses10/Citrus ├Чaurantium/00000124.jpg),\n",
            "         continuing with \"central\" filename version\n",
            "plant_images_database_manualcleanedlosses10/Citrus ×aurantium/00000125.jpg:  mismatching \"local\" filename (plant_images_database_manualcleanedlosses10/Citrus ├Чaurantium/00000125.jpg),\n",
            "         continuing with \"central\" filename version\n",
            "plant_images_database_manualcleanedlosses10/Citrus ×aurantium/00000126.jpg:  mismatching \"local\" filename (plant_images_database_manualcleanedlosses10/Citrus ├Чaurantium/00000126.jpg),\n",
            "         continuing with \"central\" filename version\n",
            "plant_images_database_manualcleanedlosses10/Citrus ×aurantium/00000128.jpg:  mismatching \"local\" filename (plant_images_database_manualcleanedlosses10/Citrus ├Чaurantium/00000128.jpg),\n",
            "         continuing with \"central\" filename version\n",
            "plant_images_database_manualcleanedlosses10/Citrus ×aurantium/00000129.jpg:  mismatching \"local\" filename (plant_images_database_manualcleanedlosses10/Citrus ├Чaurantium/00000129.jpg),\n",
            "         continuing with \"central\" filename version\n",
            "plant_images_database_manualcleanedlosses10/Citrus ×aurantium/00000130.jpg:  mismatching \"local\" filename (plant_images_database_manualcleanedlosses10/Citrus ├Чaurantium/00000130.jpg),\n",
            "         continuing with \"central\" filename version\n",
            "plant_images_database_manualcleanedlosses10/Citrus ×aurantium/00000131.jpg:  mismatching \"local\" filename (plant_images_database_manualcleanedlosses10/Citrus ├Чaurantium/00000131.jpg),\n",
            "         continuing with \"central\" filename version\n",
            "plant_images_database_manualcleanedlosses10/Citrus ×aurantium/00000132.jpg:  mismatching \"local\" filename (plant_images_database_manualcleanedlosses10/Citrus ├Чaurantium/00000132.jpg),\n",
            "         continuing with \"central\" filename version\n",
            "plant_images_database_manualcleanedlosses10/Citrus ×aurantium/00000133.jpg:  mismatching \"local\" filename (plant_images_database_manualcleanedlosses10/Citrus ├Чaurantium/00000133.jpg),\n",
            "         continuing with \"central\" filename version\n",
            "plant_images_database_manualcleanedlosses10/Citrus ×aurantium/00000134.jpg:  mismatching \"local\" filename (plant_images_database_manualcleanedlosses10/Citrus ├Чaurantium/00000134.jpg),\n",
            "         continuing with \"central\" filename version\n",
            "plant_images_database_manualcleanedlosses10/Citrus ×aurantium/00000135.jpg:  mismatching \"local\" filename (plant_images_database_manualcleanedlosses10/Citrus ├Чaurantium/00000135.jpg),\n",
            "         continuing with \"central\" filename version\n",
            "plant_images_database_manualcleanedlosses10/Citrus ×aurantium/00000136.jpg:  mismatching \"local\" filename (plant_images_database_manualcleanedlosses10/Citrus ├Чaurantium/00000136.jpg),\n",
            "         continuing with \"central\" filename version\n",
            "plant_images_database_manualcleanedlosses10/Citrus ×aurantium/00000137.jpg:  mismatching \"local\" filename (plant_images_database_manualcleanedlosses10/Citrus ├Чaurantium/00000137.jpg),\n",
            "         continuing with \"central\" filename version\n",
            "plant_images_database_manualcleanedlosses10/Citrus ×aurantium/00000138.jpg:  mismatching \"local\" filename (plant_images_database_manualcleanedlosses10/Citrus ├Чaurantium/00000138.jpg),\n",
            "         continuing with \"central\" filename version\n",
            "plant_images_database_manualcleanedlosses10/Citrus ×aurantium/00000139.jpg:  mismatching \"local\" filename (plant_images_database_manualcleanedlosses10/Citrus ├Чaurantium/00000139.jpg),\n",
            "         continuing with \"central\" filename version\n",
            "plant_images_database_manualcleanedlosses10/Citrus ×aurantium/00000141.jpg:  mismatching \"local\" filename (plant_images_database_manualcleanedlosses10/Citrus ├Чaurantium/00000141.jpg),\n",
            "         continuing with \"central\" filename version\n",
            "plant_images_database_manualcleanedlosses10/Citrus ×aurantium/00000142.jpg:  mismatching \"local\" filename (plant_images_database_manualcleanedlosses10/Citrus ├Чaurantium/00000142.jpg),\n",
            "         continuing with \"central\" filename version\n",
            "plant_images_database_manualcleanedlosses10/Citrus ×aurantium/00000143.jpg:  mismatching \"local\" filename (plant_images_database_manualcleanedlosses10/Citrus ├Чaurantium/00000143.jpg),\n",
            "         continuing with \"central\" filename version\n",
            "plant_images_database_manualcleanedlosses10/Citrus ×aurantium/00000144.jpg:  mismatching \"local\" filename (plant_images_database_manualcleanedlosses10/Citrus ├Чaurantium/00000144.jpg),\n",
            "         continuing with \"central\" filename version\n",
            "plant_images_database_manualcleanedlosses10/Citrus ×aurantium/00000145.jpg:  mismatching \"local\" filename (plant_images_database_manualcleanedlosses10/Citrus ├Чaurantium/00000145.jpg),\n",
            "         continuing with \"central\" filename version\n",
            "plant_images_database_manualcleanedlosses10/Citrus ×aurantium/00000146.jpg:  mismatching \"local\" filename (plant_images_database_manualcleanedlosses10/Citrus ├Чaurantium/00000146.jpg),\n",
            "         continuing with \"central\" filename version\n",
            "plant_images_database_manualcleanedlosses10/Citrus ×aurantium/00000147.jpg:  mismatching \"local\" filename (plant_images_database_manualcleanedlosses10/Citrus ├Чaurantium/00000147.jpg),\n",
            "         continuing with \"central\" filename version\n",
            "plant_images_database_manualcleanedlosses10/Citrus ×aurantium/00000148.jpg:  mismatching \"local\" filename (plant_images_database_manualcleanedlosses10/Citrus ├Чaurantium/00000148.jpg),\n",
            "         continuing with \"central\" filename version\n",
            "plant_images_database_manualcleanedlosses10/Citrus ×aurantium/00000149.jpg:  mismatching \"local\" filename (plant_images_database_manualcleanedlosses10/Citrus ├Чaurantium/00000149.jpg),\n",
            "         continuing with \"central\" filename version\n",
            "plant_images_database_manualcleanedlosses10/Citrus ×aurantium/00000150.jpg:  mismatching \"local\" filename (plant_images_database_manualcleanedlosses10/Citrus ├Чaurantium/00000150.jpg),\n",
            "         continuing with \"central\" filename version\n",
            "plant_images_database_manualcleanedlosses10/Citrus ×aurantium/00000151.jpg:  mismatching \"local\" filename (plant_images_database_manualcleanedlosses10/Citrus ├Чaurantium/00000151.jpg),\n",
            "         continuing with \"central\" filename version\n",
            "plant_images_database_manualcleanedlosses10/Citrus ×aurantium/00000152.jpg:  mismatching \"local\" filename (plant_images_database_manualcleanedlosses10/Citrus ├Чaurantium/00000152.jpg),\n",
            "         continuing with \"central\" filename version\n",
            "plant_images_database_manualcleanedlosses10/Citrus ×aurantium/00000251.jpg:  mismatching \"local\" filename (plant_images_database_manualcleanedlosses10/Citrus ├Чaurantium/00000251.jpg),\n",
            "         continuing with \"central\" filename version\n",
            "plant_images_database_manualcleanedlosses10/Citrus ×aurantium/00000252.jpg:  mismatching \"local\" filename (plant_images_database_manualcleanedlosses10/Citrus ├Чaurantium/00000252.jpg),\n",
            "         continuing with \"central\" filename version\n",
            "plant_images_database_manualcleanedlosses10/Citrus ×aurantium/00000253.jpg:  mismatching \"local\" filename (plant_images_database_manualcleanedlosses10/Citrus ├Чaurantium/00000253.jpg),\n",
            "         continuing with \"central\" filename version\n",
            "plant_images_database_manualcleanedlosses10/Citrus ×aurantium/00000254.jpg:  mismatching \"local\" filename (plant_images_database_manualcleanedlosses10/Citrus ├Чaurantium/00000254.jpg),\n",
            "         continuing with \"central\" filename version\n",
            "plant_images_database_manualcleanedlosses10/Citrus ×aurantium/00000255.jpg:  mismatching \"local\" filename (plant_images_database_manualcleanedlosses10/Citrus ├Чaurantium/00000255.jpg),\n",
            "         continuing with \"central\" filename version\n",
            "plant_images_database_manualcleanedlosses10/Citrus ×aurantium/00000257.jpg:  mismatching \"local\" filename (plant_images_database_manualcleanedlosses10/Citrus ├Чaurantium/00000257.jpg),\n",
            "         continuing with \"central\" filename version\n",
            "plant_images_database_manualcleanedlosses10/Citrus ×aurantium/00000258.jpg:  mismatching \"local\" filename (plant_images_database_manualcleanedlosses10/Citrus ├Чaurantium/00000258.jpg),\n",
            "         continuing with \"central\" filename version\n",
            "plant_images_database_manualcleanedlosses10/Citrus ×aurantium/00000259.jpg:  mismatching \"local\" filename (plant_images_database_manualcleanedlosses10/Citrus ├Чaurantium/00000259.jpg),\n",
            "         continuing with \"central\" filename version\n",
            "plant_images_database_manualcleanedlosses10/Citrus ×aurantium/00000261.jpg:  mismatching \"local\" filename (plant_images_database_manualcleanedlosses10/Citrus ├Чaurantium/00000261.jpg),\n",
            "         continuing with \"central\" filename version\n",
            "plant_images_database_manualcleanedlosses10/Citrus ×aurantium/00000262.jpg:  mismatching \"local\" filename (plant_images_database_manualcleanedlosses10/Citrus ├Чaurantium/00000262.jpg),\n",
            "         continuing with \"central\" filename version\n",
            "plant_images_database_manualcleanedlosses10/Citrus ×aurantium/00000263.jpg:  mismatching \"local\" filename (plant_images_database_manualcleanedlosses10/Citrus ├Чaurantium/00000263.jpg),\n",
            "         continuing with \"central\" filename version\n",
            "plant_images_database_manualcleanedlosses10/Citrus ×aurantium/00000264.jpg:  mismatching \"local\" filename (plant_images_database_manualcleanedlosses10/Citrus ├Чaurantium/00000264.jpg),\n",
            "         continuing with \"central\" filename version\n",
            "plant_images_database_manualcleanedlosses10/Citrus ×aurantium/00000265.jpg:  mismatching \"local\" filename (plant_images_database_manualcleanedlosses10/Citrus ├Чaurantium/00000265.jpg),\n",
            "         continuing with \"central\" filename version\n",
            "plant_images_database_manualcleanedlosses10/Citrus ×aurantium/00000267.jpg:  mismatching \"local\" filename (plant_images_database_manualcleanedlosses10/Citrus ├Чaurantium/00000267.jpg),\n",
            "         continuing with \"central\" filename version\n",
            "plant_images_database_manualcleanedlosses10/Citrus ×aurantium/00000268.jpg:  mismatching \"local\" filename (plant_images_database_manualcleanedlosses10/Citrus ├Чaurantium/00000268.jpg),\n",
            "         continuing with \"central\" filename version\n",
            "plant_images_database_manualcleanedlosses10/Citrus ×aurantium/00000272.jpg:  mismatching \"local\" filename (plant_images_database_manualcleanedlosses10/Citrus ├Чaurantium/00000272.jpg),\n",
            "         continuing with \"central\" filename version\n",
            "plant_images_database_manualcleanedlosses10/Citrus ×aurantium/00000273.jpg:  mismatching \"local\" filename (plant_images_database_manualcleanedlosses10/Citrus ├Чaurantium/00000273.jpg),\n",
            "         continuing with \"central\" filename version\n",
            "plant_images_database_manualcleanedlosses10/Citrus ×aurantium/00000274.jpg:  mismatching \"local\" filename (plant_images_database_manualcleanedlosses10/Citrus ├Чaurantium/00000274.jpg),\n",
            "         continuing with \"central\" filename version\n",
            "plant_images_database_manualcleanedlosses10/Citrus ×aurantium/00000275.jpg:  mismatching \"local\" filename (plant_images_database_manualcleanedlosses10/Citrus ├Чaurantium/00000275.jpg),\n",
            "         continuing with \"central\" filename version\n",
            "plant_images_database_manualcleanedlosses10/Citrus ×aurantium/00000277.jpg:  mismatching \"local\" filename (plant_images_database_manualcleanedlosses10/Citrus ├Чaurantium/00000277.jpg),\n",
            "         continuing with \"central\" filename version\n",
            "plant_images_database_manualcleanedlosses10/Citrus ×aurantium/00000278.jpg:  mismatching \"local\" filename (plant_images_database_manualcleanedlosses10/Citrus ├Чaurantium/00000278.jpg),\n",
            "         continuing with \"central\" filename version\n",
            "plant_images_database_manualcleanedlosses10/Citrus ×aurantium/00000279.jpg:  mismatching \"local\" filename (plant_images_database_manualcleanedlosses10/Citrus ├Чaurantium/00000279.jpg),\n",
            "         continuing with \"central\" filename version\n",
            "plant_images_database_manualcleanedlosses10/Citrus ×aurantium/00000280.jpg:  mismatching \"local\" filename (plant_images_database_manualcleanedlosses10/Citrus ├Чaurantium/00000280.jpg),\n",
            "         continuing with \"central\" filename version\n",
            "plant_images_database_manualcleanedlosses10/Citrus ×aurantium/00000281.jpg:  mismatching \"local\" filename (plant_images_database_manualcleanedlosses10/Citrus ├Чaurantium/00000281.jpg),\n",
            "         continuing with \"central\" filename version\n",
            "plant_images_database_manualcleanedlosses10/Citrus ×aurantium/00000283.jpg:  mismatching \"local\" filename (plant_images_database_manualcleanedlosses10/Citrus ├Чaurantium/00000283.jpg),\n",
            "         continuing with \"central\" filename version\n",
            "plant_images_database_manualcleanedlosses10/Citrus ×aurantium/00000284.jpg:  mismatching \"local\" filename (plant_images_database_manualcleanedlosses10/Citrus ├Чaurantium/00000284.jpg),\n",
            "         continuing with \"central\" filename version\n",
            "plant_images_database_manualcleanedlosses10/Citrus ×aurantium/00000420.jpg:  mismatching \"local\" filename (plant_images_database_manualcleanedlosses10/Citrus ├Чaurantium/00000420.jpg),\n",
            "         continuing with \"central\" filename version\n",
            "plant_images_database_manualcleanedlosses10/Citrus ×aurantium/00000421.jpg:  mismatching \"local\" filename (plant_images_database_manualcleanedlosses10/Citrus ├Чaurantium/00000421.jpg),\n",
            "         continuing with \"central\" filename version\n",
            "plant_images_database_manualcleanedlosses10/Citrus ×aurantium/00000422.jpg:  mismatching \"local\" filename (plant_images_database_manualcleanedlosses10/Citrus ├Чaurantium/00000422.jpg),\n",
            "         continuing with \"central\" filename version\n",
            "plant_images_database_manualcleanedlosses10/Citrus ×aurantium/00000423.jpg:  mismatching \"local\" filename (plant_images_database_manualcleanedlosses10/Citrus ├Чaurantium/00000423.jpg),\n",
            "         continuing with \"central\" filename version\n",
            "plant_images_database_manualcleanedlosses10/Citrus ×aurantium/00000424.jpg:  mismatching \"local\" filename (plant_images_database_manualcleanedlosses10/Citrus ├Чaurantium/00000424.jpg),\n",
            "         continuing with \"central\" filename version\n",
            "plant_images_database_manualcleanedlosses10/Citrus ×aurantium/00000427.jpg:  mismatching \"local\" filename (plant_images_database_manualcleanedlosses10/Citrus ├Чaurantium/00000427.jpg),\n",
            "         continuing with \"central\" filename version\n",
            "plant_images_database_manualcleanedlosses10/Citrus ×aurantium/00000428.jpg:  mismatching \"local\" filename (plant_images_database_manualcleanedlosses10/Citrus ├Чaurantium/00000428.jpg),\n",
            "         continuing with \"central\" filename version\n",
            "plant_images_database_manualcleanedlosses10/Citrus ×aurantium/00000429.jpg:  mismatching \"local\" filename (plant_images_database_manualcleanedlosses10/Citrus ├Чaurantium/00000429.jpg),\n",
            "         continuing with \"central\" filename version\n",
            "plant_images_database_manualcleanedlosses10/Citrus ×aurantium/00000434.jpg:  mismatching \"local\" filename (plant_images_database_manualcleanedlosses10/Citrus ├Чaurantium/00000434.jpg),\n",
            "         continuing with \"central\" filename version\n"
          ],
          "name": "stdout"
        }
      ]
    },
    {
      "cell_type": "code",
      "metadata": {
        "id": "d79jZGw1tD4c",
        "colab": {
          "base_uri": "https://localhost:8080/"
        },
        "outputId": "86da1125-d733-48e3-b7c1-86926e4de10c"
      },
      "source": [
        "# If your zip file is on your google drive - download it into the current kernel\n",
        "!cp '/content/drive/My Drive/Houseplant Classifier/plant_images_database.zip' 'plant_images_database.zip'\n",
        "# This code snippet unzips a zip file to a specified destination\n",
        "!unzip -q \"/content/plant_images_database.zip\" -d \"/content\";"
      ],
      "execution_count": 9,
      "outputs": [
        {
          "output_type": "stream",
          "text": [
            "plant_image_database/Citrus ×aurantium/:  mismatching \"local\" filename (plant_image_database/Citrus ├Чaurantium/),\n",
            "         continuing with \"central\" filename version\n",
            "plant_image_database/Citrus ×aurantium/00000000.jpg:  mismatching \"local\" filename (plant_image_database/Citrus ├Чaurantium/00000000.jpg),\n",
            "         continuing with \"central\" filename version\n",
            "plant_image_database/Citrus ×aurantium/00000001.jpg:  mismatching \"local\" filename (plant_image_database/Citrus ├Чaurantium/00000001.jpg),\n",
            "         continuing with \"central\" filename version\n",
            "plant_image_database/Citrus ×aurantium/00000002.jpg:  mismatching \"local\" filename (plant_image_database/Citrus ├Чaurantium/00000002.jpg),\n",
            "         continuing with \"central\" filename version\n",
            "plant_image_database/Citrus ×aurantium/00000003.jpg:  mismatching \"local\" filename (plant_image_database/Citrus ├Чaurantium/00000003.jpg),\n",
            "         continuing with \"central\" filename version\n",
            "plant_image_database/Citrus ×aurantium/00000004.jpg:  mismatching \"local\" filename (plant_image_database/Citrus ├Чaurantium/00000004.jpg),\n",
            "         continuing with \"central\" filename version\n",
            "plant_image_database/Citrus ×aurantium/00000005.jpg:  mismatching \"local\" filename (plant_image_database/Citrus ├Чaurantium/00000005.jpg),\n",
            "         continuing with \"central\" filename version\n",
            "plant_image_database/Citrus ×aurantium/00000006.jpg:  mismatching \"local\" filename (plant_image_database/Citrus ├Чaurantium/00000006.jpg),\n",
            "         continuing with \"central\" filename version\n",
            "plant_image_database/Citrus ×aurantium/00000007.jpg:  mismatching \"local\" filename (plant_image_database/Citrus ├Чaurantium/00000007.jpg),\n",
            "         continuing with \"central\" filename version\n",
            "plant_image_database/Citrus ×aurantium/00000008.jpg:  mismatching \"local\" filename (plant_image_database/Citrus ├Чaurantium/00000008.jpg),\n",
            "         continuing with \"central\" filename version\n",
            "plant_image_database/Citrus ×aurantium/00000009.jpg:  mismatching \"local\" filename (plant_image_database/Citrus ├Чaurantium/00000009.jpg),\n",
            "         continuing with \"central\" filename version\n",
            "plant_image_database/Citrus ×aurantium/00000010.jpg:  mismatching \"local\" filename (plant_image_database/Citrus ├Чaurantium/00000010.jpg),\n",
            "         continuing with \"central\" filename version\n",
            "plant_image_database/Citrus ×aurantium/00000011.jpg:  mismatching \"local\" filename (plant_image_database/Citrus ├Чaurantium/00000011.jpg),\n",
            "         continuing with \"central\" filename version\n",
            "plant_image_database/Citrus ×aurantium/00000012.jpg:  mismatching \"local\" filename (plant_image_database/Citrus ├Чaurantium/00000012.jpg),\n",
            "         continuing with \"central\" filename version\n",
            "plant_image_database/Citrus ×aurantium/00000013.jpg:  mismatching \"local\" filename (plant_image_database/Citrus ├Чaurantium/00000013.jpg),\n",
            "         continuing with \"central\" filename version\n",
            "plant_image_database/Citrus ×aurantium/00000014.jpg:  mismatching \"local\" filename (plant_image_database/Citrus ├Чaurantium/00000014.jpg),\n",
            "         continuing with \"central\" filename version\n",
            "plant_image_database/Citrus ×aurantium/00000015.jpg:  mismatching \"local\" filename (plant_image_database/Citrus ├Чaurantium/00000015.jpg),\n",
            "         continuing with \"central\" filename version\n",
            "plant_image_database/Citrus ×aurantium/00000016.jpg:  mismatching \"local\" filename (plant_image_database/Citrus ├Чaurantium/00000016.jpg),\n",
            "         continuing with \"central\" filename version\n",
            "plant_image_database/Citrus ×aurantium/00000017.jpg:  mismatching \"local\" filename (plant_image_database/Citrus ├Чaurantium/00000017.jpg),\n",
            "         continuing with \"central\" filename version\n",
            "plant_image_database/Citrus ×aurantium/00000018.jpg:  mismatching \"local\" filename (plant_image_database/Citrus ├Чaurantium/00000018.jpg),\n",
            "         continuing with \"central\" filename version\n",
            "plant_image_database/Citrus ×aurantium/00000019.jpg:  mismatching \"local\" filename (plant_image_database/Citrus ├Чaurantium/00000019.jpg),\n",
            "         continuing with \"central\" filename version\n",
            "plant_image_database/Citrus ×aurantium/00000020.jpg:  mismatching \"local\" filename (plant_image_database/Citrus ├Чaurantium/00000020.jpg),\n",
            "         continuing with \"central\" filename version\n",
            "plant_image_database/Citrus ×aurantium/00000021.jpg:  mismatching \"local\" filename (plant_image_database/Citrus ├Чaurantium/00000021.jpg),\n",
            "         continuing with \"central\" filename version\n",
            "plant_image_database/Citrus ×aurantium/00000022.jpg:  mismatching \"local\" filename (plant_image_database/Citrus ├Чaurantium/00000022.jpg),\n",
            "         continuing with \"central\" filename version\n",
            "plant_image_database/Citrus ×aurantium/00000023.jpg:  mismatching \"local\" filename (plant_image_database/Citrus ├Чaurantium/00000023.jpg),\n",
            "         continuing with \"central\" filename version\n",
            "plant_image_database/Citrus ×aurantium/00000024.jpg:  mismatching \"local\" filename (plant_image_database/Citrus ├Чaurantium/00000024.jpg),\n",
            "         continuing with \"central\" filename version\n",
            "plant_image_database/Citrus ×aurantium/00000025.jpg:  mismatching \"local\" filename (plant_image_database/Citrus ├Чaurantium/00000025.jpg),\n",
            "         continuing with \"central\" filename version\n",
            "plant_image_database/Citrus ×aurantium/00000026.jpg:  mismatching \"local\" filename (plant_image_database/Citrus ├Чaurantium/00000026.jpg),\n",
            "         continuing with \"central\" filename version\n",
            "plant_image_database/Citrus ×aurantium/00000027.jpg:  mismatching \"local\" filename (plant_image_database/Citrus ├Чaurantium/00000027.jpg),\n",
            "         continuing with \"central\" filename version\n",
            "plant_image_database/Citrus ×aurantium/00000028.jpg:  mismatching \"local\" filename (plant_image_database/Citrus ├Чaurantium/00000028.jpg),\n",
            "         continuing with \"central\" filename version\n",
            "plant_image_database/Citrus ×aurantium/00000029.jpg:  mismatching \"local\" filename (plant_image_database/Citrus ├Чaurantium/00000029.jpg),\n",
            "         continuing with \"central\" filename version\n",
            "plant_image_database/Citrus ×aurantium/00000030.jpg:  mismatching \"local\" filename (plant_image_database/Citrus ├Чaurantium/00000030.jpg),\n",
            "         continuing with \"central\" filename version\n",
            "plant_image_database/Citrus ×aurantium/00000031.jpg:  mismatching \"local\" filename (plant_image_database/Citrus ├Чaurantium/00000031.jpg),\n",
            "         continuing with \"central\" filename version\n",
            "plant_image_database/Citrus ×aurantium/00000032.jpg:  mismatching \"local\" filename (plant_image_database/Citrus ├Чaurantium/00000032.jpg),\n",
            "         continuing with \"central\" filename version\n",
            "plant_image_database/Citrus ×aurantium/00000033.jpg:  mismatching \"local\" filename (plant_image_database/Citrus ├Чaurantium/00000033.jpg),\n",
            "         continuing with \"central\" filename version\n",
            "plant_image_database/Citrus ×aurantium/00000034.jpg:  mismatching \"local\" filename (plant_image_database/Citrus ├Чaurantium/00000034.jpg),\n",
            "         continuing with \"central\" filename version\n",
            "plant_image_database/Citrus ×aurantium/00000035.jpg:  mismatching \"local\" filename (plant_image_database/Citrus ├Чaurantium/00000035.jpg),\n",
            "         continuing with \"central\" filename version\n",
            "plant_image_database/Citrus ×aurantium/00000036.jpg:  mismatching \"local\" filename (plant_image_database/Citrus ├Чaurantium/00000036.jpg),\n",
            "         continuing with \"central\" filename version\n",
            "plant_image_database/Citrus ×aurantium/00000037.jpg:  mismatching \"local\" filename (plant_image_database/Citrus ├Чaurantium/00000037.jpg),\n",
            "         continuing with \"central\" filename version\n",
            "plant_image_database/Citrus ×aurantium/00000038.jpg:  mismatching \"local\" filename (plant_image_database/Citrus ├Чaurantium/00000038.jpg),\n",
            "         continuing with \"central\" filename version\n",
            "plant_image_database/Citrus ×aurantium/00000039.jpg:  mismatching \"local\" filename (plant_image_database/Citrus ├Чaurantium/00000039.jpg),\n",
            "         continuing with \"central\" filename version\n",
            "plant_image_database/Citrus ×aurantium/00000040.jpg:  mismatching \"local\" filename (plant_image_database/Citrus ├Чaurantium/00000040.jpg),\n",
            "         continuing with \"central\" filename version\n",
            "plant_image_database/Citrus ×aurantium/00000041.jpg:  mismatching \"local\" filename (plant_image_database/Citrus ├Чaurantium/00000041.jpg),\n",
            "         continuing with \"central\" filename version\n",
            "plant_image_database/Citrus ×aurantium/00000042.jpg:  mismatching \"local\" filename (plant_image_database/Citrus ├Чaurantium/00000042.jpg),\n",
            "         continuing with \"central\" filename version\n",
            "plant_image_database/Citrus ×aurantium/00000043.jpg:  mismatching \"local\" filename (plant_image_database/Citrus ├Чaurantium/00000043.jpg),\n",
            "         continuing with \"central\" filename version\n",
            "plant_image_database/Citrus ×aurantium/00000044.jpg:  mismatching \"local\" filename (plant_image_database/Citrus ├Чaurantium/00000044.jpg),\n",
            "         continuing with \"central\" filename version\n",
            "plant_image_database/Citrus ×aurantium/00000045.jpg:  mismatching \"local\" filename (plant_image_database/Citrus ├Чaurantium/00000045.jpg),\n",
            "         continuing with \"central\" filename version\n",
            "plant_image_database/Citrus ×aurantium/00000046.jpg:  mismatching \"local\" filename (plant_image_database/Citrus ├Чaurantium/00000046.jpg),\n",
            "         continuing with \"central\" filename version\n",
            "plant_image_database/Citrus ×aurantium/00000047.jpg:  mismatching \"local\" filename (plant_image_database/Citrus ├Чaurantium/00000047.jpg),\n",
            "         continuing with \"central\" filename version\n",
            "plant_image_database/Citrus ×aurantium/00000048.jpg:  mismatching \"local\" filename (plant_image_database/Citrus ├Чaurantium/00000048.jpg),\n",
            "         continuing with \"central\" filename version\n",
            "plant_image_database/Citrus ×aurantium/00000049.jpg:  mismatching \"local\" filename (plant_image_database/Citrus ├Чaurantium/00000049.jpg),\n",
            "         continuing with \"central\" filename version\n",
            "plant_image_database/Citrus ×aurantium/00000050.jpg:  mismatching \"local\" filename (plant_image_database/Citrus ├Чaurantium/00000050.jpg),\n",
            "         continuing with \"central\" filename version\n",
            "plant_image_database/Citrus ×aurantium/00000051.jpg:  mismatching \"local\" filename (plant_image_database/Citrus ├Чaurantium/00000051.jpg),\n",
            "         continuing with \"central\" filename version\n",
            "plant_image_database/Citrus ×aurantium/00000052.jpg:  mismatching \"local\" filename (plant_image_database/Citrus ├Чaurantium/00000052.jpg),\n",
            "         continuing with \"central\" filename version\n",
            "plant_image_database/Citrus ×aurantium/00000053.jpg:  mismatching \"local\" filename (plant_image_database/Citrus ├Чaurantium/00000053.jpg),\n",
            "         continuing with \"central\" filename version\n",
            "plant_image_database/Citrus ×aurantium/00000054.jpg:  mismatching \"local\" filename (plant_image_database/Citrus ├Чaurantium/00000054.jpg),\n",
            "         continuing with \"central\" filename version\n",
            "plant_image_database/Citrus ×aurantium/00000110.jpg:  mismatching \"local\" filename (plant_image_database/Citrus ├Чaurantium/00000110.jpg),\n",
            "         continuing with \"central\" filename version\n",
            "plant_image_database/Citrus ×aurantium/00000111.jpg:  mismatching \"local\" filename (plant_image_database/Citrus ├Чaurantium/00000111.jpg),\n",
            "         continuing with \"central\" filename version\n",
            "plant_image_database/Citrus ×aurantium/00000112.jpg:  mismatching \"local\" filename (plant_image_database/Citrus ├Чaurantium/00000112.jpg),\n",
            "         continuing with \"central\" filename version\n",
            "plant_image_database/Citrus ×aurantium/00000113.jpg:  mismatching \"local\" filename (plant_image_database/Citrus ├Чaurantium/00000113.jpg),\n",
            "         continuing with \"central\" filename version\n",
            "plant_image_database/Citrus ×aurantium/00000114.jpg:  mismatching \"local\" filename (plant_image_database/Citrus ├Чaurantium/00000114.jpg),\n",
            "         continuing with \"central\" filename version\n",
            "plant_image_database/Citrus ×aurantium/00000115.jpg:  mismatching \"local\" filename (plant_image_database/Citrus ├Чaurantium/00000115.jpg),\n",
            "         continuing with \"central\" filename version\n",
            "plant_image_database/Citrus ×aurantium/00000116.jpg:  mismatching \"local\" filename (plant_image_database/Citrus ├Чaurantium/00000116.jpg),\n",
            "         continuing with \"central\" filename version\n",
            "plant_image_database/Citrus ×aurantium/00000117.jpg:  mismatching \"local\" filename (plant_image_database/Citrus ├Чaurantium/00000117.jpg),\n",
            "         continuing with \"central\" filename version\n",
            "plant_image_database/Citrus ×aurantium/00000118.jpg:  mismatching \"local\" filename (plant_image_database/Citrus ├Чaurantium/00000118.jpg),\n",
            "         continuing with \"central\" filename version\n",
            "plant_image_database/Citrus ×aurantium/00000119.jpg:  mismatching \"local\" filename (plant_image_database/Citrus ├Чaurantium/00000119.jpg),\n",
            "         continuing with \"central\" filename version\n",
            "plant_image_database/Citrus ×aurantium/00000120.jpg:  mismatching \"local\" filename (plant_image_database/Citrus ├Чaurantium/00000120.jpg),\n",
            "         continuing with \"central\" filename version\n",
            "plant_image_database/Citrus ×aurantium/00000121.jpg:  mismatching \"local\" filename (plant_image_database/Citrus ├Чaurantium/00000121.jpg),\n",
            "         continuing with \"central\" filename version\n",
            "plant_image_database/Citrus ×aurantium/00000122.jpg:  mismatching \"local\" filename (plant_image_database/Citrus ├Чaurantium/00000122.jpg),\n",
            "         continuing with \"central\" filename version\n",
            "plant_image_database/Citrus ×aurantium/00000123.jpg:  mismatching \"local\" filename (plant_image_database/Citrus ├Чaurantium/00000123.jpg),\n",
            "         continuing with \"central\" filename version\n",
            "plant_image_database/Citrus ×aurantium/00000124.jpg:  mismatching \"local\" filename (plant_image_database/Citrus ├Чaurantium/00000124.jpg),\n",
            "         continuing with \"central\" filename version\n",
            "plant_image_database/Citrus ×aurantium/00000125.jpg:  mismatching \"local\" filename (plant_image_database/Citrus ├Чaurantium/00000125.jpg),\n",
            "         continuing with \"central\" filename version\n",
            "plant_image_database/Citrus ×aurantium/00000126.jpg:  mismatching \"local\" filename (plant_image_database/Citrus ├Чaurantium/00000126.jpg),\n",
            "         continuing with \"central\" filename version\n",
            "plant_image_database/Citrus ×aurantium/00000127.jpg:  mismatching \"local\" filename (plant_image_database/Citrus ├Чaurantium/00000127.jpg),\n",
            "         continuing with \"central\" filename version\n",
            "plant_image_database/Citrus ×aurantium/00000128.jpg:  mismatching \"local\" filename (plant_image_database/Citrus ├Чaurantium/00000128.jpg),\n",
            "         continuing with \"central\" filename version\n",
            "plant_image_database/Citrus ×aurantium/00000129.jpg:  mismatching \"local\" filename (plant_image_database/Citrus ├Чaurantium/00000129.jpg),\n",
            "         continuing with \"central\" filename version\n",
            "plant_image_database/Citrus ×aurantium/00000130.jpg:  mismatching \"local\" filename (plant_image_database/Citrus ├Чaurantium/00000130.jpg),\n",
            "         continuing with \"central\" filename version\n",
            "plant_image_database/Citrus ×aurantium/00000131.jpg:  mismatching \"local\" filename (plant_image_database/Citrus ├Чaurantium/00000131.jpg),\n",
            "         continuing with \"central\" filename version\n",
            "plant_image_database/Citrus ×aurantium/00000132.jpg:  mismatching \"local\" filename (plant_image_database/Citrus ├Чaurantium/00000132.jpg),\n",
            "         continuing with \"central\" filename version\n",
            "plant_image_database/Citrus ×aurantium/00000133.jpg:  mismatching \"local\" filename (plant_image_database/Citrus ├Чaurantium/00000133.jpg),\n",
            "         continuing with \"central\" filename version\n",
            "plant_image_database/Citrus ×aurantium/00000134.jpg:  mismatching \"local\" filename (plant_image_database/Citrus ├Чaurantium/00000134.jpg),\n",
            "         continuing with \"central\" filename version\n",
            "plant_image_database/Citrus ×aurantium/00000135.jpg:  mismatching \"local\" filename (plant_image_database/Citrus ├Чaurantium/00000135.jpg),\n",
            "         continuing with \"central\" filename version\n",
            "plant_image_database/Citrus ×aurantium/00000136.jpg:  mismatching \"local\" filename (plant_image_database/Citrus ├Чaurantium/00000136.jpg),\n",
            "         continuing with \"central\" filename version\n",
            "plant_image_database/Citrus ×aurantium/00000137.jpg:  mismatching \"local\" filename (plant_image_database/Citrus ├Чaurantium/00000137.jpg),\n",
            "         continuing with \"central\" filename version\n",
            "plant_image_database/Citrus ×aurantium/00000138.jpg:  mismatching \"local\" filename (plant_image_database/Citrus ├Чaurantium/00000138.jpg),\n",
            "         continuing with \"central\" filename version\n",
            "plant_image_database/Citrus ×aurantium/00000139.jpg:  mismatching \"local\" filename (plant_image_database/Citrus ├Чaurantium/00000139.jpg),\n",
            "         continuing with \"central\" filename version\n",
            "plant_image_database/Citrus ×aurantium/00000140.jpg:  mismatching \"local\" filename (plant_image_database/Citrus ├Чaurantium/00000140.jpg),\n",
            "         continuing with \"central\" filename version\n",
            "plant_image_database/Citrus ×aurantium/00000141.jpg:  mismatching \"local\" filename (plant_image_database/Citrus ├Чaurantium/00000141.jpg),\n",
            "         continuing with \"central\" filename version\n",
            "plant_image_database/Citrus ×aurantium/00000142.jpg:  mismatching \"local\" filename (plant_image_database/Citrus ├Чaurantium/00000142.jpg),\n",
            "         continuing with \"central\" filename version\n",
            "plant_image_database/Citrus ×aurantium/00000143.jpg:  mismatching \"local\" filename (plant_image_database/Citrus ├Чaurantium/00000143.jpg),\n",
            "         continuing with \"central\" filename version\n",
            "plant_image_database/Citrus ×aurantium/00000144.jpg:  mismatching \"local\" filename (plant_image_database/Citrus ├Чaurantium/00000144.jpg),\n",
            "         continuing with \"central\" filename version\n",
            "plant_image_database/Citrus ×aurantium/00000145.jpg:  mismatching \"local\" filename (plant_image_database/Citrus ├Чaurantium/00000145.jpg),\n",
            "         continuing with \"central\" filename version\n",
            "plant_image_database/Citrus ×aurantium/00000146.jpg:  mismatching \"local\" filename (plant_image_database/Citrus ├Чaurantium/00000146.jpg),\n",
            "         continuing with \"central\" filename version\n",
            "plant_image_database/Citrus ×aurantium/00000147.jpg:  mismatching \"local\" filename (plant_image_database/Citrus ├Чaurantium/00000147.jpg),\n",
            "         continuing with \"central\" filename version\n",
            "plant_image_database/Citrus ×aurantium/00000148.jpg:  mismatching \"local\" filename (plant_image_database/Citrus ├Чaurantium/00000148.jpg),\n",
            "         continuing with \"central\" filename version\n",
            "plant_image_database/Citrus ×aurantium/00000149.jpg:  mismatching \"local\" filename (plant_image_database/Citrus ├Чaurantium/00000149.jpg),\n",
            "         continuing with \"central\" filename version\n",
            "plant_image_database/Citrus ×aurantium/00000150.jpg:  mismatching \"local\" filename (plant_image_database/Citrus ├Чaurantium/00000150.jpg),\n",
            "         continuing with \"central\" filename version\n",
            "plant_image_database/Citrus ×aurantium/00000151.jpg:  mismatching \"local\" filename (plant_image_database/Citrus ├Чaurantium/00000151.jpg),\n",
            "         continuing with \"central\" filename version\n",
            "plant_image_database/Citrus ×aurantium/00000152.jpg:  mismatching \"local\" filename (plant_image_database/Citrus ├Чaurantium/00000152.jpg),\n",
            "         continuing with \"central\" filename version\n",
            "plant_image_database/Citrus ×aurantium/00000251.jpg:  mismatching \"local\" filename (plant_image_database/Citrus ├Чaurantium/00000251.jpg),\n",
            "         continuing with \"central\" filename version\n",
            "plant_image_database/Citrus ×aurantium/00000252.jpg:  mismatching \"local\" filename (plant_image_database/Citrus ├Чaurantium/00000252.jpg),\n",
            "         continuing with \"central\" filename version\n",
            "plant_image_database/Citrus ×aurantium/00000253.jpg:  mismatching \"local\" filename (plant_image_database/Citrus ├Чaurantium/00000253.jpg),\n",
            "         continuing with \"central\" filename version\n",
            "plant_image_database/Citrus ×aurantium/00000254.jpg:  mismatching \"local\" filename (plant_image_database/Citrus ├Чaurantium/00000254.jpg),\n",
            "         continuing with \"central\" filename version\n",
            "plant_image_database/Citrus ×aurantium/00000255.jpg:  mismatching \"local\" filename (plant_image_database/Citrus ├Чaurantium/00000255.jpg),\n",
            "         continuing with \"central\" filename version\n",
            "plant_image_database/Citrus ×aurantium/00000256.jpg:  mismatching \"local\" filename (plant_image_database/Citrus ├Чaurantium/00000256.jpg),\n",
            "         continuing with \"central\" filename version\n",
            "plant_image_database/Citrus ×aurantium/00000257.jpg:  mismatching \"local\" filename (plant_image_database/Citrus ├Чaurantium/00000257.jpg),\n",
            "         continuing with \"central\" filename version\n",
            "plant_image_database/Citrus ×aurantium/00000258.jpg:  mismatching \"local\" filename (plant_image_database/Citrus ├Чaurantium/00000258.jpg),\n",
            "         continuing with \"central\" filename version\n",
            "plant_image_database/Citrus ×aurantium/00000259.jpg:  mismatching \"local\" filename (plant_image_database/Citrus ├Чaurantium/00000259.jpg),\n",
            "         continuing with \"central\" filename version\n",
            "plant_image_database/Citrus ×aurantium/00000260.jpg:  mismatching \"local\" filename (plant_image_database/Citrus ├Чaurantium/00000260.jpg),\n",
            "         continuing with \"central\" filename version\n",
            "plant_image_database/Citrus ×aurantium/00000261.jpg:  mismatching \"local\" filename (plant_image_database/Citrus ├Чaurantium/00000261.jpg),\n",
            "         continuing with \"central\" filename version\n",
            "plant_image_database/Citrus ×aurantium/00000262.jpg:  mismatching \"local\" filename (plant_image_database/Citrus ├Чaurantium/00000262.jpg),\n",
            "         continuing with \"central\" filename version\n",
            "plant_image_database/Citrus ×aurantium/00000263.jpg:  mismatching \"local\" filename (plant_image_database/Citrus ├Чaurantium/00000263.jpg),\n",
            "         continuing with \"central\" filename version\n",
            "plant_image_database/Citrus ×aurantium/00000264.jpg:  mismatching \"local\" filename (plant_image_database/Citrus ├Чaurantium/00000264.jpg),\n",
            "         continuing with \"central\" filename version\n",
            "plant_image_database/Citrus ×aurantium/00000265.jpg:  mismatching \"local\" filename (plant_image_database/Citrus ├Чaurantium/00000265.jpg),\n",
            "         continuing with \"central\" filename version\n",
            "plant_image_database/Citrus ×aurantium/00000266.jpg:  mismatching \"local\" filename (plant_image_database/Citrus ├Чaurantium/00000266.jpg),\n",
            "         continuing with \"central\" filename version\n",
            "plant_image_database/Citrus ×aurantium/00000267.jpg:  mismatching \"local\" filename (plant_image_database/Citrus ├Чaurantium/00000267.jpg),\n",
            "         continuing with \"central\" filename version\n",
            "plant_image_database/Citrus ×aurantium/00000268.jpg:  mismatching \"local\" filename (plant_image_database/Citrus ├Чaurantium/00000268.jpg),\n",
            "         continuing with \"central\" filename version\n",
            "plant_image_database/Citrus ×aurantium/00000269.jpg:  mismatching \"local\" filename (plant_image_database/Citrus ├Чaurantium/00000269.jpg),\n",
            "         continuing with \"central\" filename version\n",
            "plant_image_database/Citrus ×aurantium/00000270.jpg:  mismatching \"local\" filename (plant_image_database/Citrus ├Чaurantium/00000270.jpg),\n",
            "         continuing with \"central\" filename version\n",
            "plant_image_database/Citrus ×aurantium/00000271.jpg:  mismatching \"local\" filename (plant_image_database/Citrus ├Чaurantium/00000271.jpg),\n",
            "         continuing with \"central\" filename version\n",
            "plant_image_database/Citrus ×aurantium/00000272.jpg:  mismatching \"local\" filename (plant_image_database/Citrus ├Чaurantium/00000272.jpg),\n",
            "         continuing with \"central\" filename version\n",
            "plant_image_database/Citrus ×aurantium/00000273.jpg:  mismatching \"local\" filename (plant_image_database/Citrus ├Чaurantium/00000273.jpg),\n",
            "         continuing with \"central\" filename version\n",
            "plant_image_database/Citrus ×aurantium/00000274.jpg:  mismatching \"local\" filename (plant_image_database/Citrus ├Чaurantium/00000274.jpg),\n",
            "         continuing with \"central\" filename version\n",
            "plant_image_database/Citrus ×aurantium/00000275.jpg:  mismatching \"local\" filename (plant_image_database/Citrus ├Чaurantium/00000275.jpg),\n",
            "         continuing with \"central\" filename version\n",
            "plant_image_database/Citrus ×aurantium/00000276.jpg:  mismatching \"local\" filename (plant_image_database/Citrus ├Чaurantium/00000276.jpg),\n",
            "         continuing with \"central\" filename version\n",
            "plant_image_database/Citrus ×aurantium/00000277.jpg:  mismatching \"local\" filename (plant_image_database/Citrus ├Чaurantium/00000277.jpg),\n",
            "         continuing with \"central\" filename version\n",
            "plant_image_database/Citrus ×aurantium/00000278.jpg:  mismatching \"local\" filename (plant_image_database/Citrus ├Чaurantium/00000278.jpg),\n",
            "         continuing with \"central\" filename version\n",
            "plant_image_database/Citrus ×aurantium/00000279.jpg:  mismatching \"local\" filename (plant_image_database/Citrus ├Чaurantium/00000279.jpg),\n",
            "         continuing with \"central\" filename version\n",
            "plant_image_database/Citrus ×aurantium/00000280.jpg:  mismatching \"local\" filename (plant_image_database/Citrus ├Чaurantium/00000280.jpg),\n",
            "         continuing with \"central\" filename version\n",
            "plant_image_database/Citrus ×aurantium/00000281.jpg:  mismatching \"local\" filename (plant_image_database/Citrus ├Чaurantium/00000281.jpg),\n",
            "         continuing with \"central\" filename version\n",
            "plant_image_database/Citrus ×aurantium/00000282.jpg:  mismatching \"local\" filename (plant_image_database/Citrus ├Чaurantium/00000282.jpg),\n",
            "         continuing with \"central\" filename version\n",
            "plant_image_database/Citrus ×aurantium/00000283.jpg:  mismatching \"local\" filename (plant_image_database/Citrus ├Чaurantium/00000283.jpg),\n",
            "         continuing with \"central\" filename version\n",
            "plant_image_database/Citrus ×aurantium/00000284.jpg:  mismatching \"local\" filename (plant_image_database/Citrus ├Чaurantium/00000284.jpg),\n",
            "         continuing with \"central\" filename version\n",
            "plant_image_database/Citrus ×aurantium/00000417.jpg:  mismatching \"local\" filename (plant_image_database/Citrus ├Чaurantium/00000417.jpg),\n",
            "         continuing with \"central\" filename version\n",
            "plant_image_database/Citrus ×aurantium/00000418.jpg:  mismatching \"local\" filename (plant_image_database/Citrus ├Чaurantium/00000418.jpg),\n",
            "         continuing with \"central\" filename version\n",
            "plant_image_database/Citrus ×aurantium/00000419.jpg:  mismatching \"local\" filename (plant_image_database/Citrus ├Чaurantium/00000419.jpg),\n",
            "         continuing with \"central\" filename version\n",
            "plant_image_database/Citrus ×aurantium/00000420.jpg:  mismatching \"local\" filename (plant_image_database/Citrus ├Чaurantium/00000420.jpg),\n",
            "         continuing with \"central\" filename version\n",
            "plant_image_database/Citrus ×aurantium/00000421.jpg:  mismatching \"local\" filename (plant_image_database/Citrus ├Чaurantium/00000421.jpg),\n",
            "         continuing with \"central\" filename version\n",
            "plant_image_database/Citrus ×aurantium/00000422.jpg:  mismatching \"local\" filename (plant_image_database/Citrus ├Чaurantium/00000422.jpg),\n",
            "         continuing with \"central\" filename version\n",
            "plant_image_database/Citrus ×aurantium/00000423.jpg:  mismatching \"local\" filename (plant_image_database/Citrus ├Чaurantium/00000423.jpg),\n",
            "         continuing with \"central\" filename version\n",
            "plant_image_database/Citrus ×aurantium/00000424.jpg:  mismatching \"local\" filename (plant_image_database/Citrus ├Чaurantium/00000424.jpg),\n",
            "         continuing with \"central\" filename version\n",
            "plant_image_database/Citrus ×aurantium/00000425.jpg:  mismatching \"local\" filename (plant_image_database/Citrus ├Чaurantium/00000425.jpg),\n",
            "         continuing with \"central\" filename version\n",
            "plant_image_database/Citrus ×aurantium/00000426.jpg:  mismatching \"local\" filename (plant_image_database/Citrus ├Чaurantium/00000426.jpg),\n",
            "         continuing with \"central\" filename version\n",
            "plant_image_database/Citrus ×aurantium/00000427.jpg:  mismatching \"local\" filename (plant_image_database/Citrus ├Чaurantium/00000427.jpg),\n",
            "         continuing with \"central\" filename version\n",
            "plant_image_database/Citrus ×aurantium/00000428.jpg:  mismatching \"local\" filename (plant_image_database/Citrus ├Чaurantium/00000428.jpg),\n",
            "         continuing with \"central\" filename version\n",
            "plant_image_database/Citrus ×aurantium/00000429.jpg:  mismatching \"local\" filename (plant_image_database/Citrus ├Чaurantium/00000429.jpg),\n",
            "         continuing with \"central\" filename version\n",
            "plant_image_database/Citrus ×aurantium/00000430.jpg:  mismatching \"local\" filename (plant_image_database/Citrus ├Чaurantium/00000430.jpg),\n",
            "         continuing with \"central\" filename version\n",
            "plant_image_database/Citrus ×aurantium/00000431.jpg:  mismatching \"local\" filename (plant_image_database/Citrus ├Чaurantium/00000431.jpg),\n",
            "         continuing with \"central\" filename version\n",
            "plant_image_database/Citrus ×aurantium/00000432.jpg:  mismatching \"local\" filename (plant_image_database/Citrus ├Чaurantium/00000432.jpg),\n",
            "         continuing with \"central\" filename version\n",
            "plant_image_database/Citrus ×aurantium/00000434.jpg:  mismatching \"local\" filename (plant_image_database/Citrus ├Чaurantium/00000434.jpg),\n",
            "         continuing with \"central\" filename version\n",
            "plant_image_database/Citrus ×aurantium/00000435.jpg:  mismatching \"local\" filename (plant_image_database/Citrus ├Чaurantium/00000435.jpg),\n",
            "         continuing with \"central\" filename version\n"
          ],
          "name": "stdout"
        }
      ]
    },
    {
      "cell_type": "markdown",
      "metadata": {
        "id": "v_Dj5SOBoZOg"
      },
      "source": [
        "# Set Up Model"
      ]
    },
    {
      "cell_type": "code",
      "metadata": {
        "id": "q82kWwuf43V8"
      },
      "source": [
        "def random_seed(seed_value, use_cuda):\n",
        "  '''\n",
        "  Sets the random seed for numpy, pytorch, python.random and pytorch GPU vars.\n",
        "  '''\n",
        "  np.random.seed(seed_value) # Numpy vars\n",
        "  torch.manual_seed(seed_value) # PyTorch vars\n",
        "  random.seed(seed_value) # Python\n",
        "  if use_cuda: # GPU vars\n",
        "      torch.cuda.manual_seed(seed_value)\n",
        "      torch.cuda.manual_seed_all(seed_value) \n",
        "      torch.backends.cudnn.deterministic = True \n",
        "      torch.backends.cudnn.benchmark = False\n",
        "  print(f'Random state set:{seed_value}, cuda used: {use_cuda}')"
      ],
      "execution_count": 10,
      "outputs": []
    },
    {
      "cell_type": "code",
      "metadata": {
        "id": "LhM663Bb4dGh"
      },
      "source": [
        "@call_parse\n",
        "def create_path_df(\n",
        "      path: Param(\"Path of images to use\", str), \n",
        "      pct_images: Param(\"Fraction of images to use\", float)=1,\n",
        "      shuffle: Param(\"Shuffle prior to splitting\", bool)=False,\n",
        "      ):\n",
        "  '''\n",
        "  Creates a dataframe with respective classes and path to images.\n",
        "  Can return a subset of those images based on the pct_images.\n",
        "  By default will return the earliest files in the path.\n",
        "\n",
        "  Returns:\n",
        "  ----------\n",
        "  DataFrame\n",
        "    Returns a dataframe with Class and Path columns. \n",
        "  '''\n",
        "  from sklearn.utils import shuffle as shuff\n",
        "  data = []\n",
        "  for folder in sorted(os.listdir(path)):\n",
        "      num_files = len(sorted(os.listdir(path+'/'+folder)))\n",
        "      cut_point = int(num_files*pct_images)\n",
        "      # Takes the first pct_images from each folder\n",
        "      if shuffle == True:\n",
        "        for file in shuff(os.listdir(path+'/'+folder))[:cut_point]:\n",
        "          data.append((folder, path+folder+'/'+file))\n",
        "      else:\n",
        "        for file in sorted(os.listdir(path+'/'+folder))[:cut_point]:\n",
        "          data.append((folder, path+folder+'/'+file))\n",
        "  df = pd.DataFrame(data, columns=['Class', 'Path'])\n",
        "  print(f'Creating path:label dataframe from {path}, using {pct_images*100:.2f}% of the images ({len(df)} images.) Shuffle = {shuffle}.')\n",
        "  return df"
      ],
      "execution_count": 11,
      "outputs": []
    },
    {
      "cell_type": "code",
      "metadata": {
        "id": "W4Gs3_iZ5cxH"
      },
      "source": [
        "@call_parse\n",
        "def stratified_split(\n",
        "      dataframe: Param(\"DataFrame created from create_path_df, containing Class and Path columns.\"), \n",
        "      n_splits: Param(\"Number of folds in split\", int)=5,\n",
        "      shuffle: Param(\"Shuffle prior to splitting\", bool)=True,\n",
        "      fold: Param(\"Which fold to use\", int)=0,\n",
        "      random_state: Param(\"Fix randomness if shuffle==True\", int)=101,\n",
        "      ):\n",
        "  ''' \n",
        "  Prepares a stratified k-fold split from a dataframe with 'Class' and 'Path' by adding an 'is_valid' column.\n",
        "\n",
        "  Returns:\n",
        "  ----------\n",
        "  DataFrame\n",
        "    Returns the requested stratified k-fold split by adding an 'is_valid' column. \n",
        "  '''\n",
        "  from sklearn.model_selection import StratifiedKFold\n",
        "  # Create stratified split using sklearn\n",
        "  print(f'Preparing stratified {n_splits} fold split, random state is {random_state}. Returning fold {fold}.')\n",
        "  kf = StratifiedKFold(n_splits=n_splits, shuffle=shuffle, random_state = random_state)\n",
        "  X, y = dataframe['Path'], dataframe['Class']\n",
        "  splits = list(kf.split(X, y))\n",
        "  # Prepare the selected fold\n",
        "  fold = fold\n",
        "  train_df = dataframe.loc[splits[fold][0]]\n",
        "  val_df = dataframe.loc[splits[fold][1]]\n",
        "  train_df['is_valid'] = False\n",
        "  val_df['is_valid'] = True\n",
        "  df_cnn = train_df.append(val_df)\n",
        "  # Return the selected fold\n",
        "  return df_cnn"
      ],
      "execution_count": 12,
      "outputs": []
    },
    {
      "cell_type": "code",
      "metadata": {
        "id": "VhvudRgz9m4n"
      },
      "source": [
        "@call_parse\n",
        "def get_dataloader(\n",
        "      img_path: Param(\"Path of images to use\", str),\n",
        "      split_path: Param(\"Path of images to use to pre-define split\", str)=None,\n",
        "      img_size:  Param(\"Size in pixels\", int)=224,\n",
        "      pct_images: Param(\"Fraction of images to use\", float)=1,\n",
        "      bs: Param(\"Batch size\", int)=64,\n",
        "      deterministic: Param(\"Deterministic learner\", bool)=True,\n",
        "      randomerasing: Param(\"Random Erasing\", str)=None,\n",
        "      n_splits: Param(\"Number of folds in split\", int)=5,\n",
        "      shuffle: Param(\"Shuffle prior to splitting\", bool)=True,\n",
        "      fold: Param(\"Which fold to use\", int)=0,\n",
        "      ):\n",
        "  \"\"\" \n",
        "  Takes in image path and creates a dataloader. \n",
        "  If a split_path is defined, uses the entirety of that path to generate a master split, onto which the img_path is joined to defined a pseudo split.  \n",
        "      \n",
        "  Returns:\n",
        "  ----------\n",
        "  Dataloader\n",
        "    dls = data.dataloaders(df_cnn_mini, bs=bs)\n",
        "  \"\"\"\n",
        "\n",
        "  # Get file path and labels from the dataframe we set up.\n",
        "  get_x = lambda x: x['Path']\n",
        "  get_y = lambda y: y['Class']\n",
        "  # Define splitting function that reads from a dataframe column.\n",
        "  def stratifiedsplitter(df):      \n",
        "      train = df.index[~df['is_valid']].tolist()\n",
        "      valid = df.index[df['is_valid']].tolist()\n",
        "      return train,valid   \n",
        "  # Prepare transforms\n",
        "    # Image is larger initially (512 px) for later augmentations.\n",
        "  item_tfms=[RandomResizedCrop(512, min_scale = 0.7)]\n",
        "    # Batch transformations include a random resized crop to img_size px. \n",
        "  batch_tfms=[*aug_transforms(size=img_size), Normalize.from_stats(*imagenet_stats)]\n",
        "  # Add in randomerasing if necessary.\n",
        "  if randomerasing != None:\n",
        "    batch_tfms=[*aug_transforms(size=img_size), Normalize.from_stats(*imagenet_stats), randomerasing]\n",
        "  # Prepare DataBlock\n",
        "  data = DataBlock(blocks=(ImageBlock, CategoryBlock),\n",
        "                    splitter=stratifiedsplitter,            # Stratified train/validation split\n",
        "                    get_x=get_x,                            # Get the image path from dataframe\n",
        "                    get_y=get_y,                            # Label from dataframe\n",
        "                    item_tfms=item_tfms,                    # Crop images to a square\n",
        "                    batch_tfms=batch_tfms)                  # Normalize the images based on the imagenet stats\n",
        "  if split_path != None:\n",
        "    print('Split Path defined, preparing pseudo stratified split.')\n",
        "    # Create split_df - a dataframe that defines a master split, based on split_path\n",
        "    df = create_path_df(split_path, pct_images=1)\n",
        "    split_df = stratified_split(df, n_splits = 5, shuffle = True, random_state = 101, fold = 0)\n",
        "    split_df['Path']= split_df['Path'].apply(lambda x:img_path+'/'.join(x.split('/')[-2:]))\n",
        "    # Inner join this reduced dataframe to the previous splits to maintain the same training images\n",
        "    df_mini = create_path_df(img_path, pct_images=pct_images)\n",
        "    df_cnn_mini= df_mini.merge(split_df, how = 'inner', on = ['Class','Path'])\n",
        "  else: \n",
        "    # Create a dataframe based on main image path with a (possibly) reduced number of images\n",
        "    df = create_path_df(img_path, pct_images=pct_images)\n",
        "    df_cnn_mini = stratified_split(df, n_splits = 5, shuffle = True, random_state = 101, fold = 0)\n",
        "  # Print some information for a sanity check\n",
        "  dls = data.dataloaders(df_cnn_mini, bs=bs)\n",
        "  print(f'We have {dls.c} classes, with a training set of size {len(dls.train_ds)}, and a validation set of size {len(dls.valid_ds)}')\n",
        "  if split_path != None:\n",
        "    print(f\"The main split has {split_df['is_valid'].describe()['freq']/len(split_df['is_valid'])*100:.2f}% training data with {len(split_df.groupby('Class').count())} classes, the reduced split has {df_cnn_mini['is_valid'].describe()['freq']/len(df_cnn_mini['is_valid'])*100:.2f} % training data, with {len(df_cnn_mini.groupby('Class').count())} classes.\")\n",
        "  return dls"
      ],
      "execution_count": 13,
      "outputs": []
    },
    {
      "cell_type": "code",
      "metadata": {
        "id": "aHYF5S5uN_mO"
      },
      "source": [
        "@call_parse\n",
        "def create_simple_cnn_learner(\n",
        "        size:  Param(\"Size\", int)=224,\n",
        "        bs:    Param(\"Batch size\", int)=64,\n",
        "        arch:  Param(\"Architecture\", str)='resnet34',\n",
        "        fp16:  Param(\"Use mixed precision training\", int)=0,\n",
        "        deterministic: Param(\"Deterministic learner\", bool)=True,\n",
        "        pretrained: Param(\"Pretrained architecture\", bool)=True,\n",
        "        pct_images: Param(\"Percent of images to sue\", float)=1,\n",
        "        img_path: Param(\"Path of images to use\", str)='/content/plant_images_database_manualcleanedlosses10/',\n",
        "        split_path: Param(\"Path of images to use to pre-define split\", str)=None,\n",
        "        model_dir: Param(\"Path to save model\", str)='/content/drive/My Drive/Houseplant Classifier/Models/',\n",
        "        log_name: Param(\"Name of csv training log\", str)='history.csv',\n",
        "        ):\n",
        "    # Select optimization function\n",
        "    opt_func = partial(Adam, mom=0.9, sqr_mom=0.99, eps=1e-05, wd=0.01, decouple_wd=True)\n",
        "    # Set Random Seed\n",
        "    if deterministic == True:\n",
        "      random_seed(101,True)\n",
        "    # Get Dataloader\n",
        "    dls = get_dataloader(img_size = size, bs = bs, img_path=img_path, split_path=split_path, pct_images=pct_images)\n",
        "    # Setup activation function and pooling\n",
        "    model = globals()[arch] \n",
        "    # Setup callbacks\n",
        "    callbacks = [CSVLogger(fname=log_name, append=True), ShowGraphCallback()]\n",
        "    # Setup Learner\n",
        "    learn = cnn_learner(dls, \n",
        "                        model, \n",
        "                        pretrained=pretrained,\n",
        "                        opt_func=opt_func,\n",
        "                        metrics=[accuracy,top_k_accuracy], \n",
        "                        model_dir = model_dir,\n",
        "                        cbs=callbacks,\n",
        "                        )\n",
        "    if fp16: learn = learn.to_fp16()\n",
        "\n",
        "    return learn"
      ],
      "execution_count": 14,
      "outputs": []
    },
    {
      "cell_type": "code",
      "metadata": {
        "id": "ntwC_n6nL3dU"
      },
      "source": [
        "@call_parse\n",
        "def create_cnn_learner(\n",
        "        size:  Param(\"Size\", int)=224,\n",
        "        bs:    Param(\"Batch size\", int)=64,\n",
        "        opt:   Param(\"Optimizer (adam,rms,sgd,ranger)\", str)='adam',\n",
        "        arch:  Param(\"Architecture\", str)='resnet34',\n",
        "        custom_head:  Param(\"Use of custom head\", nn.Sequential)=None,\n",
        "        fp16:  Param(\"Use mixed precision training\", int)=0,\n",
        "        deterministic: Param(\"Deterministic learner\", bool)=True,\n",
        "        pretrained: Param(\"Pretrained architecture\", bool)=True,\n",
        "        pct_images: Param(\"Percent of images to sue\", float)=1,\n",
        "        img_path: Param(\"Path of images to use\", str)='/content/plant_images_database_manualcleanedlosses10/',\n",
        "        split_path: Param(\"Path of images to use to pre-define split\", str)=None,\n",
        "        model_dir: Param(\"Path to save model\", str)='/content/drive/My Drive/Houseplant Classifier/Models/',\n",
        "        log_name: Param(\"Name of csv training log\", str)='history.csv',\n",
        "        loss_func: Param(\"Learner loss function\", str)=None,\n",
        "        mixup: Param(\"Mixup\", str)=None,\n",
        "        cutmix: Param(\"Cutmix\", str)=None,\n",
        "        randomerasing: Param(\"Random Erasing\", str)=None,\n",
        "        ):\n",
        "    # Select optimization function\n",
        "    if   opt=='adam'  : opt_func = partial(Adam, mom=0.9, sqr_mom=0.99, eps=1e-05, wd=0.01, decouple_wd=True)\n",
        "    elif opt=='rms'   : opt_func = partial(RMSprop, sqr_mom=0.99, mom=0.0, wd=0.0, decouple_wd=True)\n",
        "    elif opt=='sgd'   : opt_func = partial(SGD, mom=0.0, wd=0.0, decouple_wd=True)\n",
        "    elif opt=='ranger': opt_func = partial(ranger, mom=0.95, wd=0.01, eps=1e-06, sqr_mom=0.99, beta=0.0, decouple_wd=True)\n",
        "    # Get DataLoader\n",
        "    if deterministic == True:\n",
        "      random_seed(101,True)\n",
        "    # Implement RandomErasing\n",
        "    if randomerasing != None:\n",
        "      dls = get_dataloader(img_size = size, bs = bs, img_path=img_path, split_path=split_path, pct_images=pct_images, randomerasing=randomerasing)\n",
        "    else: \n",
        "      dls = get_dataloader(img_size = size, bs = bs, img_path=img_path, split_path=split_path, pct_images=pct_images)\n",
        "    # Setup activation function and pooling\n",
        "    model = globals()[arch] \n",
        "    # Setup callbacks\n",
        "    callbacks = [CSVLogger(fname=log_name, append=True), ShowGraphCallback()]\n",
        "    if mixup != None:\n",
        "      mixup = mixup\n",
        "      callbacks = [CSVLogger(fname=log_name, append=True), ShowGraphCallback(), mixup]\n",
        "    elif cutmix != None:\n",
        "      cutmix = cutmix\n",
        "      callbacks = [CSVLogger(fname=log_name, append=True), ShowGraphCallback(), cutmix]\n",
        "    # Setup Learner\n",
        "    learn = cnn_learner(dls, \n",
        "                        model, \n",
        "                        pretrained=pretrained,\n",
        "                        config = {'custom_head':custom_head},\n",
        "                        opt_func=opt_func,\n",
        "                        metrics=[accuracy,top_k_accuracy], \n",
        "                        model_dir = model_dir,\n",
        "                        loss_func = loss_func,\n",
        "                        cbs=callbacks,\n",
        "                        )\n",
        "    if fp16: learn = learn.to_fp16()\n",
        "\n",
        "    return learn"
      ],
      "execution_count": 15,
      "outputs": []
    },
    {
      "cell_type": "code",
      "metadata": {
        "id": "ZrcbadZg46D_"
      },
      "source": [
        "def enumerate_params(learner):\n",
        "  '''\n",
        "  Enumerates the unfrozen and frozen parameters for a given learner when called.\n",
        "  '''\n",
        "  total_params = sum(p.numel() for p in learner.model.parameters())\n",
        "  print(f'{total_params:,} total parameters.')\n",
        "  total_trainable_params = sum(\n",
        "  p.numel() for p in learner.model.parameters() if p.requires_grad)\n",
        "  print(f'{total_trainable_params:,} training parameters.')"
      ],
      "execution_count": 16,
      "outputs": []
    },
    {
      "cell_type": "markdown",
      "metadata": {
        "id": "MZmKErJlu6hb"
      },
      "source": [
        "# Enable Model Modification"
      ]
    },
    {
      "cell_type": "code",
      "metadata": {
        "id": "naHzjCE3u60r"
      },
      "source": [
        "def change_act(model, pre_act, post_act):\n",
        "  # We want to go down each 'level' of the model and search for each activation, changing them to the activation we want to use.\n",
        "    # We can access the named_children of the model and use that to index our way into the appropriate layers\n",
        "    # pre_act is a class\n",
        "    # EfficientNet - geffnet.activations_me.SwishMe\n",
        "    # ResNet - torch.nn.modules.activation.ReLU\n",
        "    # post_act examples - Mish()\n",
        "  count = 0\n",
        "  block_list = list(dict(model.named_children()).keys())\n",
        "  for block in block_list:\n",
        "    layer0_list = list(dict(model._modules[block].named_children()).keys())\n",
        "    model._modules[block]\n",
        "    if isinstance(model._modules[block], pre_act):\n",
        "      model._modules[block] = post_act\n",
        "      count += 1\n",
        "    for layer0 in layer0_list:\n",
        "      layer1_list = list(dict(model._modules[block]._modules[layer0].named_children()).keys())\n",
        "      model._modules[block]._modules[layer0]\n",
        "      if isinstance(model._modules[block]._modules[layer0], pre_act):\n",
        "        model._modules[block]._modules[layer0] = post_act\n",
        "        count += 1\n",
        "      for layer1 in layer1_list:\n",
        "        layer2_list = list(dict(model._modules[block]._modules[layer0]._modules[layer1].named_children()).keys())\n",
        "        model._modules[block]._modules[layer0]._modules[layer1]\n",
        "        if isinstance(model._modules[block]._modules[layer0]._modules[layer1], pre_act):\n",
        "          model._modules[block]._modules[layer0]._modules[layer1] = post_act\n",
        "          count += 1\n",
        "        for layer2 in layer2_list:\n",
        "          layer3_list = list(dict(model._modules[block]._modules[layer0]._modules[layer1]._modules[layer2].named_children()).keys())\n",
        "          model._modules[block]._modules[layer0]._modules[layer1]._modules[layer2]\n",
        "          if isinstance(model._modules[block]._modules[layer0]._modules[layer1]._modules[layer2], pre_act):\n",
        "            model._modules[block]._modules[layer0]._modules[layer1]._modules[layer2] = post_act\n",
        "            count += 1\n",
        "          for layer3 in layer3_list:\n",
        "            layer4_list = list(dict(model._modules[block]._modules[layer0]._modules[layer1]._modules[layer2]._modules[layer3].named_children()).keys())\n",
        "            model._modules[block]._modules[layer0]._modules[layer1]._modules[layer2]._modules[layer3]\n",
        "            if isinstance(model._modules[block]._modules[layer0]._modules[layer1]._modules[layer2]._modules[layer3], pre_act):\n",
        "              model._modules[block]._modules[layer0]._modules[layer1]._modules[layer2]._modules[layer3] = post_act\n",
        "              count += 1\n",
        "\n",
        "  print(f'Changing activation function from {pre_act} to {post_act}. {count} instances changed. ')\n",
        "  return nn.Sequential(*model.children())"
      ],
      "execution_count": 18,
      "outputs": []
    },
    {
      "cell_type": "markdown",
      "metadata": {
        "id": "TUVgZTvFQ3Li"
      },
      "source": [
        "# Model Exploration"
      ]
    },
    {
      "cell_type": "code",
      "metadata": {
        "id": "362oZv8jQ4lM"
      },
      "source": [
        "def arch_summary(arch):\n",
        "    model = arch(False)\n",
        "    tot = 0\n",
        "    for i, l in enumerate(model.children()):\n",
        "        n_layers = len(flatten_model(l))\n",
        "        tot += n_layers\n",
        "        print(f'({i}) {l.__class__.__name__:<12}: {n_layers:<4}layers (total: {tot})')"
      ],
      "execution_count": 17,
      "outputs": []
    },
    {
      "cell_type": "markdown",
      "metadata": {
        "id": "NlVP6r4WdY5K"
      },
      "source": [
        "# PyTorch and fast.ai Network Architectures"
      ]
    },
    {
      "cell_type": "markdown",
      "metadata": {
        "id": "zqzkE__6bc-t"
      },
      "source": [
        "## Quick ResNets"
      ]
    },
    {
      "cell_type": "markdown",
      "metadata": {
        "id": "Sp7mxzhKKVtI"
      },
      "source": [
        "### Quick ResNet18"
      ]
    },
    {
      "cell_type": "code",
      "metadata": {
        "colab": {
          "base_uri": "https://localhost:8080/",
          "height": 195,
          "referenced_widgets": [
            "cee7e6e01ddd46eaae237cf1ddedec94",
            "d07a82a10ed24688b88ef112e65aa4e9",
            "55aca69bbbdc4e28b4b50b02cd1cebef",
            "68e55d46cfdc4d3ba1470914ed3aac08",
            "ac4a6742bdc14dcba5b407915e2f1cdc",
            "769f2a8be9e948478a2e35f24a433f31",
            "4b6584906be048b8a7492c8577894d3c",
            "e8657ddcb4d041d7976dc9e5c948a3f7"
          ]
        },
        "id": "qQRjG0ZQKVtI",
        "outputId": "96e692f7-2a17-4c33-811a-edf52f663288"
      },
      "source": [
        "learn = create_cnn_learner(pct_images=0.25, \n",
        "                           deterministic=True, \n",
        "                           size=224, \n",
        "                           arch='resnet18',\n",
        "                           img_path ='/content/plant_images_database_manualcleanedlosses10/', \n",
        "                           split_path = '/content/plant_image_database/')"
      ],
      "execution_count": 36,
      "outputs": [
        {
          "output_type": "stream",
          "text": [
            "Random state set:101, cuda used: True\n",
            "Split Path defined, preparing pseudo stratified split.\n",
            "Creating path:label dataframe from /content/plant_image_database/, using 100.00% of the images (77700 images.) Shuffle = False.\n",
            "Preparing stratified 5 fold split, random state is 101. Returning fold 0.\n",
            "Creating path:label dataframe from /content/plant_images_database_manualcleanedlosses10/, using 25.00% of the images (16940 images.) Shuffle = False.\n",
            "We have 517 classes, with a training set of size 13555, and a validation set of size 3385\n",
            "The main split has 80.00% training data with 518 classes, the reduced split has 80.02 % training data, with 517 classes.\n"
          ],
          "name": "stdout"
        },
        {
          "output_type": "stream",
          "text": [
            "Downloading: \"https://download.pytorch.org/models/resnet18-5c106cde.pth\" to /root/.cache/torch/hub/checkpoints/resnet18-5c106cde.pth\n"
          ],
          "name": "stderr"
        },
        {
          "output_type": "display_data",
          "data": {
            "application/vnd.jupyter.widget-view+json": {
              "model_id": "cee7e6e01ddd46eaae237cf1ddedec94",
              "version_minor": 0,
              "version_major": 2
            },
            "text/plain": [
              "HBox(children=(FloatProgress(value=0.0, max=46827520.0), HTML(value='')))"
            ]
          },
          "metadata": {
            "tags": []
          }
        },
        {
          "output_type": "stream",
          "text": [
            "\n"
          ],
          "name": "stdout"
        }
      ]
    },
    {
      "cell_type": "code",
      "metadata": {
        "colab": {
          "base_uri": "https://localhost:8080/",
          "height": 347
        },
        "id": "3mGHcsuDKVtJ",
        "outputId": "ef6f56b7-4420-4bec-f36d-b351c20ec602"
      },
      "source": [
        "print(f'Freezing model body')\n",
        "learn.freeze()\n",
        "enumerate_params(learn)\n",
        "learn.lr_find()"
      ],
      "execution_count": 37,
      "outputs": [
        {
          "output_type": "stream",
          "text": [
            "Freezing model body\n",
            "11,968,576 total parameters.\n",
            "801,664 training parameters.\n"
          ],
          "name": "stdout"
        },
        {
          "output_type": "display_data",
          "data": {
            "text/html": [
              ""
            ],
            "text/plain": [
              "<IPython.core.display.HTML object>"
            ]
          },
          "metadata": {
            "tags": []
          }
        },
        {
          "output_type": "execute_result",
          "data": {
            "text/plain": [
              "SuggestedLRs(lr_min=0.005754399299621582, lr_steep=0.013182567432522774)"
            ]
          },
          "metadata": {
            "tags": []
          },
          "execution_count": 37
        },
        {
          "output_type": "display_data",
          "data": {
            "image/png": "[encoded data removed]",
            "text/plain": [
              "<Figure size 432x288 with 1 Axes>"
            ]
          },
          "metadata": {
            "tags": [],
            "needs_background": "light"
          }
        }
      ]
    },
    {
      "cell_type": "code",
      "metadata": {
        "colab": {
          "base_uri": "https://localhost:8080/",
          "height": 601
        },
        "id": "asGmH4bUKVtJ",
        "outputId": "35965e91-2ada-4396-c3da-4d4811ddb352"
      },
      "source": [
        "learn.fit_one_cycle(10, 1e-02)\n",
        "learn.save('stage-1-quickresnet18')"
      ],
      "execution_count": 38,
      "outputs": [
        {
          "output_type": "display_data",
          "data": {
            "text/html": [
              "<table border=\"1\" class=\"dataframe\">\n",
              "  <thead>\n",
              "    <tr style=\"text-align: left;\">\n",
              "      <th>epoch</th>\n",
              "      <th>train_loss</th>\n",
              "      <th>valid_loss</th>\n",
              "      <th>accuracy</th>\n",
              "      <th>top_k_accuracy</th>\n",
              "      <th>time</th>\n",
              "    </tr>\n",
              "  </thead>\n",
              "  <tbody>\n",
              "    <tr>\n",
              "      <td>0</td>\n",
              "      <td>5.376186</td>\n",
              "      <td>3.871335</td>\n",
              "      <td>0.218612</td>\n",
              "      <td>0.444904</td>\n",
              "      <td>01:03</td>\n",
              "    </tr>\n",
              "    <tr>\n",
              "      <td>1</td>\n",
              "      <td>4.203279</td>\n",
              "      <td>3.662590</td>\n",
              "      <td>0.240473</td>\n",
              "      <td>0.496307</td>\n",
              "      <td>01:03</td>\n",
              "    </tr>\n",
              "    <tr>\n",
              "      <td>2</td>\n",
              "      <td>3.374423</td>\n",
              "      <td>3.024303</td>\n",
              "      <td>0.332053</td>\n",
              "      <td>0.595864</td>\n",
              "      <td>01:03</td>\n",
              "    </tr>\n",
              "    <tr>\n",
              "      <td>3</td>\n",
              "      <td>3.031234</td>\n",
              "      <td>2.798667</td>\n",
              "      <td>0.354801</td>\n",
              "      <td>0.646677</td>\n",
              "      <td>01:03</td>\n",
              "    </tr>\n",
              "    <tr>\n",
              "      <td>4</td>\n",
              "      <td>2.666882</td>\n",
              "      <td>2.504205</td>\n",
              "      <td>0.411817</td>\n",
              "      <td>0.699852</td>\n",
              "      <td>01:03</td>\n",
              "    </tr>\n",
              "    <tr>\n",
              "      <td>5</td>\n",
              "      <td>2.319155</td>\n",
              "      <td>2.315259</td>\n",
              "      <td>0.462629</td>\n",
              "      <td>0.727031</td>\n",
              "      <td>01:03</td>\n",
              "    </tr>\n",
              "    <tr>\n",
              "      <td>6</td>\n",
              "      <td>1.973224</td>\n",
              "      <td>2.094513</td>\n",
              "      <td>0.501920</td>\n",
              "      <td>0.765731</td>\n",
              "      <td>01:04</td>\n",
              "    </tr>\n",
              "    <tr>\n",
              "      <td>7</td>\n",
              "      <td>1.608434</td>\n",
              "      <td>1.935286</td>\n",
              "      <td>0.530281</td>\n",
              "      <td>0.797932</td>\n",
              "      <td>01:03</td>\n",
              "    </tr>\n",
              "    <tr>\n",
              "      <td>8</td>\n",
              "      <td>1.398510</td>\n",
              "      <td>1.883317</td>\n",
              "      <td>0.553914</td>\n",
              "      <td>0.802954</td>\n",
              "      <td>01:03</td>\n",
              "    </tr>\n",
              "    <tr>\n",
              "      <td>9</td>\n",
              "      <td>1.202481</td>\n",
              "      <td>1.872230</td>\n",
              "      <td>0.555096</td>\n",
              "      <td>0.805908</td>\n",
              "      <td>01:03</td>\n",
              "    </tr>\n",
              "  </tbody>\n",
              "</table>"
            ],
            "text/plain": [
              "<IPython.core.display.HTML object>"
            ]
          },
          "metadata": {
            "tags": []
          }
        },
        {
          "output_type": "display_data",
          "data": {
            "image/png": "[encoded data removed]",
            "text/plain": [
              "<Figure size 432x288 with 1 Axes>"
            ]
          },
          "metadata": {
            "tags": []
          }
        },
        {
          "output_type": "execute_result",
          "data": {
            "text/plain": [
              "Path('/content/drive/My Drive/Houseplant Classifier/Models/stage-1-quickresnet18.pth')"
            ]
          },
          "metadata": {
            "tags": []
          },
          "execution_count": 38
        }
      ]
    },
    {
      "cell_type": "code",
      "metadata": {
        "colab": {
          "base_uri": "https://localhost:8080/",
          "height": 347
        },
        "id": "VGASYRIpKVtJ",
        "outputId": "790444f9-4cf5-4819-906e-fee005b028c3"
      },
      "source": [
        "print(f'Unfreezing model body')\n",
        "learn.unfreeze()\n",
        "enumerate_params(learn)\n",
        "learn.lr_find()"
      ],
      "execution_count": 39,
      "outputs": [
        {
          "output_type": "stream",
          "text": [
            "Unfreezing model body\n",
            "11,968,576 total parameters.\n",
            "11,968,576 training parameters.\n"
          ],
          "name": "stdout"
        },
        {
          "output_type": "display_data",
          "data": {
            "text/html": [
              ""
            ],
            "text/plain": [
              "<IPython.core.display.HTML object>"
            ]
          },
          "metadata": {
            "tags": []
          }
        },
        {
          "output_type": "execute_result",
          "data": {
            "text/plain": [
              "SuggestedLRs(lr_min=1.9054606673307718e-05, lr_steep=7.585775847473997e-07)"
            ]
          },
          "metadata": {
            "tags": []
          },
          "execution_count": 39
        },
        {
          "output_type": "display_data",
          "data": {
            "image/png": "[encoded data removed]",
            "text/plain": [
              "<Figure size 432x288 with 1 Axes>"
            ]
          },
          "metadata": {
            "tags": [],
            "needs_background": "light"
          }
        }
      ]
    },
    {
      "cell_type": "code",
      "metadata": {
        "colab": {
          "base_uri": "https://localhost:8080/",
          "height": 598
        },
        "id": "BvmTMYCTKVtJ",
        "outputId": "47844eeb-1bd3-456c-eebb-fbda9dfbd305"
      },
      "source": [
        "learn.fit_one_cycle(10, lr_max=slice(1e-5, 1e-4))\n",
        "learn.save('stage-1-quickresnet18')"
      ],
      "execution_count": 40,
      "outputs": [
        {
          "output_type": "display_data",
          "data": {
            "text/html": [
              "<table border=\"1\" class=\"dataframe\">\n",
              "  <thead>\n",
              "    <tr style=\"text-align: left;\">\n",
              "      <th>epoch</th>\n",
              "      <th>train_loss</th>\n",
              "      <th>valid_loss</th>\n",
              "      <th>accuracy</th>\n",
              "      <th>top_k_accuracy</th>\n",
              "      <th>time</th>\n",
              "    </tr>\n",
              "  </thead>\n",
              "  <tbody>\n",
              "    <tr>\n",
              "      <td>0</td>\n",
              "      <td>1.253325</td>\n",
              "      <td>1.872273</td>\n",
              "      <td>0.550074</td>\n",
              "      <td>0.804727</td>\n",
              "      <td>01:04</td>\n",
              "    </tr>\n",
              "    <tr>\n",
              "      <td>1</td>\n",
              "      <td>1.225031</td>\n",
              "      <td>1.856861</td>\n",
              "      <td>0.557755</td>\n",
              "      <td>0.807090</td>\n",
              "      <td>01:04</td>\n",
              "    </tr>\n",
              "    <tr>\n",
              "      <td>2</td>\n",
              "      <td>1.224061</td>\n",
              "      <td>1.837848</td>\n",
              "      <td>0.558936</td>\n",
              "      <td>0.809749</td>\n",
              "      <td>01:04</td>\n",
              "    </tr>\n",
              "    <tr>\n",
              "      <td>3</td>\n",
              "      <td>1.142093</td>\n",
              "      <td>1.822689</td>\n",
              "      <td>0.561595</td>\n",
              "      <td>0.814771</td>\n",
              "      <td>01:04</td>\n",
              "    </tr>\n",
              "    <tr>\n",
              "      <td>4</td>\n",
              "      <td>1.083736</td>\n",
              "      <td>1.804391</td>\n",
              "      <td>0.566617</td>\n",
              "      <td>0.813589</td>\n",
              "      <td>01:04</td>\n",
              "    </tr>\n",
              "    <tr>\n",
              "      <td>5</td>\n",
              "      <td>1.039487</td>\n",
              "      <td>1.778013</td>\n",
              "      <td>0.571640</td>\n",
              "      <td>0.817430</td>\n",
              "      <td>01:04</td>\n",
              "    </tr>\n",
              "    <tr>\n",
              "      <td>6</td>\n",
              "      <td>0.952541</td>\n",
              "      <td>1.773764</td>\n",
              "      <td>0.569572</td>\n",
              "      <td>0.818316</td>\n",
              "      <td>01:04</td>\n",
              "    </tr>\n",
              "    <tr>\n",
              "      <td>7</td>\n",
              "      <td>0.944047</td>\n",
              "      <td>1.761585</td>\n",
              "      <td>0.576366</td>\n",
              "      <td>0.820679</td>\n",
              "      <td>01:04</td>\n",
              "    </tr>\n",
              "    <tr>\n",
              "      <td>8</td>\n",
              "      <td>0.908789</td>\n",
              "      <td>1.754593</td>\n",
              "      <td>0.572526</td>\n",
              "      <td>0.821566</td>\n",
              "      <td>01:03</td>\n",
              "    </tr>\n",
              "    <tr>\n",
              "      <td>9</td>\n",
              "      <td>0.904825</td>\n",
              "      <td>1.756453</td>\n",
              "      <td>0.575480</td>\n",
              "      <td>0.823043</td>\n",
              "      <td>01:04</td>\n",
              "    </tr>\n",
              "  </tbody>\n",
              "</table>"
            ],
            "text/plain": [
              "<IPython.core.display.HTML object>"
            ]
          },
          "metadata": {
            "tags": []
          }
        },
        {
          "output_type": "display_data",
          "data": {
            "image/png": "[encoded data removed]",
            "text/plain": [
              "<Figure size 432x288 with 1 Axes>"
            ]
          },
          "metadata": {
            "tags": []
          }
        },
        {
          "output_type": "execute_result",
          "data": {
            "text/plain": [
              "Path('/content/drive/My Drive/Houseplant Classifier/Models/stage-1-quickresnet18.pth')"
            ]
          },
          "metadata": {
            "tags": []
          },
          "execution_count": 40
        }
      ]
    },
    {
      "cell_type": "markdown",
      "metadata": {
        "id": "yria6Xw9YSsV"
      },
      "source": [
        "### Quick ResNet34"
      ]
    },
    {
      "cell_type": "code",
      "metadata": {
        "id": "B98QGFQxYZQT",
        "colab": {
          "base_uri": "https://localhost:8080/",
          "height": 195,
          "referenced_widgets": [
            "f905c1296d5843c2a727cfc0db1cd6ae",
            "ba8b18a2a1bf4c3e9ba39469fa47f647",
            "1018ef7278f84a47b67485e25fe81901",
            "a66cd6e2e4784709b330b64da5d95be7",
            "caf9d5fd2a644916a8def17ed58499ad",
            "768093a9a5534a18b4e056397a80ad2f",
            "ab40aaf7acbd44e4a1b0a7ff4bb33485",
            "4030ea99c5904f3aae0b0a9fb882bb0a"
          ]
        },
        "outputId": "24d1e692-7b28-426b-885d-4afeeadc86bf"
      },
      "source": [
        "learn = create_cnn_learner(pct_images=0.25, \n",
        "                           deterministic=True, \n",
        "                           size=224, \n",
        "                           img_path ='/content/plant_images_database_manualcleanedlosses10/', \n",
        "                           split_path = '/content/plant_image_database/',\n",
        "                           log_name = 'quickbaseline.csv')"
      ],
      "execution_count": 21,
      "outputs": [
        {
          "output_type": "stream",
          "text": [
            "Random state set:101, cuda used: True\n",
            "Split Path defined, preparing pseudo stratified split.\n",
            "Creating path:label dataframe from /content/plant_image_database/, using 100.00% of the images (77700 images.) Shuffle = False.\n",
            "Preparing stratified 5 fold split, random state is 101. Returning fold 0.\n",
            "Creating path:label dataframe from /content/plant_images_database_manualcleanedlosses10/, using 25.00% of the images (16940 images.) Shuffle = False.\n",
            "We have 517 classes, with a training set of size 13555, and a validation set of size 3385\n",
            "The main split has 80.00% training data with 518 classes, the reduced split has 80.02 % training data, with 517 classes.\n"
          ],
          "name": "stdout"
        },
        {
          "output_type": "stream",
          "text": [
            "Downloading: \"https://download.pytorch.org/models/resnet34-333f7ec4.pth\" to /root/.cache/torch/hub/checkpoints/resnet34-333f7ec4.pth\n"
          ],
          "name": "stderr"
        },
        {
          "output_type": "display_data",
          "data": {
            "application/vnd.jupyter.widget-view+json": {
              "model_id": "f905c1296d5843c2a727cfc0db1cd6ae",
              "version_minor": 0,
              "version_major": 2
            },
            "text/plain": [
              "HBox(children=(FloatProgress(value=0.0, max=87306240.0), HTML(value='')))"
            ]
          },
          "metadata": {
            "tags": []
          }
        },
        {
          "output_type": "stream",
          "text": [
            "\n"
          ],
          "name": "stdout"
        }
      ]
    },
    {
      "cell_type": "code",
      "metadata": {
        "id": "gNwYjhQFYbrN",
        "colab": {
          "base_uri": "https://localhost:8080/",
          "height": 348
        },
        "outputId": "1e809433-6e3f-4911-9e50-abdb0c7a531e"
      },
      "source": [
        "print(f'Freezing model body')\n",
        "learn.freeze()\n",
        "enumerate_params(learn)\n",
        "learn.lr_find()"
      ],
      "execution_count": 22,
      "outputs": [
        {
          "output_type": "stream",
          "text": [
            "Freezing model body\n",
            "22,076,736 total parameters.\n",
            "809,088 training parameters.\n"
          ],
          "name": "stdout"
        },
        {
          "output_type": "display_data",
          "data": {
            "text/html": [
              ""
            ],
            "text/plain": [
              "<IPython.core.display.HTML object>"
            ]
          },
          "metadata": {
            "tags": []
          }
        },
        {
          "output_type": "execute_result",
          "data": {
            "text/plain": [
              "SuggestedLRs(lr_min=0.004786301031708717, lr_steep=0.009120108559727669)"
            ]
          },
          "metadata": {
            "tags": []
          },
          "execution_count": 22
        },
        {
          "output_type": "display_data",
          "data": {
            "image/png": "[encoded data removed]",
            "text/plain": [
              "<Figure size 432x288 with 1 Axes>"
            ]
          },
          "metadata": {
            "tags": [],
            "needs_background": "light"
          }
        }
      ]
    },
    {
      "cell_type": "code",
      "metadata": {
        "id": "x7Y44fx609N0",
        "colab": {
          "base_uri": "https://localhost:8080/",
          "height": 598
        },
        "outputId": "5ffa4cff-dfee-41d1-fc0c-825bf77451fb"
      },
      "source": [
        "learn.fit_one_cycle(10, 1e-02)\n",
        "learn.save('stage-1-quickbaseline')"
      ],
      "execution_count": 23,
      "outputs": [
        {
          "output_type": "display_data",
          "data": {
            "text/html": [
              "<table border=\"1\" class=\"dataframe\">\n",
              "  <thead>\n",
              "    <tr style=\"text-align: left;\">\n",
              "      <th>epoch</th>\n",
              "      <th>train_loss</th>\n",
              "      <th>valid_loss</th>\n",
              "      <th>accuracy</th>\n",
              "      <th>top_k_accuracy</th>\n",
              "      <th>time</th>\n",
              "    </tr>\n",
              "  </thead>\n",
              "  <tbody>\n",
              "    <tr>\n",
              "      <td>0</td>\n",
              "      <td>5.380674</td>\n",
              "      <td>3.862144</td>\n",
              "      <td>0.215953</td>\n",
              "      <td>0.441654</td>\n",
              "      <td>01:06</td>\n",
              "    </tr>\n",
              "    <tr>\n",
              "      <td>1</td>\n",
              "      <td>4.164528</td>\n",
              "      <td>3.812981</td>\n",
              "      <td>0.214771</td>\n",
              "      <td>0.472378</td>\n",
              "      <td>01:07</td>\n",
              "    </tr>\n",
              "    <tr>\n",
              "      <td>2</td>\n",
              "      <td>3.354764</td>\n",
              "      <td>3.130136</td>\n",
              "      <td>0.312260</td>\n",
              "      <td>0.587888</td>\n",
              "      <td>01:06</td>\n",
              "    </tr>\n",
              "    <tr>\n",
              "      <td>3</td>\n",
              "      <td>2.974951</td>\n",
              "      <td>2.825325</td>\n",
              "      <td>0.353028</td>\n",
              "      <td>0.641064</td>\n",
              "      <td>01:07</td>\n",
              "    </tr>\n",
              "    <tr>\n",
              "      <td>4</td>\n",
              "      <td>2.588697</td>\n",
              "      <td>2.559198</td>\n",
              "      <td>0.407976</td>\n",
              "      <td>0.688626</td>\n",
              "      <td>01:07</td>\n",
              "    </tr>\n",
              "    <tr>\n",
              "      <td>5</td>\n",
              "      <td>2.224540</td>\n",
              "      <td>2.248531</td>\n",
              "      <td>0.468242</td>\n",
              "      <td>0.744756</td>\n",
              "      <td>01:06</td>\n",
              "    </tr>\n",
              "    <tr>\n",
              "      <td>6</td>\n",
              "      <td>1.860929</td>\n",
              "      <td>1.997348</td>\n",
              "      <td>0.512260</td>\n",
              "      <td>0.789069</td>\n",
              "      <td>01:07</td>\n",
              "    </tr>\n",
              "    <tr>\n",
              "      <td>7</td>\n",
              "      <td>1.524130</td>\n",
              "      <td>1.861627</td>\n",
              "      <td>0.552142</td>\n",
              "      <td>0.813589</td>\n",
              "      <td>01:06</td>\n",
              "    </tr>\n",
              "    <tr>\n",
              "      <td>8</td>\n",
              "      <td>1.315566</td>\n",
              "      <td>1.790887</td>\n",
              "      <td>0.565140</td>\n",
              "      <td>0.818316</td>\n",
              "      <td>01:06</td>\n",
              "    </tr>\n",
              "    <tr>\n",
              "      <td>9</td>\n",
              "      <td>1.108867</td>\n",
              "      <td>1.784061</td>\n",
              "      <td>0.572230</td>\n",
              "      <td>0.823929</td>\n",
              "      <td>01:06</td>\n",
              "    </tr>\n",
              "  </tbody>\n",
              "</table>"
            ],
            "text/plain": [
              "<IPython.core.display.HTML object>"
            ]
          },
          "metadata": {
            "tags": []
          }
        },
        {
          "output_type": "display_data",
          "data": {
            "image/png": "[encoded data removed]",
            "text/plain": [
              "<Figure size 432x288 with 1 Axes>"
            ]
          },
          "metadata": {
            "tags": []
          }
        },
        {
          "output_type": "execute_result",
          "data": {
            "text/plain": [
              "Path('/content/drive/My Drive/Houseplant Classifier/Models/stage-1-quickbaseline.pth')"
            ]
          },
          "metadata": {
            "tags": []
          },
          "execution_count": 23
        }
      ]
    },
    {
      "cell_type": "code",
      "metadata": {
        "id": "RAzF_41TZUlM",
        "colab": {
          "base_uri": "https://localhost:8080/",
          "height": 347
        },
        "outputId": "9aa61cd1-4509-47e8-83e6-aae9e2a7fbec"
      },
      "source": [
        "print(f'Unfreezing model body')\n",
        "learn.unfreeze()\n",
        "enumerate_params(learn)\n",
        "learn.lr_find()"
      ],
      "execution_count": 24,
      "outputs": [
        {
          "output_type": "stream",
          "text": [
            "Unfreezing model body\n",
            "22,076,736 total parameters.\n",
            "22,076,736 training parameters.\n"
          ],
          "name": "stdout"
        },
        {
          "output_type": "display_data",
          "data": {
            "text/html": [
              ""
            ],
            "text/plain": [
              "<IPython.core.display.HTML object>"
            ]
          },
          "metadata": {
            "tags": []
          }
        },
        {
          "output_type": "execute_result",
          "data": {
            "text/plain": [
              "SuggestedLRs(lr_min=4.365158383734525e-06, lr_steep=1.3182567499825382e-06)"
            ]
          },
          "metadata": {
            "tags": []
          },
          "execution_count": 24
        },
        {
          "output_type": "display_data",
          "data": {
            "image/png": "[encoded data removed]",
            "text/plain": [
              "<Figure size 432x288 with 1 Axes>"
            ]
          },
          "metadata": {
            "tags": [],
            "needs_background": "light"
          }
        }
      ]
    },
    {
      "cell_type": "code",
      "metadata": {
        "id": "kstFqRqvZXTp",
        "colab": {
          "base_uri": "https://localhost:8080/",
          "height": 598
        },
        "outputId": "e412abb5-5960-4bb6-c1f6-912b5d47845f"
      },
      "source": [
        "learn.fit_one_cycle(10, lr_max=slice(1e-5, 1e-4))\n",
        "learn.save('stage-2-quickbaseline')"
      ],
      "execution_count": 25,
      "outputs": [
        {
          "output_type": "display_data",
          "data": {
            "text/html": [
              "<table border=\"1\" class=\"dataframe\">\n",
              "  <thead>\n",
              "    <tr style=\"text-align: left;\">\n",
              "      <th>epoch</th>\n",
              "      <th>train_loss</th>\n",
              "      <th>valid_loss</th>\n",
              "      <th>accuracy</th>\n",
              "      <th>top_k_accuracy</th>\n",
              "      <th>time</th>\n",
              "    </tr>\n",
              "  </thead>\n",
              "  <tbody>\n",
              "    <tr>\n",
              "      <td>0</td>\n",
              "      <td>1.169512</td>\n",
              "      <td>1.779867</td>\n",
              "      <td>0.571640</td>\n",
              "      <td>0.819793</td>\n",
              "      <td>01:09</td>\n",
              "    </tr>\n",
              "    <tr>\n",
              "      <td>1</td>\n",
              "      <td>1.170363</td>\n",
              "      <td>1.783885</td>\n",
              "      <td>0.569867</td>\n",
              "      <td>0.821270</td>\n",
              "      <td>01:08</td>\n",
              "    </tr>\n",
              "    <tr>\n",
              "      <td>2</td>\n",
              "      <td>1.154361</td>\n",
              "      <td>1.760865</td>\n",
              "      <td>0.573412</td>\n",
              "      <td>0.825406</td>\n",
              "      <td>01:09</td>\n",
              "    </tr>\n",
              "    <tr>\n",
              "      <td>3</td>\n",
              "      <td>1.079567</td>\n",
              "      <td>1.747816</td>\n",
              "      <td>0.580207</td>\n",
              "      <td>0.825702</td>\n",
              "      <td>01:08</td>\n",
              "    </tr>\n",
              "    <tr>\n",
              "      <td>4</td>\n",
              "      <td>0.999833</td>\n",
              "      <td>1.719440</td>\n",
              "      <td>0.581388</td>\n",
              "      <td>0.827474</td>\n",
              "      <td>01:08</td>\n",
              "    </tr>\n",
              "    <tr>\n",
              "      <td>5</td>\n",
              "      <td>0.910574</td>\n",
              "      <td>1.690382</td>\n",
              "      <td>0.584343</td>\n",
              "      <td>0.831019</td>\n",
              "      <td>01:08</td>\n",
              "    </tr>\n",
              "    <tr>\n",
              "      <td>6</td>\n",
              "      <td>0.852735</td>\n",
              "      <td>1.679179</td>\n",
              "      <td>0.594682</td>\n",
              "      <td>0.835451</td>\n",
              "      <td>01:07</td>\n",
              "    </tr>\n",
              "    <tr>\n",
              "      <td>7</td>\n",
              "      <td>0.820240</td>\n",
              "      <td>1.662708</td>\n",
              "      <td>0.598818</td>\n",
              "      <td>0.839586</td>\n",
              "      <td>01:08</td>\n",
              "    </tr>\n",
              "    <tr>\n",
              "      <td>8</td>\n",
              "      <td>0.768614</td>\n",
              "      <td>1.655415</td>\n",
              "      <td>0.597341</td>\n",
              "      <td>0.839586</td>\n",
              "      <td>01:08</td>\n",
              "    </tr>\n",
              "    <tr>\n",
              "      <td>9</td>\n",
              "      <td>0.762076</td>\n",
              "      <td>1.656761</td>\n",
              "      <td>0.597046</td>\n",
              "      <td>0.840177</td>\n",
              "      <td>01:08</td>\n",
              "    </tr>\n",
              "  </tbody>\n",
              "</table>"
            ],
            "text/plain": [
              "<IPython.core.display.HTML object>"
            ]
          },
          "metadata": {
            "tags": []
          }
        },
        {
          "output_type": "display_data",
          "data": {
            "image/png": "[encoded data removed]",
            "text/plain": [
              "<Figure size 432x288 with 1 Axes>"
            ]
          },
          "metadata": {
            "tags": []
          }
        },
        {
          "output_type": "execute_result",
          "data": {
            "text/plain": [
              "Path('/content/drive/My Drive/Houseplant Classifier/Models/stage-2-quickbaseline.pth')"
            ]
          },
          "metadata": {
            "tags": []
          },
          "execution_count": 25
        }
      ]
    },
    {
      "cell_type": "code",
      "metadata": {
        "id": "y9KCqjqc0rbo",
        "colab": {
          "base_uri": "https://localhost:8080/",
          "height": 598
        },
        "outputId": "daaa2425-e13d-42d7-9ecc-0efb74ead35f"
      },
      "source": [
        "learn.fit_one_cycle(10, lr_max=slice(1e-5, 1e-4))\n",
        "learn.save('stage-3-quickbaseline')"
      ],
      "execution_count": 26,
      "outputs": [
        {
          "output_type": "display_data",
          "data": {
            "text/html": [
              "<table border=\"1\" class=\"dataframe\">\n",
              "  <thead>\n",
              "    <tr style=\"text-align: left;\">\n",
              "      <th>epoch</th>\n",
              "      <th>train_loss</th>\n",
              "      <th>valid_loss</th>\n",
              "      <th>accuracy</th>\n",
              "      <th>top_k_accuracy</th>\n",
              "      <th>time</th>\n",
              "    </tr>\n",
              "  </thead>\n",
              "  <tbody>\n",
              "    <tr>\n",
              "      <td>0</td>\n",
              "      <td>0.789546</td>\n",
              "      <td>1.651657</td>\n",
              "      <td>0.595864</td>\n",
              "      <td>0.840177</td>\n",
              "      <td>01:08</td>\n",
              "    </tr>\n",
              "    <tr>\n",
              "      <td>1</td>\n",
              "      <td>0.822559</td>\n",
              "      <td>1.686037</td>\n",
              "      <td>0.591728</td>\n",
              "      <td>0.837814</td>\n",
              "      <td>01:07</td>\n",
              "    </tr>\n",
              "    <tr>\n",
              "      <td>2</td>\n",
              "      <td>0.830991</td>\n",
              "      <td>1.679663</td>\n",
              "      <td>0.593205</td>\n",
              "      <td>0.833087</td>\n",
              "      <td>01:07</td>\n",
              "    </tr>\n",
              "    <tr>\n",
              "      <td>3</td>\n",
              "      <td>0.796793</td>\n",
              "      <td>1.672298</td>\n",
              "      <td>0.597932</td>\n",
              "      <td>0.836041</td>\n",
              "      <td>01:06</td>\n",
              "    </tr>\n",
              "    <tr>\n",
              "      <td>4</td>\n",
              "      <td>0.744889</td>\n",
              "      <td>1.660933</td>\n",
              "      <td>0.598523</td>\n",
              "      <td>0.835451</td>\n",
              "      <td>01:07</td>\n",
              "    </tr>\n",
              "    <tr>\n",
              "      <td>5</td>\n",
              "      <td>0.709819</td>\n",
              "      <td>1.647272</td>\n",
              "      <td>0.600591</td>\n",
              "      <td>0.843722</td>\n",
              "      <td>01:07</td>\n",
              "    </tr>\n",
              "    <tr>\n",
              "      <td>6</td>\n",
              "      <td>0.655534</td>\n",
              "      <td>1.638553</td>\n",
              "      <td>0.600295</td>\n",
              "      <td>0.845199</td>\n",
              "      <td>01:07</td>\n",
              "    </tr>\n",
              "    <tr>\n",
              "      <td>7</td>\n",
              "      <td>0.598438</td>\n",
              "      <td>1.632686</td>\n",
              "      <td>0.605022</td>\n",
              "      <td>0.845790</td>\n",
              "      <td>01:08</td>\n",
              "    </tr>\n",
              "    <tr>\n",
              "      <td>8</td>\n",
              "      <td>0.588223</td>\n",
              "      <td>1.625510</td>\n",
              "      <td>0.605318</td>\n",
              "      <td>0.844904</td>\n",
              "      <td>01:07</td>\n",
              "    </tr>\n",
              "    <tr>\n",
              "      <td>9</td>\n",
              "      <td>0.579358</td>\n",
              "      <td>1.630201</td>\n",
              "      <td>0.607681</td>\n",
              "      <td>0.845199</td>\n",
              "      <td>01:08</td>\n",
              "    </tr>\n",
              "  </tbody>\n",
              "</table>"
            ],
            "text/plain": [
              "<IPython.core.display.HTML object>"
            ]
          },
          "metadata": {
            "tags": []
          }
        },
        {
          "output_type": "display_data",
          "data": {
            "image/png": "[encoded data removed]",
            "text/plain": [
              "<Figure size 432x288 with 1 Axes>"
            ]
          },
          "metadata": {
            "tags": []
          }
        },
        {
          "output_type": "execute_result",
          "data": {
            "text/plain": [
              "Path('/content/drive/My Drive/Houseplant Classifier/Models/stage-3-quickbaseline.pth')"
            ]
          },
          "metadata": {
            "tags": []
          },
          "execution_count": 26
        }
      ]
    },
    {
      "cell_type": "code",
      "metadata": {
        "id": "FID7XDVL0r6L",
        "colab": {
          "base_uri": "https://localhost:8080/",
          "height": 598
        },
        "outputId": "08f1b5b8-42e7-4378-f673-91c7f7f94958"
      },
      "source": [
        "learn.fit_one_cycle(10, lr_max=slice(1e-5, 1e-4))\n",
        "learn.save('stage-4-quickbaseline')"
      ],
      "execution_count": 27,
      "outputs": [
        {
          "output_type": "display_data",
          "data": {
            "text/html": [
              "<table border=\"1\" class=\"dataframe\">\n",
              "  <thead>\n",
              "    <tr style=\"text-align: left;\">\n",
              "      <th>epoch</th>\n",
              "      <th>train_loss</th>\n",
              "      <th>valid_loss</th>\n",
              "      <th>accuracy</th>\n",
              "      <th>top_k_accuracy</th>\n",
              "      <th>time</th>\n",
              "    </tr>\n",
              "  </thead>\n",
              "  <tbody>\n",
              "    <tr>\n",
              "      <td>0</td>\n",
              "      <td>0.581178</td>\n",
              "      <td>1.629941</td>\n",
              "      <td>0.602068</td>\n",
              "      <td>0.844609</td>\n",
              "      <td>01:07</td>\n",
              "    </tr>\n",
              "    <tr>\n",
              "      <td>1</td>\n",
              "      <td>0.611442</td>\n",
              "      <td>1.659820</td>\n",
              "      <td>0.600886</td>\n",
              "      <td>0.840473</td>\n",
              "      <td>01:07</td>\n",
              "    </tr>\n",
              "    <tr>\n",
              "      <td>2</td>\n",
              "      <td>0.665524</td>\n",
              "      <td>1.693376</td>\n",
              "      <td>0.591433</td>\n",
              "      <td>0.838405</td>\n",
              "      <td>01:07</td>\n",
              "    </tr>\n",
              "    <tr>\n",
              "      <td>3</td>\n",
              "      <td>0.617467</td>\n",
              "      <td>1.680925</td>\n",
              "      <td>0.592614</td>\n",
              "      <td>0.839586</td>\n",
              "      <td>01:07</td>\n",
              "    </tr>\n",
              "    <tr>\n",
              "      <td>4</td>\n",
              "      <td>0.578127</td>\n",
              "      <td>1.658810</td>\n",
              "      <td>0.604136</td>\n",
              "      <td>0.847858</td>\n",
              "      <td>01:07</td>\n",
              "    </tr>\n",
              "    <tr>\n",
              "      <td>5</td>\n",
              "      <td>0.510131</td>\n",
              "      <td>1.644334</td>\n",
              "      <td>0.604136</td>\n",
              "      <td>0.842245</td>\n",
              "      <td>01:08</td>\n",
              "    </tr>\n",
              "    <tr>\n",
              "      <td>6</td>\n",
              "      <td>0.472106</td>\n",
              "      <td>1.641933</td>\n",
              "      <td>0.604727</td>\n",
              "      <td>0.846972</td>\n",
              "      <td>01:07</td>\n",
              "    </tr>\n",
              "    <tr>\n",
              "      <td>7</td>\n",
              "      <td>0.442126</td>\n",
              "      <td>1.625005</td>\n",
              "      <td>0.607386</td>\n",
              "      <td>0.850222</td>\n",
              "      <td>01:07</td>\n",
              "    </tr>\n",
              "    <tr>\n",
              "      <td>8</td>\n",
              "      <td>0.424646</td>\n",
              "      <td>1.624912</td>\n",
              "      <td>0.609749</td>\n",
              "      <td>0.848744</td>\n",
              "      <td>01:08</td>\n",
              "    </tr>\n",
              "    <tr>\n",
              "      <td>9</td>\n",
              "      <td>0.420558</td>\n",
              "      <td>1.619842</td>\n",
              "      <td>0.610931</td>\n",
              "      <td>0.847563</td>\n",
              "      <td>01:07</td>\n",
              "    </tr>\n",
              "  </tbody>\n",
              "</table>"
            ],
            "text/plain": [
              "<IPython.core.display.HTML object>"
            ]
          },
          "metadata": {
            "tags": []
          }
        },
        {
          "output_type": "display_data",
          "data": {
            "image/png": "[encoded data removed]",
            "text/plain": [
              "<Figure size 432x288 with 1 Axes>"
            ]
          },
          "metadata": {
            "tags": []
          }
        },
        {
          "output_type": "execute_result",
          "data": {
            "text/plain": [
              "Path('/content/drive/My Drive/Houseplant Classifier/Models/stage-4-quickbaseline.pth')"
            ]
          },
          "metadata": {
            "tags": []
          },
          "execution_count": 27
        }
      ]
    },
    {
      "cell_type": "markdown",
      "metadata": {
        "id": "yM-L6qeKxNyz"
      },
      "source": [
        "### Quick Resnet50"
      ]
    },
    {
      "cell_type": "code",
      "metadata": {
        "id": "tbxxmj6ExQtD",
        "colab": {
          "base_uri": "https://localhost:8080/",
          "height": 195,
          "referenced_widgets": [
            "30ce680fbe41450994a2c0b0fccee4e8",
            "7661efa93f8442118e81f2e6acbe92b1",
            "c2ffc0faa794413789d87336ca4c3ad7",
            "8a9b3aa0e7174f47aa2afa91e2316d46",
            "4e5f1fea739b4524b1bb4df143d6cb81",
            "8b0172e5b23c423388e692dc987c9e7e",
            "aef4f73d588c4bdbb35412c249251d85",
            "3260f3cf518349c694156b800d26e0a3"
          ]
        },
        "outputId": "90a1466d-17b6-40c1-ec3e-411790269e54"
      },
      "source": [
        "learn = create_cnn_learner(pct_images=0.25, \n",
        "                           deterministic=True, \n",
        "                           size=224, \n",
        "                           img_path ='/content/plant_images_database_manualcleanedlosses10/', \n",
        "                           split_path = '/content/plant_image_database/',\n",
        "                           log_name = 'quickresnet50.csv', \n",
        "                           arch='resnet50')"
      ],
      "execution_count": null,
      "outputs": [
        {
          "output_type": "stream",
          "text": [
            "Random state set:101, cuda used: True\n",
            "Split Path defined, preparing pseudo stratified split.\n",
            "Creating path:label dataframe from /content/plant_image_database/, using 100.00% of the images (77700 images.) Shuffle = False.\n",
            "Preparing stratified 5 fold split, random state is 101. Returning fold 0.\n",
            "Creating path:label dataframe from /content/plant_images_database_manualcleanedlosses10/, using 25.00% of the images (16940 images.) Shuffle = False.\n",
            "We have 517 classes, with a training set of size 13555, and a validation set of size 3385\n",
            "The main split has 80.00% training data with 518 classes, the reduced split has 80.02 % training data, with 517 classes.\n"
          ],
          "name": "stdout"
        },
        {
          "output_type": "stream",
          "text": [
            "Downloading: \"https://download.pytorch.org/models/resnet50-19c8e357.pth\" to /root/.cache/torch/hub/checkpoints/resnet50-19c8e357.pth\n"
          ],
          "name": "stderr"
        },
        {
          "output_type": "display_data",
          "data": {
            "application/vnd.jupyter.widget-view+json": {
              "model_id": "30ce680fbe41450994a2c0b0fccee4e8",
              "version_minor": 0,
              "version_major": 2
            },
            "text/plain": [
              "HBox(children=(FloatProgress(value=0.0, max=102502400.0), HTML(value='')))"
            ]
          },
          "metadata": {
            "tags": []
          }
        },
        {
          "output_type": "stream",
          "text": [
            "\n"
          ],
          "name": "stdout"
        }
      ]
    },
    {
      "cell_type": "code",
      "metadata": {
        "id": "ibn-IIusxZpO",
        "colab": {
          "base_uri": "https://localhost:8080/",
          "height": 351
        },
        "outputId": "1491785b-d330-4089-b587-63aaa26cf799"
      },
      "source": [
        "print(f'Freezing model body')\n",
        "learn.freeze()\n",
        "enumerate_params(learn)\n",
        "learn.lr_find()"
      ],
      "execution_count": null,
      "outputs": [
        {
          "output_type": "stream",
          "text": [
            "Freezing model body\n",
            "25,879,104 total parameters.\n",
            "2,424,192 training parameters.\n"
          ],
          "name": "stdout"
        },
        {
          "output_type": "display_data",
          "data": {
            "text/html": [
              ""
            ],
            "text/plain": [
              "<IPython.core.display.HTML object>"
            ]
          },
          "metadata": {
            "tags": []
          }
        },
        {
          "output_type": "execute_result",
          "data": {
            "text/plain": [
              "SuggestedLRs(lr_min=0.004786301031708717, lr_steep=0.010964781977236271)"
            ]
          },
          "metadata": {
            "tags": []
          },
          "execution_count": 34
        },
        {
          "output_type": "display_data",
          "data": {
            "image/png": "[encoded data removed]",
            "text/plain": [
              "<Figure size 432x288 with 1 Axes>"
            ]
          },
          "metadata": {
            "tags": [],
            "needs_background": "light"
          }
        }
      ]
    },
    {
      "cell_type": "code",
      "metadata": {
        "id": "Jcjmz2E5xb_d",
        "colab": {
          "base_uri": "https://localhost:8080/",
          "height": 624
        },
        "outputId": "2039bde1-b39b-4353-9882-d320356c872e"
      },
      "source": [
        "learn.fit_one_cycle(10, 1e-02)\n",
        "learn.save('stage-1-quick-resnet50')"
      ],
      "execution_count": null,
      "outputs": [
        {
          "output_type": "display_data",
          "data": {
            "text/html": [
              "<table border=\"1\" class=\"dataframe\">\n",
              "  <thead>\n",
              "    <tr style=\"text-align: left;\">\n",
              "      <th>epoch</th>\n",
              "      <th>train_loss</th>\n",
              "      <th>valid_loss</th>\n",
              "      <th>accuracy</th>\n",
              "      <th>top_k_accuracy</th>\n",
              "      <th>time</th>\n",
              "    </tr>\n",
              "  </thead>\n",
              "  <tbody>\n",
              "    <tr>\n",
              "      <td>0</td>\n",
              "      <td>4.841085</td>\n",
              "      <td>3.629766</td>\n",
              "      <td>0.254653</td>\n",
              "      <td>0.501329</td>\n",
              "      <td>01:07</td>\n",
              "    </tr>\n",
              "    <tr>\n",
              "      <td>1</td>\n",
              "      <td>4.102129</td>\n",
              "      <td>3.951435</td>\n",
              "      <td>0.209453</td>\n",
              "      <td>0.459380</td>\n",
              "      <td>01:07</td>\n",
              "    </tr>\n",
              "    <tr>\n",
              "      <td>2</td>\n",
              "      <td>3.266984</td>\n",
              "      <td>3.014024</td>\n",
              "      <td>0.332939</td>\n",
              "      <td>0.606499</td>\n",
              "      <td>01:07</td>\n",
              "    </tr>\n",
              "    <tr>\n",
              "      <td>3</td>\n",
              "      <td>2.838333</td>\n",
              "      <td>3.158679</td>\n",
              "      <td>0.304284</td>\n",
              "      <td>0.593501</td>\n",
              "      <td>01:08</td>\n",
              "    </tr>\n",
              "    <tr>\n",
              "      <td>4</td>\n",
              "      <td>2.489719</td>\n",
              "      <td>2.522846</td>\n",
              "      <td>0.404136</td>\n",
              "      <td>0.703397</td>\n",
              "      <td>01:07</td>\n",
              "    </tr>\n",
              "    <tr>\n",
              "      <td>5</td>\n",
              "      <td>2.056407</td>\n",
              "      <td>2.154622</td>\n",
              "      <td>0.481832</td>\n",
              "      <td>0.761300</td>\n",
              "      <td>01:08</td>\n",
              "    </tr>\n",
              "    <tr>\n",
              "      <td>6</td>\n",
              "      <td>1.621702</td>\n",
              "      <td>1.876814</td>\n",
              "      <td>0.532053</td>\n",
              "      <td>0.802068</td>\n",
              "      <td>01:08</td>\n",
              "    </tr>\n",
              "    <tr>\n",
              "      <td>7</td>\n",
              "      <td>1.248830</td>\n",
              "      <td>1.730972</td>\n",
              "      <td>0.570162</td>\n",
              "      <td>0.831905</td>\n",
              "      <td>01:08</td>\n",
              "    </tr>\n",
              "    <tr>\n",
              "      <td>8</td>\n",
              "      <td>0.998498</td>\n",
              "      <td>1.649505</td>\n",
              "      <td>0.594978</td>\n",
              "      <td>0.835155</td>\n",
              "      <td>01:08</td>\n",
              "    </tr>\n",
              "    <tr>\n",
              "      <td>9</td>\n",
              "      <td>0.845647</td>\n",
              "      <td>1.636713</td>\n",
              "      <td>0.597932</td>\n",
              "      <td>0.837223</td>\n",
              "      <td>01:08</td>\n",
              "    </tr>\n",
              "  </tbody>\n",
              "</table>"
            ],
            "text/plain": [
              "<IPython.core.display.HTML object>"
            ]
          },
          "metadata": {
            "tags": []
          }
        },
        {
          "output_type": "display_data",
          "data": {
            "image/png": "[encoded data removed]",
            "text/plain": [
              "<Figure size 432x288 with 1 Axes>"
            ]
          },
          "metadata": {
            "tags": []
          }
        },
        {
          "output_type": "execute_result",
          "data": {
            "text/plain": [
              "Path('/content/drive/My Drive/Houseplant Classifier/Models/stage-1-quick-resnet50.pth')"
            ]
          },
          "metadata": {
            "tags": []
          },
          "execution_count": 35
        }
      ]
    },
    {
      "cell_type": "code",
      "metadata": {
        "id": "x-W7jxn6xgwm",
        "colab": {
          "base_uri": "https://localhost:8080/",
          "height": 351
        },
        "outputId": "d430b586-862f-4ab6-c71e-e9724c392c13"
      },
      "source": [
        "print(f'Unfreezing model body')\n",
        "learn.unfreeze()\n",
        "enumerate_params(learn)\n",
        "learn.lr_find()"
      ],
      "execution_count": null,
      "outputs": [
        {
          "output_type": "stream",
          "text": [
            "Unfreezing model body\n",
            "25,879,104 total parameters.\n",
            "25,879,104 training parameters.\n"
          ],
          "name": "stdout"
        },
        {
          "output_type": "display_data",
          "data": {
            "text/html": [
              ""
            ],
            "text/plain": [
              "<IPython.core.display.HTML object>"
            ]
          },
          "metadata": {
            "tags": []
          }
        },
        {
          "output_type": "execute_result",
          "data": {
            "text/plain": [
              "SuggestedLRs(lr_min=4.365158383734525e-06, lr_steep=9.12010818865383e-07)"
            ]
          },
          "metadata": {
            "tags": []
          },
          "execution_count": 36
        },
        {
          "output_type": "display_data",
          "data": {
            "image/png": "[encoded data removed]",
            "text/plain": [
              "<Figure size 432x288 with 1 Axes>"
            ]
          },
          "metadata": {
            "tags": [],
            "needs_background": "light"
          }
        }
      ]
    },
    {
      "cell_type": "code",
      "metadata": {
        "id": "qslUuOTHxhFX",
        "colab": {
          "base_uri": "https://localhost:8080/",
          "height": 624
        },
        "outputId": "def28a71-4649-4c2c-f994-9a4851b63ec3"
      },
      "source": [
        "learn.fit_one_cycle(10, lr_max=slice(1e-5, 1e-4))\n",
        "learn.save('stage-2-quick-resnet50')"
      ],
      "execution_count": null,
      "outputs": [
        {
          "output_type": "display_data",
          "data": {
            "text/html": [
              "<table border=\"1\" class=\"dataframe\">\n",
              "  <thead>\n",
              "    <tr style=\"text-align: left;\">\n",
              "      <th>epoch</th>\n",
              "      <th>train_loss</th>\n",
              "      <th>valid_loss</th>\n",
              "      <th>accuracy</th>\n",
              "      <th>top_k_accuracy</th>\n",
              "      <th>time</th>\n",
              "    </tr>\n",
              "  </thead>\n",
              "  <tbody>\n",
              "    <tr>\n",
              "      <td>0</td>\n",
              "      <td>0.861795</td>\n",
              "      <td>1.638012</td>\n",
              "      <td>0.593205</td>\n",
              "      <td>0.842836</td>\n",
              "      <td>01:20</td>\n",
              "    </tr>\n",
              "    <tr>\n",
              "      <td>1</td>\n",
              "      <td>0.877957</td>\n",
              "      <td>1.643481</td>\n",
              "      <td>0.593501</td>\n",
              "      <td>0.844609</td>\n",
              "      <td>01:20</td>\n",
              "    </tr>\n",
              "    <tr>\n",
              "      <td>2</td>\n",
              "      <td>0.872858</td>\n",
              "      <td>1.640017</td>\n",
              "      <td>0.591728</td>\n",
              "      <td>0.844904</td>\n",
              "      <td>01:21</td>\n",
              "    </tr>\n",
              "    <tr>\n",
              "      <td>3</td>\n",
              "      <td>0.818900</td>\n",
              "      <td>1.614497</td>\n",
              "      <td>0.602068</td>\n",
              "      <td>0.845495</td>\n",
              "      <td>01:21</td>\n",
              "    </tr>\n",
              "    <tr>\n",
              "      <td>4</td>\n",
              "      <td>0.737809</td>\n",
              "      <td>1.597066</td>\n",
              "      <td>0.605318</td>\n",
              "      <td>0.849926</td>\n",
              "      <td>01:21</td>\n",
              "    </tr>\n",
              "    <tr>\n",
              "      <td>5</td>\n",
              "      <td>0.672943</td>\n",
              "      <td>1.575761</td>\n",
              "      <td>0.608863</td>\n",
              "      <td>0.853176</td>\n",
              "      <td>01:21</td>\n",
              "    </tr>\n",
              "    <tr>\n",
              "      <td>6</td>\n",
              "      <td>0.623661</td>\n",
              "      <td>1.571752</td>\n",
              "      <td>0.611817</td>\n",
              "      <td>0.854357</td>\n",
              "      <td>01:21</td>\n",
              "    </tr>\n",
              "    <tr>\n",
              "      <td>7</td>\n",
              "      <td>0.568811</td>\n",
              "      <td>1.560181</td>\n",
              "      <td>0.615066</td>\n",
              "      <td>0.854653</td>\n",
              "      <td>01:21</td>\n",
              "    </tr>\n",
              "    <tr>\n",
              "      <td>8</td>\n",
              "      <td>0.539619</td>\n",
              "      <td>1.553146</td>\n",
              "      <td>0.613294</td>\n",
              "      <td>0.855539</td>\n",
              "      <td>01:21</td>\n",
              "    </tr>\n",
              "    <tr>\n",
              "      <td>9</td>\n",
              "      <td>0.527328</td>\n",
              "      <td>1.552151</td>\n",
              "      <td>0.613589</td>\n",
              "      <td>0.858198</td>\n",
              "      <td>01:21</td>\n",
              "    </tr>\n",
              "  </tbody>\n",
              "</table>"
            ],
            "text/plain": [
              "<IPython.core.display.HTML object>"
            ]
          },
          "metadata": {
            "tags": []
          }
        },
        {
          "output_type": "display_data",
          "data": {
            "image/png": "[encoded data removed]",
            "text/plain": [
              "<Figure size 432x288 with 1 Axes>"
            ]
          },
          "metadata": {
            "tags": []
          }
        },
        {
          "output_type": "execute_result",
          "data": {
            "text/plain": [
              "Path('/content/drive/My Drive/Houseplant Classifier/Models/stage-2-quick-resnet50.pth')"
            ]
          },
          "metadata": {
            "tags": []
          },
          "execution_count": 37
        }
      ]
    },
    {
      "cell_type": "markdown",
      "metadata": {
        "id": "3Yxv3OiHsNLu"
      },
      "source": [
        "### Quick Resnet101"
      ]
    },
    {
      "cell_type": "code",
      "metadata": {
        "id": "JM5L0_YqysuA",
        "colab": {
          "base_uri": "https://localhost:8080/",
          "height": 202,
          "referenced_widgets": [
            "994a37c61c6940ce944e86d84cb733d0",
            "4b05eb2a453645299df5c710a9473c9f",
            "7f9a8a08590f49bfb9876894efeac631",
            "a61df80a742f47588588d4b831e2038e",
            "5d316a9117ac4d4f9bc2601f3d6c7a0e",
            "9241dcdd7631452991b1dd19f13e99b2",
            "f446329970734b9cb5bb31d59478bcdc",
            "b781e314d37d48ff908c9d9eac6a59cd"
          ]
        },
        "outputId": "30f5ba5c-e9c4-4984-8692-56aa9fef51e3"
      },
      "source": [
        "learn = create_cnn_learner(pct_images=0.25, \n",
        "                           deterministic=True, \n",
        "                           size=224, \n",
        "                           img_path ='/content/plant_images_database_manualcleanedlosses10/', \n",
        "                           split_path = '/content/plant_image_database/',\n",
        "                           log_name = 'quickresnet101.csv', \n",
        "                           arch='resnet101')"
      ],
      "execution_count": null,
      "outputs": [
        {
          "output_type": "stream",
          "text": [
            "Random state set:101, cuda used: True\n",
            "Split Path defined, preparing pseudo stratified split.\n",
            "Creating path:label dataframe from /content/plant_image_database/, using 100.00% of the images (77700 images.) Shuffle = False.\n",
            "Preparing stratified 5 fold split, random state is 101. Returning fold 0.\n",
            "Creating path:label dataframe from /content/plant_images_database_manualcleanedlosses10/, using 25.00% of the images (16940 images.) Shuffle = False.\n",
            "We have 517 classes, with a training set of size 13555, and a validation set of size 3385\n",
            "The main split has 80.00% training data with 518 classes, the reduced split has 80.02 % training data, with 517 classes.\n"
          ],
          "name": "stdout"
        },
        {
          "output_type": "stream",
          "text": [
            "Downloading: \"https://download.pytorch.org/models/resnet101-5d3b4d8f.pth\" to /root/.cache/torch/hub/checkpoints/resnet101-5d3b4d8f.pth\n"
          ],
          "name": "stderr"
        },
        {
          "output_type": "display_data",
          "data": {
            "application/vnd.jupyter.widget-view+json": {
              "model_id": "994a37c61c6940ce944e86d84cb733d0",
              "version_minor": 0,
              "version_major": 2
            },
            "text/plain": [
              "HBox(children=(FloatProgress(value=0.0, max=178728960.0), HTML(value='')))"
            ]
          },
          "metadata": {
            "tags": []
          }
        },
        {
          "output_type": "stream",
          "text": [
            "\n"
          ],
          "name": "stdout"
        }
      ]
    },
    {
      "cell_type": "code",
      "metadata": {
        "id": "0YTc9UAsywtK",
        "colab": {
          "base_uri": "https://localhost:8080/",
          "height": 351
        },
        "outputId": "8bee8916-365b-4e14-f709-098554712c59"
      },
      "source": [
        "print(f'Freezing model body')\n",
        "learn.freeze()\n",
        "enumerate_params(learn)\n",
        "learn.lr_find()"
      ],
      "execution_count": null,
      "outputs": [
        {
          "output_type": "stream",
          "text": [
            "Freezing model body\n",
            "44,871,232 total parameters.\n",
            "2,476,416 training parameters.\n"
          ],
          "name": "stdout"
        },
        {
          "output_type": "display_data",
          "data": {
            "text/html": [
              ""
            ],
            "text/plain": [
              "<IPython.core.display.HTML object>"
            ]
          },
          "metadata": {
            "tags": []
          }
        },
        {
          "output_type": "execute_result",
          "data": {
            "text/plain": [
              "SuggestedLRs(lr_min=0.004786301031708717, lr_steep=9.12010818865383e-07)"
            ]
          },
          "metadata": {
            "tags": []
          },
          "execution_count": 39
        },
        {
          "output_type": "display_data",
          "data": {
            "image/png": "[encoded data removed]",
            "text/plain": [
              "<Figure size 432x288 with 1 Axes>"
            ]
          },
          "metadata": {
            "tags": [],
            "needs_background": "light"
          }
        }
      ]
    },
    {
      "cell_type": "code",
      "metadata": {
        "id": "r5AZpFn8zQVF",
        "colab": {
          "base_uri": "https://localhost:8080/",
          "height": 624
        },
        "outputId": "67b55e2a-7478-4a1d-9e38-9e18efbf8162"
      },
      "source": [
        "learn.fit_one_cycle(10, 1e-02)\n",
        "learn.save('stage-1-quick-resnet101')"
      ],
      "execution_count": null,
      "outputs": [
        {
          "output_type": "display_data",
          "data": {
            "text/html": [
              "<table border=\"1\" class=\"dataframe\">\n",
              "  <thead>\n",
              "    <tr style=\"text-align: left;\">\n",
              "      <th>epoch</th>\n",
              "      <th>train_loss</th>\n",
              "      <th>valid_loss</th>\n",
              "      <th>accuracy</th>\n",
              "      <th>top_k_accuracy</th>\n",
              "      <th>time</th>\n",
              "    </tr>\n",
              "  </thead>\n",
              "  <tbody>\n",
              "    <tr>\n",
              "      <td>0</td>\n",
              "      <td>4.763552</td>\n",
              "      <td>3.647169</td>\n",
              "      <td>0.238109</td>\n",
              "      <td>0.481241</td>\n",
              "      <td>01:36</td>\n",
              "    </tr>\n",
              "    <tr>\n",
              "      <td>1</td>\n",
              "      <td>4.157120</td>\n",
              "      <td>4.194188</td>\n",
              "      <td>0.193796</td>\n",
              "      <td>0.440177</td>\n",
              "      <td>01:35</td>\n",
              "    </tr>\n",
              "    <tr>\n",
              "      <td>2</td>\n",
              "      <td>3.299127</td>\n",
              "      <td>3.108125</td>\n",
              "      <td>0.298966</td>\n",
              "      <td>0.584047</td>\n",
              "      <td>01:35</td>\n",
              "    </tr>\n",
              "    <tr>\n",
              "      <td>3</td>\n",
              "      <td>2.888129</td>\n",
              "      <td>2.976003</td>\n",
              "      <td>0.328508</td>\n",
              "      <td>0.624225</td>\n",
              "      <td>01:35</td>\n",
              "    </tr>\n",
              "    <tr>\n",
              "      <td>4</td>\n",
              "      <td>2.510884</td>\n",
              "      <td>2.631183</td>\n",
              "      <td>0.392614</td>\n",
              "      <td>0.684490</td>\n",
              "      <td>01:35</td>\n",
              "    </tr>\n",
              "    <tr>\n",
              "      <td>5</td>\n",
              "      <td>2.051521</td>\n",
              "      <td>2.157021</td>\n",
              "      <td>0.491876</td>\n",
              "      <td>0.762777</td>\n",
              "      <td>01:35</td>\n",
              "    </tr>\n",
              "    <tr>\n",
              "      <td>6</td>\n",
              "      <td>1.656881</td>\n",
              "      <td>1.986550</td>\n",
              "      <td>0.516691</td>\n",
              "      <td>0.793796</td>\n",
              "      <td>01:35</td>\n",
              "    </tr>\n",
              "    <tr>\n",
              "      <td>7</td>\n",
              "      <td>1.265091</td>\n",
              "      <td>1.732461</td>\n",
              "      <td>0.575185</td>\n",
              "      <td>0.831315</td>\n",
              "      <td>01:35</td>\n",
              "    </tr>\n",
              "    <tr>\n",
              "      <td>8</td>\n",
              "      <td>1.026240</td>\n",
              "      <td>1.644695</td>\n",
              "      <td>0.602659</td>\n",
              "      <td>0.844904</td>\n",
              "      <td>01:36</td>\n",
              "    </tr>\n",
              "    <tr>\n",
              "      <td>9</td>\n",
              "      <td>0.842179</td>\n",
              "      <td>1.630958</td>\n",
              "      <td>0.601773</td>\n",
              "      <td>0.845790</td>\n",
              "      <td>01:35</td>\n",
              "    </tr>\n",
              "  </tbody>\n",
              "</table>"
            ],
            "text/plain": [
              "<IPython.core.display.HTML object>"
            ]
          },
          "metadata": {
            "tags": []
          }
        },
        {
          "output_type": "display_data",
          "data": {
            "image/png": "[encoded data removed]",
            "text/plain": [
              "<Figure size 432x288 with 1 Axes>"
            ]
          },
          "metadata": {
            "tags": []
          }
        },
        {
          "output_type": "execute_result",
          "data": {
            "text/plain": [
              "Path('/content/drive/My Drive/Houseplant Classifier/Models/stage-1-quick-resnet101.pth')"
            ]
          },
          "metadata": {
            "tags": []
          },
          "execution_count": 40
        }
      ]
    },
    {
      "cell_type": "code",
      "metadata": {
        "id": "mrzbxWtzzYqk",
        "colab": {
          "base_uri": "https://localhost:8080/",
          "height": 351
        },
        "outputId": "a39f191c-71ed-448a-f7d8-09b89908fbb8"
      },
      "source": [
        "print(f'Unfreezing model body')\n",
        "learn.unfreeze()\n",
        "enumerate_params(learn)\n",
        "learn.lr_find()"
      ],
      "execution_count": null,
      "outputs": [
        {
          "output_type": "stream",
          "text": [
            "Unfreezing model body\n",
            "44,871,232 total parameters.\n",
            "44,871,232 training parameters.\n"
          ],
          "name": "stdout"
        },
        {
          "output_type": "display_data",
          "data": {
            "text/html": [
              ""
            ],
            "text/plain": [
              "<IPython.core.display.HTML object>"
            ]
          },
          "metadata": {
            "tags": []
          }
        },
        {
          "output_type": "execute_result",
          "data": {
            "text/plain": [
              "SuggestedLRs(lr_min=4.365158383734525e-06, lr_steep=7.585775847473997e-07)"
            ]
          },
          "metadata": {
            "tags": []
          },
          "execution_count": 41
        },
        {
          "output_type": "display_data",
          "data": {
            "image/png": "[encoded data removed]",
            "text/plain": [
              "<Figure size 432x288 with 1 Axes>"
            ]
          },
          "metadata": {
            "tags": [],
            "needs_background": "light"
          }
        }
      ]
    },
    {
      "cell_type": "code",
      "metadata": {
        "id": "lp8RX4NBzbOH",
        "colab": {
          "base_uri": "https://localhost:8080/",
          "height": 624
        },
        "outputId": "4521429d-659a-4ce0-bd43-1b2a145d329b"
      },
      "source": [
        "learn.fit_one_cycle(10, lr_max=slice(1e-5, 1e-4))\n",
        "learn.save('stage-2-quick-resnet101')"
      ],
      "execution_count": null,
      "outputs": [
        {
          "output_type": "display_data",
          "data": {
            "text/html": [
              "<table border=\"1\" class=\"dataframe\">\n",
              "  <thead>\n",
              "    <tr style=\"text-align: left;\">\n",
              "      <th>epoch</th>\n",
              "      <th>train_loss</th>\n",
              "      <th>valid_loss</th>\n",
              "      <th>accuracy</th>\n",
              "      <th>top_k_accuracy</th>\n",
              "      <th>time</th>\n",
              "    </tr>\n",
              "  </thead>\n",
              "  <tbody>\n",
              "    <tr>\n",
              "      <td>0</td>\n",
              "      <td>0.877971</td>\n",
              "      <td>1.634380</td>\n",
              "      <td>0.604136</td>\n",
              "      <td>0.849631</td>\n",
              "      <td>02:01</td>\n",
              "    </tr>\n",
              "    <tr>\n",
              "      <td>1</td>\n",
              "      <td>0.880052</td>\n",
              "      <td>1.679194</td>\n",
              "      <td>0.592024</td>\n",
              "      <td>0.840177</td>\n",
              "      <td>02:01</td>\n",
              "    </tr>\n",
              "    <tr>\n",
              "      <td>2</td>\n",
              "      <td>0.898091</td>\n",
              "      <td>1.657956</td>\n",
              "      <td>0.590842</td>\n",
              "      <td>0.841359</td>\n",
              "      <td>02:02</td>\n",
              "    </tr>\n",
              "    <tr>\n",
              "      <td>3</td>\n",
              "      <td>0.845806</td>\n",
              "      <td>1.629556</td>\n",
              "      <td>0.597341</td>\n",
              "      <td>0.843722</td>\n",
              "      <td>02:02</td>\n",
              "    </tr>\n",
              "    <tr>\n",
              "      <td>4</td>\n",
              "      <td>0.764003</td>\n",
              "      <td>1.597111</td>\n",
              "      <td>0.610340</td>\n",
              "      <td>0.846381</td>\n",
              "      <td>02:02</td>\n",
              "    </tr>\n",
              "    <tr>\n",
              "      <td>5</td>\n",
              "      <td>0.678277</td>\n",
              "      <td>1.567661</td>\n",
              "      <td>0.614180</td>\n",
              "      <td>0.857607</td>\n",
              "      <td>02:01</td>\n",
              "    </tr>\n",
              "    <tr>\n",
              "      <td>6</td>\n",
              "      <td>0.600276</td>\n",
              "      <td>1.553793</td>\n",
              "      <td>0.623929</td>\n",
              "      <td>0.857607</td>\n",
              "      <td>02:01</td>\n",
              "    </tr>\n",
              "    <tr>\n",
              "      <td>7</td>\n",
              "      <td>0.567100</td>\n",
              "      <td>1.534099</td>\n",
              "      <td>0.625111</td>\n",
              "      <td>0.859084</td>\n",
              "      <td>02:01</td>\n",
              "    </tr>\n",
              "    <tr>\n",
              "      <td>8</td>\n",
              "      <td>0.535078</td>\n",
              "      <td>1.529610</td>\n",
              "      <td>0.626292</td>\n",
              "      <td>0.861448</td>\n",
              "      <td>02:01</td>\n",
              "    </tr>\n",
              "    <tr>\n",
              "      <td>9</td>\n",
              "      <td>0.517469</td>\n",
              "      <td>1.524259</td>\n",
              "      <td>0.627179</td>\n",
              "      <td>0.862334</td>\n",
              "      <td>02:01</td>\n",
              "    </tr>\n",
              "  </tbody>\n",
              "</table>"
            ],
            "text/plain": [
              "<IPython.core.display.HTML object>"
            ]
          },
          "metadata": {
            "tags": []
          }
        },
        {
          "output_type": "display_data",
          "data": {
            "image/png": "[encoded data removed]",
            "text/plain": [
              "<Figure size 432x288 with 1 Axes>"
            ]
          },
          "metadata": {
            "tags": []
          }
        },
        {
          "output_type": "execute_result",
          "data": {
            "text/plain": [
              "Path('/content/drive/My Drive/Houseplant Classifier/Models/stage-2-quick-resnet101.pth')"
            ]
          },
          "metadata": {
            "tags": []
          },
          "execution_count": 42
        }
      ]
    },
    {
      "cell_type": "markdown",
      "metadata": {
        "id": "iBaiOjTcKrsx"
      },
      "source": [
        "### Quick Resnet152"
      ]
    },
    {
      "cell_type": "code",
      "metadata": {
        "colab": {
          "base_uri": "https://localhost:8080/",
          "height": 195,
          "referenced_widgets": [
            "03cbd3e6a80e4148a587a7bf31fc38a3",
            "cf82659d21fa454b8718ee5767bb7f06",
            "f62309a4a1074c65a9f07cf9e7634e61",
            "83b56480e5024503beaece173711484e",
            "b55ebc1ba6454ec4b3793917dc9858ff",
            "ef9cffefef7e44d3a17b57980bbd6dac",
            "89bc50f07b0241b7ad4831c34e41c682",
            "3d589543802b4dd4ac348155b2318fe0"
          ]
        },
        "id": "7QUhc616Krsx",
        "outputId": "152a56db-c27c-4737-a326-10df0f695a36"
      },
      "source": [
        "learn = create_cnn_learner(pct_images=0.25, \n",
        "                           deterministic=True, \n",
        "                           size=224, \n",
        "                           img_path ='/content/plant_images_database_manualcleanedlosses10/', \n",
        "                           split_path = '/content/plant_image_database/',\n",
        "                           log_name = 'quickresnet101.csv', \n",
        "                           arch='resnet152')"
      ],
      "execution_count": 41,
      "outputs": [
        {
          "output_type": "stream",
          "text": [
            "Random state set:101, cuda used: True\n",
            "Split Path defined, preparing pseudo stratified split.\n",
            "Creating path:label dataframe from /content/plant_image_database/, using 100.00% of the images (77700 images.) Shuffle = False.\n",
            "Preparing stratified 5 fold split, random state is 101. Returning fold 0.\n",
            "Creating path:label dataframe from /content/plant_images_database_manualcleanedlosses10/, using 25.00% of the images (16940 images.) Shuffle = False.\n",
            "We have 517 classes, with a training set of size 13555, and a validation set of size 3385\n",
            "The main split has 80.00% training data with 518 classes, the reduced split has 80.02 % training data, with 517 classes.\n"
          ],
          "name": "stdout"
        },
        {
          "output_type": "stream",
          "text": [
            "Downloading: \"https://download.pytorch.org/models/resnet152-b121ed2d.pth\" to /root/.cache/torch/hub/checkpoints/resnet152-b121ed2d.pth\n"
          ],
          "name": "stderr"
        },
        {
          "output_type": "display_data",
          "data": {
            "application/vnd.jupyter.widget-view+json": {
              "model_id": "03cbd3e6a80e4148a587a7bf31fc38a3",
              "version_minor": 0,
              "version_major": 2
            },
            "text/plain": [
              "HBox(children=(FloatProgress(value=0.0, max=241530880.0), HTML(value='')))"
            ]
          },
          "metadata": {
            "tags": []
          }
        },
        {
          "output_type": "stream",
          "text": [
            "\n"
          ],
          "name": "stdout"
        }
      ]
    },
    {
      "cell_type": "code",
      "metadata": {
        "colab": {
          "base_uri": "https://localhost:8080/",
          "height": 347
        },
        "id": "FPVNQZWGKrsy",
        "outputId": "de88488c-aa66-403b-f368-eb5ad72db2e1"
      },
      "source": [
        "print(f'Freezing model body')\n",
        "learn.freeze()\n",
        "enumerate_params(learn)\n",
        "learn.lr_find()"
      ],
      "execution_count": 42,
      "outputs": [
        {
          "output_type": "stream",
          "text": [
            "Freezing model body\n",
            "60,514,880 total parameters.\n",
            "2,522,496 training parameters.\n"
          ],
          "name": "stdout"
        },
        {
          "output_type": "display_data",
          "data": {
            "text/html": [
              ""
            ],
            "text/plain": [
              "<IPython.core.display.HTML object>"
            ]
          },
          "metadata": {
            "tags": []
          }
        },
        {
          "output_type": "execute_result",
          "data": {
            "text/plain": [
              "SuggestedLRs(lr_min=0.0033113110810518267, lr_steep=0.005248074419796467)"
            ]
          },
          "metadata": {
            "tags": []
          },
          "execution_count": 42
        },
        {
          "output_type": "display_data",
          "data": {
            "image/png": "[encoded data removed]",
            "text/plain": [
              "<Figure size 432x288 with 1 Axes>"
            ]
          },
          "metadata": {
            "tags": [],
            "needs_background": "light"
          }
        }
      ]
    },
    {
      "cell_type": "code",
      "metadata": {
        "colab": {
          "base_uri": "https://localhost:8080/",
          "height": 598
        },
        "id": "Ibe2bR5yKrsy",
        "outputId": "f889bcf7-5505-4c63-bd17-2a484c2432ec"
      },
      "source": [
        "learn.fit_one_cycle(10, 1e-02)\n",
        "learn.save('stage-1-quick-resnet152')"
      ],
      "execution_count": 43,
      "outputs": [
        {
          "output_type": "display_data",
          "data": {
            "text/html": [
              "<table border=\"1\" class=\"dataframe\">\n",
              "  <thead>\n",
              "    <tr style=\"text-align: left;\">\n",
              "      <th>epoch</th>\n",
              "      <th>train_loss</th>\n",
              "      <th>valid_loss</th>\n",
              "      <th>accuracy</th>\n",
              "      <th>top_k_accuracy</th>\n",
              "      <th>time</th>\n",
              "    </tr>\n",
              "  </thead>\n",
              "  <tbody>\n",
              "    <tr>\n",
              "      <td>0</td>\n",
              "      <td>4.799128</td>\n",
              "      <td>3.724181</td>\n",
              "      <td>0.238996</td>\n",
              "      <td>0.471196</td>\n",
              "      <td>02:07</td>\n",
              "    </tr>\n",
              "    <tr>\n",
              "      <td>1</td>\n",
              "      <td>4.120324</td>\n",
              "      <td>4.810383</td>\n",
              "      <td>0.154210</td>\n",
              "      <td>0.352733</td>\n",
              "      <td>02:07</td>\n",
              "    </tr>\n",
              "    <tr>\n",
              "      <td>2</td>\n",
              "      <td>3.285042</td>\n",
              "      <td>3.348911</td>\n",
              "      <td>0.275923</td>\n",
              "      <td>0.552142</td>\n",
              "      <td>02:07</td>\n",
              "    </tr>\n",
              "    <tr>\n",
              "      <td>3</td>\n",
              "      <td>2.824930</td>\n",
              "      <td>2.889234</td>\n",
              "      <td>0.330871</td>\n",
              "      <td>0.629542</td>\n",
              "      <td>02:07</td>\n",
              "    </tr>\n",
              "    <tr>\n",
              "      <td>4</td>\n",
              "      <td>2.475958</td>\n",
              "      <td>2.580218</td>\n",
              "      <td>0.405318</td>\n",
              "      <td>0.680650</td>\n",
              "      <td>02:07</td>\n",
              "    </tr>\n",
              "    <tr>\n",
              "      <td>5</td>\n",
              "      <td>2.041909</td>\n",
              "      <td>2.134550</td>\n",
              "      <td>0.489808</td>\n",
              "      <td>0.768390</td>\n",
              "      <td>02:08</td>\n",
              "    </tr>\n",
              "    <tr>\n",
              "      <td>6</td>\n",
              "      <td>1.648453</td>\n",
              "      <td>1.889895</td>\n",
              "      <td>0.536484</td>\n",
              "      <td>0.807681</td>\n",
              "      <td>02:08</td>\n",
              "    </tr>\n",
              "    <tr>\n",
              "      <td>7</td>\n",
              "      <td>1.208896</td>\n",
              "      <td>1.703043</td>\n",
              "      <td>0.581684</td>\n",
              "      <td>0.838109</td>\n",
              "      <td>02:08</td>\n",
              "    </tr>\n",
              "    <tr>\n",
              "      <td>8</td>\n",
              "      <td>0.984141</td>\n",
              "      <td>1.624222</td>\n",
              "      <td>0.603250</td>\n",
              "      <td>0.849335</td>\n",
              "      <td>02:07</td>\n",
              "    </tr>\n",
              "    <tr>\n",
              "      <td>9</td>\n",
              "      <td>0.829259</td>\n",
              "      <td>1.608792</td>\n",
              "      <td>0.603840</td>\n",
              "      <td>0.853471</td>\n",
              "      <td>02:08</td>\n",
              "    </tr>\n",
              "  </tbody>\n",
              "</table>"
            ],
            "text/plain": [
              "<IPython.core.display.HTML object>"
            ]
          },
          "metadata": {
            "tags": []
          }
        },
        {
          "output_type": "display_data",
          "data": {
            "image/png": "[encoded data removed]",
            "text/plain": [
              "<Figure size 432x288 with 1 Axes>"
            ]
          },
          "metadata": {
            "tags": []
          }
        },
        {
          "output_type": "execute_result",
          "data": {
            "text/plain": [
              "Path('/content/drive/My Drive/Houseplant Classifier/Models/stage-1-quick-resnet152.pth')"
            ]
          },
          "metadata": {
            "tags": []
          },
          "execution_count": 43
        }
      ]
    },
    {
      "cell_type": "code",
      "metadata": {
        "colab": {
          "base_uri": "https://localhost:8080/",
          "height": 347
        },
        "id": "YK3OcYd7Krsy",
        "outputId": "bb3ddfaf-0714-4b4a-85c1-a13a7af949cb"
      },
      "source": [
        "print(f'Unfreezing model body')\n",
        "learn.unfreeze()\n",
        "enumerate_params(learn)\n",
        "learn.lr_find()"
      ],
      "execution_count": 44,
      "outputs": [
        {
          "output_type": "stream",
          "text": [
            "Unfreezing model body\n",
            "60,514,880 total parameters.\n",
            "60,514,880 training parameters.\n"
          ],
          "name": "stdout"
        },
        {
          "output_type": "display_data",
          "data": {
            "text/html": [
              ""
            ],
            "text/plain": [
              "<IPython.core.display.HTML object>"
            ]
          },
          "metadata": {
            "tags": []
          }
        },
        {
          "output_type": "execute_result",
          "data": {
            "text/plain": [
              "SuggestedLRs(lr_min=6.309573450380412e-08, lr_steep=7.585775847473997e-07)"
            ]
          },
          "metadata": {
            "tags": []
          },
          "execution_count": 44
        },
        {
          "output_type": "display_data",
          "data": {
            "image/png": "[encoded data removed]",
            "text/plain": [
              "<Figure size 432x288 with 1 Axes>"
            ]
          },
          "metadata": {
            "tags": [],
            "needs_background": "light"
          }
        }
      ]
    },
    {
      "cell_type": "code",
      "metadata": {
        "colab": {
          "base_uri": "https://localhost:8080/",
          "height": 598
        },
        "id": "r9BxoVs8Krsy",
        "outputId": "50db8e43-2d43-454a-f2bc-3da8f4c17584"
      },
      "source": [
        "learn.fit_one_cycle(10, lr_max=slice(1e-5, 1e-4))\n",
        "learn.save('stage-2-quick-resnet152')"
      ],
      "execution_count": 45,
      "outputs": [
        {
          "output_type": "display_data",
          "data": {
            "text/html": [
              "<table border=\"1\" class=\"dataframe\">\n",
              "  <thead>\n",
              "    <tr style=\"text-align: left;\">\n",
              "      <th>epoch</th>\n",
              "      <th>train_loss</th>\n",
              "      <th>valid_loss</th>\n",
              "      <th>accuracy</th>\n",
              "      <th>top_k_accuracy</th>\n",
              "      <th>time</th>\n",
              "    </tr>\n",
              "  </thead>\n",
              "  <tbody>\n",
              "    <tr>\n",
              "      <td>0</td>\n",
              "      <td>0.844308</td>\n",
              "      <td>1.611323</td>\n",
              "      <td>0.605022</td>\n",
              "      <td>0.849335</td>\n",
              "      <td>02:45</td>\n",
              "    </tr>\n",
              "    <tr>\n",
              "      <td>1</td>\n",
              "      <td>0.904222</td>\n",
              "      <td>1.672938</td>\n",
              "      <td>0.586706</td>\n",
              "      <td>0.841654</td>\n",
              "      <td>02:44</td>\n",
              "    </tr>\n",
              "    <tr>\n",
              "      <td>2</td>\n",
              "      <td>0.902256</td>\n",
              "      <td>1.676822</td>\n",
              "      <td>0.580207</td>\n",
              "      <td>0.839586</td>\n",
              "      <td>02:44</td>\n",
              "    </tr>\n",
              "    <tr>\n",
              "      <td>3</td>\n",
              "      <td>0.853559</td>\n",
              "      <td>1.630254</td>\n",
              "      <td>0.599705</td>\n",
              "      <td>0.848744</td>\n",
              "      <td>02:44</td>\n",
              "    </tr>\n",
              "    <tr>\n",
              "      <td>4</td>\n",
              "      <td>0.753349</td>\n",
              "      <td>1.596496</td>\n",
              "      <td>0.607386</td>\n",
              "      <td>0.853176</td>\n",
              "      <td>02:44</td>\n",
              "    </tr>\n",
              "    <tr>\n",
              "      <td>5</td>\n",
              "      <td>0.668108</td>\n",
              "      <td>1.558501</td>\n",
              "      <td>0.611226</td>\n",
              "      <td>0.855539</td>\n",
              "      <td>02:44</td>\n",
              "    </tr>\n",
              "    <tr>\n",
              "      <td>6</td>\n",
              "      <td>0.598716</td>\n",
              "      <td>1.545720</td>\n",
              "      <td>0.618907</td>\n",
              "      <td>0.859380</td>\n",
              "      <td>02:44</td>\n",
              "    </tr>\n",
              "    <tr>\n",
              "      <td>7</td>\n",
              "      <td>0.536063</td>\n",
              "      <td>1.528448</td>\n",
              "      <td>0.616544</td>\n",
              "      <td>0.861448</td>\n",
              "      <td>02:44</td>\n",
              "    </tr>\n",
              "    <tr>\n",
              "      <td>8</td>\n",
              "      <td>0.501012</td>\n",
              "      <td>1.523646</td>\n",
              "      <td>0.615066</td>\n",
              "      <td>0.863811</td>\n",
              "      <td>02:44</td>\n",
              "    </tr>\n",
              "    <tr>\n",
              "      <td>9</td>\n",
              "      <td>0.495243</td>\n",
              "      <td>1.517921</td>\n",
              "      <td>0.618021</td>\n",
              "      <td>0.864402</td>\n",
              "      <td>02:44</td>\n",
              "    </tr>\n",
              "  </tbody>\n",
              "</table>"
            ],
            "text/plain": [
              "<IPython.core.display.HTML object>"
            ]
          },
          "metadata": {
            "tags": []
          }
        },
        {
          "output_type": "display_data",
          "data": {
            "image/png": "[encoded data removed]",
            "text/plain": [
              "<Figure size 432x288 with 1 Axes>"
            ]
          },
          "metadata": {
            "tags": []
          }
        },
        {
          "output_type": "execute_result",
          "data": {
            "text/plain": [
              "Path('/content/drive/My Drive/Houseplant Classifier/Models/stage-2-quick-resnet152.pth')"
            ]
          },
          "metadata": {
            "tags": []
          },
          "execution_count": 45
        }
      ]
    },
    {
      "cell_type": "markdown",
      "metadata": {
        "id": "DTGRdpBWTItJ"
      },
      "source": [
        "### Quick Resnet34 - 448px"
      ]
    },
    {
      "cell_type": "code",
      "metadata": {
        "id": "zAEkPsNeTIDT",
        "colab": {
          "base_uri": "https://localhost:8080/"
        },
        "outputId": "a2ec96c9-c776-4bb0-fc70-70bc26dc3e27"
      },
      "source": [
        "learn = create_cnn_learner(pct_images=0.25, \n",
        "                           deterministic=True, \n",
        "                           size=448, \n",
        "                           img_path ='/content/plant_images_database_manualcleanedlosses10/', \n",
        "                           split_path = '/content/plant_image_database/',\n",
        "                           log_name = 'quickbaseline_448px.csv')"
      ],
      "execution_count": null,
      "outputs": [
        {
          "output_type": "stream",
          "text": [
            "Random state set:101, cuda used: True\n",
            "Split Path defined, preparing pseudo stratified split.\n",
            "Creating path:label dataframe from /content/plant_image_database/, using 100.00% of the images (77700 images.) Shuffle = False.\n",
            "Preparing stratified 5 fold split, random state is 101. Returning fold 0.\n",
            "Creating path:label dataframe from /content/plant_images_database_manualcleanedlosses10/, using 25.00% of the images (16940 images.) Shuffle = False.\n",
            "We have 517 classes, with a training set of size 13555, and a validation set of size 3385\n",
            "The main split has 80.00% training data with 518 classes, the reduced split has 80.02 % training data, with 517 classes.\n"
          ],
          "name": "stdout"
        }
      ]
    },
    {
      "cell_type": "code",
      "metadata": {
        "id": "f-YDawdSTSCQ",
        "colab": {
          "base_uri": "https://localhost:8080/",
          "height": 351
        },
        "outputId": "bcdf00cc-90f4-4b27-9c92-a1317ca6b5b2"
      },
      "source": [
        "print(f'Freezing model body')\n",
        "learn.freeze()\n",
        "enumerate_params(learn)\n",
        "learn.lr_find()"
      ],
      "execution_count": null,
      "outputs": [
        {
          "output_type": "stream",
          "text": [
            "Freezing model body\n",
            "22,076,736 total parameters.\n",
            "809,088 training parameters.\n"
          ],
          "name": "stdout"
        },
        {
          "output_type": "display_data",
          "data": {
            "text/html": [
              ""
            ],
            "text/plain": [
              "<IPython.core.display.HTML object>"
            ]
          },
          "metadata": {
            "tags": []
          }
        },
        {
          "output_type": "execute_result",
          "data": {
            "text/plain": [
              "SuggestedLRs(lr_min=0.005754399299621582, lr_steep=0.010964781977236271)"
            ]
          },
          "metadata": {
            "tags": []
          },
          "execution_count": 49
        },
        {
          "output_type": "display_data",
          "data": {
            "image/png": "[encoded data removed]",
            "text/plain": [
              "<Figure size 432x288 with 1 Axes>"
            ]
          },
          "metadata": {
            "tags": [],
            "needs_background": "light"
          }
        }
      ]
    },
    {
      "cell_type": "code",
      "metadata": {
        "id": "WurbKgJQTRo4",
        "colab": {
          "base_uri": "https://localhost:8080/",
          "height": 627
        },
        "outputId": "6c75e02a-b0e6-4b98-9518-b7d350a4ed3a"
      },
      "source": [
        "learn.fit_one_cycle(10, 1e-02)\n",
        "learn.save('stage-1-quickbaseline-448px')"
      ],
      "execution_count": null,
      "outputs": [
        {
          "output_type": "display_data",
          "data": {
            "text/html": [
              "<table border=\"1\" class=\"dataframe\">\n",
              "  <thead>\n",
              "    <tr style=\"text-align: left;\">\n",
              "      <th>epoch</th>\n",
              "      <th>train_loss</th>\n",
              "      <th>valid_loss</th>\n",
              "      <th>accuracy</th>\n",
              "      <th>top_k_accuracy</th>\n",
              "      <th>time</th>\n",
              "    </tr>\n",
              "  </thead>\n",
              "  <tbody>\n",
              "    <tr>\n",
              "      <td>0</td>\n",
              "      <td>5.292181</td>\n",
              "      <td>3.751250</td>\n",
              "      <td>0.225997</td>\n",
              "      <td>0.464402</td>\n",
              "      <td>01:52</td>\n",
              "    </tr>\n",
              "    <tr>\n",
              "      <td>1</td>\n",
              "      <td>4.009425</td>\n",
              "      <td>3.554969</td>\n",
              "      <td>0.259970</td>\n",
              "      <td>0.502511</td>\n",
              "      <td>01:53</td>\n",
              "    </tr>\n",
              "    <tr>\n",
              "      <td>2</td>\n",
              "      <td>3.201278</td>\n",
              "      <td>2.923901</td>\n",
              "      <td>0.357459</td>\n",
              "      <td>0.622747</td>\n",
              "      <td>01:53</td>\n",
              "    </tr>\n",
              "    <tr>\n",
              "      <td>3</td>\n",
              "      <td>2.787172</td>\n",
              "      <td>2.604293</td>\n",
              "      <td>0.393796</td>\n",
              "      <td>0.683013</td>\n",
              "      <td>01:52</td>\n",
              "    </tr>\n",
              "    <tr>\n",
              "      <td>4</td>\n",
              "      <td>2.404189</td>\n",
              "      <td>2.474571</td>\n",
              "      <td>0.437223</td>\n",
              "      <td>0.708124</td>\n",
              "      <td>01:52</td>\n",
              "    </tr>\n",
              "    <tr>\n",
              "      <td>5</td>\n",
              "      <td>2.048426</td>\n",
              "      <td>2.079883</td>\n",
              "      <td>0.512851</td>\n",
              "      <td>0.773412</td>\n",
              "      <td>01:53</td>\n",
              "    </tr>\n",
              "    <tr>\n",
              "      <td>6</td>\n",
              "      <td>1.687058</td>\n",
              "      <td>1.831584</td>\n",
              "      <td>0.552437</td>\n",
              "      <td>0.819498</td>\n",
              "      <td>01:53</td>\n",
              "    </tr>\n",
              "    <tr>\n",
              "      <td>7</td>\n",
              "      <td>1.320713</td>\n",
              "      <td>1.683838</td>\n",
              "      <td>0.599409</td>\n",
              "      <td>0.840177</td>\n",
              "      <td>01:53</td>\n",
              "    </tr>\n",
              "    <tr>\n",
              "      <td>8</td>\n",
              "      <td>1.109586</td>\n",
              "      <td>1.616789</td>\n",
              "      <td>0.607681</td>\n",
              "      <td>0.850517</td>\n",
              "      <td>01:52</td>\n",
              "    </tr>\n",
              "    <tr>\n",
              "      <td>9</td>\n",
              "      <td>0.950999</td>\n",
              "      <td>1.608150</td>\n",
              "      <td>0.610340</td>\n",
              "      <td>0.854653</td>\n",
              "      <td>01:53</td>\n",
              "    </tr>\n",
              "  </tbody>\n",
              "</table>"
            ],
            "text/plain": [
              "<IPython.core.display.HTML object>"
            ]
          },
          "metadata": {
            "tags": []
          }
        },
        {
          "output_type": "display_data",
          "data": {
            "image/png": "[encoded data removed]",
            "text/plain": [
              "<Figure size 432x288 with 1 Axes>"
            ]
          },
          "metadata": {
            "tags": []
          }
        },
        {
          "output_type": "execute_result",
          "data": {
            "text/plain": [
              "Path('/content/drive/My Drive/Houseplant Classifier/Models/stage-1-quickbaseline-448px.pth')"
            ]
          },
          "metadata": {
            "tags": []
          },
          "execution_count": 50
        }
      ]
    },
    {
      "cell_type": "code",
      "metadata": {
        "id": "ndaXPJ8gTRsp",
        "colab": {
          "base_uri": "https://localhost:8080/",
          "height": 351
        },
        "outputId": "7c495096-3757-4270-d9dc-2042cc498707"
      },
      "source": [
        "print(f'Unfreezing model body')\n",
        "learn.unfreeze()\n",
        "enumerate_params(learn)\n",
        "learn.lr_find()"
      ],
      "execution_count": null,
      "outputs": [
        {
          "output_type": "stream",
          "text": [
            "Unfreezing model body\n",
            "22,076,736 total parameters.\n",
            "22,076,736 training parameters.\n"
          ],
          "name": "stdout"
        },
        {
          "output_type": "display_data",
          "data": {
            "text/html": [
              ""
            ],
            "text/plain": [
              "<IPython.core.display.HTML object>"
            ]
          },
          "metadata": {
            "tags": []
          }
        },
        {
          "output_type": "execute_result",
          "data": {
            "text/plain": [
              "SuggestedLRs(lr_min=1.318256749982538e-07, lr_steep=7.585775847473997e-07)"
            ]
          },
          "metadata": {
            "tags": []
          },
          "execution_count": 51
        },
        {
          "output_type": "display_data",
          "data": {
            "image/png": "[encoded data removed]",
            "text/plain": [
              "<Figure size 432x288 with 1 Axes>"
            ]
          },
          "metadata": {
            "tags": [],
            "needs_background": "light"
          }
        }
      ]
    },
    {
      "cell_type": "code",
      "metadata": {
        "id": "tpRts6lBTRlV",
        "colab": {
          "base_uri": "https://localhost:8080/",
          "height": 625
        },
        "outputId": "099a5cd7-dadd-48f5-ec54-582021fedd29"
      },
      "source": [
        "learn.fit_one_cycle(10, lr_max=slice(1e-5, 1e-4))\n",
        "learn.save('stage-2-quickbaseline-448px')"
      ],
      "execution_count": null,
      "outputs": [
        {
          "output_type": "display_data",
          "data": {
            "text/html": [
              "<table border=\"1\" class=\"dataframe\">\n",
              "  <thead>\n",
              "    <tr style=\"text-align: left;\">\n",
              "      <th>epoch</th>\n",
              "      <th>train_loss</th>\n",
              "      <th>valid_loss</th>\n",
              "      <th>accuracy</th>\n",
              "      <th>top_k_accuracy</th>\n",
              "      <th>time</th>\n",
              "    </tr>\n",
              "  </thead>\n",
              "  <tbody>\n",
              "    <tr>\n",
              "      <td>0</td>\n",
              "      <td>0.985053</td>\n",
              "      <td>1.607244</td>\n",
              "      <td>0.613294</td>\n",
              "      <td>0.850812</td>\n",
              "      <td>02:30</td>\n",
              "    </tr>\n",
              "    <tr>\n",
              "      <td>1</td>\n",
              "      <td>0.993009</td>\n",
              "      <td>1.627172</td>\n",
              "      <td>0.613885</td>\n",
              "      <td>0.848744</td>\n",
              "      <td>02:31</td>\n",
              "    </tr>\n",
              "    <tr>\n",
              "      <td>2</td>\n",
              "      <td>1.008064</td>\n",
              "      <td>1.608149</td>\n",
              "      <td>0.608863</td>\n",
              "      <td>0.849926</td>\n",
              "      <td>02:31</td>\n",
              "    </tr>\n",
              "    <tr>\n",
              "      <td>3</td>\n",
              "      <td>0.921860</td>\n",
              "      <td>1.585556</td>\n",
              "      <td>0.615657</td>\n",
              "      <td>0.852880</td>\n",
              "      <td>02:31</td>\n",
              "    </tr>\n",
              "    <tr>\n",
              "      <td>4</td>\n",
              "      <td>0.839203</td>\n",
              "      <td>1.562396</td>\n",
              "      <td>0.624225</td>\n",
              "      <td>0.857016</td>\n",
              "      <td>02:31</td>\n",
              "    </tr>\n",
              "    <tr>\n",
              "      <td>5</td>\n",
              "      <td>0.748415</td>\n",
              "      <td>1.533355</td>\n",
              "      <td>0.626292</td>\n",
              "      <td>0.861743</td>\n",
              "      <td>02:31</td>\n",
              "    </tr>\n",
              "    <tr>\n",
              "      <td>6</td>\n",
              "      <td>0.743582</td>\n",
              "      <td>1.536822</td>\n",
              "      <td>0.631019</td>\n",
              "      <td>0.859084</td>\n",
              "      <td>02:31</td>\n",
              "    </tr>\n",
              "    <tr>\n",
              "      <td>7</td>\n",
              "      <td>0.665574</td>\n",
              "      <td>1.513259</td>\n",
              "      <td>0.632792</td>\n",
              "      <td>0.862334</td>\n",
              "      <td>02:31</td>\n",
              "    </tr>\n",
              "    <tr>\n",
              "      <td>8</td>\n",
              "      <td>0.658676</td>\n",
              "      <td>1.510013</td>\n",
              "      <td>0.635746</td>\n",
              "      <td>0.864993</td>\n",
              "      <td>02:31</td>\n",
              "    </tr>\n",
              "    <tr>\n",
              "      <td>9</td>\n",
              "      <td>0.638493</td>\n",
              "      <td>1.507260</td>\n",
              "      <td>0.636337</td>\n",
              "      <td>0.862925</td>\n",
              "      <td>02:31</td>\n",
              "    </tr>\n",
              "  </tbody>\n",
              "</table>"
            ],
            "text/plain": [
              "<IPython.core.display.HTML object>"
            ]
          },
          "metadata": {
            "tags": []
          }
        },
        {
          "output_type": "display_data",
          "data": {
            "image/png": "[encoded data removed]",
            "text/plain": [
              "<Figure size 432x288 with 1 Axes>"
            ]
          },
          "metadata": {
            "tags": []
          }
        },
        {
          "output_type": "execute_result",
          "data": {
            "text/plain": [
              "Path('/content/drive/My Drive/Houseplant Classifier/Models/stage-2-quickbaseline-448px.pth')"
            ]
          },
          "metadata": {
            "tags": []
          },
          "execution_count": 52
        }
      ]
    },
    {
      "cell_type": "markdown",
      "metadata": {
        "id": "N7PKlLiMiful"
      },
      "source": [
        "## Quick XResNet\n",
        "\n",
        "> Poor performance, likely due to quality of pretrained weights."
      ]
    },
    {
      "cell_type": "code",
      "metadata": {
        "id": "hu4YVfq0d3Pu"
      },
      "source": [
        "# Import the xresnet models\n",
        "from fastai.vision.models.xresnet import *"
      ],
      "execution_count": null,
      "outputs": []
    },
    {
      "cell_type": "markdown",
      "metadata": {
        "id": "vAXMLSLqKL3b"
      },
      "source": [
        "### Quick XResNet"
      ]
    },
    {
      "cell_type": "markdown",
      "metadata": {
        "id": "PzqbcpLUKQSm"
      },
      "source": [
        "\n",
        "* XResNet - Based on the Bag of Tricks for Resnet paper\n",
        "* Mish - A new activation function that has shown fantastic results\n",
        "* Ranger - A new optimizer function based on two seperate papers:\n",
        "  * On the Varience of the Adaptive Learning rate and Beyond, RAdam\n",
        "  * Lookahead Optimizer: k steps forward, 1 step back\n",
        "* Self-Attention - Bringing in ideas from GAN's into image classification \n",
        "* Flatten + Anneal Scheduling - Mikhail Grankin\n",
        "* Label Smoothing Cross Entropy - A threshold base (were you close) rather than yes or no"
      ]
    },
    {
      "cell_type": "code",
      "metadata": {
        "id": "XFqYXBPgjxxm"
      },
      "source": [
        "if ('xresnet' in arch) and act_cls != 'ReLU':\n",
        "  model = partial(model, act_cls=act_cls, sa=sa, n_out=dls.c)\n",
        "elif 'xresnet' in arch:\n",
        "  model = partial(model, sa=sa, n_out=dls.c)"
      ],
      "execution_count": null,
      "outputs": []
    },
    {
      "cell_type": "code",
      "metadata": {
        "id": "OgRMsHLBN-ZA",
        "colab": {
          "base_uri": "https://localhost:8080/",
          "height": 202,
          "referenced_widgets": [
            "0d86ac0e6e8d4d029e13d523ea62ed5c",
            "8894a65d606d4a1ca3f0735354277624",
            "7fe6b6c73c754265a880989bc9356caa",
            "b4979beb46284f2bbe6c7a23a7273bfc",
            "01a39524b98e4c1e9f67df363be6e82d",
            "cc249b0f03fa44b3af25bd24bcc05a50",
            "1a384fd2a7bc452fa58c143fe2fcfb01",
            "0388764fedd348f397064bd6ea28a877"
          ]
        },
        "outputId": "39434557-0b97-48b2-e571-fd770bb215f2"
      },
      "source": [
        "learn = create_cnn_learner(pct_images=0.25,\n",
        "                           deterministic=True,  \n",
        "                           arch='xresnet50', \n",
        "                           size=224, \n",
        "                           img_path ='/content/plant_images_database_manualcleanedlosses10/', \n",
        "                           split_path = '/content/plant_image_database/',\n",
        "                           log_name = 'xresnet50.csv',\n",
        "                           bs=64,\n",
        "                           pretrained=True\n",
        "                           )"
      ],
      "execution_count": null,
      "outputs": [
        {
          "output_type": "stream",
          "text": [
            "Random state set:101, cuda used: True\n",
            "Split Path defined, preparing pseudo stratified split.\n",
            "Creating path:label dataframe from /content/plant_image_database/, using 100.00% of the images (77700 images.) Shuffle = False.\n",
            "Preparing stratified 5 fold split, random state is 101. Returning fold 0.\n",
            "Creating path:label dataframe from /content/plant_images_database_manualcleanedlosses10/, using 25.00% of the images (16940 images.) Shuffle = False.\n",
            "We have 517 classes, with a training set of size 13555, and a validation set of size 3385\n",
            "The main split has 80.00% training data with 518 classes, the reduced split has 80.02 % training data, with 517 classes.\n"
          ],
          "name": "stdout"
        },
        {
          "output_type": "stream",
          "text": [
            "Downloading: \"https://s3.amazonaws.com/fast-ai-modelzoo/xrn50_940.pth\" to /root/.cache/torch/hub/checkpoints/xrn50_940.pth\n"
          ],
          "name": "stderr"
        },
        {
          "output_type": "display_data",
          "data": {
            "application/vnd.jupyter.widget-view+json": {
              "model_id": "0d86ac0e6e8d4d029e13d523ea62ed5c",
              "version_minor": 0,
              "version_major": 2
            },
            "text/plain": [
              "HBox(children=(FloatProgress(value=0.0, max=256198016.0), HTML(value='')))"
            ]
          },
          "metadata": {
            "tags": []
          }
        },
        {
          "output_type": "stream",
          "text": [
            "\n"
          ],
          "name": "stdout"
        }
      ]
    },
    {
      "cell_type": "code",
      "metadata": {
        "id": "cWK4gd8mRHXQ",
        "colab": {
          "base_uri": "https://localhost:8080/",
          "height": 351
        },
        "outputId": "719721cb-f333-4ecc-86dd-3fe4e8e5b725"
      },
      "source": [
        "print(f'Freezing model body')\n",
        "learn.freeze()\n",
        "enumerate_params(learn)\n",
        "learn.lr_find()"
      ],
      "execution_count": null,
      "outputs": [
        {
          "output_type": "stream",
          "text": [
            "Freezing model body\n",
            "25,898,336 total parameters.\n",
            "2,424,320 training parameters.\n"
          ],
          "name": "stdout"
        },
        {
          "output_type": "display_data",
          "data": {
            "text/html": [
              ""
            ],
            "text/plain": [
              "<IPython.core.display.HTML object>"
            ]
          },
          "metadata": {
            "tags": []
          }
        },
        {
          "output_type": "execute_result",
          "data": {
            "text/plain": [
              "SuggestedLRs(lr_min=0.002290867641568184, lr_steep=0.005248074419796467)"
            ]
          },
          "metadata": {
            "tags": []
          },
          "execution_count": 80
        },
        {
          "output_type": "display_data",
          "data": {
            "image/png": "[encoded data removed]",
            "text/plain": [
              "<Figure size 432x288 with 1 Axes>"
            ]
          },
          "metadata": {
            "tags": [],
            "needs_background": "light"
          }
        }
      ]
    },
    {
      "cell_type": "code",
      "metadata": {
        "id": "_NYkahCscRDQ",
        "colab": {
          "base_uri": "https://localhost:8080/",
          "height": 624
        },
        "outputId": "28baa4e6-eafd-4979-80d4-2b95faf1cdbe"
      },
      "source": [
        "learn.fit_one_cycle(10, 1e-2)\n",
        "learn.save('stage-1-quick-xresnet50')"
      ],
      "execution_count": null,
      "outputs": [
        {
          "output_type": "display_data",
          "data": {
            "text/html": [
              "<table border=\"1\" class=\"dataframe\">\n",
              "  <thead>\n",
              "    <tr style=\"text-align: left;\">\n",
              "      <th>epoch</th>\n",
              "      <th>train_loss</th>\n",
              "      <th>valid_loss</th>\n",
              "      <th>accuracy</th>\n",
              "      <th>top_k_accuracy</th>\n",
              "      <th>time</th>\n",
              "    </tr>\n",
              "  </thead>\n",
              "  <tbody>\n",
              "    <tr>\n",
              "      <td>0</td>\n",
              "      <td>6.363160</td>\n",
              "      <td>5.429543</td>\n",
              "      <td>0.057016</td>\n",
              "      <td>0.163663</td>\n",
              "      <td>01:06</td>\n",
              "    </tr>\n",
              "    <tr>\n",
              "      <td>1</td>\n",
              "      <td>5.355260</td>\n",
              "      <td>4.755956</td>\n",
              "      <td>0.097784</td>\n",
              "      <td>0.246677</td>\n",
              "      <td>01:07</td>\n",
              "    </tr>\n",
              "    <tr>\n",
              "      <td>2</td>\n",
              "      <td>4.580175</td>\n",
              "      <td>4.317061</td>\n",
              "      <td>0.142393</td>\n",
              "      <td>0.342984</td>\n",
              "      <td>01:06</td>\n",
              "    </tr>\n",
              "    <tr>\n",
              "      <td>3</td>\n",
              "      <td>4.220543</td>\n",
              "      <td>4.045034</td>\n",
              "      <td>0.174003</td>\n",
              "      <td>0.392910</td>\n",
              "      <td>01:06</td>\n",
              "    </tr>\n",
              "    <tr>\n",
              "      <td>4</td>\n",
              "      <td>3.839763</td>\n",
              "      <td>3.760348</td>\n",
              "      <td>0.203840</td>\n",
              "      <td>0.449631</td>\n",
              "      <td>01:06</td>\n",
              "    </tr>\n",
              "    <tr>\n",
              "      <td>5</td>\n",
              "      <td>3.533624</td>\n",
              "      <td>3.518166</td>\n",
              "      <td>0.253767</td>\n",
              "      <td>0.510487</td>\n",
              "      <td>01:06</td>\n",
              "    </tr>\n",
              "    <tr>\n",
              "      <td>6</td>\n",
              "      <td>3.183973</td>\n",
              "      <td>3.334555</td>\n",
              "      <td>0.281832</td>\n",
              "      <td>0.543279</td>\n",
              "      <td>01:06</td>\n",
              "    </tr>\n",
              "    <tr>\n",
              "      <td>7</td>\n",
              "      <td>2.831918</td>\n",
              "      <td>3.173747</td>\n",
              "      <td>0.316100</td>\n",
              "      <td>0.575480</td>\n",
              "      <td>01:06</td>\n",
              "    </tr>\n",
              "    <tr>\n",
              "      <td>8</td>\n",
              "      <td>2.564847</td>\n",
              "      <td>3.097710</td>\n",
              "      <td>0.327031</td>\n",
              "      <td>0.587592</td>\n",
              "      <td>01:06</td>\n",
              "    </tr>\n",
              "    <tr>\n",
              "      <td>9</td>\n",
              "      <td>2.369013</td>\n",
              "      <td>3.086977</td>\n",
              "      <td>0.326440</td>\n",
              "      <td>0.589069</td>\n",
              "      <td>01:07</td>\n",
              "    </tr>\n",
              "  </tbody>\n",
              "</table>"
            ],
            "text/plain": [
              "<IPython.core.display.HTML object>"
            ]
          },
          "metadata": {
            "tags": []
          }
        },
        {
          "output_type": "display_data",
          "data": {
            "image/png": "[encoded data removed]",
            "text/plain": [
              "<Figure size 432x288 with 1 Axes>"
            ]
          },
          "metadata": {
            "tags": []
          }
        },
        {
          "output_type": "execute_result",
          "data": {
            "text/plain": [
              "Path('/content/drive/My Drive/Houseplant Classifier/Models/stage-1-quick-xresnet50.pth')"
            ]
          },
          "metadata": {
            "tags": []
          },
          "execution_count": 81
        }
      ]
    },
    {
      "cell_type": "code",
      "metadata": {
        "id": "nms1x2L6bdla",
        "colab": {
          "base_uri": "https://localhost:8080/",
          "height": 353
        },
        "outputId": "6b6a2018-5ac2-4ace-fec0-718cfbe7c1ec"
      },
      "source": [
        "print(f'Unfreezing model body')\n",
        "learn.unfreeze()\n",
        "enumerate_params(learn)\n",
        "learn.lr_find()"
      ],
      "execution_count": null,
      "outputs": [
        {
          "output_type": "stream",
          "text": [
            "Unfreezing model body\n",
            "25,898,336 total parameters.\n",
            "25,898,336 training parameters.\n"
          ],
          "name": "stdout"
        },
        {
          "output_type": "display_data",
          "data": {
            "text/html": [
              ""
            ],
            "text/plain": [
              "<IPython.core.display.HTML object>"
            ]
          },
          "metadata": {
            "tags": []
          }
        },
        {
          "output_type": "execute_result",
          "data": {
            "text/plain": [
              "SuggestedLRs(lr_min=1.9054606673307718e-05, lr_steep=1.9054607491852948e-06)"
            ]
          },
          "metadata": {
            "tags": []
          },
          "execution_count": 82
        },
        {
          "output_type": "display_data",
          "data": {
            "image/png": "[encoded data removed]",
            "text/plain": [
              "<Figure size 432x288 with 1 Axes>"
            ]
          },
          "metadata": {
            "tags": [],
            "needs_background": "light"
          }
        }
      ]
    },
    {
      "cell_type": "code",
      "metadata": {
        "id": "d_MwHFy9bIlV",
        "colab": {
          "base_uri": "https://localhost:8080/",
          "height": 624
        },
        "outputId": "a0fbdb69-2a37-42a3-e023-d91d83424575"
      },
      "source": [
        "learn.fit_one_cycle(10, lr_max=slice(1e-5, 1e-4))\n",
        "learn.save('stage-2-quick-xresnet50')"
      ],
      "execution_count": null,
      "outputs": [
        {
          "output_type": "display_data",
          "data": {
            "text/html": [
              "<table border=\"1\" class=\"dataframe\">\n",
              "  <thead>\n",
              "    <tr style=\"text-align: left;\">\n",
              "      <th>epoch</th>\n",
              "      <th>train_loss</th>\n",
              "      <th>valid_loss</th>\n",
              "      <th>accuracy</th>\n",
              "      <th>top_k_accuracy</th>\n",
              "      <th>time</th>\n",
              "    </tr>\n",
              "  </thead>\n",
              "  <tbody>\n",
              "    <tr>\n",
              "      <td>0</td>\n",
              "      <td>2.398705</td>\n",
              "      <td>3.083523</td>\n",
              "      <td>0.330871</td>\n",
              "      <td>0.589956</td>\n",
              "      <td>01:20</td>\n",
              "    </tr>\n",
              "    <tr>\n",
              "      <td>1</td>\n",
              "      <td>2.386346</td>\n",
              "      <td>3.068331</td>\n",
              "      <td>0.332939</td>\n",
              "      <td>0.594387</td>\n",
              "      <td>01:20</td>\n",
              "    </tr>\n",
              "    <tr>\n",
              "      <td>2</td>\n",
              "      <td>2.330010</td>\n",
              "      <td>3.058271</td>\n",
              "      <td>0.333235</td>\n",
              "      <td>0.595864</td>\n",
              "      <td>01:20</td>\n",
              "    </tr>\n",
              "    <tr>\n",
              "      <td>3</td>\n",
              "      <td>2.340703</td>\n",
              "      <td>3.040931</td>\n",
              "      <td>0.335303</td>\n",
              "      <td>0.598818</td>\n",
              "      <td>01:20</td>\n",
              "    </tr>\n",
              "    <tr>\n",
              "      <td>4</td>\n",
              "      <td>2.304447</td>\n",
              "      <td>3.037189</td>\n",
              "      <td>0.341211</td>\n",
              "      <td>0.603545</td>\n",
              "      <td>01:20</td>\n",
              "    </tr>\n",
              "    <tr>\n",
              "      <td>5</td>\n",
              "      <td>2.269883</td>\n",
              "      <td>3.021683</td>\n",
              "      <td>0.345643</td>\n",
              "      <td>0.601477</td>\n",
              "      <td>01:20</td>\n",
              "    </tr>\n",
              "    <tr>\n",
              "      <td>6</td>\n",
              "      <td>2.229787</td>\n",
              "      <td>3.021473</td>\n",
              "      <td>0.342984</td>\n",
              "      <td>0.606795</td>\n",
              "      <td>01:20</td>\n",
              "    </tr>\n",
              "    <tr>\n",
              "      <td>7</td>\n",
              "      <td>2.241567</td>\n",
              "      <td>3.019022</td>\n",
              "      <td>0.346824</td>\n",
              "      <td>0.606204</td>\n",
              "      <td>01:20</td>\n",
              "    </tr>\n",
              "    <tr>\n",
              "      <td>8</td>\n",
              "      <td>2.242438</td>\n",
              "      <td>3.006408</td>\n",
              "      <td>0.345938</td>\n",
              "      <td>0.607681</td>\n",
              "      <td>01:20</td>\n",
              "    </tr>\n",
              "    <tr>\n",
              "      <td>9</td>\n",
              "      <td>2.258759</td>\n",
              "      <td>3.012908</td>\n",
              "      <td>0.347120</td>\n",
              "      <td>0.607681</td>\n",
              "      <td>01:20</td>\n",
              "    </tr>\n",
              "  </tbody>\n",
              "</table>"
            ],
            "text/plain": [
              "<IPython.core.display.HTML object>"
            ]
          },
          "metadata": {
            "tags": []
          }
        },
        {
          "output_type": "display_data",
          "data": {
            "image/png": "[encoded data removed]",
            "text/plain": [
              "<Figure size 432x288 with 1 Axes>"
            ]
          },
          "metadata": {
            "tags": []
          }
        },
        {
          "output_type": "execute_result",
          "data": {
            "text/plain": [
              "Path('/content/drive/My Drive/Houseplant Classifier/Models/stage-2-quick-xresnet50.pth')"
            ]
          },
          "metadata": {
            "tags": []
          },
          "execution_count": 83
        }
      ]
    },
    {
      "cell_type": "markdown",
      "metadata": {
        "id": "7uVB1fs4wG07"
      },
      "source": [
        "### SOTA xResnet\n",
        "\n",
        "* XResNet - Based on the Bag of Tricks for Resnet paper"
      ]
    },
    {
      "cell_type": "code",
      "metadata": {
        "id": "sVC5ff-my7kP",
        "colab": {
          "base_uri": "https://localhost:8080/"
        },
        "outputId": "5c9069f0-faea-4621-f608-b98f2d1d8efc"
      },
      "source": [
        "printm()"
      ],
      "execution_count": null,
      "outputs": [
        {
          "output_type": "stream",
          "text": [
            "Gen RAM Free: 26.1 GB  | Proc size: 303.2 MB\n",
            "GPU RAM Free: 16120MB | Used: 10MB | Util   0% | Total 16130MB\n"
          ],
          "name": "stdout"
        }
      ]
    },
    {
      "cell_type": "code",
      "metadata": {
        "id": "Ut-I-h01tNoM",
        "colab": {
          "base_uri": "https://localhost:8080/",
          "height": 202,
          "referenced_widgets": [
            "f6bdadc35d5b459c83ee1d2bf2b68f33",
            "7de87f5cbf40495cbffcf3c53363011e",
            "176a30623ae143529470a0762936d3bd",
            "e8d4144b806c45b1b1c5d62d92becf80",
            "8c670f0ed1074219b58f736c71a4891e",
            "26c3361ae5f44b76975c7a695f6b53a5",
            "1cb4379ca9e149a3bcb539369fc328b9",
            "aa71f9bc20e745c9a8cc45f1d962355f"
          ]
        },
        "outputId": "d6bd760c-4b7d-43d2-a675-084c43c1034e"
      },
      "source": [
        "learn = create_cnn_learner(pct_images=0.25,\n",
        "                           deterministic=True,  \n",
        "                           arch='xresnet50', \n",
        "                           act_cls=Mish, \n",
        "                           sa=True, \n",
        "                           loss_func=LabelSmoothingCrossEntropy(),\n",
        "                           size=224, \n",
        "                           img_path ='/content/plant_images_database_manualcleanedlosses10/', \n",
        "                           split_path = '/content/plant_image_database/',\n",
        "                           log_name = 'xresnet50_sota.csv',\n",
        "                           bs=56, #60 is too many\n",
        "                           pretrained=True\n",
        "                           )"
      ],
      "execution_count": null,
      "outputs": [
        {
          "output_type": "stream",
          "text": [
            "Random state set:101, cuda used: True\n",
            "Split Path defined, preparing pseudo stratified split.\n",
            "Creating path:label dataframe from /content/plant_image_database/, using 100.00% of the images (77700 images.) Shuffle = False.\n",
            "Preparing stratified 5 fold split, random state is 101. Returning fold 0.\n",
            "Creating path:label dataframe from /content/plant_images_database_manualcleanedlosses10/, using 25.00% of the images (16940 images.) Shuffle = False.\n",
            "We have 517 classes, with a training set of size 13555, and a validation set of size 3385\n",
            "The main split has 80.00% training data with 518 classes, the reduced split has 80.02 % training data, with 517 classes.\n"
          ],
          "name": "stdout"
        },
        {
          "output_type": "stream",
          "text": [
            "Downloading: \"https://s3.amazonaws.com/fast-ai-modelzoo/xrn50_940.pth\" to /root/.cache/torch/hub/checkpoints/xrn50_940.pth\n"
          ],
          "name": "stderr"
        },
        {
          "output_type": "display_data",
          "data": {
            "application/vnd.jupyter.widget-view+json": {
              "model_id": "f6bdadc35d5b459c83ee1d2bf2b68f33",
              "version_minor": 0,
              "version_major": 2
            },
            "text/plain": [
              "HBox(children=(FloatProgress(value=0.0, max=256198016.0), HTML(value='')))"
            ]
          },
          "metadata": {
            "tags": []
          }
        },
        {
          "output_type": "stream",
          "text": [
            "\n"
          ],
          "name": "stdout"
        }
      ]
    },
    {
      "cell_type": "code",
      "metadata": {
        "id": "_QeMsMuLzB8u",
        "colab": {
          "base_uri": "https://localhost:8080/",
          "height": 351
        },
        "outputId": "95174aa2-560f-4c1e-a786-2bbe2a8a12a0"
      },
      "source": [
        "print(f'Freezing model body')\n",
        "learn.freeze()\n",
        "enumerate_params(learn)\n",
        "learn.lr_find()"
      ],
      "execution_count": null,
      "outputs": [
        {
          "output_type": "stream",
          "text": [
            "Freezing model body\n",
            "25,963,873 total parameters.\n",
            "2,424,320 training parameters.\n"
          ],
          "name": "stdout"
        },
        {
          "output_type": "display_data",
          "data": {
            "text/html": [
              ""
            ],
            "text/plain": [
              "<IPython.core.display.HTML object>"
            ]
          },
          "metadata": {
            "tags": []
          }
        },
        {
          "output_type": "execute_result",
          "data": {
            "text/plain": [
              "SuggestedLRs(lr_min=0.0013182567432522773, lr_steep=2.75422871709452e-06)"
            ]
          },
          "metadata": {
            "tags": []
          },
          "execution_count": 17
        },
        {
          "output_type": "display_data",
          "data": {
            "image/png": "[encoded data removed]",
            "text/plain": [
              "<Figure size 432x288 with 1 Axes>"
            ]
          },
          "metadata": {
            "tags": [],
            "needs_background": "light"
          }
        }
      ]
    },
    {
      "cell_type": "code",
      "metadata": {
        "id": "pQSVEFzJzDFS",
        "colab": {
          "base_uri": "https://localhost:8080/"
        },
        "outputId": "3c97a6f7-230b-4c64-f450-87eb4e751065"
      },
      "source": [
        "learn.fit_one_cycle(10, 1e-2)\n",
        "learn.save('stage-1-quick-xresnet50-sota')"
      ],
      "execution_count": null,
      "outputs": [
        {
          "output_type": "display_data",
          "data": {
            "text/html": [
              "<table border=\"1\" class=\"dataframe\">\n",
              "  <thead>\n",
              "    <tr style=\"text-align: left;\">\n",
              "      <th>epoch</th>\n",
              "      <th>train_loss</th>\n",
              "      <th>valid_loss</th>\n",
              "      <th>accuracy</th>\n",
              "      <th>top_k_accuracy</th>\n",
              "      <th>time</th>\n",
              "    </tr>\n",
              "  </thead>\n",
              "  <tbody>\n",
              "    <tr>\n",
              "      <td>0</td>\n",
              "      <td>6.737947</td>\n",
              "      <td>5.911587</td>\n",
              "      <td>0.038996</td>\n",
              "      <td>0.123191</td>\n",
              "      <td>01:17</td>\n",
              "    </tr>\n",
              "    <tr>\n",
              "      <td>1</td>\n",
              "      <td>5.634314</td>\n",
              "      <td>5.161563</td>\n",
              "      <td>0.079764</td>\n",
              "      <td>0.225111</td>\n",
              "      <td>01:17</td>\n",
              "    </tr>\n",
              "    <tr>\n",
              "      <td>2</td>\n",
              "      <td>4.961504</td>\n",
              "      <td>4.744925</td>\n",
              "      <td>0.128804</td>\n",
              "      <td>0.314919</td>\n",
              "      <td>01:17</td>\n",
              "    </tr>\n",
              "    <tr>\n",
              "      <td>3</td>\n",
              "      <td>4.679482</td>\n",
              "      <td>4.501132</td>\n",
              "      <td>0.167208</td>\n",
              "      <td>0.385524</td>\n",
              "      <td>01:17</td>\n",
              "    </tr>\n",
              "    <tr>\n",
              "      <td>4</td>\n",
              "      <td>4.381416</td>\n",
              "      <td>4.314567</td>\n",
              "      <td>0.194092</td>\n",
              "      <td>0.442836</td>\n",
              "      <td>01:17</td>\n",
              "    </tr>\n",
              "    <tr>\n",
              "      <td>5</td>\n",
              "      <td>4.071916</td>\n",
              "      <td>4.087054</td>\n",
              "      <td>0.241654</td>\n",
              "      <td>0.502806</td>\n",
              "      <td>01:18</td>\n",
              "    </tr>\n",
              "    <tr>\n",
              "      <td>6</td>\n",
              "      <td>3.842650</td>\n",
              "      <td>3.866076</td>\n",
              "      <td>0.285967</td>\n",
              "      <td>0.554801</td>\n",
              "      <td>01:17</td>\n",
              "    </tr>\n",
              "    <tr>\n",
              "      <td>7</td>\n",
              "      <td>3.530564</td>\n",
              "      <td>3.742130</td>\n",
              "      <td>0.319941</td>\n",
              "      <td>0.577253</td>\n",
              "      <td>01:17</td>\n",
              "    </tr>\n",
              "    <tr>\n",
              "      <td>8</td>\n",
              "      <td>3.334864</td>\n",
              "      <td>3.699803</td>\n",
              "      <td>0.334417</td>\n",
              "      <td>0.593501</td>\n",
              "      <td>01:17</td>\n",
              "    </tr>\n",
              "    <tr>\n",
              "      <td>9</td>\n",
              "      <td>3.171216</td>\n",
              "      <td>3.692502</td>\n",
              "      <td>0.334417</td>\n",
              "      <td>0.590547</td>\n",
              "      <td>01:17</td>\n",
              "    </tr>\n",
              "  </tbody>\n",
              "</table>"
            ],
            "text/plain": [
              "<IPython.core.display.HTML object>"
            ]
          },
          "metadata": {
            "tags": []
          }
        },
        {
          "output_type": "display_data",
          "data": {
            "image/png": "[encoded data removed]",
            "text/plain": [
              "<Figure size 432x288 with 1 Axes>"
            ]
          },
          "metadata": {
            "tags": []
          }
        },
        {
          "output_type": "execute_result",
          "data": {
            "text/plain": [
              "Path('/content/drive/My Drive/Houseplant Classifier/Models/stage-1-quick-xresnet50-sota.pth')"
            ]
          },
          "metadata": {
            "tags": []
          },
          "execution_count": 18
        }
      ]
    },
    {
      "cell_type": "code",
      "metadata": {
        "id": "ozHV4z4zzHd1",
        "colab": {
          "base_uri": "https://localhost:8080/"
        },
        "outputId": "4be95eac-18c6-4948-d2a9-ea28006783ee"
      },
      "source": [
        "print(f'Unfreezing model body')\n",
        "learn.unfreeze()\n",
        "enumerate_params(learn)\n",
        "learn.lr_find()"
      ],
      "execution_count": null,
      "outputs": [
        {
          "output_type": "stream",
          "text": [
            "Unfreezing model body\n",
            "25,963,873 total parameters.\n",
            "25,963,873 training parameters.\n"
          ],
          "name": "stdout"
        },
        {
          "output_type": "display_data",
          "data": {
            "text/html": [
              ""
            ],
            "text/plain": [
              "<IPython.core.display.HTML object>"
            ]
          },
          "metadata": {
            "tags": []
          }
        },
        {
          "output_type": "execute_result",
          "data": {
            "text/plain": [
              "SuggestedLRs(lr_min=7.585775847473997e-08, lr_steep=6.309573450380412e-07)"
            ]
          },
          "metadata": {
            "tags": []
          },
          "execution_count": 19
        },
        {
          "output_type": "display_data",
          "data": {
            "image/png": "[encoded data removed]",
            "text/plain": [
              "<Figure size 432x288 with 1 Axes>"
            ]
          },
          "metadata": {
            "tags": [],
            "needs_background": "light"
          }
        }
      ]
    },
    {
      "cell_type": "code",
      "metadata": {
        "id": "QD6R9KtAzIaW",
        "colab": {
          "base_uri": "https://localhost:8080/"
        },
        "outputId": "6543bccf-2fe8-448b-d011-6eb0518dda24"
      },
      "source": [
        "learn.fit_one_cycle(10, lr_max=slice(1e-5, 1e-4))\n",
        "learn.save('stage-2-quick-xresnet50-sota')"
      ],
      "execution_count": null,
      "outputs": [
        {
          "output_type": "display_data",
          "data": {
            "text/html": [
              "<table border=\"1\" class=\"dataframe\">\n",
              "  <thead>\n",
              "    <tr style=\"text-align: left;\">\n",
              "      <th>epoch</th>\n",
              "      <th>train_loss</th>\n",
              "      <th>valid_loss</th>\n",
              "      <th>accuracy</th>\n",
              "      <th>top_k_accuracy</th>\n",
              "      <th>time</th>\n",
              "    </tr>\n",
              "  </thead>\n",
              "  <tbody>\n",
              "    <tr>\n",
              "      <td>0</td>\n",
              "      <td>3.217570</td>\n",
              "      <td>3.685616</td>\n",
              "      <td>0.337962</td>\n",
              "      <td>0.590842</td>\n",
              "      <td>01:35</td>\n",
              "    </tr>\n",
              "    <tr>\n",
              "      <td>1</td>\n",
              "      <td>3.167722</td>\n",
              "      <td>3.676413</td>\n",
              "      <td>0.336189</td>\n",
              "      <td>0.595864</td>\n",
              "      <td>01:35</td>\n",
              "    </tr>\n",
              "    <tr>\n",
              "      <td>2</td>\n",
              "      <td>3.177233</td>\n",
              "      <td>3.669021</td>\n",
              "      <td>0.335007</td>\n",
              "      <td>0.594682</td>\n",
              "      <td>01:35</td>\n",
              "    </tr>\n",
              "    <tr>\n",
              "      <td>3</td>\n",
              "      <td>3.135299</td>\n",
              "      <td>3.643317</td>\n",
              "      <td>0.343870</td>\n",
              "      <td>0.600295</td>\n",
              "      <td>01:35</td>\n",
              "    </tr>\n",
              "    <tr>\n",
              "      <td>4</td>\n",
              "      <td>3.131316</td>\n",
              "      <td>3.642608</td>\n",
              "      <td>0.346529</td>\n",
              "      <td>0.605613</td>\n",
              "      <td>01:35</td>\n",
              "    </tr>\n",
              "    <tr>\n",
              "      <td>5</td>\n",
              "      <td>3.089329</td>\n",
              "      <td>3.628105</td>\n",
              "      <td>0.355096</td>\n",
              "      <td>0.607976</td>\n",
              "      <td>01:35</td>\n",
              "    </tr>\n",
              "    <tr>\n",
              "      <td>6</td>\n",
              "      <td>3.066456</td>\n",
              "      <td>3.629627</td>\n",
              "      <td>0.351846</td>\n",
              "      <td>0.606795</td>\n",
              "      <td>01:35</td>\n",
              "    </tr>\n",
              "    <tr>\n",
              "      <td>7</td>\n",
              "      <td>3.066684</td>\n",
              "      <td>3.625455</td>\n",
              "      <td>0.349778</td>\n",
              "      <td>0.608272</td>\n",
              "      <td>01:35</td>\n",
              "    </tr>\n",
              "    <tr>\n",
              "      <td>8</td>\n",
              "      <td>3.061377</td>\n",
              "      <td>3.621203</td>\n",
              "      <td>0.349483</td>\n",
              "      <td>0.609453</td>\n",
              "      <td>01:35</td>\n",
              "    </tr>\n",
              "    <tr>\n",
              "      <td>9</td>\n",
              "      <td>3.101516</td>\n",
              "      <td>3.621573</td>\n",
              "      <td>0.352733</td>\n",
              "      <td>0.608272</td>\n",
              "      <td>01:35</td>\n",
              "    </tr>\n",
              "  </tbody>\n",
              "</table>"
            ],
            "text/plain": [
              "<IPython.core.display.HTML object>"
            ]
          },
          "metadata": {
            "tags": []
          }
        },
        {
          "output_type": "display_data",
          "data": {
            "image/png": "[encoded data removed]",
            "text/plain": [
              "<Figure size 432x288 with 1 Axes>"
            ]
          },
          "metadata": {
            "tags": []
          }
        },
        {
          "output_type": "execute_result",
          "data": {
            "text/plain": [
              "Path('/content/drive/My Drive/Houseplant Classifier/Models/stage-2-quick-xresnet50-sota.pth')"
            ]
          },
          "metadata": {
            "tags": []
          },
          "execution_count": 20
        }
      ]
    },
    {
      "cell_type": "markdown",
      "metadata": {
        "id": "4Skoi2078XiB"
      },
      "source": [
        "### efficientnet_b3"
      ]
    },
    {
      "cell_type": "code",
      "metadata": {
        "id": "GwoDB_oo8XiB"
      },
      "source": [
        "def efficientnet_b3(pretrained = False):\n",
        "  model = geffnet.efficientnet_b3(pretrained=pretrained, drop_rate=0.3, drop_connect_rate=0.2, as_sequential=True)\n",
        "  return model"
      ],
      "execution_count": 30,
      "outputs": []
    },
    {
      "cell_type": "code",
      "metadata": {
        "colab": {
          "base_uri": "https://localhost:8080/"
        },
        "id": "5hWY-hJM8XiB",
        "outputId": "7ab17237-fe58-460c-b02e-269ad12c9926"
      },
      "source": [
        "learn = create_cnn_learner(pct_images=0.25, \n",
        "                           deterministic=True, \n",
        "                           size=224, \n",
        "                           arch = 'efficientnet_b3',\n",
        "                           pretrained=True,\n",
        "                           img_path ='/content/plant_images_database_manualcleanedlosses10/', \n",
        "                           split_path = '/content/plant_image_database/',\n",
        "                           )"
      ],
      "execution_count": 31,
      "outputs": [
        {
          "output_type": "stream",
          "text": [
            "Random state set:101, cuda used: True\n",
            "Split Path defined, preparing pseudo stratified split.\n",
            "Creating path:label dataframe from /content/plant_image_database/, using 100.00% of the images (77700 images.) Shuffle = False.\n",
            "Preparing stratified 5 fold split, random state is 101. Returning fold 0.\n",
            "Creating path:label dataframe from /content/plant_images_database_manualcleanedlosses10/, using 25.00% of the images (16940 images.) Shuffle = False.\n",
            "We have 517 classes, with a training set of size 13555, and a validation set of size 3385\n",
            "The main split has 80.00% training data with 518 classes, the reduced split has 80.02 % training data, with 517 classes.\n"
          ],
          "name": "stdout"
        },
        {
          "output_type": "stream",
          "text": [
            "Downloading: \"https://github.com/rwightman/pytorch-image-models/releases/download/v0.1-weights/efficientnet_b3_ra2-cf984f9c.pth\" to /root/.cache/torch/hub/checkpoints/efficientnet_b3_ra2-cf984f9c.pth\n"
          ],
          "name": "stderr"
        }
      ]
    },
    {
      "cell_type": "code",
      "metadata": {
        "colab": {
          "base_uri": "https://localhost:8080/",
          "height": 352
        },
        "id": "pruGGSNT8XiC",
        "outputId": "073b4e7a-15c0-4346-eba3-4e60813ab0da"
      },
      "source": [
        "print(f'Freezing model body')\n",
        "learn.freeze()\n",
        "enumerate_params(learn)\n",
        "learn.lr_find()"
      ],
      "execution_count": 32,
      "outputs": [
        {
          "output_type": "stream",
          "text": [
            "Freezing model body\n",
            "12,540,968 total parameters.\n",
            "1,932,032 training parameters.\n"
          ],
          "name": "stdout"
        },
        {
          "output_type": "display_data",
          "data": {
            "text/html": [
              ""
            ],
            "text/plain": [
              "<IPython.core.display.HTML object>"
            ]
          },
          "metadata": {
            "tags": []
          }
        },
        {
          "output_type": "execute_result",
          "data": {
            "text/plain": [
              "SuggestedLRs(lr_min=0.005754399299621582, lr_steep=9.12010818865383e-07)"
            ]
          },
          "metadata": {
            "tags": []
          },
          "execution_count": 32
        },
        {
          "output_type": "display_data",
          "data": {
            "image/png": "[encoded data removed]",
            "text/plain": [
              "<Figure size 432x288 with 1 Axes>"
            ]
          },
          "metadata": {
            "tags": [],
            "needs_background": "light"
          }
        }
      ]
    },
    {
      "cell_type": "code",
      "metadata": {
        "colab": {
          "base_uri": "https://localhost:8080/",
          "height": 598
        },
        "id": "tuVYAHL98XiC",
        "outputId": "02286a12-171f-4758-c28d-c3c7adce499c"
      },
      "source": [
        "learn.fit_one_cycle(10, 1e-2)\n",
        "learn.save('stage-1-quick-geffnet-tf_efficientnet_b3')"
      ],
      "execution_count": 33,
      "outputs": [
        {
          "output_type": "display_data",
          "data": {
            "text/html": [
              "<table border=\"1\" class=\"dataframe\">\n",
              "  <thead>\n",
              "    <tr style=\"text-align: left;\">\n",
              "      <th>epoch</th>\n",
              "      <th>train_loss</th>\n",
              "      <th>valid_loss</th>\n",
              "      <th>accuracy</th>\n",
              "      <th>top_k_accuracy</th>\n",
              "      <th>time</th>\n",
              "    </tr>\n",
              "  </thead>\n",
              "  <tbody>\n",
              "    <tr>\n",
              "      <td>0</td>\n",
              "      <td>5.733222</td>\n",
              "      <td>4.163244</td>\n",
              "      <td>0.179616</td>\n",
              "      <td>0.394978</td>\n",
              "      <td>01:12</td>\n",
              "    </tr>\n",
              "    <tr>\n",
              "      <td>1</td>\n",
              "      <td>4.080531</td>\n",
              "      <td>3.173712</td>\n",
              "      <td>0.313442</td>\n",
              "      <td>0.583456</td>\n",
              "      <td>01:12</td>\n",
              "    </tr>\n",
              "    <tr>\n",
              "      <td>2</td>\n",
              "      <td>3.107243</td>\n",
              "      <td>2.568545</td>\n",
              "      <td>0.422452</td>\n",
              "      <td>0.683604</td>\n",
              "      <td>01:12</td>\n",
              "    </tr>\n",
              "    <tr>\n",
              "      <td>3</td>\n",
              "      <td>2.590458</td>\n",
              "      <td>2.211445</td>\n",
              "      <td>0.472083</td>\n",
              "      <td>0.751551</td>\n",
              "      <td>01:12</td>\n",
              "    </tr>\n",
              "    <tr>\n",
              "      <td>4</td>\n",
              "      <td>2.198409</td>\n",
              "      <td>2.035316</td>\n",
              "      <td>0.519055</td>\n",
              "      <td>0.776366</td>\n",
              "      <td>01:12</td>\n",
              "    </tr>\n",
              "    <tr>\n",
              "      <td>5</td>\n",
              "      <td>1.769597</td>\n",
              "      <td>1.838791</td>\n",
              "      <td>0.555687</td>\n",
              "      <td>0.817430</td>\n",
              "      <td>01:12</td>\n",
              "    </tr>\n",
              "    <tr>\n",
              "      <td>6</td>\n",
              "      <td>1.385136</td>\n",
              "      <td>1.701008</td>\n",
              "      <td>0.586411</td>\n",
              "      <td>0.834564</td>\n",
              "      <td>01:12</td>\n",
              "    </tr>\n",
              "    <tr>\n",
              "      <td>7</td>\n",
              "      <td>1.073498</td>\n",
              "      <td>1.628855</td>\n",
              "      <td>0.601182</td>\n",
              "      <td>0.847267</td>\n",
              "      <td>01:12</td>\n",
              "    </tr>\n",
              "    <tr>\n",
              "      <td>8</td>\n",
              "      <td>0.865583</td>\n",
              "      <td>1.608882</td>\n",
              "      <td>0.610044</td>\n",
              "      <td>0.850812</td>\n",
              "      <td>01:12</td>\n",
              "    </tr>\n",
              "    <tr>\n",
              "      <td>9</td>\n",
              "      <td>0.756063</td>\n",
              "      <td>1.595218</td>\n",
              "      <td>0.617134</td>\n",
              "      <td>0.854357</td>\n",
              "      <td>01:12</td>\n",
              "    </tr>\n",
              "  </tbody>\n",
              "</table>"
            ],
            "text/plain": [
              "<IPython.core.display.HTML object>"
            ]
          },
          "metadata": {
            "tags": []
          }
        },
        {
          "output_type": "display_data",
          "data": {
            "image/png": "[encoded data removed]",
            "text/plain": [
              "<Figure size 432x288 with 1 Axes>"
            ]
          },
          "metadata": {
            "tags": []
          }
        },
        {
          "output_type": "execute_result",
          "data": {
            "text/plain": [
              "Path('/content/drive/My Drive/Houseplant Classifier/Models/stage-1-quick-geffnet-tf_efficientnet_b3.pth')"
            ]
          },
          "metadata": {
            "tags": []
          },
          "execution_count": 33
        }
      ]
    },
    {
      "cell_type": "code",
      "metadata": {
        "colab": {
          "base_uri": "https://localhost:8080/",
          "height": 348
        },
        "id": "NPnDhHjH8XiC",
        "outputId": "423b668c-dc40-461f-a50a-36b6d2f4e624"
      },
      "source": [
        "print(f'Unfreezing model body')\n",
        "learn.unfreeze()\n",
        "enumerate_params(learn)\n",
        "learn.lr_find()"
      ],
      "execution_count": 34,
      "outputs": [
        {
          "output_type": "stream",
          "text": [
            "Unfreezing model body\n",
            "12,540,968 total parameters.\n",
            "12,540,968 training parameters.\n"
          ],
          "name": "stdout"
        },
        {
          "output_type": "display_data",
          "data": {
            "text/html": [
              ""
            ],
            "text/plain": [
              "<IPython.core.display.HTML object>"
            ]
          },
          "metadata": {
            "tags": []
          }
        },
        {
          "output_type": "execute_result",
          "data": {
            "text/plain": [
              "SuggestedLRs(lr_min=9.12010818865383e-08, lr_steep=7.585775847473997e-07)"
            ]
          },
          "metadata": {
            "tags": []
          },
          "execution_count": 34
        },
        {
          "output_type": "display_data",
          "data": {
            "image/png": "[encoded data removed]",
            "text/plain": [
              "<Figure size 432x288 with 1 Axes>"
            ]
          },
          "metadata": {
            "tags": [],
            "needs_background": "light"
          }
        }
      ]
    },
    {
      "cell_type": "code",
      "metadata": {
        "colab": {
          "base_uri": "https://localhost:8080/",
          "height": 602
        },
        "id": "URJkWyLP8XiC",
        "outputId": "35c682f6-09f6-4686-bb86-5c9875dbb3fa"
      },
      "source": [
        "learn.fit_one_cycle(10, lr_max=slice(1e-5, 1e-4))\n",
        "learn.save('stage-2-quick-geffnet-tf_efficientnet_b3')"
      ],
      "execution_count": 35,
      "outputs": [
        {
          "output_type": "display_data",
          "data": {
            "text/html": [
              "<table border=\"1\" class=\"dataframe\">\n",
              "  <thead>\n",
              "    <tr style=\"text-align: left;\">\n",
              "      <th>epoch</th>\n",
              "      <th>train_loss</th>\n",
              "      <th>valid_loss</th>\n",
              "      <th>accuracy</th>\n",
              "      <th>top_k_accuracy</th>\n",
              "      <th>time</th>\n",
              "    </tr>\n",
              "  </thead>\n",
              "  <tbody>\n",
              "    <tr>\n",
              "      <td>0</td>\n",
              "      <td>0.773445</td>\n",
              "      <td>1.605855</td>\n",
              "      <td>0.615066</td>\n",
              "      <td>0.854062</td>\n",
              "      <td>01:31</td>\n",
              "    </tr>\n",
              "    <tr>\n",
              "      <td>1</td>\n",
              "      <td>0.726780</td>\n",
              "      <td>1.593315</td>\n",
              "      <td>0.618021</td>\n",
              "      <td>0.854653</td>\n",
              "      <td>01:31</td>\n",
              "    </tr>\n",
              "    <tr>\n",
              "      <td>2</td>\n",
              "      <td>0.729115</td>\n",
              "      <td>1.585041</td>\n",
              "      <td>0.615362</td>\n",
              "      <td>0.854062</td>\n",
              "      <td>01:31</td>\n",
              "    </tr>\n",
              "    <tr>\n",
              "      <td>3</td>\n",
              "      <td>0.713414</td>\n",
              "      <td>1.587736</td>\n",
              "      <td>0.616839</td>\n",
              "      <td>0.855835</td>\n",
              "      <td>01:32</td>\n",
              "    </tr>\n",
              "    <tr>\n",
              "      <td>4</td>\n",
              "      <td>0.706981</td>\n",
              "      <td>1.591856</td>\n",
              "      <td>0.616839</td>\n",
              "      <td>0.854948</td>\n",
              "      <td>01:31</td>\n",
              "    </tr>\n",
              "    <tr>\n",
              "      <td>5</td>\n",
              "      <td>0.670050</td>\n",
              "      <td>1.582651</td>\n",
              "      <td>0.621270</td>\n",
              "      <td>0.859380</td>\n",
              "      <td>01:31</td>\n",
              "    </tr>\n",
              "    <tr>\n",
              "      <td>6</td>\n",
              "      <td>0.693324</td>\n",
              "      <td>1.583791</td>\n",
              "      <td>0.620679</td>\n",
              "      <td>0.857607</td>\n",
              "      <td>01:31</td>\n",
              "    </tr>\n",
              "    <tr>\n",
              "      <td>7</td>\n",
              "      <td>0.683829</td>\n",
              "      <td>1.583646</td>\n",
              "      <td>0.621270</td>\n",
              "      <td>0.859675</td>\n",
              "      <td>01:31</td>\n",
              "    </tr>\n",
              "    <tr>\n",
              "      <td>8</td>\n",
              "      <td>0.654749</td>\n",
              "      <td>1.580604</td>\n",
              "      <td>0.621566</td>\n",
              "      <td>0.860266</td>\n",
              "      <td>01:32</td>\n",
              "    </tr>\n",
              "    <tr>\n",
              "      <td>9</td>\n",
              "      <td>0.660675</td>\n",
              "      <td>1.578963</td>\n",
              "      <td>0.618021</td>\n",
              "      <td>0.859380</td>\n",
              "      <td>01:31</td>\n",
              "    </tr>\n",
              "  </tbody>\n",
              "</table>"
            ],
            "text/plain": [
              "<IPython.core.display.HTML object>"
            ]
          },
          "metadata": {
            "tags": []
          }
        },
        {
          "output_type": "display_data",
          "data": {
            "image/png": "[encoded data removed]",
            "text/plain": [
              "<Figure size 432x288 with 1 Axes>"
            ]
          },
          "metadata": {
            "tags": []
          }
        },
        {
          "output_type": "execute_result",
          "data": {
            "text/plain": [
              "Path('/content/drive/My Drive/Houseplant Classifier/Models/stage-2-quick-geffnet-tf_efficientnet_b3.pth')"
            ]
          },
          "metadata": {
            "tags": []
          },
          "execution_count": 35
        }
      ]
    }
  ]
}