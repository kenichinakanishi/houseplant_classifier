{
  "nbformat": 4,
  "nbformat_minor": 0,
  "metadata": {
    "colab": {
      "name": "Part1_Building_a_Database.ipynb",
      "provenance": [],
      "collapsed_sections": [],
      "toc_visible": true,
      "authorship_tag": "ABX9TyNcwwl6XEmlihUykwcuD51I",
      "include_colab_link": true
    },
    "kernelspec": {
      "name": "python3",
      "display_name": "Python 3"
    }
  },
  "cells": [
    {
      "cell_type": "markdown",
      "metadata": {
        "id": "view-in-github",
        "colab_type": "text"
      },
      "source": [
        "<a href=\"https://colab.research.google.com/github/kenichinakanishi/houseplant_classifier/blob/master/Part1_Building_a_Database.ipynb\" target=\"_parent\"><img src=\"https://colab.research.google.com/assets/colab-badge.svg\" alt=\"Open In Colab\"/></a>"
      ]
    },
    {
      "cell_type": "markdown",
      "metadata": {
        "id": "FEGHD9kXRPyx"
      },
      "source": [
        "# Web Data Scraping"
      ]
    },
    {
      "cell_type": "code",
      "metadata": {
        "id": "i3TQEoLsGRV4"
      },
      "source": [
        "import pandas as pd\n",
        "import numpy as np\n",
        "import matplotlib.pyplot as plt\n",
        "import seaborn as sns\n",
        "%matplotlib inline"
      ],
      "execution_count": null,
      "outputs": []
    },
    {
      "cell_type": "code",
      "metadata": {
        "id": "TaitcIgDGWsv"
      },
      "source": [
        "from urllib.request import Request, urlopen\n",
        "from bs4 import BeautifulSoup\n",
        "\n",
        "def getHTMLContent(link):\n",
        "    html = urlopen(link)\n",
        "    soup = BeautifulSoup(html, 'html.parser')\n",
        "    return soup"
      ],
      "execution_count": null,
      "outputs": []
    },
    {
      "cell_type": "markdown",
      "metadata": {
        "id": "DzN2FEITwbbQ"
      },
      "source": [
        "Grab data for cats."
      ]
    },
    {
      "cell_type": "code",
      "metadata": {
        "id": "o001Le3tHDbe"
      },
      "source": [
        "req = Request('https://www.aspca.org/pet-care/animal-poison-control/cats-plant-list', headers={'User-Agent': 'Mozilla/5.0'})\n",
        "webpage = urlopen(req).read()\n",
        "# Soupify the webpage\n",
        "soup = BeautifulSoup(webpage, 'lxml')       \n",
        "# Search through the parse tree to get all the content from the table         \n",
        "content_list = soup.find_all('span')[7:-4]       \n",
        "# Put it in a dataframe for further processing\n",
        "df_cats = pd.DataFrame(content_list)           "
      ],
      "execution_count": null,
      "outputs": []
    },
    {
      "cell_type": "code",
      "metadata": {
        "id": "O_Rg5GyaNvSH"
      },
      "source": [
        "# Clean up the strings\n",
        "df_cats[0] = df_cats[0].apply(lambda x: str(x).split('>')[1][:-3])\n",
        "df_cats[4] = df_cats[4].apply(lambda x: str(x).split('>')[1][:-3])\n",
        "df_cats[1] = df_cats[1].apply(lambda x: str(x).split('(')[1][0:-4])\n",
        "# Get rid of useless columns and rename the columns\n",
        "df_cats = df_cats.drop(columns=[2,3,5,6]).rename(columns = {0:'Name',1:'Alternative Names',4:'Scientific Name',7:'Family'})\n",
        "# Separate toxic and non-toxic plants\n",
        "df_cats['Toxic to Cats'] = True\n",
        "first_nontoxic_cats = [index for index in df_cats[df_cats['Name'].str.startswith('A')].index if index>100][0]\n",
        "df_cats.loc[first_nontoxic_cats:,'Toxic to Cats'] = False"
      ],
      "execution_count": null,
      "outputs": []
    },
    {
      "cell_type": "markdown",
      "metadata": {
        "id": "EbGpn6wyPo8k"
      },
      "source": [
        "Same thing for dogs."
      ]
    },
    {
      "cell_type": "code",
      "metadata": {
        "id": "vlhdYRpLPbeL"
      },
      "source": [
        "req = Request('https://www.aspca.org/pet-care/animal-poison-control/dogs-plant-list', headers={'User-Agent': 'Mozilla/5.0'})\n",
        "webpage = urlopen(req).read()\n",
        "soup = BeautifulSoup(webpage, 'lxml')                 # soupify the webpage\n",
        "content_list = soup.find_all('span')[7:-4]            # Get all the content from the table\n",
        "df_dogs = pd.DataFrame(content_list)                  # Put it in a dataframe for processing"
      ],
      "execution_count": null,
      "outputs": []
    },
    {
      "cell_type": "code",
      "metadata": {
        "id": "T_6xtROtPugl"
      },
      "source": [
        "# Clean up the strings\n",
        "df_dogs[0] = df_dogs[0].apply(lambda x: str(x).split('>')[1][:-3])\n",
        "df_dogs[4] = df_dogs[4].apply(lambda x: str(x).split('>')[1][:-3])\n",
        "df_dogs[1] = df_dogs[1].apply(lambda x: str(x).split('(')[1][0:-4])\n",
        "# Get rid of useless columns and rename the columns\n",
        "df_dogs = df_dogs.drop(columns=[2,3,5,6]).rename(columns = {0:'Name',1:'Alternative Names',4:'Scientific Name',7:'Family'})\n",
        "# Separate toxic and non-toxic plants\n",
        "df_dogs['Toxic to Dogs'] = True\n",
        "first_nontoxic_dogs = [index for index in df_dogs[df_dogs['Name'].str.startswith('A')].index if index>100][0]\n",
        "df_dogs.loc[first_nontoxic_dogs:,'Toxic to Dogs'] = False"
      ],
      "execution_count": null,
      "outputs": []
    },
    {
      "cell_type": "markdown",
      "metadata": {
        "id": "D6kIIQZbwfWF"
      },
      "source": [
        "Merge data into one master dataframe. "
      ]
    },
    {
      "cell_type": "code",
      "metadata": {
        "id": "eYrYYL3KPzi0"
      },
      "source": [
        "# Merge dataframes into one, outer merge used to retain values that only exist on one side\n",
        "df_catsdogs = df_dogs.merge(df_cats, how='outer', on=['Name','Alternative Names','Scientific Name','Family'])\n",
        "df_catsdogs = df_catsdogs.fillna('Unknown')\n",
        "aspca_df = df_catsdogs.copy()\n",
        "# Assume same toxicity for dogs and cats if unknown\n",
        "aspca_df['Toxic to Cats'] = aspca_df.apply(lambda x: x['Toxic to Dogs'] if (x['Toxic to Cats'] == 'Unknown') else x['Toxic to Cats'], axis=1)\n",
        "aspca_df['Toxic to Dogs'] = aspca_df.apply(lambda x: x['Toxic to Cats'] if (x['Toxic to Dogs'] == 'Unknown') else x['Toxic to Dogs'], axis=1)"
      ],
      "execution_count": null,
      "outputs": []
    },
    {
      "cell_type": "code",
      "metadata": {
        "id": "3ivZEEbmKJHK",
        "outputId": "0d75651c-3cab-49ff-f54a-702ab99a97b2",
        "colab": {
          "base_uri": "https://localhost:8080/",
          "height": 359
        }
      },
      "source": [
        "aspca_df.sample(10)"
      ],
      "execution_count": null,
      "outputs": [
        {
          "output_type": "execute_result",
          "data": {
            "text/html": [
              "<div>\n",
              "<style scoped>\n",
              "    .dataframe tbody tr th:only-of-type {\n",
              "        vertical-align: middle;\n",
              "    }\n",
              "\n",
              "    .dataframe tbody tr th {\n",
              "        vertical-align: top;\n",
              "    }\n",
              "\n",
              "    .dataframe thead th {\n",
              "        text-align: right;\n",
              "    }\n",
              "</style>\n",
              "<table border=\"1\" class=\"dataframe\">\n",
              "  <thead>\n",
              "    <tr style=\"text-align: right;\">\n",
              "      <th></th>\n",
              "      <th>Name</th>\n",
              "      <th>Alternative Names</th>\n",
              "      <th>Scientific Name</th>\n",
              "      <th>Family</th>\n",
              "      <th>Toxic to Dogs</th>\n",
              "      <th>Toxic to Cats</th>\n",
              "    </tr>\n",
              "  </thead>\n",
              "  <tbody>\n",
              "    <tr>\n",
              "      <th>821</th>\n",
              "      <td>Poison Sumac</td>\n",
              "      <td>Similar: Poison Ivy, Poison Oak</td>\n",
              "      <td>Toxicodendron species</td>\n",
              "      <td>Anacardiaceae</td>\n",
              "      <td>False</td>\n",
              "      <td>False</td>\n",
              "    </tr>\n",
              "    <tr>\n",
              "      <th>864</th>\n",
              "      <td>Sand Lily</td>\n",
              "      <td>mountain lily, star lily</td>\n",
              "      <td>Leucocrinum montanum</td>\n",
              "      <td>Liliaceae</td>\n",
              "      <td>False</td>\n",
              "      <td>False</td>\n",
              "    </tr>\n",
              "    <tr>\n",
              "      <th>200</th>\n",
              "      <td>Jade Plant</td>\n",
              "      <td>Baby Jade, Dwarf rubber plant, Jade tree, Chin...</td>\n",
              "      <td>Crassula argentea</td>\n",
              "      <td>Crassulaceae</td>\n",
              "      <td>True</td>\n",
              "      <td>True</td>\n",
              "    </tr>\n",
              "    <tr>\n",
              "      <th>243</th>\n",
              "      <td>Mayweed</td>\n",
              "      <td>Poison Daisy, Stinking Chamomile</td>\n",
              "      <td>Anthemis cotula</td>\n",
              "      <td>Asteraceae</td>\n",
              "      <td>True</td>\n",
              "      <td>True</td>\n",
              "    </tr>\n",
              "    <tr>\n",
              "      <th>750</th>\n",
              "      <td>Mockernut Hickory</td>\n",
              "      <td>Squarenut</td>\n",
              "      <td>Carya tomentosa</td>\n",
              "      <td>Juglandaceae</td>\n",
              "      <td>False</td>\n",
              "      <td>False</td>\n",
              "    </tr>\n",
              "    <tr>\n",
              "      <th>333</th>\n",
              "      <td>Sago Palm</td>\n",
              "      <td>Coontie Palm, Cardboard Palm, cycads and zamias</td>\n",
              "      <td>Cycas revoluta, zamia species</td>\n",
              "      <td>Cycadaceae</td>\n",
              "      <td>True</td>\n",
              "      <td>True</td>\n",
              "    </tr>\n",
              "    <tr>\n",
              "      <th>766</th>\n",
              "      <td>Muscari Armeniacum</td>\n",
              "      <td>Grape Hyacinth</td>\n",
              "      <td>Muscari armeniacum</td>\n",
              "      <td>Hyacinthaceae</td>\n",
              "      <td>False</td>\n",
              "      <td>False</td>\n",
              "    </tr>\n",
              "    <tr>\n",
              "      <th>195</th>\n",
              "      <td>Inkberry</td>\n",
              "      <td>English Holly, European Holly, Oregon Holly, A...</td>\n",
              "      <td>Ilex opaca</td>\n",
              "      <td>Aquifoliaceae</td>\n",
              "      <td>True</td>\n",
              "      <td>True</td>\n",
              "    </tr>\n",
              "    <tr>\n",
              "      <th>749</th>\n",
              "      <td>Mistletoe Cactus</td>\n",
              "      <td></td>\n",
              "      <td>Rhipsalis cassutha</td>\n",
              "      <td>Cactaceae</td>\n",
              "      <td>False</td>\n",
              "      <td>False</td>\n",
              "    </tr>\n",
              "    <tr>\n",
              "      <th>699</th>\n",
              "      <td>King and Queen Fern</td>\n",
              "      <td>Hen and Chickens Fern, Spleenwort, Parsley fern</td>\n",
              "      <td>Asplenium bulbiferum</td>\n",
              "      <td>Polypodaceae</td>\n",
              "      <td>False</td>\n",
              "      <td>False</td>\n",
              "    </tr>\n",
              "  </tbody>\n",
              "</table>\n",
              "</div>"
            ],
            "text/plain": [
              "                    Name  ... Toxic to Cats\n",
              "821         Poison Sumac  ...         False\n",
              "864            Sand Lily  ...         False\n",
              "200           Jade Plant  ...          True\n",
              "243              Mayweed  ...          True\n",
              "750    Mockernut Hickory  ...         False\n",
              "333            Sago Palm  ...          True\n",
              "766   Muscari Armeniacum  ...         False\n",
              "195             Inkberry  ...          True\n",
              "749     Mistletoe Cactus  ...         False\n",
              "699  King and Queen Fern  ...         False\n",
              "\n",
              "[10 rows x 6 columns]"
            ]
          },
          "metadata": {
            "tags": []
          },
          "execution_count": 8
        }
      ]
    },
    {
      "cell_type": "markdown",
      "metadata": {
        "id": "Q3zjJ3V3V1ci"
      },
      "source": [
        "# Data Cleanup"
      ]
    },
    {
      "cell_type": "code",
      "metadata": {
        "id": "pZYmXIBO_e0U"
      },
      "source": [
        "aspca_df = aspca_df.drop_duplicates('Scientific Name') # Get rid of duplicates\n",
        "aspca_df = aspca_df.reset_index(drop=True).sort_index()   # Reset and sort index"
      ],
      "execution_count": null,
      "outputs": []
    },
    {
      "cell_type": "code",
      "metadata": {
        "id": "F_yACPZ9V3GV"
      },
      "source": [
        "aspca_df = aspca_df.drop(aspca_df[aspca_df['Scientific Name'].isin(['','NONE LISTED'])].index,axis=0).reset_index(drop=True).sort_index()    # Fix mistakes in database"
      ],
      "execution_count": null,
      "outputs": []
    },
    {
      "cell_type": "code",
      "metadata": {
        "id": "t-FhIcAABgOS"
      },
      "source": [
        "# Ensure proper punctuation for each scientific name.\n",
        "def normalize_capitalization(x):\n",
        "  first_word, rest = x.split()[0], x.split()[1:]\n",
        "  first_word = [first_word.capitalize()]\n",
        "  rest = [word.lower() for word in rest]\n",
        "  return ' '.join(first_word+rest)\n",
        "\n",
        "# Clean up repeated species that have different names\n",
        "def species_normalizer(word):\n",
        "  if word.split()[-1] in ['sp','species','spp','sp.','spp.']:\n",
        "    word = ''.join(word.split()[:-1])\n",
        "  return word\n",
        "\n",
        "# Remove cv from names, as it is an outdated way of referring to cultivars\n",
        "def cv_remover(word):\n",
        "  if 'cv' in word:\n",
        "    word = word.replace(' cv ',' ')\n",
        "  return word\n",
        "\n",
        "# Remove var. from names\n",
        "def var_remover(word):\n",
        "  if 'var' in word:\n",
        "    word = word.replace(' var. ',' ')\n",
        "  return word\n",
        "\n",
        "# Apply each of the functions\n",
        "aspca_df['Scientific Name'] = aspca_df['Scientific Name'].apply(normalize_capitalization)\n",
        "aspca_df['Scientific Name'] = aspca_df['Scientific Name'].apply(species_normalizer)\n",
        "aspca_df['Scientific Name'] = aspca_df['Scientific Name'].apply(cv_remover)\n",
        "aspca_df['Scientific Name'] = aspca_df['Scientific Name'].apply(var_remover)\n",
        "\n",
        "# Remove special characters\n",
        "aspca_df['Scientific Name'] = aspca_df['Scientific Name'].apply(lambda x: ''.join([character for character in x if character.isalnum() or character.isspace()]))\n",
        "\n",
        "# Reset dataframe for further processing\n",
        "aspca_df = aspca_df.sort_values('Scientific Name').drop_duplicates('Scientific Name')\n",
        "aspca_df = aspca_df.reset_index(drop=True).sort_index()"
      ],
      "execution_count": null,
      "outputs": []
    },
    {
      "cell_type": "code",
      "metadata": {
        "id": "UtbNpE7VoM4F",
        "outputId": "21133f8e-2dad-49f8-a97c-b90fe5130a18",
        "colab": {
          "base_uri": "https://localhost:8080/",
          "height": 359
        }
      },
      "source": [
        "aspca_df.sample(10)"
      ],
      "execution_count": null,
      "outputs": [
        {
          "output_type": "execute_result",
          "data": {
            "text/html": [
              "<div>\n",
              "<style scoped>\n",
              "    .dataframe tbody tr th:only-of-type {\n",
              "        vertical-align: middle;\n",
              "    }\n",
              "\n",
              "    .dataframe tbody tr th {\n",
              "        vertical-align: top;\n",
              "    }\n",
              "\n",
              "    .dataframe thead th {\n",
              "        text-align: right;\n",
              "    }\n",
              "</style>\n",
              "<table border=\"1\" class=\"dataframe\">\n",
              "  <thead>\n",
              "    <tr style=\"text-align: right;\">\n",
              "      <th></th>\n",
              "      <th>Name</th>\n",
              "      <th>Alternative Names</th>\n",
              "      <th>Scientific Name</th>\n",
              "      <th>Family</th>\n",
              "      <th>Toxic to Dogs</th>\n",
              "      <th>Toxic to Cats</th>\n",
              "    </tr>\n",
              "  </thead>\n",
              "  <tbody>\n",
              "    <tr>\n",
              "      <th>510</th>\n",
              "      <td>Deadly Nightshade</td>\n",
              "      <td>Nightshade, Black Nightshade, European Bitters...</td>\n",
              "      <td>Solanum</td>\n",
              "      <td>Solanaceae</td>\n",
              "      <td>True</td>\n",
              "      <td>True</td>\n",
              "    </tr>\n",
              "    <tr>\n",
              "      <th>410</th>\n",
              "      <td>Trailing Peperomia</td>\n",
              "      <td></td>\n",
              "      <td>Peperomia prostata</td>\n",
              "      <td>Piperaceae</td>\n",
              "      <td>False</td>\n",
              "      <td>False</td>\n",
              "    </tr>\n",
              "    <tr>\n",
              "      <th>327</th>\n",
              "      <td>Leopard Lily</td>\n",
              "      <td></td>\n",
              "      <td>Lachenalia lilacina</td>\n",
              "      <td>Hyacinthaceae</td>\n",
              "      <td>False</td>\n",
              "      <td>False</td>\n",
              "    </tr>\n",
              "    <tr>\n",
              "      <th>297</th>\n",
              "      <td>Silver Pink Vine</td>\n",
              "      <td></td>\n",
              "      <td>Hoya publcalyx</td>\n",
              "      <td>Asclepiadaceae</td>\n",
              "      <td>False</td>\n",
              "      <td>False</td>\n",
              "    </tr>\n",
              "    <tr>\n",
              "      <th>480</th>\n",
              "      <td>Scarlet Sage</td>\n",
              "      <td>Texas Sage</td>\n",
              "      <td>Salvia coccinea</td>\n",
              "      <td>Labiatae</td>\n",
              "      <td>False</td>\n",
              "      <td>False</td>\n",
              "    </tr>\n",
              "    <tr>\n",
              "      <th>292</th>\n",
              "      <td>Belmore Sentry Palm</td>\n",
              "      <td>Curly Palm</td>\n",
              "      <td>Howea belmoreana</td>\n",
              "      <td>Palmae</td>\n",
              "      <td>False</td>\n",
              "      <td>False</td>\n",
              "    </tr>\n",
              "    <tr>\n",
              "      <th>357</th>\n",
              "      <td>Apple</td>\n",
              "      <td>Includes crabapples</td>\n",
              "      <td>Malus sylvestrus</td>\n",
              "      <td>Rosaceae</td>\n",
              "      <td>True</td>\n",
              "      <td>True</td>\n",
              "    </tr>\n",
              "    <tr>\n",
              "      <th>189</th>\n",
              "      <td>Dainty Rabbits-Foot Fern</td>\n",
              "      <td>Lacy Paw, Lacy Hare's Foot</td>\n",
              "      <td>Davallia fejeensis</td>\n",
              "      <td>Davalliaceae</td>\n",
              "      <td>False</td>\n",
              "      <td>False</td>\n",
              "    </tr>\n",
              "    <tr>\n",
              "      <th>132</th>\n",
              "      <td>Bergamot Orange</td>\n",
              "      <td>Bergamot, Citrus bergamia</td>\n",
              "      <td>Citrus aurantium</td>\n",
              "      <td>Rutaceae</td>\n",
              "      <td>True</td>\n",
              "      <td>True</td>\n",
              "    </tr>\n",
              "    <tr>\n",
              "      <th>384</th>\n",
              "      <td>Nicotiana</td>\n",
              "      <td>Tree Tobacco, Tobacco, Mustard Tree</td>\n",
              "      <td>Nicotiana glauca</td>\n",
              "      <td>Solanaceae</td>\n",
              "      <td>True</td>\n",
              "      <td>True</td>\n",
              "    </tr>\n",
              "  </tbody>\n",
              "</table>\n",
              "</div>"
            ],
            "text/plain": [
              "                         Name  ... Toxic to Cats\n",
              "510         Deadly Nightshade  ...          True\n",
              "410        Trailing Peperomia  ...         False\n",
              "327              Leopard Lily  ...         False\n",
              "297          Silver Pink Vine  ...         False\n",
              "480              Scarlet Sage  ...         False\n",
              "292       Belmore Sentry Palm  ...         False\n",
              "357                     Apple  ...          True\n",
              "189  Dainty Rabbits-Foot Fern  ...         False\n",
              "132           Bergamot Orange  ...          True\n",
              "384                 Nicotiana  ...          True\n",
              "\n",
              "[10 rows x 6 columns]"
            ]
          },
          "metadata": {
            "tags": []
          },
          "execution_count": 14
        }
      ]
    },
    {
      "cell_type": "markdown",
      "metadata": {
        "id": "AzodFYoI4vEl"
      },
      "source": [
        "## Cross-check scientific names against http://www.worldfloraonline.org/\n",
        "\n",
        "From experimentation with this dataset, a large amount of the scientific names in the dataset are either mispelled, or out of date synonyms for the accepted name of a species. \n",
        "\n",
        "Mispellings will cause issues for the searching of google images for a plant that doesn't exist!\n",
        "\n",
        "Searching for out of date synonyms can have similar issues, or cause a class to be represented twice with different labels, causing our model to have to guess between two identical plants. \n",
        "\n",
        "To fix this, we are going to rely on the [World Flora Online taxonomic backbone](http://www.worldfloraonline.org/downloadData), which is actively curated by taxonomic specialists of particular plant groups, with Taxonomic Expert Networks (TENs) given responsibility for updating the classifications of families. \n",
        "\n",
        "This database provides their data in a txt file, which we can read in and work to compare against the database scraped from the ASPCA plant toxicity database."
      ]
    },
    {
      "cell_type": "code",
      "metadata": {
        "id": "rhJmPsZm61EC"
      },
      "source": [
        "use_cols = ['scientificName','taxonRank','family','genus','taxonomicStatus','taxonID', 'acceptedNameUsageID']\n",
        "wfo_df = pd.read_csv('/content/drive/My Drive/Houseplant Classifier/classification.txt', sep='\\t', lineterminator='\\n', usecols=use_cols)\n",
        "wfo_df = wfo_df.sort_values('taxonomicStatus')"
      ],
      "execution_count": null,
      "outputs": []
    },
    {
      "cell_type": "code",
      "metadata": {
        "id": "L9xeGn6ONiko",
        "outputId": "40c8f02f-d87b-4613-f2e7-14377fabef9c",
        "colab": {
          "base_uri": "https://localhost:8080/",
          "height": 359
        }
      },
      "source": [
        "wfo_df.sample(10)"
      ],
      "execution_count": null,
      "outputs": [
        {
          "output_type": "execute_result",
          "data": {
            "text/html": [
              "<div>\n",
              "<style scoped>\n",
              "    .dataframe tbody tr th:only-of-type {\n",
              "        vertical-align: middle;\n",
              "    }\n",
              "\n",
              "    .dataframe tbody tr th {\n",
              "        vertical-align: top;\n",
              "    }\n",
              "\n",
              "    .dataframe thead th {\n",
              "        text-align: right;\n",
              "    }\n",
              "</style>\n",
              "<table border=\"1\" class=\"dataframe\">\n",
              "  <thead>\n",
              "    <tr style=\"text-align: right;\">\n",
              "      <th></th>\n",
              "      <th>taxonID</th>\n",
              "      <th>scientificName</th>\n",
              "      <th>taxonRank</th>\n",
              "      <th>family</th>\n",
              "      <th>genus</th>\n",
              "      <th>taxonomicStatus</th>\n",
              "      <th>acceptedNameUsageID</th>\n",
              "    </tr>\n",
              "  </thead>\n",
              "  <tbody>\n",
              "    <tr>\n",
              "      <th>952136</th>\n",
              "      <td>wfo-0000959029</td>\n",
              "      <td>Eugenia sellowiana</td>\n",
              "      <td>SPECIES</td>\n",
              "      <td>Myrtaceae</td>\n",
              "      <td>Eugenia</td>\n",
              "      <td>Synonym</td>\n",
              "      <td>wfo-0000336633</td>\n",
              "    </tr>\n",
              "    <tr>\n",
              "      <th>973864</th>\n",
              "      <td>wfo-0000980782</td>\n",
              "      <td>Hedyotis recurva</td>\n",
              "      <td>SPECIES</td>\n",
              "      <td>Rubiaceae</td>\n",
              "      <td>Hedyotis</td>\n",
              "      <td>Synonym</td>\n",
              "      <td>wfo-0000255227</td>\n",
              "    </tr>\n",
              "    <tr>\n",
              "      <th>1223623</th>\n",
              "      <td>wfo-0001233467</td>\n",
              "      <td>Microlepia krameri</td>\n",
              "      <td>SPECIES</td>\n",
              "      <td>Dennstaedtiaceae</td>\n",
              "      <td>Microlepia</td>\n",
              "      <td>Unchecked</td>\n",
              "      <td>NaN</td>\n",
              "    </tr>\n",
              "    <tr>\n",
              "      <th>958276</th>\n",
              "      <td>wfo-0000965169</td>\n",
              "      <td>Euphorbia tricolor</td>\n",
              "      <td>SPECIES</td>\n",
              "      <td>Euphorbiaceae</td>\n",
              "      <td>Euphorbia</td>\n",
              "      <td>Accepted</td>\n",
              "      <td>NaN</td>\n",
              "    </tr>\n",
              "    <tr>\n",
              "      <th>346754</th>\n",
              "      <td>wfo-0000351334</td>\n",
              "      <td>Carex sinoaristata</td>\n",
              "      <td>SPECIES</td>\n",
              "      <td>Cyperaceae</td>\n",
              "      <td>Carex</td>\n",
              "      <td>Accepted</td>\n",
              "      <td>NaN</td>\n",
              "    </tr>\n",
              "    <tr>\n",
              "      <th>923267</th>\n",
              "      <td>wfo-0000930031</td>\n",
              "      <td>Salix phloragna</td>\n",
              "      <td>SPECIES</td>\n",
              "      <td>Salicaceae</td>\n",
              "      <td>Salix</td>\n",
              "      <td>Unchecked</td>\n",
              "      <td>NaN</td>\n",
              "    </tr>\n",
              "    <tr>\n",
              "      <th>529536</th>\n",
              "      <td>wfo-0000535004</td>\n",
              "      <td>Anemonastrum brevipedunculatum</td>\n",
              "      <td>SPECIES</td>\n",
              "      <td>Ranunculaceae</td>\n",
              "      <td>Anemonastrum</td>\n",
              "      <td>Synonym</td>\n",
              "      <td>wfo-0000535519</td>\n",
              "    </tr>\n",
              "    <tr>\n",
              "      <th>607087</th>\n",
              "      <td>wfo-0000612988</td>\n",
              "      <td>Coccoloba acutissima</td>\n",
              "      <td>SPECIES</td>\n",
              "      <td>Polygonaceae</td>\n",
              "      <td>Coccoloba</td>\n",
              "      <td>Synonym</td>\n",
              "      <td>wfo-0000613349</td>\n",
              "    </tr>\n",
              "    <tr>\n",
              "      <th>695250</th>\n",
              "      <td>wfo-0000701497</td>\n",
              "      <td>Geranium trilobum</td>\n",
              "      <td>SPECIES</td>\n",
              "      <td>Geraniaceae</td>\n",
              "      <td>Geranium</td>\n",
              "      <td>Synonym</td>\n",
              "      <td>wfo-0000700548</td>\n",
              "    </tr>\n",
              "    <tr>\n",
              "      <th>470827</th>\n",
              "      <td>wfo-0000476062</td>\n",
              "      <td>Pentaglottis suberifolia</td>\n",
              "      <td>SPECIES</td>\n",
              "      <td>Boraginaceae</td>\n",
              "      <td>Pentaglottis</td>\n",
              "      <td>Unchecked</td>\n",
              "      <td>NaN</td>\n",
              "    </tr>\n",
              "  </tbody>\n",
              "</table>\n",
              "</div>"
            ],
            "text/plain": [
              "                taxonID  ... acceptedNameUsageID\n",
              "952136   wfo-0000959029  ...      wfo-0000336633\n",
              "973864   wfo-0000980782  ...      wfo-0000255227\n",
              "1223623  wfo-0001233467  ...                 NaN\n",
              "958276   wfo-0000965169  ...                 NaN\n",
              "346754   wfo-0000351334  ...                 NaN\n",
              "923267   wfo-0000930031  ...                 NaN\n",
              "529536   wfo-0000535004  ...      wfo-0000535519\n",
              "607087   wfo-0000612988  ...      wfo-0000613349\n",
              "695250   wfo-0000701497  ...      wfo-0000700548\n",
              "470827   wfo-0000476062  ...                 NaN\n",
              "\n",
              "[10 rows x 7 columns]"
            ]
          },
          "metadata": {
            "tags": []
          },
          "execution_count": 16
        }
      ]
    },
    {
      "cell_type": "code",
      "metadata": {
        "id": "WE1bkygHTVVD"
      },
      "source": [
        "# Don't need this column, we trust the WFO database more\n",
        "aspca_df.drop('Family', axis=1, inplace=True)\n",
        "# Merge dataframes together to get trusted info\n",
        "aspca_df = aspca_df.merge(wfo_df, how = 'left', left_on = ['Scientific Name'], right_on = ['scientificName'])\n",
        "# Sort by taxonomicStatus and drop duplicates keeping the first - keeping accepted names as priority\n",
        "aspca_df = aspca_df.sort_values('taxonomicStatus').drop_duplicates('Scientific Name', keep='first').reset_index(drop=True)\n",
        "# Fill NaN's with Unknown\n",
        "aspca_df = aspca_df.fillna('Unknown')"
      ],
      "execution_count": null,
      "outputs": []
    },
    {
      "cell_type": "markdown",
      "metadata": {
        "id": "SurBXJkK-XVk"
      },
      "source": [
        "### Fix unknown data\n",
        "\n",
        "Many scientific names refer to the same species but are off by a few letters due to errors in the database. Lets use a function from difflib to determine string distances to spot these errors. We can sort the dataframe and compare only to the scientific names that begin with the same letter to save time.  "
      ]
    },
    {
      "cell_type": "code",
      "metadata": {
        "id": "olfhkOsBkuSn",
        "outputId": "d78f64bd-6078-4ff7-ee93-1d69fe804a5f",
        "colab": {
          "base_uri": "https://localhost:8080/",
          "height": 34
        }
      },
      "source": [
        "# Clean up and deal with scientific names that are unknown, due to misspellings or otherwise.\n",
        "aspca_df = aspca_df.sort_values('taxonomicStatus').drop_duplicates('Scientific Name', keep='first').reset_index(drop=True)\n",
        "unknown_idx = aspca_df[aspca_df.taxonomicStatus == 'Unknown'].index\n",
        "print(len(unknown_idx))"
      ],
      "execution_count": null,
      "outputs": [
        {
          "output_type": "stream",
          "text": [
            "101\n"
          ],
          "name": "stdout"
        }
      ]
    },
    {
      "cell_type": "code",
      "metadata": {
        "id": "6hQxKXnxT4me"
      },
      "source": [
        "def get_closest_name(unknown_name, name_df = wfo_df, name_col = 'scientificName', threshold=0.9, verbose=False):\n",
        "  \"\"\" Matches an 'unknown_name' against accepted names in a 'name_df'. Will return names that are above a 'threshold' of closeness. \n",
        "\n",
        "  Parameters\n",
        "  ----------\n",
        "  unknown_name: str\n",
        "    Name we want to match against accepted names. \n",
        "  name_df: DataFrame\n",
        "    DataFrame containing accepted names.\n",
        "  name_col: str, name of name_df column \n",
        "    DataFrame column containing accepted names.\n",
        "  threshold: int\n",
        "    How closely does the unknown_name need to match with the accepted name.\n",
        "    If above this threshold, the name is added to a dictionary of possible names.\n",
        "  verbose: bool\n",
        "    Should the function print the entire list of possible names. \n",
        "\n",
        "  Returns:\n",
        "  ----------\n",
        "  str\n",
        "    Closest name to 'unknown_name' that was above the given 'threshold'.\n",
        "  \"\"\"\n",
        "  import operator\n",
        "  from difflib import SequenceMatcher\n",
        "  def similar(a, b):\n",
        "      return SequenceMatcher(None, a, b).ratio()\n",
        "  poss_names = {}\n",
        "  # Only look through entries with the same first letter to save time\n",
        "  for true_sciname in name_df[name_df[name_col].str.startswith(unknown_name[0])][name_col].values:\n",
        "    similar_score = similar(unknown_name, true_sciname)\n",
        "    if similar_score>threshold:\n",
        "      poss_names[true_sciname]=similar_score\n",
        "  # If the dict is empty\n",
        "  if verbose == True:\n",
        "    print(poss_names)\n",
        "  if not bool(poss_names):\n",
        "    print(f'No names close enough to {unknown_name}.')\n",
        "    return ''\n",
        "  else:\n",
        "    print(f'{unknown_name} is closest to {max(poss_names.items(), key=operator.itemgetter(1))[0]}, with a score of {max(poss_names.items(), key=operator.itemgetter(1))[1]:.2f}')\n",
        "    return max(poss_names.items(), key=operator.itemgetter(1))[0]"
      ],
      "execution_count": null,
      "outputs": []
    },
    {
      "cell_type": "code",
      "metadata": {
        "id": "Brylpi4pmSOX"
      },
      "source": [
        "def fix_name(unknown_name, true_name):\n",
        "  \"\"\" Fixes the aspca_df entries according to the accepted wfo_df entry.\n",
        "\n",
        "  Parameters\n",
        "  ----------\n",
        "  unknown_name: str\n",
        "    Name we want to fix. \n",
        "  true_name: DataFrame\n",
        "    Accepted name to use.\n",
        "  \"\"\"\n",
        "  # Get the series we're looking to change\n",
        "  unknown_data = aspca_df[aspca_df['Scientific Name'] == unknown_name]\n",
        "  # Grab accepted data from wfo database based on ID lookup\n",
        "  true_data = wfo_df[wfo_df['scientificName'] == true_name]\n",
        "  true_sciname = true_data.loc[:,'scientificName'].values[0]\n",
        "  true_family = true_data.loc[:,'family'].values[0]\n",
        "  true_genus = true_data.loc[:,'genus'].values[0]\n",
        "  true_taxonomicStatus = true_data.loc[:,'taxonomicStatus'].values[0]\n",
        "  # Change scientific name, family, genus and taxonomic status to accepted versions\n",
        "  aspca_df.iloc[unknown_data.index,2] = true_sciname\n",
        "  aspca_df.iloc[unknown_data.index,8] = true_family\n",
        "  aspca_df.iloc[unknown_data.index,9] = true_genus\n",
        "  aspca_df.iloc[unknown_data.index,10] = true_taxonomicStatus"
      ],
      "execution_count": null,
      "outputs": []
    },
    {
      "cell_type": "code",
      "metadata": {
        "id": "gichFZAm3TKB",
        "outputId": "40fec8ad-4520-4a57-a8fb-5e0d5afc64d3",
        "colab": {
          "base_uri": "https://localhost:8080/",
          "height": 1000,
          "referenced_widgets": [
            "8ddab20a5a514b909b161d7eb9ffa6d3",
            "9cf0d9ff72c64d00a1a334fde6493017",
            "49972f69f87941d8860e8f49fd5d166e",
            "9d1f1d6ed884476e91f0f6d9b44fd10e",
            "6e4a42881001402d953d65c552041164",
            "da48b1e4d3814a4fa58529b229afa28c",
            "aac96e18307340a088d8969cf393ee2b",
            "ad461eab899e4f0b95cf40651e6bd5a7"
          ]
        }
      },
      "source": [
        "unknown_idx = aspca_df[aspca_df.taxonomicStatus == 'Unknown'].index\n",
        "print(f'{len(unknown_idx)} plants currently cannot be matched.')\n",
        "from tqdm.notebook import tqdm\n",
        "for i in tqdm(unknown_idx):\n",
        "  unknown_name = aspca_df.iloc[i,2]\n",
        "  closest_name = get_closest_name(unknown_name)\n",
        "  if closest_name == '':\n",
        "    continue\n",
        "  fix_name(unknown_name,closest_name)"
      ],
      "execution_count": null,
      "outputs": [
        {
          "output_type": "stream",
          "text": [
            "101 plants currently cannot be matched.\n"
          ],
          "name": "stdout"
        },
        {
          "output_type": "display_data",
          "data": {
            "application/vnd.jupyter.widget-view+json": {
              "model_id": "8ddab20a5a514b909b161d7eb9ffa6d3",
              "version_minor": 0,
              "version_major": 2
            },
            "text/plain": [
              "HBox(children=(FloatProgress(value=0.0, max=101.0), HTML(value='')))"
            ]
          },
          "metadata": {
            "tags": []
          }
        },
        {
          "output_type": "stream",
          "text": [
            "Nephrolepsis exalta is closest to Nephrolepis exaltata, with a score of 0.92\n",
            "No names close enough to Nephrolepsis cordifolia plumosa.\n",
            "No names close enough to Nephrolepsis cordifolia duffii.\n",
            "No names close enough to Nephrolepis exalta bostoniensis.\n",
            "Nephrolepis exalta is closest to Nephrolepis exaltata, with a score of 0.95\n",
            "No names close enough to Neoregalia.\n",
            "No names close enough to Miltonia roezlii alba.\n",
            "No names close enough to Maranta insignis.\n",
            "Malus sylvestrus is closest to Malus sylvestris, with a score of 0.94\n",
            "No names close enough to Lilium orientalis.\n",
            "No names close enough to Lampranthus piquet.\n",
            "Lavendula angustifolia is closest to Lavandula angustifolia, with a score of 0.95\n",
            "Tolmeia menziesii is closest to Tolmiea menziesii, with a score of 0.94\n",
            "Kalmia poliifolia is closest to Kalmia polifolia, with a score of 0.97\n",
            "Kalmia augustifolia is closest to Kalmia angustifolia, with a score of 0.95\n",
            "Jasminium is closest to Jasminum, with a score of 0.94\n",
            "Hoya publcalyx is closest to Hoya pubicalyx, with a score of 0.93\n",
            "No names close enough to Hoya carnosa krinkle kurl.\n",
            "Hosta plataginea is closest to Hosta plantaginea, with a score of 0.97\n",
            "No names close enough to Hemigraphis exotica.\n",
            "Gynura aurantica is closest to Gynura aurantiaca, with a score of 0.97\n",
            "Guzmania lingulata minor is closest to Guzmania lingulata var. minor, with a score of 0.91\n",
            "No names close enough to Lilium asiatica.\n",
            "No names close enough to Nolina tuberculata.\n",
            "Paeonis officinalis is closest to Paeonia officinalis, with a score of 0.95\n",
            "Origanum vulgare hirtum is closest to Origanum vulgare var. hirtum, with a score of 0.90\n",
            "No names close enough to Giant dracaena.\n",
            "Taxus canadensus is closest to Taxus canadensis, with a score of 0.94\n",
            "Stapelia hirsata is closest to Stapelia hirsuta, with a score of 0.94\n",
            "Sorghum vulgare var sudanesis is closest to Sorghum vulgare var. sudanense, with a score of 0.92\n",
            "Smilax walteria is closest to Smilax walteri, with a score of 0.97\n",
            "Secum weinbergii is closest to Sedum weinbergii, with a score of 0.94\n",
            "No names close enough to Scindapsusphilodendron.\n",
            "No names close enough to Schefflera or brassia actinoplylla.\n",
            "Santpaulia confusa is closest to Saintpaulia confusa, with a score of 0.97\n",
            "Rhipsalis cassutha is closest to Rhipsalis cassytha, with a score of 0.94\n",
            "Onychium japonica is closest to Onychium japonicum, with a score of 0.91\n",
            "Rheum rhabarbarium is closest to Rheum rhabarbarum, with a score of 0.97\n",
            "Podocarpus macrophylla is closest to Podocarpus macrophyllus, with a score of 0.93\n",
            "Ploystichum munitum is closest to Polystichum munitum, with a score of 0.95\n",
            "Plectranthus oetendahlii is closest to Plectranthus oertendahlii, with a score of 0.98\n",
            "Plantanus occidentalis is closest to Platanus occidentalis, with a score of 0.98\n",
            "Pilea cadieri is closest to Pilea cadierei, with a score of 0.96\n",
            "No names close enough to Phoenix robellinii.\n",
            "No names close enough to Peperomia serpens variegata.\n",
            "Peperomia prostata is closest to Peperomia prostrata, with a score of 0.97\n",
            "Peperomia griseoargentea is closest to Peperomia griseoargentia, with a score of 0.96\n",
            "Pellonia pulchra is closest to Pellionia pulchra, with a score of 0.97\n",
            "Rhapis flabelliformus is closest to Rhapis flabelliformis, with a score of 0.95\n",
            "Fuschsia is closest to Fuchsia, with a score of 0.93\n",
            "Cleome hasserlana is closest to Cleome hassleriana, with a score of 0.91\n",
            "Eriogonium umbellatum is closest to Eriogonum umbellatum, with a score of 0.98\n",
            "Cissus dicolor is closest to Cissus discolor, with a score of 0.97\n",
            "Chlorophytum bichetti is closest to Chlorophytum bichetii, with a score of 0.95\n",
            "No names close enough to Ceratostigma larpentiae.\n",
            "Cattleya trianaei is closest to Cattleya trianae, with a score of 0.97\n",
            "Camellia japonica thea japonica is closest to Camellia japonica var. japonica, with a score of 0.90\n",
            "Caesalpinia gilliessi is closest to Caesalpinia gilliesii, with a score of 0.95\n",
            "Borage officinalis is closest to Borago officinalis, with a score of 0.94\n",
            "No names close enough to Bertolonia mosaica.\n",
            "No names close enough to Begonia semperflorens cultivar.\n",
            "Begonia scharfii is closest to Begonia scharffii, with a score of 0.97\n",
            "No names close enough to Begonia rex peace.\n",
            "Begonia cleopatra is closest to Begonia cleopatrae, with a score of 0.97\n",
            "No names close enough to Asparagus densiflorus sprengeri.\n",
            "Arum palestinum is closest to Arum palaestinum, with a score of 0.97\n",
            "Anthurium scherzeranum is closest to Anthurium scherzerianum, with a score of 0.98\n",
            "Anthirrhinum multiflorum is closest to Antirrhinum multiflorum, with a score of 0.98\n",
            "Anoectuchilus setaceus is closest to Anoectochilus setaceus, with a score of 0.95\n",
            "Anethum graveolena is closest to Anethum graveolens, with a score of 0.94\n",
            "No names close enough to Albiflora.\n",
            "No names close enough to Acantha.\n",
            "Tradescantia flumeninsis is closest to Tradescantia fluminensis, with a score of 0.92\n",
            "Citrus aurantifolia is closest to Citrus aurantiifolia, with a score of 0.97\n",
            "Euonymus atropurpurea is closest to Euonymus atropurpureus, with a score of 0.93\n",
            "Citrus aurantium is closest to Citrus ×aurantium, with a score of 0.97\n",
            "Citrus paradisii is closest to Citrus paradisi, with a score of 0.97\n",
            "Eriogonium inflatum is closest to Eriogonum inflatum, with a score of 0.97\n",
            "No names close enough to Episcia cultivar.\n",
            "Epidendrum atropurpeum is closest to Epidendrum atropurpureum, with a score of 0.96\n",
            "Eleagnus is closest to Elaeagnus, with a score of 0.94\n",
            "No names close enough to Echeveria puloliver.\n",
            "Echeveria pulinata is closest to Echeveria pulvinata, with a score of 0.97\n",
            "No names close enough to Echevaria.\n",
            "No names close enough to Dypsis lutescens chrysalidocarpus lutescens alternate scientific name.\n",
            "No names close enough to Draceana.\n",
            "No names close enough to Daucus carota sativa.\n",
            "Citrus limonia is closest to Citrus ×limonia, with a score of 0.97\n",
            "No names close enough to Cycasrevolutazamia.\n",
            "No names close enough to Cucurbita maxima turbaniformis.\n",
            "No names close enough to Cucurbita maxima hubbard.\n",
            "No names close enough to Cucurbita maxima butternut.\n",
            "No names close enough to Cucurbita maxima buttercup.\n",
            "No names close enough to Cucurbita maxima banana.\n",
            "No names close enough to Cucurbia pepo zucchini.\n",
            "No names close enough to Cryptanthus bivattus minor.\n",
            "Coleus ampoinicus is closest to Coleus amboinicus, with a score of 0.94\n",
            "Clivia minata is closest to Clivia miniata, with a score of 0.96\n",
            "Clintonia umbelluata is closest to Clintonia umbellulata, with a score of 0.98\n",
            "No names close enough to Cycasandzamia.\n",
            "Veitchia merillii is closest to Veitchia merrillii, with a score of 0.97\n",
            "\n"
          ],
          "name": "stdout"
        }
      ]
    },
    {
      "cell_type": "markdown",
      "metadata": {
        "id": "MoCZA3AM_euL"
      },
      "source": [
        "### Manual Fixes\n",
        "\n",
        "Unfortunately, some of these unidentified species don't have an entry in the database that is sufficiently close enough for me to feel comfortable with automatic fixing. Hence, we do some manual fixes for the remaining unknowns. Thankfully, the above code has reduced the number of samples that need manual attention by around 60. "
      ]
    },
    {
      "cell_type": "code",
      "metadata": {
        "id": "Wpj3NHVYB318",
        "outputId": "d12b8293-012a-4eba-8489-81f59e644320",
        "colab": {
          "base_uri": "https://localhost:8080/",
          "height": 34
        }
      },
      "source": [
        "# Scientific names that don't match anything on record automatically\n",
        "unknown_df = aspca_df[aspca_df.taxonomicStatus == 'Unknown']\n",
        "# Synonyms that don't have a database link to the accepted name\n",
        "aspca_df = aspca_df.sort_values('taxonomicStatus').drop_duplicates('Scientific Name', keep='first').reset_index(drop=True)\n",
        "unknown_ids = aspca_df[(aspca_df.acceptedNameUsageID == 'Unknown') & (aspca_df.taxonomicStatus == 'Synonym')]\n",
        "len(unknown_ids) + len(unknown_df)"
      ],
      "execution_count": null,
      "outputs": [
        {
          "output_type": "execute_result",
          "data": {
            "text/plain": [
              "52"
            ]
          },
          "metadata": {
            "tags": []
          },
          "execution_count": 22
        }
      ]
    },
    {
      "cell_type": "code",
      "metadata": {
        "id": "nfv64irm_7P3"
      },
      "source": [
        "# Manually fix some scientific names that don't match anything on record automatically\n",
        "fix_name('Nephrolepsis cordifolia plumosa', 'Nephrolepis cordifolia')\n",
        "fix_name('Nephrolepsis cordifolia duffii', 'Nephrolepis cordifolia')\n",
        "fix_name('Nephrolepis exalta bostoniensis', 'Nephrolepis exaltata')\n",
        "fix_name('Neoregalia', 'Neoregelia')\n",
        "fix_name('Miltonia roezlii alba', 'Miltonia roezlii')\n",
        "fix_name('Maranta insignis', 'Calathea insignis')\n",
        "fix_name('Lilium orientalis', 'Lilium japonicum')\n",
        "fix_name('Lampranthus piquet', 'Lampranthus piquetbergensis')\n",
        "fix_name('Hoya carnosa krinkle kurl', 'Hoya carnosa')\n",
        "fix_name('Hemigraphis exotica', 'Hemigraphis alternata')\n",
        "fix_name('Lilium asiatica', 'Lilium japonicum')\n",
        "fix_name('Nolina tuberculata', 'Beaucarnea recurvata')\n",
        "fix_name('Giant dracaena', 'Cordyline australis')\n",
        "fix_name('Scindapsusphilodendron', 'Philodendron scandens')\n",
        "fix_name('Schefflera or brassia actinoplylla', 'Schefflera actinophylla')\n",
        "fix_name('Phoenix robellinii', 'Phoenix roebelenii')\n",
        "fix_name('Peperomia serpens variegata', 'Peperomia serpens')\n",
        "fix_name('Bertolonia mosaica', 'Fittonia albivenis')\n",
        "fix_name('Begonia semperflorens cultivar', 'Begonia semperflorens')\n",
        "fix_name('Begonia rex peace', 'Begonia rex')\n",
        "fix_name('Asparagus densiflorus sprengeri', 'Asparagus densiflorus')\n",
        "fix_name('Albiflora', 'Tradescantia zebrina')\n",
        "fix_name('Acantha', 'Acanthus')\n",
        "fix_name('Episcia cultivar', 'Episcia')\n",
        "fix_name('Echevaria', 'Echeveria')\n",
        "fix_name('Echeveria puloliver', 'Echeveria harmsii')\n",
        "fix_name('Dypsis lutescens chrysalidocarpus lutescens alternate scientific name', 'Dypsis lutescens')\n",
        "fix_name('Draceana', 'Dracaena')\n",
        "fix_name('Daucus carota sativa', 'Daucus carota')\n",
        "fix_name('Ceratostigma larpentiae', 'Ceratostigma plumbaginoides')\n",
        "fix_name('Cycasrevolutazamia', 'Cycas revoluta')\n",
        "fix_name('Cucurbita maxima turbaniformis', 'Cucurbita maxima')\n",
        "fix_name('Cucurbita maxima hubbard', 'Cucurbita maxima')\n",
        "fix_name('Cucurbita maxima butternut', 'Cucurbita maxima')\n",
        "fix_name('Cucurbita maxima banana', 'Cucurbita maxima')\n",
        "fix_name('Cucurbita maxima buttercup', 'Cucurbita maxima')\n",
        "fix_name('Cucurbia pepo zucchini', 'Cucurbita pepo')\n",
        "fix_name('Cryptanthus bivattus minor', 'Cryptanthus bivittatus')\n",
        "fix_name('Cycasandzamia', 'Cycas')"
      ],
      "execution_count": null,
      "outputs": []
    },
    {
      "cell_type": "code",
      "metadata": {
        "id": "vacy1o_bL7PN"
      },
      "source": [
        "# Manually match up synonyms that don't have a database link to the accepted name\n",
        "fix_name('Chlorophytum bichetii', 'Chlorophytum laxum')\n",
        "fix_name('Rhapis flabelliformis', 'Rhapis excelsa')\n",
        "fix_name('Cleome hassleriana', 'Cleome spinosa')\n",
        "fix_name('Pellionia pulchra', 'Pellionia repens')\n",
        "fix_name('Cissus discolor', 'Cissus javana')\n",
        "fix_name('Miltonia roezlii', 'Miltoniopsis roezlii')\n",
        "fix_name('Sorghum vulgare var. sudanense', 'Sorghum bicolor')\n",
        "fix_name('Camellia japonica var. japonica', 'Camellia japonica')\n",
        "fix_name('Onychium japonicum', 'Onychium japonicum')\n",
        "fix_name('Epidendrum atropurpureum', 'Psychilis atropurpurea')\n",
        "fix_name('Philodendron scandens', 'Philodendron hederaceum')\n",
        "fix_name('Origanum vulgare var. hirtum', 'Origanum vulgare subsp. hirtum')\n",
        "fix_name('Guzmania lingulata var. minor', 'Guzmania lingulata var. concolor')\n",
        "fix_name('Lavandula angustifolia', 'Lavandula angustifolia')\n",
        "fix_name('Begonia semperflorens', 'Begonia cucullata')\n",
        "fix_name('Calathea insignis', 'Calathea crotalifera')\n",
        "fix_name('Citrus ×limonia', 'Citrus limon')\n",
        "fix_name('Coleus amboinicus', 'Plectranthus amboinicus')\n",
        "fix_name('Rhipsalis cassytha', 'Rhipsalis dichotoma')\n",
        "fix_name('Lycopersicon', 'Solanum lycopersicum')\n",
        "fix_name('Lachenalia lilacina', 'Iris domestica')\n",
        "fix_name('Cymopterus watsonii', 'Cymopterus terebinthinus')"
      ],
      "execution_count": null,
      "outputs": []
    },
    {
      "cell_type": "markdown",
      "metadata": {
        "id": "t1wza8UPDwAQ"
      },
      "source": [
        "Finally, we check that every houseplant now has an accepted scientific name we will use for image lookup. "
      ]
    },
    {
      "cell_type": "code",
      "metadata": {
        "id": "gflFil59W_Hc",
        "outputId": "ebb57842-06fd-4ae7-b423-fa281f247166",
        "colab": {
          "base_uri": "https://localhost:8080/",
          "height": 34
        }
      },
      "source": [
        "# Scientific names that don't match anything on record automatically\n",
        "unknown_df = aspca_df[aspca_df.taxonomicStatus == 'Unknown']\n",
        "# Synonyms that don't have a database link to the accepted name\n",
        "aspca_df = aspca_df.sort_values('taxonomicStatus').drop_duplicates('Scientific Name', keep='first').reset_index(drop=True)\n",
        "unknown_ids = aspca_df[(aspca_df.acceptedNameUsageID == 'Unknown') & (aspca_df.taxonomicStatus == 'Synonym')]\n",
        "len(unknown_ids) + len(unknown_df)"
      ],
      "execution_count": null,
      "outputs": [
        {
          "output_type": "execute_result",
          "data": {
            "text/plain": [
              "0"
            ]
          },
          "metadata": {
            "tags": []
          },
          "execution_count": 25
        }
      ]
    },
    {
      "cell_type": "markdown",
      "metadata": {
        "id": "8phpDBCR77Jp"
      },
      "source": [
        "### Fix synonymous scientific names\n",
        "\n",
        "Scientific names can change over time due to updated research. If a scientific name is a synonym for an accepted one, we'd like to use the accepted one. "
      ]
    },
    {
      "cell_type": "code",
      "metadata": {
        "id": "LTbxqr-GXBhi",
        "outputId": "f9b8b2a3-bd78-4a74-a0f0-ff200939fa2d",
        "colab": {
          "base_uri": "https://localhost:8080/",
          "height": 34
        }
      },
      "source": [
        "synonym_idx = aspca_df[aspca_df['taxonomicStatus'].values == 'Synonym'].index\n",
        "print(f'{len(synonym_idx)} entries have a more acceptable synonym')"
      ],
      "execution_count": null,
      "outputs": [
        {
          "output_type": "stream",
          "text": [
            "74 entries have a more acceptable synonym\n"
          ],
          "name": "stdout"
        }
      ]
    },
    {
      "cell_type": "code",
      "metadata": {
        "id": "wrJLVZCiclzF"
      },
      "source": [
        "# Work to update the remaining scientific names that are synonyms for their accepted scientific names\n",
        "aspca_df = aspca_df.sort_values('taxonomicStatus').drop_duplicates('Scientific Name', keep='first').reset_index(drop=True)\n",
        "synonym_idx = aspca_df[aspca_df['taxonomicStatus'].values == 'Synonym'].index\n",
        "for i in synonym_idx:\n",
        "  # Get the series we're looking to change\n",
        "  synonym_data = aspca_df.iloc[i,:]\n",
        "  synonym_name = synonym_data.loc['Scientific Name']\n",
        "  # Grab accepted data from wfo database based on ID lookup\n",
        "  true_data = wfo_df[wfo_df['taxonID'] == synonym_data.loc['acceptedNameUsageID']]\n",
        "  true_sciname = true_data.iloc[:,1].values[0]\n",
        "  fix_name(synonym_name,true_sciname)"
      ],
      "execution_count": null,
      "outputs": []
    },
    {
      "cell_type": "code",
      "metadata": {
        "id": "KuaJW3yqbNfH",
        "outputId": "092731ea-c419-4c84-8183-902e041ff912",
        "colab": {
          "base_uri": "https://localhost:8080/",
          "height": 34
        }
      },
      "source": [
        "synonym_idx = aspca_df[aspca_df['taxonomicStatus'].values == 'Synonym'].index\n",
        "print(f'{len(synonym_idx)} entries have a more acceptable synonym')"
      ],
      "execution_count": null,
      "outputs": [
        {
          "output_type": "stream",
          "text": [
            "0 entries have a more acceptable synonym\n"
          ],
          "name": "stdout"
        }
      ]
    },
    {
      "cell_type": "markdown",
      "metadata": {
        "id": "dcO0w8R-4em0"
      },
      "source": [
        "### Finish off\n",
        "We apply a few more cleaning steps to reorganize the data now that we have a clean dataset. \n",
        "Namely, we drop duplicates, reset the index, fix up the genus of one-word houseplant names, remove columns we no longer need and standardize the names. "
      ]
    },
    {
      "cell_type": "code",
      "metadata": {
        "id": "L2MEWLTB4jj1"
      },
      "source": [
        "# Sort and drop again\n",
        "aspca_df = aspca_df.sort_values('taxonomicStatus').drop_duplicates('Scientific Name', keep='first')\n",
        "aspca_df = aspca_df.sort_values('Scientific Name').reset_index(drop=True).sort_index()\n",
        "# Set genus of one-word names to be the name, rather than NaN\n",
        "aspca_df.loc[aspca_df.fillna('Unknown')['genus']=='Unknown', 'genus'] = aspca_df.loc[aspca_df.fillna('Unknown')['genus']=='Unknown', 'Scientific Name']\n",
        "# Drop columns we no longer need\n",
        "aspca_df = aspca_df.drop(['taxonID', 'scientificName', 'taxonomicStatus', 'acceptedNameUsageID', 'taxonRank'], axis=1)\n",
        "# Standardize column names\n",
        "aspca_df.rename(columns = {'genus':'Genus', 'family':'Family'}, inplace=True)\n",
        "# Reorder columns\n",
        "cols = ['Name', 'Scientific Name', 'Genus', 'Family', 'Alternative Names', 'Toxic to Dogs', 'Toxic to Cats']\n",
        "aspca_df = aspca_df[cols]"
      ],
      "execution_count": null,
      "outputs": []
    },
    {
      "cell_type": "code",
      "metadata": {
        "id": "KbJe5jc7RsXG",
        "outputId": "5d901009-af5a-454c-e5cc-047536b36b4f",
        "colab": {
          "base_uri": "https://localhost:8080/",
          "height": 359
        }
      },
      "source": [
        "aspca_df.to_csv('Plant Toxicity - v6.csv')\n",
        "aspca_df.sample(10)"
      ],
      "execution_count": null,
      "outputs": [
        {
          "output_type": "execute_result",
          "data": {
            "text/html": [
              "<div>\n",
              "<style scoped>\n",
              "    .dataframe tbody tr th:only-of-type {\n",
              "        vertical-align: middle;\n",
              "    }\n",
              "\n",
              "    .dataframe tbody tr th {\n",
              "        vertical-align: top;\n",
              "    }\n",
              "\n",
              "    .dataframe thead th {\n",
              "        text-align: right;\n",
              "    }\n",
              "</style>\n",
              "<table border=\"1\" class=\"dataframe\">\n",
              "  <thead>\n",
              "    <tr style=\"text-align: right;\">\n",
              "      <th></th>\n",
              "      <th>Name</th>\n",
              "      <th>Scientific Name</th>\n",
              "      <th>Genus</th>\n",
              "      <th>Family</th>\n",
              "      <th>Alternative Names</th>\n",
              "      <th>Toxic to Dogs</th>\n",
              "      <th>Toxic to Cats</th>\n",
              "    </tr>\n",
              "  </thead>\n",
              "  <tbody>\n",
              "    <tr>\n",
              "      <th>210</th>\n",
              "      <td>Blooming Sally</td>\n",
              "      <td>Epilobium angustifolium</td>\n",
              "      <td>Epilobium</td>\n",
              "      <td>Onagraceae</td>\n",
              "      <td>Willow Herb, Great Willow Herb, Fire Weed</td>\n",
              "      <td>False</td>\n",
              "      <td>False</td>\n",
              "    </tr>\n",
              "    <tr>\n",
              "      <th>489</th>\n",
              "      <td>Arrow-Head Vine</td>\n",
              "      <td>Syngonium podophyllum</td>\n",
              "      <td>Syngonium</td>\n",
              "      <td>Araceae</td>\n",
              "      <td>Nephthytis, Green Gold Naphthysis, African Eve...</td>\n",
              "      <td>True</td>\n",
              "      <td>True</td>\n",
              "    </tr>\n",
              "    <tr>\n",
              "      <th>194</th>\n",
              "      <td>Epazote</td>\n",
              "      <td>Dysphania ambrosioides</td>\n",
              "      <td>Dysphania</td>\n",
              "      <td>Amaranthaceae</td>\n",
              "      <td>Wormseed, Jusuit's Tea, Mexican Tea, Paico</td>\n",
              "      <td>True</td>\n",
              "      <td>True</td>\n",
              "    </tr>\n",
              "    <tr>\n",
              "      <th>444</th>\n",
              "      <td>Kenya Violet</td>\n",
              "      <td>Saintpaulia confusa</td>\n",
              "      <td>Saintpaulia</td>\n",
              "      <td>Gesneriaceae</td>\n",
              "      <td>Usambra violet</td>\n",
              "      <td>False</td>\n",
              "      <td>False</td>\n",
              "    </tr>\n",
              "    <tr>\n",
              "      <th>49</th>\n",
              "      <td>Yellowrocket</td>\n",
              "      <td>Barbarea vulgaris</td>\n",
              "      <td>Barbarea</td>\n",
              "      <td>Brassicaceae</td>\n",
              "      <td></td>\n",
              "      <td>False</td>\n",
              "      <td>False</td>\n",
              "    </tr>\n",
              "    <tr>\n",
              "      <th>153</th>\n",
              "      <td>Fig Leaf Gourd</td>\n",
              "      <td>Cucurbita ficifolia</td>\n",
              "      <td>Cucurbita</td>\n",
              "      <td>Cucurbitaceae</td>\n",
              "      <td>Malabar Gourd</td>\n",
              "      <td>False</td>\n",
              "      <td>False</td>\n",
              "    </tr>\n",
              "    <tr>\n",
              "      <th>75</th>\n",
              "      <td>China Aster</td>\n",
              "      <td>Callistephus chinensis</td>\n",
              "      <td>Callistephus</td>\n",
              "      <td>Asteraceae</td>\n",
              "      <td>Annual Aster, Aster Sinensis</td>\n",
              "      <td>False</td>\n",
              "      <td>False</td>\n",
              "    </tr>\n",
              "    <tr>\n",
              "      <th>14</th>\n",
              "      <td>Hollyhock</td>\n",
              "      <td>Alcea rosea</td>\n",
              "      <td>Alcea</td>\n",
              "      <td>Malvaceae</td>\n",
              "      <td></td>\n",
              "      <td>False</td>\n",
              "      <td>False</td>\n",
              "    </tr>\n",
              "    <tr>\n",
              "      <th>173</th>\n",
              "      <td>Leopard Orchid</td>\n",
              "      <td>Dendrobium gracilicaule</td>\n",
              "      <td>Dendrobium</td>\n",
              "      <td>Orchidaceae</td>\n",
              "      <td>Tiger Orchid</td>\n",
              "      <td>False</td>\n",
              "      <td>False</td>\n",
              "    </tr>\n",
              "    <tr>\n",
              "      <th>500</th>\n",
              "      <td>Fortunes Palm</td>\n",
              "      <td>Trachycarpus fortunei</td>\n",
              "      <td>Trachycarpus</td>\n",
              "      <td>Arecaceae</td>\n",
              "      <td>Chusan palm</td>\n",
              "      <td>False</td>\n",
              "      <td>False</td>\n",
              "    </tr>\n",
              "  </tbody>\n",
              "</table>\n",
              "</div>"
            ],
            "text/plain": [
              "                Name          Scientific Name  ... Toxic to Dogs Toxic to Cats\n",
              "210   Blooming Sally  Epilobium angustifolium  ...         False         False\n",
              "489  Arrow-Head Vine    Syngonium podophyllum  ...          True          True\n",
              "194          Epazote   Dysphania ambrosioides  ...          True          True\n",
              "444     Kenya Violet      Saintpaulia confusa  ...         False         False\n",
              "49      Yellowrocket        Barbarea vulgaris  ...         False         False\n",
              "153   Fig Leaf Gourd      Cucurbita ficifolia  ...         False         False\n",
              "75       China Aster   Callistephus chinensis  ...         False         False\n",
              "14         Hollyhock              Alcea rosea  ...         False         False\n",
              "173   Leopard Orchid  Dendrobium gracilicaule  ...         False         False\n",
              "500    Fortunes Palm    Trachycarpus fortunei  ...         False         False\n",
              "\n",
              "[10 rows x 7 columns]"
            ]
          },
          "metadata": {
            "tags": []
          },
          "execution_count": 30
        }
      ]
    },
    {
      "cell_type": "markdown",
      "metadata": {
        "id": "fxp7Vtn25YZ1"
      },
      "source": [
        "Some notes: \n",
        "*   Names that typically refer to a specific part of a plant such as a melon or carrot might be a bit tricky.\n",
        "*   Need to consider whether it is better to google search for the common name or scientific name.\n",
        "*   Classification of species with a lot of specific varieties as well as a generic entry e.g. lily/red lily/tiger lily etc. might also be difficult to manage. \n",
        "\n"
      ]
    },
    {
      "cell_type": "markdown",
      "metadata": {
        "id": "h2NJ620PTGsf"
      },
      "source": [
        "# Explore the Data"
      ]
    },
    {
      "cell_type": "markdown",
      "metadata": {
        "id": "U64CILKNTKi0"
      },
      "source": [
        "Now we have a lot of useful information on plant toxicity to dogs and cats. "
      ]
    },
    {
      "cell_type": "code",
      "metadata": {
        "id": "8jaJMucgS95l",
        "outputId": "1e4dc193-c651-4eaf-a482-2993bd5f1b3a",
        "colab": {
          "base_uri": "https://localhost:8080/",
          "height": 204
        }
      },
      "source": [
        "aspca_df.head()"
      ],
      "execution_count": null,
      "outputs": [
        {
          "output_type": "execute_result",
          "data": {
            "text/html": [
              "<div>\n",
              "<style scoped>\n",
              "    .dataframe tbody tr th:only-of-type {\n",
              "        vertical-align: middle;\n",
              "    }\n",
              "\n",
              "    .dataframe tbody tr th {\n",
              "        vertical-align: top;\n",
              "    }\n",
              "\n",
              "    .dataframe thead th {\n",
              "        text-align: right;\n",
              "    }\n",
              "</style>\n",
              "<table border=\"1\" class=\"dataframe\">\n",
              "  <thead>\n",
              "    <tr style=\"text-align: right;\">\n",
              "      <th></th>\n",
              "      <th>Name</th>\n",
              "      <th>Scientific Name</th>\n",
              "      <th>Genus</th>\n",
              "      <th>Family</th>\n",
              "      <th>Alternative Names</th>\n",
              "      <th>Toxic to Dogs</th>\n",
              "      <th>Toxic to Cats</th>\n",
              "    </tr>\n",
              "  </thead>\n",
              "  <tbody>\n",
              "    <tr>\n",
              "      <th>0</th>\n",
              "      <td>Sand Verbena</td>\n",
              "      <td>Abronia fragrans</td>\n",
              "      <td>Abronia</td>\n",
              "      <td>Nyctaginaceae</td>\n",
              "      <td>Prairie Snowball, Wild Lantana</td>\n",
              "      <td>False</td>\n",
              "      <td>False</td>\n",
              "    </tr>\n",
              "    <tr>\n",
              "      <th>1</th>\n",
              "      <td>Prayer Bean</td>\n",
              "      <td>Abrus precatorius</td>\n",
              "      <td>Abrus</td>\n",
              "      <td>Fabaceae</td>\n",
              "      <td>Rosary Pea, Buddhist Rosary Bead, Indian Bead,...</td>\n",
              "      <td>True</td>\n",
              "      <td>True</td>\n",
              "    </tr>\n",
              "    <tr>\n",
              "      <th>2</th>\n",
              "      <td>Chenille Plant</td>\n",
              "      <td>Acalypha hispida</td>\n",
              "      <td>Acalypha</td>\n",
              "      <td>Euphorbiaceae</td>\n",
              "      <td>Philippine Medusa, Foxtail, Red-hot Cat Tail</td>\n",
              "      <td>False</td>\n",
              "      <td>False</td>\n",
              "    </tr>\n",
              "    <tr>\n",
              "      <th>3</th>\n",
              "      <td>Copperleaf</td>\n",
              "      <td>Acalypha wilkesiana</td>\n",
              "      <td>Acalypha</td>\n",
              "      <td>Euphorbiaceae</td>\n",
              "      <td>Lance Copperleaf</td>\n",
              "      <td>False</td>\n",
              "      <td>False</td>\n",
              "    </tr>\n",
              "    <tr>\n",
              "      <th>4</th>\n",
              "      <td>Measles Plant</td>\n",
              "      <td>Acanthus</td>\n",
              "      <td>Acanthus</td>\n",
              "      <td>Acanthaceae</td>\n",
              "      <td>Polka Dot Plant, Flamingo Plant, Baby’s Tears,...</td>\n",
              "      <td>False</td>\n",
              "      <td>False</td>\n",
              "    </tr>\n",
              "  </tbody>\n",
              "</table>\n",
              "</div>"
            ],
            "text/plain": [
              "             Name      Scientific Name  ... Toxic to Dogs Toxic to Cats\n",
              "0    Sand Verbena     Abronia fragrans  ...         False         False\n",
              "1     Prayer Bean    Abrus precatorius  ...          True          True\n",
              "2  Chenille Plant     Acalypha hispida  ...         False         False\n",
              "3      Copperleaf  Acalypha wilkesiana  ...         False         False\n",
              "4   Measles Plant             Acanthus  ...         False         False\n",
              "\n",
              "[5 rows x 7 columns]"
            ]
          },
          "metadata": {
            "tags": []
          },
          "execution_count": 31
        }
      ]
    },
    {
      "cell_type": "markdown",
      "metadata": {
        "id": "fZjfZ1dPTUBv"
      },
      "source": [
        "Interestingly, there are only a few plants which have species-specific toxicity - lillies and walnuts."
      ]
    },
    {
      "cell_type": "code",
      "metadata": {
        "id": "jeQ8dD0ERoRK",
        "outputId": "b5c13c79-01b4-4b2e-aa8c-f109ab920f4d",
        "colab": {
          "base_uri": "https://localhost:8080/",
          "height": 328
        }
      },
      "source": [
        "aspca_df[aspca_df['Toxic to Dogs'] != aspca_df['Toxic to Cats']]"
      ],
      "execution_count": null,
      "outputs": [
        {
          "output_type": "execute_result",
          "data": {
            "text/html": [
              "<div>\n",
              "<style scoped>\n",
              "    .dataframe tbody tr th:only-of-type {\n",
              "        vertical-align: middle;\n",
              "    }\n",
              "\n",
              "    .dataframe tbody tr th {\n",
              "        vertical-align: top;\n",
              "    }\n",
              "\n",
              "    .dataframe thead th {\n",
              "        text-align: right;\n",
              "    }\n",
              "</style>\n",
              "<table border=\"1\" class=\"dataframe\">\n",
              "  <thead>\n",
              "    <tr style=\"text-align: right;\">\n",
              "      <th></th>\n",
              "      <th>Name</th>\n",
              "      <th>Scientific Name</th>\n",
              "      <th>Genus</th>\n",
              "      <th>Family</th>\n",
              "      <th>Alternative Names</th>\n",
              "      <th>Toxic to Dogs</th>\n",
              "      <th>Toxic to Cats</th>\n",
              "    </tr>\n",
              "  </thead>\n",
              "  <tbody>\n",
              "    <tr>\n",
              "      <th>258</th>\n",
              "      <td>Day Lilies (many varieties)</td>\n",
              "      <td>Hemerocallis</td>\n",
              "      <td>Hemerocallis</td>\n",
              "      <td>Asphodelaceae</td>\n",
              "      <td></td>\n",
              "      <td>False</td>\n",
              "      <td>True</td>\n",
              "    </tr>\n",
              "    <tr>\n",
              "      <th>259</th>\n",
              "      <td>Orange Day Lily</td>\n",
              "      <td>Hemerocallis minor</td>\n",
              "      <td>Hemerocallis</td>\n",
              "      <td>Asphodelaceae</td>\n",
              "      <td></td>\n",
              "      <td>False</td>\n",
              "      <td>True</td>\n",
              "    </tr>\n",
              "    <tr>\n",
              "      <th>291</th>\n",
              "      <td>Black Walnut</td>\n",
              "      <td>Juglans nigra</td>\n",
              "      <td>Juglans</td>\n",
              "      <td>Juglandaceae</td>\n",
              "      <td></td>\n",
              "      <td>True</td>\n",
              "      <td>False</td>\n",
              "    </tr>\n",
              "    <tr>\n",
              "      <th>312</th>\n",
              "      <td>Lily</td>\n",
              "      <td>Lilium</td>\n",
              "      <td>Lilium</td>\n",
              "      <td>Liliaceae</td>\n",
              "      <td></td>\n",
              "      <td>False</td>\n",
              "      <td>True</td>\n",
              "    </tr>\n",
              "    <tr>\n",
              "      <th>313</th>\n",
              "      <td>Stargazer Lily</td>\n",
              "      <td>Lilium japonicum</td>\n",
              "      <td>Lilium</td>\n",
              "      <td>Liliaceae</td>\n",
              "      <td></td>\n",
              "      <td>False</td>\n",
              "      <td>True</td>\n",
              "    </tr>\n",
              "    <tr>\n",
              "      <th>314</th>\n",
              "      <td>Tiger Lily</td>\n",
              "      <td>Lilium lancifolium</td>\n",
              "      <td>Lilium</td>\n",
              "      <td>Liliaceae</td>\n",
              "      <td></td>\n",
              "      <td>False</td>\n",
              "      <td>True</td>\n",
              "    </tr>\n",
              "    <tr>\n",
              "      <th>315</th>\n",
              "      <td>Easter Lily</td>\n",
              "      <td>Lilium longiflorum</td>\n",
              "      <td>Lilium</td>\n",
              "      <td>Liliaceae</td>\n",
              "      <td></td>\n",
              "      <td>False</td>\n",
              "      <td>True</td>\n",
              "    </tr>\n",
              "    <tr>\n",
              "      <th>316</th>\n",
              "      <td>Red Lily</td>\n",
              "      <td>Lilium philadelphicum</td>\n",
              "      <td>Lilium</td>\n",
              "      <td>Liliaceae</td>\n",
              "      <td></td>\n",
              "      <td>False</td>\n",
              "      <td>True</td>\n",
              "    </tr>\n",
              "    <tr>\n",
              "      <th>317</th>\n",
              "      <td>Japanese Show Lily</td>\n",
              "      <td>Lilium speciosum</td>\n",
              "      <td>Lilium</td>\n",
              "      <td>Liliaceae</td>\n",
              "      <td></td>\n",
              "      <td>False</td>\n",
              "      <td>True</td>\n",
              "    </tr>\n",
              "  </tbody>\n",
              "</table>\n",
              "</div>"
            ],
            "text/plain": [
              "                            Name  ... Toxic to Cats\n",
              "258  Day Lilies (many varieties)  ...          True\n",
              "259              Orange Day Lily  ...          True\n",
              "291                 Black Walnut  ...         False\n",
              "312                         Lily  ...          True\n",
              "313               Stargazer Lily  ...          True\n",
              "314                   Tiger Lily  ...          True\n",
              "315                  Easter Lily  ...          True\n",
              "316                     Red Lily  ...          True\n",
              "317           Japanese Show Lily  ...          True\n",
              "\n",
              "[9 rows x 7 columns]"
            ]
          },
          "metadata": {
            "tags": []
          },
          "execution_count": 32
        }
      ]
    },
    {
      "cell_type": "markdown",
      "metadata": {
        "id": "IeWaWNq395Tj"
      },
      "source": [
        "We can also notice that not all members of a family will be toxic/non-toxic."
      ]
    },
    {
      "cell_type": "code",
      "metadata": {
        "id": "cBsmImDP654C",
        "outputId": "d894288a-869c-4b69-abcc-ba1f3ea019e6",
        "colab": {
          "base_uri": "https://localhost:8080/",
          "height": 390
        }
      },
      "source": [
        "aspca_df[['Family','Toxic to Dogs','Toxic to Cats']].pivot_table(index = 'Family').sort_values(by='Toxic to Dogs')[70:80]"
      ],
      "execution_count": null,
      "outputs": [
        {
          "output_type": "execute_result",
          "data": {
            "text/html": [
              "<div>\n",
              "<style scoped>\n",
              "    .dataframe tbody tr th:only-of-type {\n",
              "        vertical-align: middle;\n",
              "    }\n",
              "\n",
              "    .dataframe tbody tr th {\n",
              "        vertical-align: top;\n",
              "    }\n",
              "\n",
              "    .dataframe thead th {\n",
              "        text-align: right;\n",
              "    }\n",
              "</style>\n",
              "<table border=\"1\" class=\"dataframe\">\n",
              "  <thead>\n",
              "    <tr style=\"text-align: right;\">\n",
              "      <th></th>\n",
              "      <th>Toxic to Cats</th>\n",
              "      <th>Toxic to Dogs</th>\n",
              "    </tr>\n",
              "    <tr>\n",
              "      <th>Family</th>\n",
              "      <th></th>\n",
              "      <th></th>\n",
              "    </tr>\n",
              "  </thead>\n",
              "  <tbody>\n",
              "    <tr>\n",
              "      <th>Hydrangeaceae</th>\n",
              "      <td>0.500000</td>\n",
              "      <td>0.500000</td>\n",
              "    </tr>\n",
              "    <tr>\n",
              "      <th>Oleaceae</th>\n",
              "      <td>0.500000</td>\n",
              "      <td>0.500000</td>\n",
              "    </tr>\n",
              "    <tr>\n",
              "      <th>Euphorbiaceae</th>\n",
              "      <td>0.600000</td>\n",
              "      <td>0.600000</td>\n",
              "    </tr>\n",
              "    <tr>\n",
              "      <th>Fabaceae</th>\n",
              "      <td>0.600000</td>\n",
              "      <td>0.600000</td>\n",
              "    </tr>\n",
              "    <tr>\n",
              "      <th>Berberidaceae</th>\n",
              "      <td>0.666667</td>\n",
              "      <td>0.666667</td>\n",
              "    </tr>\n",
              "    <tr>\n",
              "      <th>Apiaceae</th>\n",
              "      <td>0.666667</td>\n",
              "      <td>0.666667</td>\n",
              "    </tr>\n",
              "    <tr>\n",
              "      <th>Polygonaceae</th>\n",
              "      <td>0.666667</td>\n",
              "      <td>0.666667</td>\n",
              "    </tr>\n",
              "    <tr>\n",
              "      <th>Moraceae</th>\n",
              "      <td>0.666667</td>\n",
              "      <td>0.666667</td>\n",
              "    </tr>\n",
              "    <tr>\n",
              "      <th>Araliaceae</th>\n",
              "      <td>0.714286</td>\n",
              "      <td>0.714286</td>\n",
              "    </tr>\n",
              "    <tr>\n",
              "      <th>Caryophyllaceae</th>\n",
              "      <td>0.750000</td>\n",
              "      <td>0.750000</td>\n",
              "    </tr>\n",
              "  </tbody>\n",
              "</table>\n",
              "</div>"
            ],
            "text/plain": [
              "                 Toxic to Cats  Toxic to Dogs\n",
              "Family                                       \n",
              "Hydrangeaceae         0.500000       0.500000\n",
              "Oleaceae              0.500000       0.500000\n",
              "Euphorbiaceae         0.600000       0.600000\n",
              "Fabaceae              0.600000       0.600000\n",
              "Berberidaceae         0.666667       0.666667\n",
              "Apiaceae              0.666667       0.666667\n",
              "Polygonaceae          0.666667       0.666667\n",
              "Moraceae              0.666667       0.666667\n",
              "Araliaceae            0.714286       0.714286\n",
              "Caryophyllaceae       0.750000       0.750000"
            ]
          },
          "metadata": {
            "tags": []
          },
          "execution_count": 33
        }
      ]
    },
    {
      "cell_type": "code",
      "metadata": {
        "id": "HPNc-8nde48m",
        "outputId": "32ae413f-f582-46e6-caf2-6b37806804a3",
        "colab": {
          "base_uri": "https://localhost:8080/",
          "height": 34
        }
      },
      "source": [
        "# How many Families have mixed toxicity\n",
        "len(aspca_df[['Family','Toxic to Dogs','Toxic to Cats']].pivot_table(index = 'Family').sort_values(by='Toxic to Dogs')[aspca_df[['Family','Toxic to Dogs','Toxic to Cats']].pivot_table(index = 'Family').sort_values(by='Toxic to Dogs')['Toxic to Dogs'].apply(lambda x: 0<x<1)])"
      ],
      "execution_count": null,
      "outputs": [
        {
          "output_type": "execute_result",
          "data": {
            "text/plain": [
              "33"
            ]
          },
          "metadata": {
            "tags": []
          },
          "execution_count": 34
        }
      ]
    },
    {
      "cell_type": "code",
      "metadata": {
        "id": "2rJ5wg1DezUb",
        "outputId": "38a11d85-d62f-42d0-9c37-bbebfe7b2153",
        "colab": {
          "base_uri": "https://localhost:8080/",
          "height": 34
        }
      },
      "source": [
        "# How many Families\n",
        "len(aspca_df['Family'].unique())"
      ],
      "execution_count": null,
      "outputs": [
        {
          "output_type": "execute_result",
          "data": {
            "text/plain": [
              "109"
            ]
          },
          "metadata": {
            "tags": []
          },
          "execution_count": 35
        }
      ]
    },
    {
      "cell_type": "markdown",
      "metadata": {
        "id": "0snEoQY-ghrr"
      },
      "source": [
        "The same is true for only 7 genuses of a plant. Hence classification of a plant will need to be a more granular to be safe. \n"
      ]
    },
    {
      "cell_type": "code",
      "metadata": {
        "id": "tlZx-jT7RKHt",
        "outputId": "d73dc276-62ac-4a59-c57c-f8c884f77d37",
        "colab": {
          "base_uri": "https://localhost:8080/",
          "height": 390
        }
      },
      "source": [
        "aspca_df[['Genus','Toxic to Dogs','Toxic to Cats']].pivot_table(index = 'Genus').sort_values(by='Toxic to Dogs')[208:218]"
      ],
      "execution_count": null,
      "outputs": [
        {
          "output_type": "execute_result",
          "data": {
            "text/html": [
              "<div>\n",
              "<style scoped>\n",
              "    .dataframe tbody tr th:only-of-type {\n",
              "        vertical-align: middle;\n",
              "    }\n",
              "\n",
              "    .dataframe tbody tr th {\n",
              "        vertical-align: top;\n",
              "    }\n",
              "\n",
              "    .dataframe thead th {\n",
              "        text-align: right;\n",
              "    }\n",
              "</style>\n",
              "<table border=\"1\" class=\"dataframe\">\n",
              "  <thead>\n",
              "    <tr style=\"text-align: right;\">\n",
              "      <th></th>\n",
              "      <th>Toxic to Cats</th>\n",
              "      <th>Toxic to Dogs</th>\n",
              "    </tr>\n",
              "    <tr>\n",
              "      <th>Genus</th>\n",
              "      <th></th>\n",
              "      <th></th>\n",
              "    </tr>\n",
              "  </thead>\n",
              "  <tbody>\n",
              "    <tr>\n",
              "      <th>Dionaea</th>\n",
              "      <td>0.000000</td>\n",
              "      <td>0.000000</td>\n",
              "    </tr>\n",
              "    <tr>\n",
              "      <th>Plectranthus</th>\n",
              "      <td>0.250000</td>\n",
              "      <td>0.250000</td>\n",
              "    </tr>\n",
              "    <tr>\n",
              "      <th>Ipomoea</th>\n",
              "      <td>0.500000</td>\n",
              "      <td>0.500000</td>\n",
              "    </tr>\n",
              "    <tr>\n",
              "      <th>Tradescantia</th>\n",
              "      <td>0.500000</td>\n",
              "      <td>0.500000</td>\n",
              "    </tr>\n",
              "    <tr>\n",
              "      <th>Dracaena</th>\n",
              "      <td>0.600000</td>\n",
              "      <td>0.600000</td>\n",
              "    </tr>\n",
              "    <tr>\n",
              "      <th>Schefflera</th>\n",
              "      <td>0.666667</td>\n",
              "      <td>0.666667</td>\n",
              "    </tr>\n",
              "    <tr>\n",
              "      <th>Cordyline</th>\n",
              "      <td>0.666667</td>\n",
              "      <td>0.666667</td>\n",
              "    </tr>\n",
              "    <tr>\n",
              "      <th>Iris</th>\n",
              "      <td>0.666667</td>\n",
              "      <td>0.666667</td>\n",
              "    </tr>\n",
              "    <tr>\n",
              "      <th>Prunus</th>\n",
              "      <td>1.000000</td>\n",
              "      <td>1.000000</td>\n",
              "    </tr>\n",
              "    <tr>\n",
              "      <th>Asclepias</th>\n",
              "      <td>1.000000</td>\n",
              "      <td>1.000000</td>\n",
              "    </tr>\n",
              "  </tbody>\n",
              "</table>\n",
              "</div>"
            ],
            "text/plain": [
              "              Toxic to Cats  Toxic to Dogs\n",
              "Genus                                     \n",
              "Dionaea            0.000000       0.000000\n",
              "Plectranthus       0.250000       0.250000\n",
              "Ipomoea            0.500000       0.500000\n",
              "Tradescantia       0.500000       0.500000\n",
              "Dracaena           0.600000       0.600000\n",
              "Schefflera         0.666667       0.666667\n",
              "Cordyline          0.666667       0.666667\n",
              "Iris               0.666667       0.666667\n",
              "Prunus             1.000000       1.000000\n",
              "Asclepias          1.000000       1.000000"
            ]
          },
          "metadata": {
            "tags": []
          },
          "execution_count": 36
        }
      ]
    },
    {
      "cell_type": "code",
      "metadata": {
        "id": "0j-rdA_RHOpD",
        "outputId": "c81e1a57-df87-4cb2-f575-67f8303b7f96",
        "colab": {
          "base_uri": "https://localhost:8080/"
        }
      },
      "source": [
        "# How many Genuses have mixed toxicity\n",
        "len(aspca_df[['Genus','Toxic to Dogs','Toxic to Cats']].pivot_table(index = 'Genus').sort_values(by='Toxic to Dogs')[aspca_df[['Genus','Toxic to Dogs','Toxic to Cats']].pivot_table(index = 'Genus').sort_values(by='Toxic to Dogs')['Toxic to Dogs'].apply(lambda x: 0<x<1)])"
      ],
      "execution_count": null,
      "outputs": [
        {
          "output_type": "execute_result",
          "data": {
            "text/plain": [
              "7"
            ]
          },
          "metadata": {
            "tags": []
          },
          "execution_count": 37
        }
      ]
    },
    {
      "cell_type": "code",
      "metadata": {
        "id": "cCVWjqIIgIbY",
        "outputId": "feae2699-98d2-435d-ad81-17119c868ac7",
        "colab": {
          "base_uri": "https://localhost:8080/"
        }
      },
      "source": [
        "# How many Genuses\n",
        "len(aspca_df[['Genus','Toxic to Dogs','Toxic to Cats']].pivot_table(index = 'Genus').sort_values(by='Toxic to Dogs'))"
      ],
      "execution_count": null,
      "outputs": [
        {
          "output_type": "execute_result",
          "data": {
            "text/plain": [
              "350"
            ]
          },
          "metadata": {
            "tags": []
          },
          "execution_count": 38
        }
      ]
    },
    {
      "cell_type": "markdown",
      "metadata": {
        "id": "8Bj7ImzdGjWW"
      },
      "source": [
        "# Scraping Google Images for URLS"
      ]
    },
    {
      "cell_type": "markdown",
      "metadata": {
        "id": "mLxQe1EQHV63"
      },
      "source": [
        "[URL scraping](https://towardsdatascience.com/image-scraping-with-python-a96feda8af2d) was achieved using Selenium. \n",
        "Selenium is extremely powerful, and nearly all interactions with a website can be simulated.\n"
      ]
    },
    {
      "cell_type": "code",
      "metadata": {
        "id": "AtV8vpDXt2_A",
        "outputId": "09e1a66d-dffe-4966-889b-c4172126594c",
        "colab": {
          "base_uri": "https://localhost:8080/",
          "height": 1000
        }
      },
      "source": [
        "# If running in Colabs\n",
        "!pip install selenium -q\n",
        "!apt-get update # to update ubuntu to correctly run apt install\n",
        "!apt install chromium-chromedriver -q\n",
        "!cp /usr/lib/chromium-browser/chromedriver /usr/bin\n",
        "import sys\n",
        "sys.path.insert(0,'/usr/lib/chromium-browser/chromedriver')\n",
        "\n",
        "# Import and setup the Selenium webdriver\n",
        "from selenium import webdriver\n",
        "chrome_options = webdriver.ChromeOptions()\n",
        "chrome_options.add_argument('--headless')\n",
        "chrome_options.add_argument('--no-sandbox')\n",
        "chrome_options.add_argument('--disable-dev-shm-usage')\n",
        "wd = webdriver.Chrome('chromedriver',chrome_options=chrome_options)"
      ],
      "execution_count": null,
      "outputs": [
        {
          "output_type": "stream",
          "text": [
            "Requirement already satisfied: selenium in /usr/local/lib/python3.6/dist-packages (3.141.0)\n",
            "Requirement already satisfied: urllib3 in /usr/local/lib/python3.6/dist-packages (from selenium) (1.24.3)\n",
            "Get:1 http://ppa.launchpad.net/c2d4u.team/c2d4u4.0+/ubuntu bionic InRelease [15.9 kB]\n",
            "Hit:2 http://archive.ubuntu.com/ubuntu bionic InRelease\n",
            "Get:3 http://archive.ubuntu.com/ubuntu bionic-updates InRelease [88.7 kB]\n",
            "Get:4 https://cloud.r-project.org/bin/linux/ubuntu bionic-cran40/ InRelease [3,626 B]\n",
            "Hit:5 http://ppa.launchpad.net/graphics-drivers/ppa/ubuntu bionic InRelease\n",
            "Get:6 http://archive.ubuntu.com/ubuntu bionic-backports InRelease [74.6 kB]\n",
            "Get:7 http://security.ubuntu.com/ubuntu bionic-security InRelease [88.7 kB]\n",
            "Ign:8 https://developer.download.nvidia.com/compute/cuda/repos/ubuntu1804/x86_64  InRelease\n",
            "Ign:9 https://developer.download.nvidia.com/compute/machine-learning/repos/ubuntu1804/x86_64  InRelease\n",
            "Get:10 https://developer.download.nvidia.com/compute/cuda/repos/ubuntu1804/x86_64  Release [697 B]\n",
            "Get:11 https://developer.download.nvidia.com/compute/machine-learning/repos/ubuntu1804/x86_64  Release [564 B]\n",
            "Get:12 https://developer.download.nvidia.com/compute/cuda/repos/ubuntu1804/x86_64  Release.gpg [836 B]\n",
            "Get:13 https://developer.download.nvidia.com/compute/machine-learning/repos/ubuntu1804/x86_64  Release.gpg [833 B]\n",
            "Get:14 https://cloud.r-project.org/bin/linux/ubuntu bionic-cran40/ Packages [39.3 kB]\n",
            "Get:15 http://ppa.launchpad.net/c2d4u.team/c2d4u4.0+/ubuntu bionic/main Sources [1,685 kB]\n",
            "Get:16 http://ppa.launchpad.net/c2d4u.team/c2d4u4.0+/ubuntu bionic/main amd64 Packages [863 kB]\n",
            "Get:17 http://archive.ubuntu.com/ubuntu bionic-updates/universe amd64 Packages [2,115 kB]\n",
            "Get:18 http://archive.ubuntu.com/ubuntu bionic-updates/restricted amd64 Packages [239 kB]\n",
            "Get:19 http://archive.ubuntu.com/ubuntu bionic-updates/main amd64 Packages [2,165 kB]\n",
            "Get:20 http://archive.ubuntu.com/ubuntu bionic-updates/multiverse amd64 Packages [45.9 kB]\n",
            "Ign:21 https://developer.download.nvidia.com/compute/cuda/repos/ubuntu1804/x86_64  Packages\n",
            "Get:21 https://developer.download.nvidia.com/compute/cuda/repos/ubuntu1804/x86_64  Packages [370 kB]\n",
            "Get:22 https://developer.download.nvidia.com/compute/machine-learning/repos/ubuntu1804/x86_64  Packages [57.0 kB]\n",
            "Get:23 http://security.ubuntu.com/ubuntu bionic-security/multiverse amd64 Packages [15.4 kB]\n",
            "Get:24 http://security.ubuntu.com/ubuntu bionic-security/universe amd64 Packages [1,352 kB]\n",
            "Get:25 http://security.ubuntu.com/ubuntu bionic-security/main amd64 Packages [1,745 kB]\n",
            "Get:26 http://security.ubuntu.com/ubuntu bionic-security/restricted amd64 Packages [211 kB]\n",
            "Fetched 11.2 MB in 2s (4,677 kB/s)\n",
            "Reading package lists... Done\n",
            "Reading package lists... Done\n",
            "Building dependency tree       \n",
            "Reading state information... Done\n",
            "The following additional packages will be installed:\n",
            "  chromium-browser chromium-browser-l10n chromium-codecs-ffmpeg-extra\n",
            "Suggested packages:\n",
            "  webaccounts-chromium-extension unity-chromium-extension adobe-flashplugin\n",
            "The following NEW packages will be installed:\n",
            "  chromium-browser chromium-browser-l10n chromium-chromedriver\n",
            "  chromium-codecs-ffmpeg-extra\n",
            "0 upgraded, 4 newly installed, 0 to remove and 57 not upgraded.\n",
            "Need to get 80.1 MB of archives.\n",
            "After this operation, 271 MB of additional disk space will be used.\n",
            "Get:1 http://archive.ubuntu.com/ubuntu bionic-updates/universe amd64 chromium-codecs-ffmpeg-extra amd64 86.0.4240.75-0ubuntu0.18.04.1 [1,127 kB]\n",
            "Get:2 http://archive.ubuntu.com/ubuntu bionic-updates/universe amd64 chromium-browser amd64 86.0.4240.75-0ubuntu0.18.04.1 [70.9 MB]\n",
            "Get:3 http://archive.ubuntu.com/ubuntu bionic-updates/universe amd64 chromium-browser-l10n all 86.0.4240.75-0ubuntu0.18.04.1 [3,579 kB]\n",
            "Get:4 http://archive.ubuntu.com/ubuntu bionic-updates/universe amd64 chromium-chromedriver amd64 86.0.4240.75-0ubuntu0.18.04.1 [4,486 kB]\n",
            "Fetched 80.1 MB in 1s (61.1 MB/s)\n",
            "Selecting previously unselected package chromium-codecs-ffmpeg-extra.\n",
            "(Reading database ... 144611 files and directories currently installed.)\n",
            "Preparing to unpack .../chromium-codecs-ffmpeg-extra_86.0.4240.75-0ubuntu0.18.04.1_amd64.deb ...\n",
            "Unpacking chromium-codecs-ffmpeg-extra (86.0.4240.75-0ubuntu0.18.04.1) ...\n",
            "Selecting previously unselected package chromium-browser.\n",
            "Preparing to unpack .../chromium-browser_86.0.4240.75-0ubuntu0.18.04.1_amd64.deb ...\n",
            "Unpacking chromium-browser (86.0.4240.75-0ubuntu0.18.04.1) ...\n",
            "Selecting previously unselected package chromium-browser-l10n.\n",
            "Preparing to unpack .../chromium-browser-l10n_86.0.4240.75-0ubuntu0.18.04.1_all.deb ...\n",
            "Unpacking chromium-browser-l10n (86.0.4240.75-0ubuntu0.18.04.1) ...\n",
            "Selecting previously unselected package chromium-chromedriver.\n",
            "Preparing to unpack .../chromium-chromedriver_86.0.4240.75-0ubuntu0.18.04.1_amd64.deb ...\n",
            "Unpacking chromium-chromedriver (86.0.4240.75-0ubuntu0.18.04.1) ...\n",
            "Setting up chromium-codecs-ffmpeg-extra (86.0.4240.75-0ubuntu0.18.04.1) ...\n",
            "Setting up chromium-browser (86.0.4240.75-0ubuntu0.18.04.1) ...\n",
            "update-alternatives: using /usr/bin/chromium-browser to provide /usr/bin/x-www-browser (x-www-browser) in auto mode\n",
            "update-alternatives: using /usr/bin/chromium-browser to provide /usr/bin/gnome-www-browser (gnome-www-browser) in auto mode\n",
            "Setting up chromium-chromedriver (86.0.4240.75-0ubuntu0.18.04.1) ...\n",
            "Setting up chromium-browser-l10n (86.0.4240.75-0ubuntu0.18.04.1) ...\n",
            "Processing triggers for hicolor-icon-theme (0.17-2) ...\n",
            "Processing triggers for mime-support (3.60ubuntu1) ...\n",
            "Processing triggers for man-db (2.8.3-2ubuntu0.1) ...\n",
            "cp: '/usr/lib/chromium-browser/chromedriver' and '/usr/bin/chromedriver' are the same file\n"
          ],
          "name": "stdout"
        },
        {
          "output_type": "stream",
          "text": [
            "/usr/local/lib/python3.6/dist-packages/ipykernel_launcher.py:12: DeprecationWarning: use options instead of chrome_options\n",
            "  if sys.path[0] == '':\n"
          ],
          "name": "stderr"
        }
      ]
    },
    {
      "cell_type": "markdown",
      "metadata": {
        "id": "PWM0OFfopCr0"
      },
      "source": [
        "The Selenium webdriver acts as our virtual browser, and can be controlled through python commands. Here we adapt a script used to grab image files from google images to only look for and download thumbnails, as we are going to be grabbing a lot of images. \n",
        "\n",
        "A small catch is that many of google's image thumbnails are stored as base64 encoded images. We'd like to also grab these so we don't miss out on any images with high relevance, as the further along we go in search results, the worse the images become for training purposes."
      ]
    },
    {
      "cell_type": "code",
      "metadata": {
        "id": "6YVRoR4JUABT"
      },
      "source": [
        "import requests\n",
        "import time\n",
        "\n",
        "def fetch_thumbnail_urls(query:str, max_links_to_fetch:int, wd:webdriver, sleep_between_interactions:int=1, non_commercial=False, shuffle=False):\n",
        "    \"\"\" Gathers urls from google images based on a query, using a Selenium webdriver (wd).\n",
        "    sleep_between_interactions can be changed to accomodate for slower connections/computers. \n",
        "    if shuffle is true, the list of urls returned will be shuffled into a random order\n",
        "\n",
        "    Parameters\n",
        "    ----------\n",
        "    query: str\n",
        "      Query passed to Google Images.\n",
        "    max_links_to_fetch: int\n",
        "      Number of URLs to fetch.\n",
        "    wd: Selenium webdriver\n",
        "      Selenium webdriver instance to use.\n",
        "    sleep_between_interactions: int\n",
        "       Time in seconds to wait between webdriver interactions.\n",
        "    non_commercial: bool\n",
        "      Should the function search for images tagged only for non commercial use.  \n",
        "    shuffle: bool\n",
        "      Should the order of the URLs returned be shuffled. \n",
        "\n",
        "    Returns:\n",
        "    ----------\n",
        "    List\n",
        "      List of URLs.\n",
        "    \"\"\"\n",
        "    def scroll_to_end(wd):\n",
        "        wd.execute_script(\"window.scrollTo(0, document.body.scrollHeight);\")\n",
        "        time.sleep(sleep_between_interactions)    \n",
        "    \n",
        "    # build the google query\n",
        "    if non_commercial == True:\n",
        "      search_url = 'https://www.google.com/search?as_st=y&source=hp&safe=off&tbm=isch&as_epq={q}&gs_l=img&tbs=sur%3Af'\n",
        "    else:\n",
        "      search_url = \"https://www.google.com/search?as_st=y&source=hp&safe=off&tbm=isch&as_epq={q}&gs_l=img\"\n",
        "    # load the page\n",
        "    wd.get(search_url.format(q=query))\n",
        "\n",
        "    image_urls = []\n",
        "    image_count = 0\n",
        "    results_start = 0\n",
        "    while image_count < max_links_to_fetch:\n",
        "        scroll_to_end(wd)\n",
        "\n",
        "        # get all image thumbnail results\n",
        "        thumbnail_results = wd.find_elements_by_css_selector(\"img.Q4LuWd\")\n",
        "        number_results = len(thumbnail_results)\n",
        "        \n",
        "        for img in thumbnail_results:\n",
        "            # extract image urls if they're available from an address\n",
        "            if img.get_attribute('src') and 'http' in img.get_attribute('src'):\n",
        "                image_urls.append(img.get_attribute('src'))\n",
        "            # also grab the straight 64-bit encoded images google uses\n",
        "            elif img.get_attribute('src') and 'data' in img.get_attribute('src'):\n",
        "                image_urls.append(img.get_attribute('src'))\n",
        "\n",
        "            image_count = len(image_urls)\n",
        "\n",
        "            # break if we reach the specified quota\n",
        "            if len(image_urls) >= max_links_to_fetch:\n",
        "                break\n",
        "        # if we need more images, click load more images button      \n",
        "        else:\n",
        "            time.sleep(30)\n",
        "            load_more_button = wd.find_element_by_css_selector(\".mye4qd\")\n",
        "            if load_more_button:\n",
        "                wd.execute_script(\"document.querySelector('.mye4qd').click();\")\n",
        "\n",
        "        # move the result startpoint further down\n",
        "        results_start = len(thumbnail_results)\n",
        "\n",
        "    if shuffle==True:\n",
        "      random.shuffle(image_urls)\n",
        "\n",
        "    return image_urls"
      ],
      "execution_count": null,
      "outputs": []
    },
    {
      "cell_type": "markdown",
      "metadata": {
        "id": "zuS--M6oIoj_"
      },
      "source": [
        "Great! Now we have a way to scrape google images for pictures without having to build that entire database by hand! \n",
        "\n",
        "Onto fast.ai v2 to download, organize and build a cnn classifier. "
      ]
    },
    {
      "cell_type": "markdown",
      "metadata": {
        "id": "Q4N9kFmzeFKg"
      },
      "source": [
        "# Downloading Images with FastAI"
      ]
    },
    {
      "cell_type": "markdown",
      "metadata": {
        "id": "BtrQa1YRrPkE"
      },
      "source": [
        "Fastai v2 has a built-in download_images function that... downloads images. \n",
        "However - we'd like to upgrade it a little bit to has the images as they come in, and ignore/delete any duplicates so we end up with consistent sets of unique images. \n",
        "\n",
        "We also choose to use only the scientific name to search for images - due to common plant names including things like \"Elephant Ears\", \"Fluffy Ruffles\", \"Pink Pearl\" and many other objects that will confuse the search. "
      ]
    },
    {
      "cell_type": "code",
      "metadata": {
        "id": "XBaXOnMfc-4b",
        "outputId": "a8e674db-3752-4463-b545-bf10bb4b706a",
        "colab": {
          "base_uri": "https://localhost:8080/",
          "height": 85
        }
      },
      "source": [
        "# Run once per session\n",
        "!pip install fastai==2.0.18 -q\n",
        "from fastai.vision.all import *"
      ],
      "execution_count": null,
      "outputs": [
        {
          "output_type": "stream",
          "text": [
            "\u001b[K     |████████████████████████████████| 358kB 5.2MB/s \n",
            "\u001b[K     |████████████████████████████████| 51kB 4.9MB/s \n",
            "\u001b[?25h"
          ],
          "name": "stdout"
        },
        {
          "output_type": "stream",
          "text": [
            "/usr/local/lib/python3.6/dist-packages/fastcore/foundation.py:52: UserWarning: `patch_property` is deprecated and will be removed; use `patch(as_prop=True)` instead\n",
            "  warnings.warn(\"`patch_property` is deprecated and will be removed; use `patch(as_prop=True)` instead\")\n"
          ],
          "name": "stderr"
        }
      ]
    },
    {
      "cell_type": "code",
      "metadata": {
        "id": "NrBsCKrNlfRi"
      },
      "source": [
        "import io\n",
        "from PIL import Image\n",
        "import base64\n",
        "import hashlib\n",
        "def download_images(dest, url_file=None, urls=None, max_pics=150, n_workers=1, timeout=4):\n",
        "    \"\"\" Download images listed in text file `url_file` to path `dest`, at most `max_pics`\n",
        "    Duplicate protection added using hash keys.\n",
        "      After image is downloaded, the hash is compared against other image hashes before saving. \n",
        "      If the hash already exists, the next url is tried. \n",
        "\n",
        "    Parameters\n",
        "    ----------\n",
        "    dest: Path or str\n",
        "      Download destination folder.\n",
        "    url_file: \n",
        "      File containing \\n separated URLs.\n",
        "    urls:\n",
        "      List of URLs.\n",
        "    max_pics: int\n",
        "       Number of images to download.\n",
        "    n_workers: int\n",
        "      Number of cores to use in parallel. Must be 1 for duplicate protection to work. \n",
        "\n",
        "    Returns:\n",
        "    ----------\n",
        "    Downloads images from given URLs to dest directory.\n",
        "    \"\"\"\n",
        "    hash_keys = dict()\n",
        "    # Set up hash dict to prevent duplicate image download\n",
        "    if urls is None: urls = url_file.read().strip().split(\"\\n\")\n",
        "    dest = Path(dest)\n",
        "    dest.mkdir(exist_ok=True)\n",
        "    # n_workers must be 1 since we're checking for unique images during the downloading process\n",
        "    parallel(partial(_download_image_inner, dest, timeout=timeout, max_pics=max_pics), list(enumerate(urls)), n_workers=1)\n",
        "\n",
        "def _download_image_inner(dest, inp, timeout=4, max_pics=150):\n",
        "    # Input is an enumerate object\n",
        "    i,url = inp\n",
        "    suffix = re.findall(r'\\.\\w+?(?=(?:\\?|$))', url)\n",
        "    suffix = suffix[0] if len(suffix)>0  else '.jpg'\n",
        "    # If we have enough pictures, just do nothing until we run out of URLs\n",
        "    if len(dest.ls()) >= max_pics:\n",
        "      return\n",
        "    # Adapt fast.ai v2 download_images function to handle base64 encoded images\n",
        "    # If the grabbed url was an encoded jpg, decode it and save it inline with the rest, if unique\n",
        "    try:\n",
        "      if url[:15] == 'data:image/jpeg':\n",
        "        encoded_image = url[url.find('/9'):]\n",
        "        im = Image.open(io.BytesIO(base64.b64decode(encoded_image)))\n",
        "        filehash = hashlib.md5(im.tobytes()).hexdigest()\n",
        "        if filehash not in hash_keys: \n",
        "          hash_keys[filehash] = i\n",
        "          im.save(dest/f\"{i:08d}{suffix}\")\n",
        "        else:\n",
        "          pass\n",
        "    except:\n",
        "      pass\n",
        "    # Adapt fast.ai v2 download_images function to handle base64 encoded images\n",
        "    # If the grabbed url was an encoded png, decode it and save it inline with the rest, if unique\n",
        "    try:\n",
        "      if url[:14] == 'data:image/png':\n",
        "        encoded_image = url[url.find('iVBOR'):]\n",
        "        im = Image.open(io.BytesIO(base64.standard_b64decode(encoded_image))).convert('RGB')\n",
        "        filehash = hashlib.md5(im.tobytes()).hexdigest()\n",
        "        if filehash not in hash_keys: \n",
        "          hash_keys[filehash] = i\n",
        "          im.save(dest/f\"{i:08d}{suffix}\")\n",
        "        else:\n",
        "          pass\n",
        "    except:\n",
        "      pass\n",
        "    # If the grabbed url was a http site, download it and check we haven't already got the same image.\n",
        "    try: \n",
        "      download_url(url, dest/f\"{i:08d}{suffix}\", overwrite=True, show_progress=True, timeout=timeout)\n",
        "      im = Image.open(dest/f\"{i:08d}{suffix}\")\n",
        "      filehash = hashlib.md5(im.tobytes()).hexdigest()\n",
        "      if filehash not in hash_keys: \n",
        "        hash_keys[filehash] = i\n",
        "      else:\n",
        "        (dest/f\"{i:08d}{suffix}\").unlink()\n",
        "    except Exception as e: f\"Couldn't download {url}.\""
      ],
      "execution_count": null,
      "outputs": []
    },
    {
      "cell_type": "markdown",
      "metadata": {
        "id": "XTXHeU9MHuL5"
      },
      "source": [
        "Test Download"
      ]
    },
    {
      "cell_type": "code",
      "metadata": {
        "id": "F96-p5dVHqVO",
        "outputId": "d074522f-59f4-46d1-c4be-b04d922e4302",
        "colab": {
          "base_uri": "https://localhost:8080/",
          "height": 202,
          "referenced_widgets": [
            "5448d5a96d034dbb8d187ce35d363de1",
            "0aa74c3a17f74c3286bb3c28903c31c7",
            "f990ac9740c14b5eb82f608662f4b788",
            "5043eac8d19647659c066e1ddc766038",
            "c701cc522ca943ddbb41faacc8f1ca84",
            "1677e2df547c4c2081d7302f4c5152fe",
            "8f5c56f1795d488b825f30e053f5da3d",
            "598bda7a7ef44e63aae183b31cad66b6"
          ]
        }
      },
      "source": [
        "wd = webdriver.Chrome('chromedriver',options=options)\n",
        "from tqdm.notebook import tqdm\n",
        "import itertools\n",
        "scientific_names = aspca_df['Scientific Name'][0:4]\n",
        "# loop over all houseplant names, grab urls and download them into my google drive in separate folders\n",
        "for name in tqdm(scientific_names):\n",
        "  try:\n",
        "    path = Path('/content/sample_data');\n",
        "    folder = name\n",
        "    dest = path/folder\n",
        "    dest.mkdir(parents=True, exist_ok=True)\n",
        "    if len(dest.ls())<150:\n",
        "      print(f'{name} has {len(dest.ls())} images.')\n",
        "      url_science = fetch_thumbnail_urls(f'{name}', max_links_to_fetch = 600, wd=wd, non_commercial = False, shuffle = False)\n",
        "      dest = path/folder\n",
        "      # Force hash_key to be refreshed - stored as a global in the function, emptied here\n",
        "      hash_keys = dict()\n",
        "      download_images(path/folder, urls = url_science, max_pics=150) # The modified fast.ai convenience function\n",
        "      print(f'Finished downloading images of {name} : {len(dest.ls())} images downloaded.') \n",
        "    else:\n",
        "      print(f'{name} already has sufficient images.')\n",
        "  except Exception as e:\n",
        "    print(f'Error with {name}. {e}')"
      ],
      "execution_count": null,
      "outputs": [
        {
          "output_type": "display_data",
          "data": {
            "application/vnd.jupyter.widget-view+json": {
              "model_id": "5448d5a96d034dbb8d187ce35d363de1",
              "version_minor": 0,
              "version_major": 2
            },
            "text/plain": [
              "HBox(children=(FloatProgress(value=0.0, max=4.0), HTML(value='')))"
            ]
          },
          "metadata": {
            "tags": []
          }
        },
        {
          "output_type": "stream",
          "text": [
            "Abronia fragrans has 0 images.\n"
          ],
          "name": "stdout"
        },
        {
          "output_type": "display_data",
          "data": {
            "text/html": [
              ""
            ],
            "text/plain": [
              "<IPython.core.display.HTML object>"
            ]
          },
          "metadata": {
            "tags": []
          }
        },
        {
          "output_type": "stream",
          "text": [
            "Finished downloading images of Abronia fragrans : 150 images downloaded.\n",
            "Abrus precatorius has 0 images.\n"
          ],
          "name": "stdout"
        },
        {
          "output_type": "display_data",
          "data": {
            "text/html": [
              ""
            ],
            "text/plain": [
              "<IPython.core.display.HTML object>"
            ]
          },
          "metadata": {
            "tags": []
          }
        },
        {
          "output_type": "stream",
          "text": [
            "Finished downloading images of Abrus precatorius : 150 images downloaded.\n",
            "Acalypha hispida has 0 images.\n"
          ],
          "name": "stdout"
        },
        {
          "output_type": "display_data",
          "data": {
            "text/html": [
              ""
            ],
            "text/plain": [
              "<IPython.core.display.HTML object>"
            ]
          },
          "metadata": {
            "tags": []
          }
        },
        {
          "output_type": "stream",
          "text": [
            "Finished downloading images of Acalypha hispida : 150 images downloaded.\n",
            "Acalypha wilkesiana has 0 images.\n"
          ],
          "name": "stdout"
        },
        {
          "output_type": "display_data",
          "data": {
            "text/html": [
              ""
            ],
            "text/plain": [
              "<IPython.core.display.HTML object>"
            ]
          },
          "metadata": {
            "tags": []
          }
        },
        {
          "output_type": "stream",
          "text": [
            "Finished downloading images of Acalypha wilkesiana : 150 images downloaded.\n",
            "\n"
          ],
          "name": "stdout"
        }
      ]
    },
    {
      "cell_type": "markdown",
      "metadata": {
        "id": "Cjs9-BBL0roy"
      },
      "source": [
        "Download full set of data."
      ]
    },
    {
      "cell_type": "code",
      "metadata": {
        "id": "bk_f9i92aW1E"
      },
      "source": [
        "# Instantiate webdriver\n",
        "wd = webdriver.Chrome('chromedriver',options=options)\n",
        "from tqdm.notebook import tqdm\n",
        "import itertools\n",
        "scientific_names = aspca_df['Scientific Name']\n",
        "# Loop over all houseplant names, grab urls and download them into my google drive in separate folders\n",
        "for name in tqdm(scientific_names):\n",
        "  try:\n",
        "    path = Path('/content/drive/My Drive/Houseplant Classifier/plant_images_deepest');\n",
        "    folder = name\n",
        "    dest = path/folder\n",
        "    dest.mkdir(parents=True, exist_ok=True)\n",
        "    if len(dest.ls())<150:\n",
        "      print(f'{name} has {len(dest.ls())} images.')\n",
        "      url_science = fetch_thumbnail_urls(f'{name}', max_links_to_fetch = 600, wd=wd, non_commercial = False, shuffle = False)\n",
        "      dest = path/folder\n",
        "      # Force hash_key to be refreshed - stored as a global in the function, emptied here\n",
        "      hash_keys = dict()\n",
        "      download_images(path/folder, urls = url_science, max_pics=150) # The modified fast.ai convenience function\n",
        "      print(f'Finished downloading images of {name} : {len(dest.ls())} images downloaded.') \n",
        "    else:\n",
        "      print(f'{name} already has sufficient images.')\n",
        "  except Exception as e:\n",
        "    print(f'Error with {name}. {e}')"
      ],
      "execution_count": null,
      "outputs": []
    },
    {
      "cell_type": "markdown",
      "metadata": {
        "id": "EG3smM9dheiJ"
      },
      "source": [
        "### Check a folder for duplicates"
      ]
    },
    {
      "cell_type": "code",
      "metadata": {
        "id": "72u-kuG00jIu"
      },
      "source": [
        "path = Path('/content/drive/My Drive/Houseplant Classifier/plant_images_deepest')\n",
        "\n",
        "def find_duplicates(folder):\n",
        "  import hashlib\n",
        "  from tqdm.notebook import tqdm\n",
        "  hash_keys = dict()\n",
        "  duplicates = []\n",
        "  for index, filename in tqdm(enumerate(folder.ls())):\n",
        "        with open(filename, 'rb') as f:\n",
        "            filehash = hashlib.md5(f.read()).hexdigest()\n",
        "        if filehash not in hash_keys: \n",
        "            hash_keys[filehash] = index\n",
        "        else:\n",
        "            duplicates.append((index,hash_keys[filehash]))\n",
        "  if len(duplicates)>0:\n",
        "    print(f'{len(duplicates)} duplicates out of {len(folder.ls())} images in {folder}')\n",
        "    return duplicates\n",
        "  else:\n",
        "    print(f'No duplicates found in {folder}')"
      ],
      "execution_count": null,
      "outputs": []
    },
    {
      "cell_type": "code",
      "metadata": {
        "id": "wQsBXlgpmWk8",
        "outputId": "d5f79d70-2ac5-4991-a2a2-e80b26e06a0b",
        "colab": {
          "base_uri": "https://localhost:8080/",
          "height": 83,
          "referenced_widgets": [
            "44101b135dd3461ab95bdd70d659c48d",
            "fc9fbfa1f0834b4aa558cc70192b9fdd",
            "2c8208448a194c4d9aada84b488803a9",
            "ef9ba65b15a84b608b3580d59a8b427a",
            "46bdbc83b897446abbb001fd0f419028",
            "0583e0defb2945e092907828533e91b1",
            "b7bcf71c689345d290001fe2d59bcc8d",
            "d88874307a3e42d0b5f2c627a2281043"
          ]
        }
      },
      "source": [
        "folder = path/'Abronia fragrans'\n",
        "find_duplicates(folder)"
      ],
      "execution_count": null,
      "outputs": [
        {
          "output_type": "display_data",
          "data": {
            "application/vnd.jupyter.widget-view+json": {
              "model_id": "44101b135dd3461ab95bdd70d659c48d",
              "version_minor": 0,
              "version_major": 2
            },
            "text/plain": [
              "HBox(children=(FloatProgress(value=1.0, bar_style='info', max=1.0), HTML(value='')))"
            ]
          },
          "metadata": {
            "tags": []
          }
        },
        {
          "output_type": "stream",
          "text": [
            "\n",
            "No duplicates found in /content/drive/My Drive/Houseplant Classifier/plant_images_duplitest/Abronia fragrans\n"
          ],
          "name": "stdout"
        }
      ]
    },
    {
      "cell_type": "code",
      "metadata": {
        "id": "tFelyQES1H6p",
        "outputId": "f13577d5-c860-4b42-ab2e-1409986164db",
        "colab": {
          "base_uri": "https://localhost:8080/",
          "height": 677,
          "referenced_widgets": [
            "e3d8ff3a03804eb4af8c60656ef830a2",
            "64e96dcb0b984254b94c05487f69589e",
            "5428343fe20e49b69f8a13e6c5f0cfe0",
            "61b6931c5f1f4a1b844c8936b0389d16",
            "1c2f9834446844309163498bd76c0864",
            "80a1c72052814a948427a0a5b75b4e43",
            "dfeef4959d114edab6304b3bbf6a51f8",
            "2344e835f249429081eb7a9ccadb3a79",
            "715c29e114bf4a10827edc19cc10bbc4",
            "36cd22b3847f4e62984f12c16564bfd4",
            "6a249278b3c74b829c38415f12158133",
            "ca384707d0684308aff033ecc23fa1e2",
            "9da0ccb94ffe4b39977f5b4810466aaa",
            "3cf9c45f208b459383bd5798d377ce17",
            "a8425be5ac5b445e987c69726f9b7016",
            "dc65a4ffa39d4fbc9f2d03748a7bf65e",
            "8400d16141294a9d96067a08dbbb8efb",
            "11a428afaee34caea64be27f4b5ab981",
            "2f5ced2c2d554b64bea9c4d49ee5afe8",
            "b230a080f8e04bd2a78fbc3f6885b2ef",
            "0dd036eb57684ff79a9c7e6f8f4e04df",
            "cd99290ba01343eda926224e4ede4b1d",
            "25080e56dd7e4f3984317d8f6a57a8ad",
            "93925667519b400d8e552551b3e4af22",
            "284b52e878574f67a5ba8eaf0dfa436b",
            "3de5fbdad241470c956e329893ae1c47",
            "0819f361a46e4bdc9170b970050f85fe",
            "70a404cd712a4f60b4c557cb7fe66d4c",
            "a132e573774c474486e81db4d7235c6c",
            "18f5f51d7de649a884b025ac7a1af978",
            "8c32c2892af74c7caeb8594061ff7bbc",
            "9496649d96404b9f8657a1aed0f2daa7",
            "c573139399e1498a9769e030d8a9b07e",
            "b5615e79891948c48b9c7289bfc768b4",
            "7ed7d64dc5db4a82b11795bb8ef8a078",
            "745a1740833c4c9098a9c29c7b67777d",
            "763db854937c4847804fb9a0e07ee0a1",
            "db1745d13b8e49e6b68208566fd71c13",
            "ebd9fc94ffc545eb884df91f45e22f79",
            "505243ea7a3746a6806c261e25d5196f",
            "0d34ba8ff6e94832833e024d0b9f4252",
            "5b337c51010e4389b5e709de85dbb188",
            "95233231d2e643f78558be4f2b456028",
            "0c4d7d4d77a146699289c889cde69d8e",
            "50bee465a86b4cf6b462aaf39b5b0960",
            "a7f2e95c32134dc5bd28e944deb6edfc",
            "a43928d3513a4a578046344982bf9524",
            "4c6c00495cba46daa30a739139678691",
            "50aadc5b0311419fb3cf6dd0df2cc98c",
            "f93367897be9402caba23b16ae238878",
            "5ceff90f18e941939004623a280ab86a",
            "eff71ff5dd4545c18dad03b3249c6937",
            "e1f58a2670ae48fe890745bb0cce1e30",
            "1de5b9b6dfc94133bc75da56d3ecd704",
            "c017c0b457f74ea49f69db4313f6e92f",
            "16ee1df4ab5d433ba2ed16f406224bf6",
            "9bd46af0187740b6812fda29a2468218",
            "f28cfa24661a48689737c2e4db5bc74b",
            "fcf0e4a46e594d81ac695cf7f86d7c9d",
            "832d75c3e62a4a3c961cb6a0d7b37b32",
            "2b20d23d610f44c3a1dfcaea100905c3",
            "f6b1970c04b24cbf8d16650db50a572f",
            "4c4bb81ec9fd4130b151a018f10fc3fd",
            "110175b60d3740698b5bd46e0275c7cf",
            "29f5d73ae90f4ae389fd5de96af4de00",
            "14b02ceb9de140f6a164d015da04192e",
            "263b0272f9564751aee7f22da63f8a8d",
            "ac3a833c46414c1085652ca1d9d5bac0",
            "a349a7b20cfd4753846aebf3a2dbd4cc",
            "880e9e79ae9c4080b3a8e43eb8e14729",
            "4ee407039f774310bb17299b1bf85f03",
            "4d52287311ea4e27bc67467c77f61d00",
            "19a382443fbb492f857790226e9cb049",
            "c4d043e5e924462081cace9e0abd2fcd",
            "6f27fc63f43e4d1ab782ba5dcdd71699",
            "9c56c897875345d2b3daff661520aabe",
            "cff62982160946d180c9fdc1ed8d3301",
            "d5a16375da684b25a5045fdce5077d99",
            "876cac1dec084c4097da4328cff01463",
            "e66ebc4981fa408a819f715a0f71203b"
          ]
        }
      },
      "source": [
        "for folder in path.ls():\n",
        "  find_duplicates(folder)"
      ],
      "execution_count": null,
      "outputs": [
        {
          "output_type": "display_data",
          "data": {
            "application/vnd.jupyter.widget-view+json": {
              "model_id": "e3d8ff3a03804eb4af8c60656ef830a2",
              "version_minor": 0,
              "version_major": 2
            },
            "text/plain": [
              "HBox(children=(FloatProgress(value=1.0, bar_style='info', max=1.0), HTML(value='')))"
            ]
          },
          "metadata": {
            "tags": []
          }
        },
        {
          "output_type": "stream",
          "text": [
            "\n",
            "No duplicates found in /content/drive/My Drive/Houseplant Classifier/plant_images_duplitest/Abronia fragrans\n"
          ],
          "name": "stdout"
        },
        {
          "output_type": "display_data",
          "data": {
            "application/vnd.jupyter.widget-view+json": {
              "model_id": "715c29e114bf4a10827edc19cc10bbc4",
              "version_minor": 0,
              "version_major": 2
            },
            "text/plain": [
              "HBox(children=(FloatProgress(value=1.0, bar_style='info', max=1.0), HTML(value='')))"
            ]
          },
          "metadata": {
            "tags": []
          }
        },
        {
          "output_type": "stream",
          "text": [
            "\n",
            "No duplicates found in /content/drive/My Drive/Houseplant Classifier/plant_images_duplitest/Abrus precatorius\n"
          ],
          "name": "stdout"
        },
        {
          "output_type": "display_data",
          "data": {
            "application/vnd.jupyter.widget-view+json": {
              "model_id": "8400d16141294a9d96067a08dbbb8efb",
              "version_minor": 0,
              "version_major": 2
            },
            "text/plain": [
              "HBox(children=(FloatProgress(value=1.0, bar_style='info', max=1.0), HTML(value='')))"
            ]
          },
          "metadata": {
            "tags": []
          }
        },
        {
          "output_type": "stream",
          "text": [
            "\n",
            "No duplicates found in /content/drive/My Drive/Houseplant Classifier/plant_images_duplitest/Acalypha hispida\n"
          ],
          "name": "stdout"
        },
        {
          "output_type": "display_data",
          "data": {
            "application/vnd.jupyter.widget-view+json": {
              "model_id": "284b52e878574f67a5ba8eaf0dfa436b",
              "version_minor": 0,
              "version_major": 2
            },
            "text/plain": [
              "HBox(children=(FloatProgress(value=1.0, bar_style='info', max=1.0), HTML(value='')))"
            ]
          },
          "metadata": {
            "tags": []
          }
        },
        {
          "output_type": "stream",
          "text": [
            "\n",
            "No duplicates found in /content/drive/My Drive/Houseplant Classifier/plant_images_duplitest/Acalypha wilkesiana\n"
          ],
          "name": "stdout"
        },
        {
          "output_type": "display_data",
          "data": {
            "application/vnd.jupyter.widget-view+json": {
              "model_id": "c573139399e1498a9769e030d8a9b07e",
              "version_minor": 0,
              "version_major": 2
            },
            "text/plain": [
              "HBox(children=(FloatProgress(value=1.0, bar_style='info', max=1.0), HTML(value='')))"
            ]
          },
          "metadata": {
            "tags": []
          }
        },
        {
          "output_type": "stream",
          "text": [
            "\n",
            "No duplicates found in /content/drive/My Drive/Houseplant Classifier/plant_images_duplitest/Acanthus\n"
          ],
          "name": "stdout"
        },
        {
          "output_type": "display_data",
          "data": {
            "application/vnd.jupyter.widget-view+json": {
              "model_id": "0d34ba8ff6e94832833e024d0b9f4252",
              "version_minor": 0,
              "version_major": 2
            },
            "text/plain": [
              "HBox(children=(FloatProgress(value=1.0, bar_style='info', max=1.0), HTML(value='')))"
            ]
          },
          "metadata": {
            "tags": []
          }
        },
        {
          "output_type": "stream",
          "text": [
            "\n",
            "No duplicates found in /content/drive/My Drive/Houseplant Classifier/plant_images_duplitest/Acer rubrum\n"
          ],
          "name": "stdout"
        },
        {
          "output_type": "display_data",
          "data": {
            "application/vnd.jupyter.widget-view+json": {
              "model_id": "50aadc5b0311419fb3cf6dd0df2cc98c",
              "version_minor": 0,
              "version_major": 2
            },
            "text/plain": [
              "HBox(children=(FloatProgress(value=1.0, bar_style='info', max=1.0), HTML(value='')))"
            ]
          },
          "metadata": {
            "tags": []
          }
        },
        {
          "output_type": "stream",
          "text": [
            "\n",
            "No duplicates found in /content/drive/My Drive/Houseplant Classifier/plant_images_duplitest/Acer tataricum subsp. ginnala\n"
          ],
          "name": "stdout"
        },
        {
          "output_type": "display_data",
          "data": {
            "application/vnd.jupyter.widget-view+json": {
              "model_id": "9bd46af0187740b6812fda29a2468218",
              "version_minor": 0,
              "version_major": 2
            },
            "text/plain": [
              "HBox(children=(FloatProgress(value=1.0, bar_style='info', max=1.0), HTML(value='')))"
            ]
          },
          "metadata": {
            "tags": []
          }
        },
        {
          "output_type": "stream",
          "text": [
            "\n",
            "No duplicates found in /content/drive/My Drive/Houseplant Classifier/plant_images_duplitest/Achillea millefolium\n"
          ],
          "name": "stdout"
        },
        {
          "output_type": "display_data",
          "data": {
            "application/vnd.jupyter.widget-view+json": {
              "model_id": "29f5d73ae90f4ae389fd5de96af4de00",
              "version_minor": 0,
              "version_major": 2
            },
            "text/plain": [
              "HBox(children=(FloatProgress(value=1.0, bar_style='info', max=1.0), HTML(value='')))"
            ]
          },
          "metadata": {
            "tags": []
          }
        },
        {
          "output_type": "stream",
          "text": [
            "\n",
            "No duplicates found in /content/drive/My Drive/Houseplant Classifier/plant_images_duplitest/Adenium obesum\n"
          ],
          "name": "stdout"
        },
        {
          "output_type": "display_data",
          "data": {
            "application/vnd.jupyter.widget-view+json": {
              "model_id": "19a382443fbb492f857790226e9cb049",
              "version_minor": 0,
              "version_major": 2
            },
            "text/plain": [
              "HBox(children=(FloatProgress(value=1.0, bar_style='info', max=1.0), HTML(value='')))"
            ]
          },
          "metadata": {
            "tags": []
          }
        },
        {
          "output_type": "stream",
          "text": [
            "\n",
            "No duplicates found in /content/drive/My Drive/Houseplant Classifier/plant_images_duplitest/Adonidia merrillii\n"
          ],
          "name": "stdout"
        }
      ]
    },
    {
      "cell_type": "code",
      "metadata": {
        "id": "0K4cmIzqT8vX"
      },
      "source": [
        "# Plot duplicates from a folder if needed\n",
        "file_list = folder.ls()\n",
        "for file_indexes in duplicates[:30]:\n",
        "        try:\n",
        "            plt.subplot(121),plt.imshow(Image.open(file_list[file_indexes[1]]))\n",
        "            plt.title(file_list[file_indexes[1]]), plt.xticks([]), plt.yticks([])\n",
        "\n",
        "            plt.subplot(122),plt.imshow(Image.open(file_list[file_indexes[0]]))\n",
        "            plt.title(str(file_list[file_indexes[0]]) + ' duplicate'), plt.xticks([]), plt.yticks([])\n",
        "            plt.show()\n",
        "\n",
        "        except OSError as e:\n",
        "            continue"
      ],
      "execution_count": null,
      "outputs": []
    },
    {
      "cell_type": "markdown",
      "metadata": {
        "id": "gv1tUntjhhSv"
      },
      "source": [
        "### Check folders have been downloaded, and possess the correct number of images"
      ]
    },
    {
      "cell_type": "code",
      "metadata": {
        "id": "s0FAnCCUfeub"
      },
      "source": [
        "def validate_downloads(data_path:str, n_files:int, class_list):\n",
        "  '''\n",
        "  Validate that all files (up to n_files) and folders (across all classes) have been downloaded.\n",
        "  '''\n",
        "  data = []\n",
        "  # Have any folders been missed\n",
        "  for plant_class in class_list:\n",
        "    if plant_class not in sorted(os.listdir(data_path)):\n",
        "      data.append(plant_class)\n",
        "  # Have any images been missed\n",
        "  for folder in sorted(os.listdir(data_path)):\n",
        "      n = len(sorted(os.listdir(data_path+folder)))\n",
        "      if n < n_files: \n",
        "          data.append(folder)\n",
        "  df = pd.DataFrame(data, columns=['Class'])\n",
        "  # Return dataframe containing classes with problems to re-download\n",
        "  return df"
      ],
      "execution_count": null,
      "outputs": []
    },
    {
      "cell_type": "code",
      "metadata": {
        "id": "Ux9on328sXT7",
        "outputId": "f6a2f49f-0544-4676-e23d-94029a25de31",
        "colab": {
          "base_uri": "https://localhost:8080/",
          "height": 419
        }
      },
      "source": [
        "data_path = '/content/drive/My Drive/Houseplant Classifier/plant_images_deepest_cleaned/'\n",
        "n_files = 150\n",
        "class_list = aspca_df['Scientific Name']\n",
        "df = validate_downloads(data_path, n_files, class_list); df"
      ],
      "execution_count": null,
      "outputs": [
        {
          "output_type": "execute_result",
          "data": {
            "text/html": [
              "<div>\n",
              "<style scoped>\n",
              "    .dataframe tbody tr th:only-of-type {\n",
              "        vertical-align: middle;\n",
              "    }\n",
              "\n",
              "    .dataframe tbody tr th {\n",
              "        vertical-align: top;\n",
              "    }\n",
              "\n",
              "    .dataframe thead th {\n",
              "        text-align: right;\n",
              "    }\n",
              "</style>\n",
              "<table border=\"1\" class=\"dataframe\">\n",
              "  <thead>\n",
              "    <tr style=\"text-align: right;\">\n",
              "      <th></th>\n",
              "      <th>Class</th>\n",
              "    </tr>\n",
              "  </thead>\n",
              "  <tbody>\n",
              "    <tr>\n",
              "      <th>0</th>\n",
              "      <td>Abronia fragrans</td>\n",
              "    </tr>\n",
              "    <tr>\n",
              "      <th>1</th>\n",
              "      <td>Abrus precatorius</td>\n",
              "    </tr>\n",
              "    <tr>\n",
              "      <th>2</th>\n",
              "      <td>Acalypha hispida</td>\n",
              "    </tr>\n",
              "    <tr>\n",
              "      <th>3</th>\n",
              "      <td>Acalypha wilkesiana</td>\n",
              "    </tr>\n",
              "    <tr>\n",
              "      <th>4</th>\n",
              "      <td>Acanthus</td>\n",
              "    </tr>\n",
              "    <tr>\n",
              "      <th>...</th>\n",
              "      <td>...</td>\n",
              "    </tr>\n",
              "    <tr>\n",
              "      <th>480</th>\n",
              "      <td>Zamia furfuracea</td>\n",
              "    </tr>\n",
              "    <tr>\n",
              "      <th>481</th>\n",
              "      <td>Zamia pumila</td>\n",
              "    </tr>\n",
              "    <tr>\n",
              "      <th>482</th>\n",
              "      <td>Zantedeschia aethiopica</td>\n",
              "    </tr>\n",
              "    <tr>\n",
              "      <th>483</th>\n",
              "      <td>Zephyranthes drummondii</td>\n",
              "    </tr>\n",
              "    <tr>\n",
              "      <th>484</th>\n",
              "      <td>Zinnia</td>\n",
              "    </tr>\n",
              "  </tbody>\n",
              "</table>\n",
              "<p>485 rows × 1 columns</p>\n",
              "</div>"
            ],
            "text/plain": [
              "                       Class\n",
              "0           Abronia fragrans\n",
              "1          Abrus precatorius\n",
              "2           Acalypha hispida\n",
              "3        Acalypha wilkesiana\n",
              "4                   Acanthus\n",
              "..                       ...\n",
              "480         Zamia furfuracea\n",
              "481             Zamia pumila\n",
              "482  Zantedeschia aethiopica\n",
              "483  Zephyranthes drummondii\n",
              "484                   Zinnia\n",
              "\n",
              "[485 rows x 1 columns]"
            ]
          },
          "metadata": {
            "tags": []
          },
          "execution_count": 51
        }
      ]
    },
    {
      "cell_type": "markdown",
      "metadata": {
        "id": "N7mHshLchnno"
      },
      "source": [
        "### See if any extra folders exist in the database"
      ]
    },
    {
      "cell_type": "code",
      "metadata": {
        "id": "N8NsjWSCStqz"
      },
      "source": [
        "def rev_validate_downloads(data_path:str, n_files:int, class_list):\n",
        "  '''\n",
        "  Check for folders that shouldn't be there.\n",
        "  '''\n",
        "  data = []\n",
        "  # Have any folders been missed\n",
        "  for plant_class in sorted(os.listdir(data_path)):\n",
        "    if aspca_df['Scientific Name'].apply(lambda x:x==plant_class).any() == False:\n",
        "      data.append(plant_class)\n",
        "  for folder in sorted(os.listdir(data_path)):\n",
        "    n = len(sorted(os.listdir(data_path+folder)))\n",
        "    if n > n_files: \n",
        "        data.append(folder)\n",
        "  # Return dataframe containing classes with problems to delete\n",
        "  df = pd.DataFrame(data, columns=['Class'])\n",
        "  return df"
      ],
      "execution_count": null,
      "outputs": []
    },
    {
      "cell_type": "code",
      "metadata": {
        "id": "DMdfCwTXS1Cj",
        "outputId": "26d76d45-be0d-4ee6-c759-da1797d501d4",
        "colab": {
          "base_uri": "https://localhost:8080/",
          "height": 49
        }
      },
      "source": [
        "data_path = '/content/drive/My Drive/Houseplant Classifier/plant_images_deepest/'\n",
        "class_list = aspca_df['Scientific Name']\n",
        "df_delete = rev_validate_downloads(data_path, 150, class_list); df_delete"
      ],
      "execution_count": null,
      "outputs": [
        {
          "output_type": "execute_result",
          "data": {
            "text/html": [
              "<div>\n",
              "<style scoped>\n",
              "    .dataframe tbody tr th:only-of-type {\n",
              "        vertical-align: middle;\n",
              "    }\n",
              "\n",
              "    .dataframe tbody tr th {\n",
              "        vertical-align: top;\n",
              "    }\n",
              "\n",
              "    .dataframe thead th {\n",
              "        text-align: right;\n",
              "    }\n",
              "</style>\n",
              "<table border=\"1\" class=\"dataframe\">\n",
              "  <thead>\n",
              "    <tr style=\"text-align: right;\">\n",
              "      <th></th>\n",
              "      <th>Class</th>\n",
              "    </tr>\n",
              "  </thead>\n",
              "  <tbody>\n",
              "  </tbody>\n",
              "</table>\n",
              "</div>"
            ],
            "text/plain": [
              "Empty DataFrame\n",
              "Columns: [Class]\n",
              "Index: []"
            ]
          },
          "metadata": {
            "tags": []
          },
          "execution_count": 94
        }
      ]
    },
    {
      "cell_type": "markdown",
      "metadata": {
        "id": "JDgtcb4zN8VX"
      },
      "source": [
        "# Verify that all images are readable"
      ]
    },
    {
      "cell_type": "code",
      "metadata": {
        "id": "rg9EoGT5xWG1"
      },
      "source": [
        "from tqdm import tqdm\n",
        "imgs = L() # Create a fast.ai v2 type list\n",
        "for n in tqdm(id):\n",
        "  path_n = path/n # Define the path to the image folder\n",
        "  imgs += verify_images(path_n.ls()) # Put images that can't be verified into the img list\n",
        "\n",
        "print(f'{len(imgs)} images are unreadable.')\n",
        "\n",
        "for im in imgs:\n",
        "  im.unlink() # Delete image if it was unreadable"
      ],
      "execution_count": null,
      "outputs": []
    }
  ]
}